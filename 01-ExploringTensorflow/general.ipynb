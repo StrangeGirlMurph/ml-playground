{
 "cells": [
  {
   "cell_type": "markdown",
   "metadata": {},
   "source": [
    "# General TensorFlow Help"
   ]
  },
  {
   "cell_type": "code",
   "execution_count": 1,
   "metadata": {},
   "outputs": [],
   "source": [
    "import tensorflow as tf"
   ]
  },
  {
   "cell_type": "code",
   "execution_count": 2,
   "metadata": {},
   "outputs": [
    {
     "name": "stdout",
     "output_type": "stream",
     "text": [
      "Help on function ones in module tensorflow.python.ops.array_ops:\n",
      "\n",
      "ones(shape, dtype=tf.float32, name=None)\n",
      "    Creates a tensor with all elements set to one (1).\n",
      "    \n",
      "    See also `tf.ones_like`, `tf.zeros`, `tf.fill`, `tf.eye`.\n",
      "    \n",
      "    This operation returns a tensor of type `dtype` with shape `shape` and\n",
      "    all elements set to one.\n",
      "    \n",
      "    >>> tf.ones([3, 4], tf.int32)\n",
      "    <tf.Tensor: shape=(3, 4), dtype=int32, numpy=\n",
      "    array([[1, 1, 1, 1],\n",
      "           [1, 1, 1, 1],\n",
      "           [1, 1, 1, 1]], dtype=int32)>\n",
      "    \n",
      "    Args:\n",
      "      shape: A `list` of integers, a `tuple` of integers, or\n",
      "        a 1-D `Tensor` of type `int32`.\n",
      "      dtype: Optional DType of an element in the resulting `Tensor`. Default is\n",
      "        `tf.float32`.\n",
      "      name: Optional string. A name for the operation.\n",
      "    \n",
      "    Returns:\n",
      "      A `Tensor` with all elements set to one (1).\n",
      "\n"
     ]
    }
   ],
   "source": [
    "help(tf.ones)"
   ]
  },
  {
   "cell_type": "code",
   "execution_count": 4,
   "metadata": {},
   "outputs": [
    {
     "data": {
      "text/plain": [
       "['LinearOperator',\n",
       " 'LinearOperatorAdjoint',\n",
       " 'LinearOperatorBlockDiag',\n",
       " 'LinearOperatorBlockLowerTriangular',\n",
       " 'LinearOperatorCirculant',\n",
       " 'LinearOperatorCirculant2D',\n",
       " 'LinearOperatorCirculant3D',\n",
       " 'LinearOperatorComposition',\n",
       " 'LinearOperatorDiag',\n",
       " 'LinearOperatorFullMatrix',\n",
       " 'LinearOperatorHouseholder',\n",
       " 'LinearOperatorIdentity',\n",
       " 'LinearOperatorInversion',\n",
       " 'LinearOperatorKronecker',\n",
       " 'LinearOperatorLowRankUpdate',\n",
       " 'LinearOperatorLowerTriangular',\n",
       " 'LinearOperatorPermutation',\n",
       " 'LinearOperatorScaledIdentity',\n",
       " 'LinearOperatorToeplitz',\n",
       " 'LinearOperatorTridiag',\n",
       " 'LinearOperatorZeros',\n",
       " '__builtins__',\n",
       " '__cached__',\n",
       " '__doc__',\n",
       " '__file__',\n",
       " '__loader__',\n",
       " '__name__',\n",
       " '__package__',\n",
       " '__path__',\n",
       " '__spec__',\n",
       " '_sys',\n",
       " 'adjoint',\n",
       " 'band_part',\n",
       " 'banded_triangular_solve',\n",
       " 'cholesky',\n",
       " 'cholesky_solve',\n",
       " 'cross',\n",
       " 'det',\n",
       " 'diag',\n",
       " 'diag_part',\n",
       " 'eig',\n",
       " 'eigh',\n",
       " 'eigh_tridiagonal',\n",
       " 'eigvals',\n",
       " 'eigvalsh',\n",
       " 'einsum',\n",
       " 'experimental',\n",
       " 'expm',\n",
       " 'eye',\n",
       " 'global_norm',\n",
       " 'inv',\n",
       " 'l2_normalize',\n",
       " 'logdet',\n",
       " 'logm',\n",
       " 'lstsq',\n",
       " 'lu',\n",
       " 'lu_matrix_inverse',\n",
       " 'lu_reconstruct',\n",
       " 'lu_solve',\n",
       " 'matmul',\n",
       " 'matrix_rank',\n",
       " 'matrix_transpose',\n",
       " 'matvec',\n",
       " 'norm',\n",
       " 'normalize',\n",
       " 'pinv',\n",
       " 'qr',\n",
       " 'set_diag',\n",
       " 'slogdet',\n",
       " 'solve',\n",
       " 'sqrtm',\n",
       " 'svd',\n",
       " 'tensor_diag',\n",
       " 'tensor_diag_part',\n",
       " 'tensordot',\n",
       " 'trace',\n",
       " 'triangular_solve',\n",
       " 'tridiagonal_matmul',\n",
       " 'tridiagonal_solve']"
      ]
     },
     "execution_count": 4,
     "metadata": {},
     "output_type": "execute_result"
    }
   ],
   "source": [
    "dir(tf.linalg)"
   ]
  },
  {
   "cell_type": "code",
   "execution_count": null,
   "metadata": {},
   "outputs": [],
   "source": []
  }
 ],
 "metadata": {
  "interpreter": {
   "hash": "9b73f6b7cfd4911be6591fa70777138ef4e737732e5d974e9836450b48ca520e"
  },
  "kernelspec": {
   "display_name": "Python 3.9.6 64-bit (system)",
   "language": "python",
   "name": "python3"
  },
  "language_info": {
   "codemirror_mode": {
    "name": "ipython",
    "version": 3
   },
   "file_extension": ".py",
   "mimetype": "text/x-python",
   "name": "python",
   "nbconvert_exporter": "python",
   "pygments_lexer": "ipython3",
   "version": "3.9.6"
  },
  "orig_nbformat": 4
 },
 "nbformat": 4,
 "nbformat_minor": 2
}
