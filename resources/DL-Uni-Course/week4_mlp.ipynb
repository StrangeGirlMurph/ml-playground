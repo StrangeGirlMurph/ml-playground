{
  "cells": [
    {
      "cell_type": "markdown",
      "metadata": {
        "id": "DRkD79Wpw2wx"
      },
      "source": [
        "# Softmax Regression\n"
      ]
    },
    {
      "cell_type": "markdown",
      "metadata": {
        "id": "E2VpF3svw2w5"
      },
      "source": [
        "# Image Classification on Fashion-MNIST\n",
        "\n",
        "Before we implement softmax regression ourselves, let's pick a real dataset to work with. To make things visually compelling, we will pick an image classification dataset. The most commonly used image classification data set is the [MNIST](http://yann.lecun.com/exdb/mnist/) handwritten digit recognition data set, proposed by LeCun, Cortes and Burges in the 1990s. However, even simple models achieve classification accuracy over 95% on MNIST, so it is hard to spot the differences between better models and weaker ones. In order to get a better intuition, we will use the qualitatively similar, but comparatively complex [Fashion-MNIST](https://github.com/zalandoresearch/fashion-mnist) dataset, proposed by [Xiao, Rasul and Vollgraf](https://arxiv.org/abs/1708.07747) in 2017."
      ]
    },
    {
      "cell_type": "markdown",
      "metadata": {
        "id": "biN7AVeUw2w6"
      },
      "source": [
        "## Getting the Data\n",
        "\n",
        "First, import the packages or modules required in this section.\n",
        "\n"
      ]
    },
    {
      "cell_type": "code",
      "execution_count": null,
      "metadata": {
        "id": "e7iG_K8kw2w7"
      },
      "outputs": [],
      "source": [
        "%matplotlib inline\n",
        "import sys\n",
        "sys.path.insert(0, '..')\n",
        "\n",
        "import torch\n",
        "import torchvision\n",
        "from torchvision import transforms\n",
        "from torch.utils.data import DataLoader\n",
        "import time\n",
        "\n",
        "%config InlineBackend.figure_formats = ['svg']\n",
        "import matplotlib.pyplot as plt"
      ]
    },
    {
      "cell_type": "markdown",
      "metadata": {
        "id": "-8xlBJncw2w_"
      },
      "source": [
        "Conveniently, PyTorch's `torchvision.datasets` package provides easy access to a number of benchmark vision datasets for testing our models.\n",
        "The first time we invoke `data.vision.FashionMNIST(train=True)`\n",
        "to collect the training data,\n",
        "PyTorch will automatically retrieve the dataset via our Internet connection.\n",
        "Subsequently, PyTorch will use the already-downloaded local copy.\n",
        "We specify whether we are requesting the training set or the test set\n",
        "by setting the value of the parameter `train` to `True` or `False`, respectively.\n",
        "Recall that we will only be using the training data for training,\n",
        "holding out the test set for a final evaluation of our model."
      ]
    },
    {
      "cell_type": "code",
      "execution_count": null,
      "metadata": {
        "id": "tZNhGJ8yw2xA"
      },
      "outputs": [],
      "source": [
        "# By default pytorch torchvision datasets are of type PIL.\n",
        "# Define a transform \"trans\" to change the PIL to Tensor format.\n",
        "trans = transforms.ToTensor() "
      ]
    },
    {
      "cell_type": "markdown",
      "metadata": {
        "id": "HKc4buFew2xD"
      },
      "source": [
        "The `ToTensor` Transform also moves the image channel from the last dimension to the first dimension to facilitate the convolutional neural network calculations introduced later."
      ]
    },
    {
      "cell_type": "code",
      "execution_count": null,
      "metadata": {
        "colab": {
          "base_uri": "https://localhost:8080/",
          "height": 573,
          "referenced_widgets": [
            "028b928ac4564557b66c3c94270a94da",
            "d4f8d88d31da4663a2168aaccde7274b",
            "8c3f3f9b2d8647798f5eff1ed2d6f03b",
            "8ce09b42681545b1b2c8d5422a24e594",
            "0e35cc807ab44ca29ad19212eb9bcc0f",
            "703f9d5204d84eb2aac7d82e39101451",
            "019cf916b0d647d79ac1bf0e3d036f71",
            "87468491ccee406fbe05521f6bee56f2",
            "04fa0b039a2c4cf4b9f9f038ab21c97e",
            "313dff414c66473c8895af73ae18ae53",
            "51690d9d3b6d4bbf8f47acc284a3a0f7",
            "443f343f653542e5adcddd00e26bb9c5",
            "da5c44e477074a0189405e3c09cd05e6",
            "082ecf5250164b83a73422c0493000cb",
            "1f98caeff487431bb5bd71cd765ad11a",
            "f4ce42de7cb74fca8f90fc9fb811306d",
            "182084d5d2614200bb1d644c7fefbe85",
            "88255bcd081c41059894e3154d4fdd19",
            "4ac7541e8bba42299b1af7d09423a1d8",
            "ac919269bbfc4360860578ef8f7fd705",
            "1e697575ad0d4f0a86fd18f2e8faac64",
            "aed39167eccb41b1a5ef0919a354f594",
            "b17e5e10563344e6831c478844aac736",
            "be2f86fc6b8643b38605f713e9fd5e9b",
            "2550559e0f1a4322b1d099898eca9b1f",
            "1e03f56692e34c44a2497bb6e7f87a87",
            "d49341ffb38f49e195fafad6b4f8e658",
            "22762ba506934c089463df18dcaca27e",
            "d38b88c6aa654ca9a0dd6e32045a3c6e",
            "9e4e7f70328b45b6b3888f1cdf5d6b86",
            "b8d4e6d65e0342a9b1da46c8f3b0defd",
            "0ad9ac7eba854ea3abf841cffd817101"
          ]
        },
        "id": "rrwCuG_Qw2xE",
        "outputId": "508e6833-6d93-474e-86d8-b99cb3b9eaab"
      },
      "outputs": [
        {
          "name": "stderr",
          "output_type": "stream",
          "text": [
            "0.0%"
          ]
        },
        {
          "name": "stdout",
          "output_type": "stream",
          "text": [
            "Downloading http://fashion-mnist.s3-website.eu-central-1.amazonaws.com/train-images-idx3-ubyte.gz\n",
            "Downloading http://fashion-mnist.s3-website.eu-central-1.amazonaws.com/train-images-idx3-ubyte.gz to ./FashionMNIST\\raw\\train-images-idx3-ubyte.gz\n"
          ]
        },
        {
          "name": "stderr",
          "output_type": "stream",
          "text": [
            "100.0%\n"
          ]
        },
        {
          "name": "stdout",
          "output_type": "stream",
          "text": [
            "Extracting ./FashionMNIST\\raw\\train-images-idx3-ubyte.gz to ./FashionMNIST\\raw\n"
          ]
        },
        {
          "name": "stderr",
          "output_type": "stream",
          "text": [
            "27.8%"
          ]
        },
        {
          "name": "stdout",
          "output_type": "stream",
          "text": [
            "\n",
            "Downloading http://fashion-mnist.s3-website.eu-central-1.amazonaws.com/train-labels-idx1-ubyte.gz\n",
            "Downloading http://fashion-mnist.s3-website.eu-central-1.amazonaws.com/train-labels-idx1-ubyte.gz to ./FashionMNIST\\raw\\train-labels-idx1-ubyte.gz\n"
          ]
        },
        {
          "name": "stderr",
          "output_type": "stream",
          "text": [
            "100.6%\n",
            "0.3%"
          ]
        },
        {
          "name": "stdout",
          "output_type": "stream",
          "text": [
            "Extracting ./FashionMNIST\\raw\\train-labels-idx1-ubyte.gz to ./FashionMNIST\\raw\n",
            "\n",
            "Downloading http://fashion-mnist.s3-website.eu-central-1.amazonaws.com/t10k-images-idx3-ubyte.gz\n",
            "Downloading http://fashion-mnist.s3-website.eu-central-1.amazonaws.com/t10k-images-idx3-ubyte.gz to ./FashionMNIST\\raw\\t10k-images-idx3-ubyte.gz\n"
          ]
        },
        {
          "name": "stderr",
          "output_type": "stream",
          "text": [
            "100.0%\n"
          ]
        },
        {
          "name": "stdout",
          "output_type": "stream",
          "text": [
            "Extracting ./FashionMNIST\\raw\\t10k-images-idx3-ubyte.gz to ./FashionMNIST\\raw\n",
            "\n",
            "Downloading http://fashion-mnist.s3-website.eu-central-1.amazonaws.com/t10k-labels-idx1-ubyte.gz\n",
            "Downloading http://fashion-mnist.s3-website.eu-central-1.amazonaws.com/t10k-labels-idx1-ubyte.gz to ./FashionMNIST\\raw\\t10k-labels-idx1-ubyte.gz\n"
          ]
        },
        {
          "name": "stderr",
          "output_type": "stream",
          "text": [
            "119.3%\n"
          ]
        },
        {
          "name": "stdout",
          "output_type": "stream",
          "text": [
            "Extracting ./FashionMNIST\\raw\\t10k-labels-idx1-ubyte.gz to ./FashionMNIST\\raw\n",
            "\n"
          ]
        }
      ],
      "source": [
        "mnist_train = torchvision.datasets.FashionMNIST(root=\"./\", train=True, transform=trans, target_transform=None, download=True)\n",
        "mnist_test = torchvision.datasets.FashionMNIST(root=\"./\", train=False, transform=trans, target_transform=None, download=True)"
      ]
    },
    {
      "cell_type": "markdown",
      "metadata": {
        "id": "uv69j3NDw2xI"
      },
      "source": [
        "The number of images for each category in the training set and the testing set is 6,000 and 1,000, respectively. Since there are 10 categories, the numbers of examples in the training set and the test set are 60,000 and 10,000, respectively."
      ]
    },
    {
      "cell_type": "code",
      "execution_count": null,
      "metadata": {
        "colab": {
          "base_uri": "https://localhost:8080/"
        },
        "id": "oEjFrg1Pw2xI",
        "outputId": "cd8528a5-32f2-445f-f650-8c629e1d6a87"
      },
      "outputs": [
        {
          "data": {
            "text/plain": [
              "(60000, 10000)"
            ]
          },
          "execution_count": 4,
          "metadata": {},
          "output_type": "execute_result"
        }
      ],
      "source": [
        "len(mnist_train), len(mnist_test)"
      ]
    },
    {
      "cell_type": "markdown",
      "metadata": {
        "id": "gj5og6yNw2xM"
      },
      "source": [
        "We can access any example by indexing into the dataset using square brackets `[]`. In the following code, we access the image and label corresponding to the first example."
      ]
    },
    {
      "cell_type": "code",
      "execution_count": null,
      "metadata": {
        "id": "caoE1Grew2xN"
      },
      "outputs": [],
      "source": [
        "feature, label = mnist_train[0]  # accessing the first example in the training set"
      ]
    },
    {
      "cell_type": "markdown",
      "metadata": {
        "id": "AVBbkUhSw2xR"
      },
      "source": [
        "Our example, stored here in the variable `feature` corresponds to an image with a height and width of 28 pixels. PyTorch automatically scales it into a tensor with each pixel value between 0 and 1. It is stored in a 3D Tensor. Its first dimension is the number of channels. Since the data set is a grayscale image, the number of channels is 1. When we encounter color, images, we'll have 3 channels for red, green, and blue. To keep things simple, we will record the shape of the image with the height and width of $h$ and $w$ pixels, respectively, as $h \\times w$ or `(h, w)`."
      ]
    },
    {
      "cell_type": "code",
      "execution_count": null,
      "metadata": {
        "colab": {
          "base_uri": "https://localhost:8080/"
        },
        "id": "ilUvYbRZw2xS",
        "outputId": "1fd67023-831d-4c58-8b9c-fcec5edd1620"
      },
      "outputs": [
        {
          "data": {
            "text/plain": [
              "(torch.Size([1, 28, 28]), torch.float32)"
            ]
          },
          "execution_count": 6,
          "metadata": {},
          "output_type": "execute_result"
        }
      ],
      "source": [
        "feature.shape, feature.dtype"
      ]
    },
    {
      "cell_type": "markdown",
      "metadata": {
        "id": "8FJOruWHw2xW"
      },
      "source": [
        "The label of each image is represented as a scalar in PyTorch. Its type is a 64-bit integer."
      ]
    },
    {
      "cell_type": "code",
      "execution_count": null,
      "metadata": {
        "colab": {
          "base_uri": "https://localhost:8080/"
        },
        "id": "8zuV_U0nw2xW",
        "outputId": "1b25b1b7-5fb3-4e67-ea4e-1e3f34a9dc74"
      },
      "outputs": [
        {
          "data": {
            "text/plain": [
              "(9, int)"
            ]
          },
          "execution_count": 7,
          "metadata": {},
          "output_type": "execute_result"
        }
      ],
      "source": [
        "label, type(label)"
      ]
    },
    {
      "cell_type": "markdown",
      "metadata": {
        "id": "Ydm8U4gow2xa"
      },
      "source": [
        "There are 10 categories in Fashion-MNIST: t-shirt, trousers, pullover, dress, coat, sandal, shirt, sneaker, bag and ankle boot. The following function can convert a numeric label into a corresponding text label."
      ]
    },
    {
      "cell_type": "code",
      "execution_count": null,
      "metadata": {
        "id": "x4UkUZfow2xa"
      },
      "outputs": [],
      "source": [
        "def get_fashion_mnist_labels(labels):\n",
        "    text_labels = ['t-shirt', 'trouser', 'pullover', 'dress', 'coat',\n",
        "                   'sandal', 'shirt', 'sneaker', 'bag', 'ankle boot']\n",
        "    return [text_labels[int(i)] for i in labels]"
      ]
    },
    {
      "cell_type": "markdown",
      "metadata": {
        "id": "oaacrkxuw2xf"
      },
      "source": [
        "The following defines a function that can draw multiple images and corresponding labels in a single line."
      ]
    },
    {
      "cell_type": "code",
      "execution_count": null,
      "metadata": {
        "id": "KHz0phYfw2xf"
      },
      "outputs": [],
      "source": [
        "def show_fashion_mnist(images, labels):    \n",
        "    # Here _ means that we ignore (not use) variables\n",
        "    _, figs = plt.subplots(1, len(images), figsize=(12, 12))\n",
        "    for f, img, lbl in zip(figs, images, labels):\n",
        "        f.imshow(img.reshape((28, 28)).numpy())\n",
        "        f.set_title(lbl)\n",
        "        f.axes.get_xaxis().set_visible(False)\n",
        "        f.axes.get_yaxis().set_visible(False)"
      ]
    },
    {
      "cell_type": "code",
      "execution_count": null,
      "metadata": {
        "id": "T2yhMtX-w2xo"
      },
      "outputs": [],
      "source": [
        "batch_size = 256\n",
        "if sys.platform.startswith('win'):\n",
        "    # set 0 for windows\n",
        "    # 0 means no additional processes are needed to speed up the reading of data\n",
        "    num_workers = 0\n",
        "else:\n",
        "    num_workers = 4\n",
        "\n",
        "train_iter = DataLoader(mnist_train, batch_size, shuffle=True, num_workers=num_workers)\n",
        "test_iter = DataLoader(mnist_test, batch_size, shuffle=False, num_workers=num_workers)"
      ]
    },
    {
      "cell_type": "markdown",
      "metadata": {
        "id": "nPK5sh-Dw2xj"
      },
      "source": [
        "Next, let's take a look at the image contents and text labels for the first nine examples in the training data set.\n",
        "\n",
        "Note: PyTorch DataLoader objects don't support regular array slicing. You can instead iterate through."
      ]
    },
    {
      "cell_type": "code",
      "execution_count": null,
      "metadata": {
        "colab": {
          "base_uri": "https://localhost:8080/",
          "height": 141
        },
        "id": "GJByWiz3w2xk",
        "outputId": "7e6ed155-959e-438c-9cb8-3bdf68abb7e2"
      },
      "outputs": [
        {
          "data": {
            "image/svg+xml": "<?xml version=\"1.0\" encoding=\"utf-8\" standalone=\"no\"?>\n<!DOCTYPE svg PUBLIC \"-//W3C//DTD SVG 1.1//EN\"\n  \"http://www.w3.org/Graphics/SVG/1.1/DTD/svg11.dtd\">\n<svg xmlns:xlink=\"http://www.w3.org/1999/xlink\" width=\"687.5pt\" height=\"89.763888pt\" viewBox=\"0 0 687.5 89.763888\" xmlns=\"http://www.w3.org/2000/svg\" version=\"1.1\">\n <metadata>\n  <rdf:RDF xmlns:dc=\"http://purl.org/dc/elements/1.1/\" xmlns:cc=\"http://creativecommons.org/ns#\" xmlns:rdf=\"http://www.w3.org/1999/02/22-rdf-syntax-ns#\">\n   <cc:Work>\n    <dc:type rdf:resource=\"http://purl.org/dc/dcmitype/StillImage\"/>\n    <dc:date>2022-05-26T19:06:03.757321</dc:date>\n    <dc:format>image/svg+xml</dc:format>\n    <dc:creator>\n     <cc:Agent>\n      <dc:title>Matplotlib v3.5.1, https://matplotlib.org/</dc:title>\n     </cc:Agent>\n    </dc:creator>\n   </cc:Work>\n  </rdf:RDF>\n </metadata>\n <defs>\n  <style type=\"text/css\">*{stroke-linejoin: round; stroke-linecap: butt}</style>\n </defs>\n <g id=\"figure_1\">\n  <g id=\"patch_1\">\n   <path d=\"M 0 89.763888 \nL 687.5 89.763888 \nL 687.5 -0 \nL 0 -0 \nL 0 89.763888 \nz\n\" style=\"fill: none\"/>\n  </g>\n  <g id=\"axes_1\">\n   <g id=\"patch_2\">\n    <path d=\"M 10.7 79.063888 \nL 67.445763 79.063888 \nL 67.445763 22.318125 \nL 10.7 22.318125 \nz\n\" style=\"fill: #ffffff\"/>\n   </g>\n   <g clip-path=\"url(#p5ea73a94da)\">\n    <image xlink:href=\"data:image/png;base64,\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\" id=\"imagef00f43bdf0\" transform=\"scale(1 -1)translate(0 -57)\" x=\"10.7\" y=\"-22.063888\" width=\"57\" height=\"57\"/>\n   </g>\n   <g id=\"patch_3\">\n    <path d=\"M 10.7 79.063888 \nL 10.7 22.318125 \n\" style=\"fill: none; stroke: #000000; stroke-width: 0.8; stroke-linejoin: miter; stroke-linecap: square\"/>\n   </g>\n   <g id=\"patch_4\">\n    <path d=\"M 67.445763 79.063888 \nL 67.445763 22.318125 \n\" style=\"fill: none; stroke: #000000; stroke-width: 0.8; stroke-linejoin: miter; stroke-linecap: square\"/>\n   </g>\n   <g id=\"patch_5\">\n    <path d=\"M 10.7 79.063888 \nL 67.445763 79.063888 \n\" style=\"fill: none; stroke: #000000; stroke-width: 0.8; stroke-linejoin: miter; stroke-linecap: square\"/>\n   </g>\n   <g id=\"patch_6\">\n    <path d=\"M 10.7 22.318125 \nL 67.445763 22.318125 \n\" style=\"fill: none; stroke: #000000; stroke-width: 0.8; stroke-linejoin: miter; stroke-linecap: square\"/>\n   </g>\n   <g id=\"text_1\">\n    <!-- ankle boot -->\n    <g transform=\"translate(7.349756 16.318125)scale(0.12 -0.12)\">\n     <defs>\n      <path id=\"DejaVuSans-61\" d=\"M 2194 1759 \nQ 1497 1759 1228 1600 \nQ 959 1441 959 1056 \nQ 959 750 1161 570 \nQ 1363 391 1709 391 \nQ 2188 391 2477 730 \nQ 2766 1069 2766 1631 \nL 2766 1759 \nL 2194 1759 \nz\nM 3341 1997 \nL 3341 0 \nL 2766 0 \nL 2766 531 \nQ 2569 213 2275 61 \nQ 1981 -91 1556 -91 \nQ 1019 -91 701 211 \nQ 384 513 384 1019 \nQ 384 1609 779 1909 \nQ 1175 2209 1959 2209 \nL 2766 2209 \nL 2766 2266 \nQ 2766 2663 2505 2880 \nQ 2244 3097 1772 3097 \nQ 1472 3097 1187 3025 \nQ 903 2953 641 2809 \nL 641 3341 \nQ 956 3463 1253 3523 \nQ 1550 3584 1831 3584 \nQ 2591 3584 2966 3190 \nQ 3341 2797 3341 1997 \nz\n\" transform=\"scale(0.015625)\"/>\n      <path id=\"DejaVuSans-6e\" d=\"M 3513 2113 \nL 3513 0 \nL 2938 0 \nL 2938 2094 \nQ 2938 2591 2744 2837 \nQ 2550 3084 2163 3084 \nQ 1697 3084 1428 2787 \nQ 1159 2491 1159 1978 \nL 1159 0 \nL 581 0 \nL 581 3500 \nL 1159 3500 \nL 1159 2956 \nQ 1366 3272 1645 3428 \nQ 1925 3584 2291 3584 \nQ 2894 3584 3203 3211 \nQ 3513 2838 3513 2113 \nz\n\" transform=\"scale(0.015625)\"/>\n      <path id=\"DejaVuSans-6b\" d=\"M 581 4863 \nL 1159 4863 \nL 1159 1991 \nL 2875 3500 \nL 3609 3500 \nL 1753 1863 \nL 3688 0 \nL 2938 0 \nL 1159 1709 \nL 1159 0 \nL 581 0 \nL 581 4863 \nz\n\" transform=\"scale(0.015625)\"/>\n      <path id=\"DejaVuSans-6c\" d=\"M 603 4863 \nL 1178 4863 \nL 1178 0 \nL 603 0 \nL 603 4863 \nz\n\" transform=\"scale(0.015625)\"/>\n      <path id=\"DejaVuSans-65\" d=\"M 3597 1894 \nL 3597 1613 \nL 953 1613 \nQ 991 1019 1311 708 \nQ 1631 397 2203 397 \nQ 2534 397 2845 478 \nQ 3156 559 3463 722 \nL 3463 178 \nQ 3153 47 2828 -22 \nQ 2503 -91 2169 -91 \nQ 1331 -91 842 396 \nQ 353 884 353 1716 \nQ 353 2575 817 3079 \nQ 1281 3584 2069 3584 \nQ 2775 3584 3186 3129 \nQ 3597 2675 3597 1894 \nz\nM 3022 2063 \nQ 3016 2534 2758 2815 \nQ 2500 3097 2075 3097 \nQ 1594 3097 1305 2825 \nQ 1016 2553 972 2059 \nL 3022 2063 \nz\n\" transform=\"scale(0.015625)\"/>\n      <path id=\"DejaVuSans-20\" transform=\"scale(0.015625)\"/>\n      <path id=\"DejaVuSans-62\" d=\"M 3116 1747 \nQ 3116 2381 2855 2742 \nQ 2594 3103 2138 3103 \nQ 1681 3103 1420 2742 \nQ 1159 2381 1159 1747 \nQ 1159 1113 1420 752 \nQ 1681 391 2138 391 \nQ 2594 391 2855 752 \nQ 3116 1113 3116 1747 \nz\nM 1159 2969 \nQ 1341 3281 1617 3432 \nQ 1894 3584 2278 3584 \nQ 2916 3584 3314 3078 \nQ 3713 2572 3713 1747 \nQ 3713 922 3314 415 \nQ 2916 -91 2278 -91 \nQ 1894 -91 1617 61 \nQ 1341 213 1159 525 \nL 1159 0 \nL 581 0 \nL 581 4863 \nL 1159 4863 \nL 1159 2969 \nz\n\" transform=\"scale(0.015625)\"/>\n      <path id=\"DejaVuSans-6f\" d=\"M 1959 3097 \nQ 1497 3097 1228 2736 \nQ 959 2375 959 1747 \nQ 959 1119 1226 758 \nQ 1494 397 1959 397 \nQ 2419 397 2687 759 \nQ 2956 1122 2956 1747 \nQ 2956 2369 2687 2733 \nQ 2419 3097 1959 3097 \nz\nM 1959 3584 \nQ 2709 3584 3137 3096 \nQ 3566 2609 3566 1747 \nQ 3566 888 3137 398 \nQ 2709 -91 1959 -91 \nQ 1206 -91 779 398 \nQ 353 888 353 1747 \nQ 353 2609 779 3096 \nQ 1206 3584 1959 3584 \nz\n\" transform=\"scale(0.015625)\"/>\n      <path id=\"DejaVuSans-74\" d=\"M 1172 4494 \nL 1172 3500 \nL 2356 3500 \nL 2356 3053 \nL 1172 3053 \nL 1172 1153 \nQ 1172 725 1289 603 \nQ 1406 481 1766 481 \nL 2356 481 \nL 2356 0 \nL 1766 0 \nQ 1100 0 847 248 \nQ 594 497 594 1153 \nL 594 3053 \nL 172 3053 \nL 172 3500 \nL 594 3500 \nL 594 4494 \nL 1172 4494 \nz\n\" transform=\"scale(0.015625)\"/>\n     </defs>\n     <use xlink:href=\"#DejaVuSans-61\"/>\n     <use xlink:href=\"#DejaVuSans-6e\" x=\"61.279297\"/>\n     <use xlink:href=\"#DejaVuSans-6b\" x=\"124.658203\"/>\n     <use xlink:href=\"#DejaVuSans-6c\" x=\"182.568359\"/>\n     <use xlink:href=\"#DejaVuSans-65\" x=\"210.351562\"/>\n     <use xlink:href=\"#DejaVuSans-20\" x=\"271.875\"/>\n     <use xlink:href=\"#DejaVuSans-62\" x=\"303.662109\"/>\n     <use xlink:href=\"#DejaVuSans-6f\" x=\"367.138672\"/>\n     <use xlink:href=\"#DejaVuSans-6f\" x=\"428.320312\"/>\n     <use xlink:href=\"#DejaVuSans-74\" x=\"489.501953\"/>\n    </g>\n   </g>\n  </g>\n  <g id=\"axes_2\">\n   <g id=\"patch_7\">\n    <path d=\"M 78.794915 79.063888 \nL 135.540678 79.063888 \nL 135.540678 22.318125 \nL 78.794915 22.318125 \nz\n\" style=\"fill: #ffffff\"/>\n   </g>\n   <g clip-path=\"url(#p92005ff379)\">\n    <image xlink:href=\"data:image/png;base64,\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\" id=\"image8e47cf55c7\" transform=\"scale(1 -1)translate(0 -57)\" x=\"78.794915\" y=\"-22.063888\" width=\"57\" height=\"57\"/>\n   </g>\n   <g id=\"patch_8\">\n    <path d=\"M 78.794915 79.063888 \nL 78.794915 22.318125 \n\" style=\"fill: none; stroke: #000000; stroke-width: 0.8; stroke-linejoin: miter; stroke-linecap: square\"/>\n   </g>\n   <g id=\"patch_9\">\n    <path d=\"M 135.540678 79.063888 \nL 135.540678 22.318125 \n\" style=\"fill: none; stroke: #000000; stroke-width: 0.8; stroke-linejoin: miter; stroke-linecap: square\"/>\n   </g>\n   <g id=\"patch_10\">\n    <path d=\"M 78.794915 79.063888 \nL 135.540678 79.063888 \n\" style=\"fill: none; stroke: #000000; stroke-width: 0.8; stroke-linejoin: miter; stroke-linecap: square\"/>\n   </g>\n   <g id=\"patch_11\">\n    <path d=\"M 78.794915 22.318125 \nL 135.540678 22.318125 \n\" style=\"fill: none; stroke: #000000; stroke-width: 0.8; stroke-linejoin: miter; stroke-linecap: square\"/>\n   </g>\n   <g id=\"text_2\">\n    <!-- t-shirt -->\n    <g transform=\"translate(89.237172 16.318125)scale(0.12 -0.12)\">\n     <defs>\n      <path id=\"DejaVuSans-2d\" d=\"M 313 2009 \nL 1997 2009 \nL 1997 1497 \nL 313 1497 \nL 313 2009 \nz\n\" transform=\"scale(0.015625)\"/>\n      <path id=\"DejaVuSans-73\" d=\"M 2834 3397 \nL 2834 2853 \nQ 2591 2978 2328 3040 \nQ 2066 3103 1784 3103 \nQ 1356 3103 1142 2972 \nQ 928 2841 928 2578 \nQ 928 2378 1081 2264 \nQ 1234 2150 1697 2047 \nL 1894 2003 \nQ 2506 1872 2764 1633 \nQ 3022 1394 3022 966 \nQ 3022 478 2636 193 \nQ 2250 -91 1575 -91 \nQ 1294 -91 989 -36 \nQ 684 19 347 128 \nL 347 722 \nQ 666 556 975 473 \nQ 1284 391 1588 391 \nQ 1994 391 2212 530 \nQ 2431 669 2431 922 \nQ 2431 1156 2273 1281 \nQ 2116 1406 1581 1522 \nL 1381 1569 \nQ 847 1681 609 1914 \nQ 372 2147 372 2553 \nQ 372 3047 722 3315 \nQ 1072 3584 1716 3584 \nQ 2034 3584 2315 3537 \nQ 2597 3491 2834 3397 \nz\n\" transform=\"scale(0.015625)\"/>\n      <path id=\"DejaVuSans-68\" d=\"M 3513 2113 \nL 3513 0 \nL 2938 0 \nL 2938 2094 \nQ 2938 2591 2744 2837 \nQ 2550 3084 2163 3084 \nQ 1697 3084 1428 2787 \nQ 1159 2491 1159 1978 \nL 1159 0 \nL 581 0 \nL 581 4863 \nL 1159 4863 \nL 1159 2956 \nQ 1366 3272 1645 3428 \nQ 1925 3584 2291 3584 \nQ 2894 3584 3203 3211 \nQ 3513 2838 3513 2113 \nz\n\" transform=\"scale(0.015625)\"/>\n      <path id=\"DejaVuSans-69\" d=\"M 603 3500 \nL 1178 3500 \nL 1178 0 \nL 603 0 \nL 603 3500 \nz\nM 603 4863 \nL 1178 4863 \nL 1178 4134 \nL 603 4134 \nL 603 4863 \nz\n\" transform=\"scale(0.015625)\"/>\n      <path id=\"DejaVuSans-72\" d=\"M 2631 2963 \nQ 2534 3019 2420 3045 \nQ 2306 3072 2169 3072 \nQ 1681 3072 1420 2755 \nQ 1159 2438 1159 1844 \nL 1159 0 \nL 581 0 \nL 581 3500 \nL 1159 3500 \nL 1159 2956 \nQ 1341 3275 1631 3429 \nQ 1922 3584 2338 3584 \nQ 2397 3584 2469 3576 \nQ 2541 3569 2628 3553 \nL 2631 2963 \nz\n\" transform=\"scale(0.015625)\"/>\n     </defs>\n     <use xlink:href=\"#DejaVuSans-74\"/>\n     <use xlink:href=\"#DejaVuSans-2d\" x=\"39.208984\"/>\n     <use xlink:href=\"#DejaVuSans-73\" x=\"75.292969\"/>\n     <use xlink:href=\"#DejaVuSans-68\" x=\"127.392578\"/>\n     <use xlink:href=\"#DejaVuSans-69\" x=\"190.771484\"/>\n     <use xlink:href=\"#DejaVuSans-72\" x=\"218.554688\"/>\n     <use xlink:href=\"#DejaVuSans-74\" x=\"259.667969\"/>\n    </g>\n   </g>\n  </g>\n  <g id=\"axes_3\">\n   <g id=\"patch_12\">\n    <path d=\"M 146.889831 79.063888 \nL 203.635593 79.063888 \nL 203.635593 22.318125 \nL 146.889831 22.318125 \nz\n\" style=\"fill: #ffffff\"/>\n   </g>\n   <g clip-path=\"url(#pe78216c364)\">\n    <image xlink:href=\"data:image/png;base64,\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\" id=\"imageec68dd03ed\" transform=\"scale(1 -1)translate(0 -57)\" x=\"146.889831\" y=\"-22.063888\" width=\"57\" height=\"57\"/>\n   </g>\n   <g id=\"patch_13\">\n    <path d=\"M 146.889831 79.063888 \nL 146.889831 22.318125 \n\" style=\"fill: none; stroke: #000000; stroke-width: 0.8; stroke-linejoin: miter; stroke-linecap: square\"/>\n   </g>\n   <g id=\"patch_14\">\n    <path d=\"M 203.635593 79.063888 \nL 203.635593 22.318125 \n\" style=\"fill: none; stroke: #000000; stroke-width: 0.8; stroke-linejoin: miter; stroke-linecap: square\"/>\n   </g>\n   <g id=\"patch_15\">\n    <path d=\"M 146.889831 79.063888 \nL 203.635593 79.063888 \n\" style=\"fill: none; stroke: #000000; stroke-width: 0.8; stroke-linejoin: miter; stroke-linecap: square\"/>\n   </g>\n   <g id=\"patch_16\">\n    <path d=\"M 146.889831 22.318125 \nL 203.635593 22.318125 \n\" style=\"fill: none; stroke: #000000; stroke-width: 0.8; stroke-linejoin: miter; stroke-linecap: square\"/>\n   </g>\n   <g id=\"text_3\">\n    <!-- t-shirt -->\n    <g transform=\"translate(157.332087 16.318125)scale(0.12 -0.12)\">\n     <use xlink:href=\"#DejaVuSans-74\"/>\n     <use xlink:href=\"#DejaVuSans-2d\" x=\"39.208984\"/>\n     <use xlink:href=\"#DejaVuSans-73\" x=\"75.292969\"/>\n     <use xlink:href=\"#DejaVuSans-68\" x=\"127.392578\"/>\n     <use xlink:href=\"#DejaVuSans-69\" x=\"190.771484\"/>\n     <use xlink:href=\"#DejaVuSans-72\" x=\"218.554688\"/>\n     <use xlink:href=\"#DejaVuSans-74\" x=\"259.667969\"/>\n    </g>\n   </g>\n  </g>\n  <g id=\"axes_4\">\n   <g id=\"patch_17\">\n    <path d=\"M 214.984746 79.063888 \nL 271.730508 79.063888 \nL 271.730508 22.318125 \nL 214.984746 22.318125 \nz\n\" style=\"fill: #ffffff\"/>\n   </g>\n   <g clip-path=\"url(#p5765e45211)\">\n    <image xlink:href=\"data:image/png;base64,\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\" id=\"imageed9c427674\" transform=\"scale(1 -1)translate(0 -57)\" x=\"214.984746\" y=\"-22.063888\" width=\"57\" height=\"57\"/>\n   </g>\n   <g id=\"patch_18\">\n    <path d=\"M 214.984746 79.063888 \nL 214.984746 22.318125 \n\" style=\"fill: none; stroke: #000000; stroke-width: 0.8; stroke-linejoin: miter; stroke-linecap: square\"/>\n   </g>\n   <g id=\"patch_19\">\n    <path d=\"M 271.730508 79.063888 \nL 271.730508 22.318125 \n\" style=\"fill: none; stroke: #000000; stroke-width: 0.8; stroke-linejoin: miter; stroke-linecap: square\"/>\n   </g>\n   <g id=\"patch_20\">\n    <path d=\"M 214.984746 79.063888 \nL 271.730508 79.063888 \n\" style=\"fill: none; stroke: #000000; stroke-width: 0.8; stroke-linejoin: miter; stroke-linecap: square\"/>\n   </g>\n   <g id=\"patch_21\">\n    <path d=\"M 214.984746 22.318125 \nL 271.730508 22.318125 \n\" style=\"fill: none; stroke: #000000; stroke-width: 0.8; stroke-linejoin: miter; stroke-linecap: square\"/>\n   </g>\n   <g id=\"text_4\">\n    <!-- dress -->\n    <g transform=\"translate(227.273877 16.318125)scale(0.12 -0.12)\">\n     <defs>\n      <path id=\"DejaVuSans-64\" d=\"M 2906 2969 \nL 2906 4863 \nL 3481 4863 \nL 3481 0 \nL 2906 0 \nL 2906 525 \nQ 2725 213 2448 61 \nQ 2172 -91 1784 -91 \nQ 1150 -91 751 415 \nQ 353 922 353 1747 \nQ 353 2572 751 3078 \nQ 1150 3584 1784 3584 \nQ 2172 3584 2448 3432 \nQ 2725 3281 2906 2969 \nz\nM 947 1747 \nQ 947 1113 1208 752 \nQ 1469 391 1925 391 \nQ 2381 391 2643 752 \nQ 2906 1113 2906 1747 \nQ 2906 2381 2643 2742 \nQ 2381 3103 1925 3103 \nQ 1469 3103 1208 2742 \nQ 947 2381 947 1747 \nz\n\" transform=\"scale(0.015625)\"/>\n     </defs>\n     <use xlink:href=\"#DejaVuSans-64\"/>\n     <use xlink:href=\"#DejaVuSans-72\" x=\"63.476562\"/>\n     <use xlink:href=\"#DejaVuSans-65\" x=\"102.339844\"/>\n     <use xlink:href=\"#DejaVuSans-73\" x=\"163.863281\"/>\n     <use xlink:href=\"#DejaVuSans-73\" x=\"215.962891\"/>\n    </g>\n   </g>\n  </g>\n  <g id=\"axes_5\">\n   <g id=\"patch_22\">\n    <path d=\"M 283.079661 79.063888 \nL 339.825424 79.063888 \nL 339.825424 22.318125 \nL 283.079661 22.318125 \nz\n\" style=\"fill: #ffffff\"/>\n   </g>\n   <g clip-path=\"url(#p1399e54090)\">\n    <image xlink:href=\"data:image/png;base64,\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\" id=\"imagecb6a06d84e\" transform=\"scale(1 -1)translate(0 -57)\" x=\"283.079661\" y=\"-22.063888\" width=\"57\" height=\"57\"/>\n   </g>\n   <g id=\"patch_23\">\n    <path d=\"M 283.079661 79.063888 \nL 283.079661 22.318125 \n\" style=\"fill: none; stroke: #000000; stroke-width: 0.8; stroke-linejoin: miter; stroke-linecap: square\"/>\n   </g>\n   <g id=\"patch_24\">\n    <path d=\"M 339.825424 79.063888 \nL 339.825424 22.318125 \n\" style=\"fill: none; stroke: #000000; stroke-width: 0.8; stroke-linejoin: miter; stroke-linecap: square\"/>\n   </g>\n   <g id=\"patch_25\">\n    <path d=\"M 283.079661 79.063888 \nL 339.825424 79.063888 \n\" style=\"fill: none; stroke: #000000; stroke-width: 0.8; stroke-linejoin: miter; stroke-linecap: square\"/>\n   </g>\n   <g id=\"patch_26\">\n    <path d=\"M 283.079661 22.318125 \nL 339.825424 22.318125 \n\" style=\"fill: none; stroke: #000000; stroke-width: 0.8; stroke-linejoin: miter; stroke-linecap: square\"/>\n   </g>\n   <g id=\"text_5\">\n    <!-- t-shirt -->\n    <g transform=\"translate(293.521917 16.318125)scale(0.12 -0.12)\">\n     <use xlink:href=\"#DejaVuSans-74\"/>\n     <use xlink:href=\"#DejaVuSans-2d\" x=\"39.208984\"/>\n     <use xlink:href=\"#DejaVuSans-73\" x=\"75.292969\"/>\n     <use xlink:href=\"#DejaVuSans-68\" x=\"127.392578\"/>\n     <use xlink:href=\"#DejaVuSans-69\" x=\"190.771484\"/>\n     <use xlink:href=\"#DejaVuSans-72\" x=\"218.554688\"/>\n     <use xlink:href=\"#DejaVuSans-74\" x=\"259.667969\"/>\n    </g>\n   </g>\n  </g>\n  <g id=\"axes_6\">\n   <g id=\"patch_27\">\n    <path d=\"M 351.174576 79.063888 \nL 407.920339 79.063888 \nL 407.920339 22.318125 \nL 351.174576 22.318125 \nz\n\" style=\"fill: #ffffff\"/>\n   </g>\n   <g clip-path=\"url(#pc000f04202)\">\n    <image xlink:href=\"data:image/png;base64,\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\" id=\"image2c92c2512e\" transform=\"scale(1 -1)translate(0 -57)\" x=\"351.174576\" y=\"-22.063888\" width=\"57\" height=\"57\"/>\n   </g>\n   <g id=\"patch_28\">\n    <path d=\"M 351.174576 79.063888 \nL 351.174576 22.318125 \n\" style=\"fill: none; stroke: #000000; stroke-width: 0.8; stroke-linejoin: miter; stroke-linecap: square\"/>\n   </g>\n   <g id=\"patch_29\">\n    <path d=\"M 407.920339 79.063888 \nL 407.920339 22.318125 \n\" style=\"fill: none; stroke: #000000; stroke-width: 0.8; stroke-linejoin: miter; stroke-linecap: square\"/>\n   </g>\n   <g id=\"patch_30\">\n    <path d=\"M 351.174576 79.063888 \nL 407.920339 79.063888 \n\" style=\"fill: none; stroke: #000000; stroke-width: 0.8; stroke-linejoin: miter; stroke-linecap: square\"/>\n   </g>\n   <g id=\"patch_31\">\n    <path d=\"M 351.174576 22.318125 \nL 407.920339 22.318125 \n\" style=\"fill: none; stroke: #000000; stroke-width: 0.8; stroke-linejoin: miter; stroke-linecap: square\"/>\n   </g>\n   <g id=\"text_6\">\n    <!-- pullover -->\n    <g transform=\"translate(355.221208 16.318125)scale(0.12 -0.12)\">\n     <defs>\n      <path id=\"DejaVuSans-70\" d=\"M 1159 525 \nL 1159 -1331 \nL 581 -1331 \nL 581 3500 \nL 1159 3500 \nL 1159 2969 \nQ 1341 3281 1617 3432 \nQ 1894 3584 2278 3584 \nQ 2916 3584 3314 3078 \nQ 3713 2572 3713 1747 \nQ 3713 922 3314 415 \nQ 2916 -91 2278 -91 \nQ 1894 -91 1617 61 \nQ 1341 213 1159 525 \nz\nM 3116 1747 \nQ 3116 2381 2855 2742 \nQ 2594 3103 2138 3103 \nQ 1681 3103 1420 2742 \nQ 1159 2381 1159 1747 \nQ 1159 1113 1420 752 \nQ 1681 391 2138 391 \nQ 2594 391 2855 752 \nQ 3116 1113 3116 1747 \nz\n\" transform=\"scale(0.015625)\"/>\n      <path id=\"DejaVuSans-75\" d=\"M 544 1381 \nL 544 3500 \nL 1119 3500 \nL 1119 1403 \nQ 1119 906 1312 657 \nQ 1506 409 1894 409 \nQ 2359 409 2629 706 \nQ 2900 1003 2900 1516 \nL 2900 3500 \nL 3475 3500 \nL 3475 0 \nL 2900 0 \nL 2900 538 \nQ 2691 219 2414 64 \nQ 2138 -91 1772 -91 \nQ 1169 -91 856 284 \nQ 544 659 544 1381 \nz\nM 1991 3584 \nL 1991 3584 \nz\n\" transform=\"scale(0.015625)\"/>\n      <path id=\"DejaVuSans-76\" d=\"M 191 3500 \nL 800 3500 \nL 1894 563 \nL 2988 3500 \nL 3597 3500 \nL 2284 0 \nL 1503 0 \nL 191 3500 \nz\n\" transform=\"scale(0.015625)\"/>\n     </defs>\n     <use xlink:href=\"#DejaVuSans-70\"/>\n     <use xlink:href=\"#DejaVuSans-75\" x=\"63.476562\"/>\n     <use xlink:href=\"#DejaVuSans-6c\" x=\"126.855469\"/>\n     <use xlink:href=\"#DejaVuSans-6c\" x=\"154.638672\"/>\n     <use xlink:href=\"#DejaVuSans-6f\" x=\"182.421875\"/>\n     <use xlink:href=\"#DejaVuSans-76\" x=\"243.603516\"/>\n     <use xlink:href=\"#DejaVuSans-65\" x=\"302.783203\"/>\n     <use xlink:href=\"#DejaVuSans-72\" x=\"364.306641\"/>\n    </g>\n   </g>\n  </g>\n  <g id=\"axes_7\">\n   <g id=\"patch_32\">\n    <path d=\"M 419.269492 79.063888 \nL 476.015254 79.063888 \nL 476.015254 22.318125 \nL 419.269492 22.318125 \nz\n\" style=\"fill: #ffffff\"/>\n   </g>\n   <g clip-path=\"url(#p392b740524)\">\n    <image xlink:href=\"data:image/png;base64,\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\" id=\"imagebe25cfe5f3\" transform=\"scale(1 -1)translate(0 -57)\" x=\"419.269492\" y=\"-22.063888\" width=\"57\" height=\"57\"/>\n   </g>\n   <g id=\"patch_33\">\n    <path d=\"M 419.269492 79.063888 \nL 419.269492 22.318125 \n\" style=\"fill: none; stroke: #000000; stroke-width: 0.8; stroke-linejoin: miter; stroke-linecap: square\"/>\n   </g>\n   <g id=\"patch_34\">\n    <path d=\"M 476.015254 79.063888 \nL 476.015254 22.318125 \n\" style=\"fill: none; stroke: #000000; stroke-width: 0.8; stroke-linejoin: miter; stroke-linecap: square\"/>\n   </g>\n   <g id=\"patch_35\">\n    <path d=\"M 419.269492 79.063888 \nL 476.015254 79.063888 \n\" style=\"fill: none; stroke: #000000; stroke-width: 0.8; stroke-linejoin: miter; stroke-linecap: square\"/>\n   </g>\n   <g id=\"patch_36\">\n    <path d=\"M 419.269492 22.318125 \nL 476.015254 22.318125 \n\" style=\"fill: none; stroke: #000000; stroke-width: 0.8; stroke-linejoin: miter; stroke-linecap: square\"/>\n   </g>\n   <g id=\"text_7\">\n    <!-- sneaker -->\n    <g transform=\"translate(423.930185 16.318125)scale(0.12 -0.12)\">\n     <use xlink:href=\"#DejaVuSans-73\"/>\n     <use xlink:href=\"#DejaVuSans-6e\" x=\"52.099609\"/>\n     <use xlink:href=\"#DejaVuSans-65\" x=\"115.478516\"/>\n     <use xlink:href=\"#DejaVuSans-61\" x=\"177.001953\"/>\n     <use xlink:href=\"#DejaVuSans-6b\" x=\"238.28125\"/>\n     <use xlink:href=\"#DejaVuSans-65\" x=\"292.566406\"/>\n     <use xlink:href=\"#DejaVuSans-72\" x=\"354.089844\"/>\n    </g>\n   </g>\n  </g>\n  <g id=\"axes_8\">\n   <g id=\"patch_37\">\n    <path d=\"M 487.364407 79.063888 \nL 544.110169 79.063888 \nL 544.110169 22.318125 \nL 487.364407 22.318125 \nz\n\" style=\"fill: #ffffff\"/>\n   </g>\n   <g clip-path=\"url(#p341f24dc10)\">\n    <image xlink:href=\"data:image/png;base64,\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\" id=\"imagec6c5b20899\" transform=\"scale(1 -1)translate(0 -57)\" x=\"487.364407\" y=\"-22.063888\" width=\"57\" height=\"57\"/>\n   </g>\n   <g id=\"patch_38\">\n    <path d=\"M 487.364407 79.063888 \nL 487.364407 22.318125 \n\" style=\"fill: none; stroke: #000000; stroke-width: 0.8; stroke-linejoin: miter; stroke-linecap: square\"/>\n   </g>\n   <g id=\"patch_39\">\n    <path d=\"M 544.110169 79.063888 \nL 544.110169 22.318125 \n\" style=\"fill: none; stroke: #000000; stroke-width: 0.8; stroke-linejoin: miter; stroke-linecap: square\"/>\n   </g>\n   <g id=\"patch_40\">\n    <path d=\"M 487.364407 79.063888 \nL 544.110169 79.063888 \n\" style=\"fill: none; stroke: #000000; stroke-width: 0.8; stroke-linejoin: miter; stroke-linecap: square\"/>\n   </g>\n   <g id=\"patch_41\">\n    <path d=\"M 487.364407 22.318125 \nL 544.110169 22.318125 \n\" style=\"fill: none; stroke: #000000; stroke-width: 0.8; stroke-linejoin: miter; stroke-linecap: square\"/>\n   </g>\n   <g id=\"text_8\">\n    <!-- pullover -->\n    <g transform=\"translate(491.411038 16.318125)scale(0.12 -0.12)\">\n     <use xlink:href=\"#DejaVuSans-70\"/>\n     <use xlink:href=\"#DejaVuSans-75\" x=\"63.476562\"/>\n     <use xlink:href=\"#DejaVuSans-6c\" x=\"126.855469\"/>\n     <use xlink:href=\"#DejaVuSans-6c\" x=\"154.638672\"/>\n     <use xlink:href=\"#DejaVuSans-6f\" x=\"182.421875\"/>\n     <use xlink:href=\"#DejaVuSans-76\" x=\"243.603516\"/>\n     <use xlink:href=\"#DejaVuSans-65\" x=\"302.783203\"/>\n     <use xlink:href=\"#DejaVuSans-72\" x=\"364.306641\"/>\n    </g>\n   </g>\n  </g>\n  <g id=\"axes_9\">\n   <g id=\"patch_42\">\n    <path d=\"M 555.459322 79.063888 \nL 612.205085 79.063888 \nL 612.205085 22.318125 \nL 555.459322 22.318125 \nz\n\" style=\"fill: #ffffff\"/>\n   </g>\n   <g clip-path=\"url(#p5ce82aeaad)\">\n    <image xlink:href=\"data:image/png;base64,\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\" id=\"imagec8793c2671\" transform=\"scale(1 -1)translate(0 -57)\" x=\"555.459322\" y=\"-22.063888\" width=\"57\" height=\"57\"/>\n   </g>\n   <g id=\"patch_43\">\n    <path d=\"M 555.459322 79.063888 \nL 555.459322 22.318125 \n\" style=\"fill: none; stroke: #000000; stroke-width: 0.8; stroke-linejoin: miter; stroke-linecap: square\"/>\n   </g>\n   <g id=\"patch_44\">\n    <path d=\"M 612.205085 79.063888 \nL 612.205085 22.318125 \n\" style=\"fill: none; stroke: #000000; stroke-width: 0.8; stroke-linejoin: miter; stroke-linecap: square\"/>\n   </g>\n   <g id=\"patch_45\">\n    <path d=\"M 555.459322 79.063888 \nL 612.205085 79.063888 \n\" style=\"fill: none; stroke: #000000; stroke-width: 0.8; stroke-linejoin: miter; stroke-linecap: square\"/>\n   </g>\n   <g id=\"patch_46\">\n    <path d=\"M 555.459322 22.318125 \nL 612.205085 22.318125 \n\" style=\"fill: none; stroke: #000000; stroke-width: 0.8; stroke-linejoin: miter; stroke-linecap: square\"/>\n   </g>\n   <g id=\"text_9\">\n    <!-- sandal -->\n    <g transform=\"translate(564.074391 16.318125)scale(0.12 -0.12)\">\n     <use xlink:href=\"#DejaVuSans-73\"/>\n     <use xlink:href=\"#DejaVuSans-61\" x=\"52.099609\"/>\n     <use xlink:href=\"#DejaVuSans-6e\" x=\"113.378906\"/>\n     <use xlink:href=\"#DejaVuSans-64\" x=\"176.757812\"/>\n     <use xlink:href=\"#DejaVuSans-61\" x=\"240.234375\"/>\n     <use xlink:href=\"#DejaVuSans-6c\" x=\"301.513672\"/>\n    </g>\n   </g>\n  </g>\n  <g id=\"axes_10\">\n   <g id=\"patch_47\">\n    <path d=\"M 623.554237 79.063888 \nL 680.3 79.063888 \nL 680.3 22.318125 \nL 623.554237 22.318125 \nz\n\" style=\"fill: #ffffff\"/>\n   </g>\n   <g clip-path=\"url(#p3a24d39631)\">\n    <image xlink:href=\"data:image/png;base64,\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\" id=\"image56946bcf09\" transform=\"scale(1 -1)translate(0 -57)\" x=\"623.554237\" y=\"-22.063888\" width=\"57\" height=\"57\"/>\n   </g>\n   <g id=\"patch_48\">\n    <path d=\"M 623.554237 79.063888 \nL 623.554237 22.318125 \n\" style=\"fill: none; stroke: #000000; stroke-width: 0.8; stroke-linejoin: miter; stroke-linecap: square\"/>\n   </g>\n   <g id=\"patch_49\">\n    <path d=\"M 680.3 79.063888 \nL 680.3 22.318125 \n\" style=\"fill: none; stroke: #000000; stroke-width: 0.8; stroke-linejoin: miter; stroke-linecap: square\"/>\n   </g>\n   <g id=\"patch_50\">\n    <path d=\"M 623.554237 79.063888 \nL 680.3 79.063888 \n\" style=\"fill: none; stroke: #000000; stroke-width: 0.8; stroke-linejoin: miter; stroke-linecap: square\"/>\n   </g>\n   <g id=\"patch_51\">\n    <path d=\"M 623.554237 22.318125 \nL 680.3 22.318125 \n\" style=\"fill: none; stroke: #000000; stroke-width: 0.8; stroke-linejoin: miter; stroke-linecap: square\"/>\n   </g>\n   <g id=\"text_10\">\n    <!-- sandal -->\n    <g transform=\"translate(632.169306 16.318125)scale(0.12 -0.12)\">\n     <use xlink:href=\"#DejaVuSans-73\"/>\n     <use xlink:href=\"#DejaVuSans-61\" x=\"52.099609\"/>\n     <use xlink:href=\"#DejaVuSans-6e\" x=\"113.378906\"/>\n     <use xlink:href=\"#DejaVuSans-64\" x=\"176.757812\"/>\n     <use xlink:href=\"#DejaVuSans-61\" x=\"240.234375\"/>\n     <use xlink:href=\"#DejaVuSans-6c\" x=\"301.513672\"/>\n    </g>\n   </g>\n  </g>\n </g>\n <defs>\n  <clipPath id=\"p5ea73a94da\">\n   <rect x=\"10.7\" y=\"22.318125\" width=\"56.745763\" height=\"56.745763\"/>\n  </clipPath>\n  <clipPath id=\"p92005ff379\">\n   <rect x=\"78.794915\" y=\"22.318125\" width=\"56.745763\" height=\"56.745763\"/>\n  </clipPath>\n  <clipPath id=\"pe78216c364\">\n   <rect x=\"146.889831\" y=\"22.318125\" width=\"56.745763\" height=\"56.745763\"/>\n  </clipPath>\n  <clipPath id=\"p5765e45211\">\n   <rect x=\"214.984746\" y=\"22.318125\" width=\"56.745763\" height=\"56.745763\"/>\n  </clipPath>\n  <clipPath id=\"p1399e54090\">\n   <rect x=\"283.079661\" y=\"22.318125\" width=\"56.745763\" height=\"56.745763\"/>\n  </clipPath>\n  <clipPath id=\"pc000f04202\">\n   <rect x=\"351.174576\" y=\"22.318125\" width=\"56.745763\" height=\"56.745763\"/>\n  </clipPath>\n  <clipPath id=\"p392b740524\">\n   <rect x=\"419.269492\" y=\"22.318125\" width=\"56.745763\" height=\"56.745763\"/>\n  </clipPath>\n  <clipPath id=\"p341f24dc10\">\n   <rect x=\"487.364407\" y=\"22.318125\" width=\"56.745763\" height=\"56.745763\"/>\n  </clipPath>\n  <clipPath id=\"p5ce82aeaad\">\n   <rect x=\"555.459322\" y=\"22.318125\" width=\"56.745763\" height=\"56.745763\"/>\n  </clipPath>\n  <clipPath id=\"p3a24d39631\">\n   <rect x=\"623.554237\" y=\"22.318125\" width=\"56.745763\" height=\"56.745763\"/>\n  </clipPath>\n </defs>\n</svg>\n",
            "text/plain": [
              "<Figure size 864x864 with 10 Axes>"
            ]
          },
          "metadata": {
            "needs_background": "light"
          },
          "output_type": "display_data"
        }
      ],
      "source": [
        "X=[]\n",
        "y=[]\n",
        "for idx, data in enumerate(mnist_train):\n",
        "    if(idx>=0 and idx<10):\n",
        "        X.append(data[0])\n",
        "        y.append(data[1])\n",
        "    if (idx>=10):\n",
        "        break\n",
        "show_fashion_mnist(X, get_fashion_mnist_labels(y))"
      ]
    },
    {
      "cell_type": "markdown",
      "metadata": {
        "id": "Ton7Y_l-w2xn"
      },
      "source": [
        "## Reading a Minibatch\n",
        "\n",
        "To make our life easier when reading from the training and test sets we use a `DataLoader` rather than creating one from scratch, as we did in `chapter_linear_scratch`. Recall that a data loader reads a mini-batch of data with an example number of `batch_size` each time.\n",
        "\n",
        "In practice, reading data can often be a significant performance bottleneck for training, especially when the model is simple or when the computer is fast. A handy feature of PyTorch's `DataLoader` is the ability to use multiple processes to speed up data reading. For instance, we can set aside 4 processes to read the data (via `num_workers`).\n",
        "\n",
        "We've already applied required transformations before."
      ]
    },
    {
      "cell_type": "markdown",
      "metadata": {
        "id": "p-JI6u6ww2xr"
      },
      "source": [
        "Let's look at the time it takes to read all the training data."
      ]
    },
    {
      "cell_type": "code",
      "execution_count": null,
      "metadata": {
        "colab": {
          "base_uri": "https://localhost:8080/",
          "height": 89
        },
        "id": "focyja2Tw2xs",
        "outputId": "98bcd1c2-09ff-4b7c-fad9-aa81840ba35a"
      },
      "outputs": [
        {
          "data": {
            "text/plain": [
              "'8.95 sec'"
            ]
          },
          "execution_count": 12,
          "metadata": {},
          "output_type": "execute_result"
        }
      ],
      "source": [
        "start = time.time()\n",
        "for X, y in train_iter:\n",
        "    continue\n",
        "'%.2f sec' % (time.time() - start)"
      ]
    },
    {
      "cell_type": "markdown",
      "metadata": {
        "id": "L93Qidrow2xx"
      },
      "source": [
        "# Implementation of Softmax Regression from Scratch\n",
        "\n",
        ":label:`chapter_softmax_scratch`\n",
        "\n",
        "\n",
        "Just as we implemented linear regression from scratch,\n",
        "we believe that multiclass logistic (softmax) regression\n",
        "is similarly fundamental and you ought to know\n",
        "the gory details of how to implement it from scratch.\n",
        "As with linear regression, after doing things by hand\n",
        "we will breeze through an implementation in pytorch for comparison.\n",
        "To begin, let's import our packages."
      ]
    },
    {
      "cell_type": "code",
      "execution_count": null,
      "metadata": {
        "id": "3tPFU0CHw2xx"
      },
      "outputs": [],
      "source": [
        "import sys\n",
        "sys.path.insert(0, '..')\n",
        "from torchvision import transforms\n",
        "%matplotlib inline\n",
        "import torch\n",
        "from torch.distributions import normal"
      ]
    },
    {
      "cell_type": "markdown",
      "metadata": {
        "id": "zzomkXXIw2x1"
      },
      "source": [
        "We will work with the Fashion-MNIST dataset just introduced,\n",
        "\n",
        "*   List item\n",
        "*   List item\n",
        "\n",
        "\n",
        "cuing up an iterator with batch size 256."
      ]
    },
    {
      "cell_type": "code",
      "execution_count": null,
      "metadata": {
        "id": "MdlBe0Yvw2x1"
      },
      "outputs": [],
      "source": [
        "batch_size = 256\n",
        "trans = transforms.ToTensor() \n",
        "mnist_train = torchvision.datasets.FashionMNIST(root=\"./\", train=True, transform=trans, target_transform=None, download=True)\n",
        "mnist_test = torchvision.datasets.FashionMNIST(root=\"./\", train=False, transform=trans, target_transform=None, download=True)\n",
        "\n",
        "if sys.platform.startswith('win'):\n",
        "    num_workers = 0\n",
        "else:\n",
        "    num_workers = 4\n",
        "\n",
        "train_iter = DataLoader(mnist_train, batch_size, shuffle=True, num_workers=num_workers)\n",
        "test_iter = DataLoader(mnist_test, batch_size, shuffle=False, num_workers=num_workers)"
      ]
    },
    {
      "cell_type": "markdown",
      "metadata": {
        "id": "j-MPKwR8w2x6"
      },
      "source": [
        "## Initialize Model Parameters\n",
        "\n",
        "Just as in linear regression, we represent each example as a vector.\n",
        "Since each example is a $28 \\times 28$ image,\n",
        "we can flatten each example, treating them as $784$ dimensional vectors.\n",
        "In the future, we'll talk about more sophisticated strategies\n",
        "for exploiting the spatial structure in images,\n",
        "but for now we treat each pixel location as just another feature.\n",
        "\n",
        "Recall that in softmax regression,\n",
        "we have as many outputs as there are categories.\n",
        "Because our dataset has $10$ categories,\n",
        "our network will have an output dimension of $10$.\n",
        "Consequently, our weights will constitute a $784 \\times 10$ matrix\n",
        "and the biases will constitute a $1 \\times 10$ vector.\n",
        "As with linear regression, we will initialize our weights $W$\n",
        "with Gaussian noise and our biases to take the initial value $0$."
      ]
    },
    {
      "cell_type": "code",
      "execution_count": null,
      "metadata": {
        "attributes": {
          "classes": [],
          "id": "",
          "n": "9"
        },
        "id": "6UabEJZww2x7"
      },
      "outputs": [],
      "source": [
        "num_inputs = 784\n",
        "num_outputs = 10\n",
        "\n",
        "W = normal.Normal(loc = 0, scale = 0.01).sample((num_inputs, num_outputs))\n",
        "b = torch.zeros(num_outputs)"
      ]
    },
    {
      "cell_type": "markdown",
      "metadata": {
        "id": "bGW-8_Ezw2x-"
      },
      "source": [
        "Recall that we need to *attach gradients* to the model parameters.\n",
        "More literally, we are allocating memory for future gradients to be stored\n",
        "and notifiying PyTorch that we want gradients to be calculated with respect to these parameters in the first place."
      ]
    },
    {
      "cell_type": "code",
      "execution_count": null,
      "metadata": {
        "attributes": {
          "classes": [],
          "id": "",
          "n": "10"
        },
        "colab": {
          "base_uri": "https://localhost:8080/"
        },
        "id": "5J_fcKZ3w2x-",
        "outputId": "a0d190f6-1910-4094-e1aa-1ca6a998ad79"
      },
      "outputs": [
        {
          "data": {
            "text/plain": [
              "tensor([0., 0., 0., 0., 0., 0., 0., 0., 0., 0.], requires_grad=True)"
            ]
          },
          "execution_count": 16,
          "metadata": {},
          "output_type": "execute_result"
        }
      ],
      "source": [
        "W.requires_grad_(True)\n",
        "b.requires_grad_(True)"
      ]
    },
    {
      "cell_type": "markdown",
      "metadata": {
        "id": "-oX_ntFTw2yB"
      },
      "source": [
        "## The Softmax\n"
      ]
    },
    {
      "cell_type": "markdown",
      "metadata": {
        "id": "Ur13NL27w2yF"
      },
      "source": [
        "We are now ready to implement the softmax function.\n",
        "Recall that softmax consists of two steps:\n",
        "First, we exponentiate each term (using `torch.exp`).\n",
        "Then, we sum over each row (we have one row per example in the batch)\n",
        "to get the normalization constants for each example.\n",
        "Finally, we divide each row by its normalization constant,\n",
        "ensuring that the result sums to $1$.\n",
        "Before looking at the code, let's recall\n",
        "what this looks expressed as an equation:\n",
        "\n",
        "$$\n",
        "\\mathrm{softmax}(\\mathbf{X})_{ij} = \\frac{\\exp(X_{ij})}{\\sum_k \\exp(X_{ik})}\n",
        "$$\n",
        "\n",
        "The denominator, or normalization constant,\n",
        "is also sometimes called the partition function\n",
        "(and its logarithm the log-partition function).\n",
        "The origins of that name are in [statistical physics](https://en.wikipedia.org/wiki/Partition_function_(statistical_mechanics))\n",
        "where a related equation models the distribution\n",
        "over an ensemble of particles)."
      ]
    },
    {
      "cell_type": "code",
      "execution_count": null,
      "metadata": {
        "attributes": {
          "classes": [],
          "id": "",
          "n": "12"
        },
        "id": "MzWPSo7Rw2yG"
      },
      "outputs": [],
      "source": [
        "def softmax(X):\n",
        "    X_exp = torch.exp(X)\n",
        "    partition = torch.sum(X_exp, dim=1, keepdim=True)\n",
        "    return X_exp / partition  # The broadcast mechanism is applied here"
      ]
    },
    {
      "cell_type": "markdown",
      "metadata": {
        "id": "oXIT9FD3w2yO"
      },
      "source": [
        "## The Model\n",
        "\n",
        "Now that we have defined the softmax operation,\n",
        "we can implement the softmax regression model.\n",
        "The below code defines the forward pass through the network.\n",
        "Note that we flatten each original image in the batch\n",
        "into a vector with length `num_inputs` with the `view` function\n",
        "before passing the data through our model."
      ]
    },
    {
      "cell_type": "code",
      "execution_count": null,
      "metadata": {
        "attributes": {
          "classes": [],
          "id": "",
          "n": "14"
        },
        "id": "Q3X7Qqhsw2yP"
      },
      "outputs": [],
      "source": [
        "def net(X):\n",
        "    return softmax(torch.matmul(X.reshape((-1, num_inputs)), W) + b)"
      ]
    },
    {
      "cell_type": "markdown",
      "metadata": {
        "id": "r-Rxpv2Sw2yS"
      },
      "source": [
        "## The Loss Function\n",
        "\n",
        "Next, we need to implement the cross entropy loss function,\n",
        "introduced in :numref:`chapter_softmax`.\n",
        "This may be the most common loss function\n",
        "in all of deep learning because, at the moment,\n",
        "classification problems far outnumber regression problems.\n",
        "\n",
        "\n",
        "Recall that cross-entropy takes the negative log-likelihood of the predicted probability assigned to the true label. Rather than iterating over the predictions with a Python for-loop (which tends to be inefficient), we can pick all elements by a single operator. "
      ]
    },
    {
      "cell_type": "markdown",
      "metadata": {
        "id": "49mz76mEw2yV"
      },
      "source": [
        "Now we can implement the cross-entropy loss function efficiently\n",
        "with just one line of code."
      ]
    },
    {
      "cell_type": "code",
      "execution_count": null,
      "metadata": {
        "attributes": {
          "classes": [],
          "id": "",
          "n": "16"
        },
        "id": "S3tZsMhSw2yW"
      },
      "outputs": [],
      "source": [
        "def cross_entropy(y_hat, y):\n",
        "    return -torch.log(y_hat[range(len(y_hat)), y])"
      ]
    },
    {
      "cell_type": "markdown",
      "metadata": {
        "id": "00hHeDRvw2yZ"
      },
      "source": [
        "## Classification Accuracy\n",
        "\n",
        "Given the predicted probability distribution `y_hat`,\n",
        "we typically choose the class with highest predicted probability\n",
        "whenever we must output a *hard* prediction. Indeed, many applications require that we make a choice. Gmail must catetegorize an email into Primary, Social, Updates, or Forums. It might estimate probabilities internally, but at the end of the day it has to choose one among the categories.\n",
        "\n",
        "When predictions are consistent with the actual category `y`, they are correct. The classification accuracy is the fraction of all predictions that are correct. Although we cannot optimize accuracy directly (it is not differentiable), it's often the performance metric that we care most about, and we will nearly always report it when training classifiers.\n",
        "\n",
        "To compute accuracy we do the following:\n",
        "First, we execute `y_hat.argmax(dim=1)`\n",
        "to gather the predicted classes\n",
        "(given by the indices for the largest entires each row).\n",
        "The result has the same shape as the variable `y`.\n",
        "Now we just need to check how frequently the two match. The result is PyTorch tensor containing entries of 0 (false) and 1 (true). Since the attribute `mean` can only calculate the mean of floating types,\n",
        "we also need to convert the result to `float`. Taking the mean yields the desired result."
      ]
    },
    {
      "cell_type": "code",
      "execution_count": null,
      "metadata": {
        "attributes": {
          "classes": [],
          "id": "",
          "n": "17"
        },
        "id": "9Xoycotnw2yZ"
      },
      "outputs": [],
      "source": [
        "def accuracy(y_hat, y):\n",
        "    return (y_hat.argmax(dim=1) == y).float().mean().item()"
      ]
    },
    {
      "cell_type": "markdown",
      "metadata": {
        "id": "GJ7dZ4npw2yh"
      },
      "source": [
        "Similarly, we can evaluate the accuracy for model `net` on the data set\n",
        "(accessed via `data_iter`)."
      ]
    },
    {
      "cell_type": "code",
      "execution_count": null,
      "metadata": {
        "attributes": {
          "classes": [],
          "id": "",
          "n": "19"
        },
        "id": "AZaIP_8Ew2yi"
      },
      "outputs": [],
      "source": [
        "# The function will be gradually improved: the complete implementation will be\n",
        "# discussed in the \"Image Augmentation\" section\n",
        "def evaluate_accuracy(data_iter, net):\n",
        "    acc_sum, n = 0.0, 0\n",
        "    for X, y in data_iter:\n",
        "        acc_sum += (net(X).argmax(dim=1) == y).sum().item()\n",
        "        n += y.size()[0]  # y.size()[0] = batch_size\n",
        "    return acc_sum / n"
      ]
    },
    {
      "cell_type": "markdown",
      "metadata": {
        "id": "1Pqfr0c3w2yl"
      },
      "source": [
        "Because we initialized the `net` model with random weights,\n",
        "the accuracy of this model should be close to random guessing,\n",
        "i.e. 0.1 for 10 classes."
      ]
    },
    {
      "cell_type": "code",
      "execution_count": null,
      "metadata": {
        "attributes": {
          "classes": [],
          "id": "",
          "n": "20"
        },
        "colab": {
          "base_uri": "https://localhost:8080/"
        },
        "id": "4DPnCy2Bw2yl",
        "outputId": "93f704c0-a1c8-490d-cea9-4367dac48399"
      },
      "outputs": [
        {
          "data": {
            "text/plain": [
              "0.121"
            ]
          },
          "execution_count": 22,
          "metadata": {},
          "output_type": "execute_result"
        }
      ],
      "source": [
        "evaluate_accuracy(test_iter, net)"
      ]
    },
    {
      "cell_type": "markdown",
      "metadata": {
        "id": "ofOHHe-ww2yo"
      },
      "source": [
        "## Model Training\n",
        "\n",
        "The training loop for softmax regression should look strikingly familiar\n",
        "if you read through our implementation\n",
        "of linear regression earlier in this chapter.\n",
        "Again, we use the mini-batch stochastic gradient descent\n",
        "to optimize the loss function of the model.\n",
        "Note that the number of epochs (`num_epochs`),\n",
        "and learning rate (`lr`) are both adjustable hyper-parameters.\n",
        "By changing their values, we may be able to increase the classification accuracy of the model. In practice we'll want to split our data three ways\n",
        "into training, validation, and test data, using the validation data to choose the best values of our hyperparameters."
      ]
    },
    {
      "cell_type": "code",
      "execution_count": null,
      "metadata": {
        "attributes": {
          "classes": [],
          "id": "",
          "n": "21"
        },
        "colab": {
          "base_uri": "https://localhost:8080/"
        },
        "id": "vBjoEY9Dw2yp",
        "outputId": "d5857a9b-2044-4cb1-d6a0-8ca6bd74e7f4"
      },
      "outputs": [
        {
          "name": "stdout",
          "output_type": "stream",
          "text": [
            "epoch 1, loss 232.3509, train acc 0.735, test acc 0.808\n",
            "epoch 2, loss 159.1485, train acc 0.802, test acc 0.813\n",
            "epoch 3, loss 142.3206, train acc 0.818, test acc 0.819\n",
            "epoch 4, loss 138.8035, train acc 0.823, test acc 0.831\n",
            "epoch 5, loss 133.3223, train acc 0.828, test acc 0.831\n",
            "epoch 6, loss 131.0472, train acc 0.832, test acc 0.825\n",
            "epoch 7, loss 126.5223, train acc 0.835, test acc 0.794\n",
            "epoch 8, loss 126.6475, train acc 0.834, test acc 0.839\n",
            "epoch 9, loss 128.5300, train acc 0.834, test acc 0.837\n",
            "epoch 10, loss 123.3098, train acc 0.840, test acc 0.831\n"
          ]
        }
      ],
      "source": [
        "num_epochs, lr = 10, 0.001\n",
        "\n",
        "def train(net, train_iter, test_iter, loss, num_epochs, batch_size, optimizer, params=None):\n",
        "    for epoch in range(num_epochs):\n",
        "        train_l_sum, train_acc_sum = 0.0, 0.0\n",
        "        for X, y in train_iter:\n",
        "            y_hat = net(X)\n",
        "            l = loss(y_hat, y).sum()\n",
        "            optimizer.zero_grad() \n",
        "            l.backward()                \n",
        "            optimizer.step()\n",
        "            train_l_sum += l.item()\n",
        "            train_acc_sum += accuracy(y_hat, y)\n",
        "        test_acc = evaluate_accuracy(test_iter, net)\n",
        "        print('epoch %d, loss %.4f, train acc %.3f, test acc %.3f'\n",
        "              % (epoch + 1, train_l_sum / len(train_iter), train_acc_sum / len(train_iter), test_acc))\n",
        "\n",
        "optimizer = torch.optim.SGD([W, b], lr) \n",
        "train(net, train_iter, test_iter, cross_entropy, num_epochs, batch_size, optimizer, [W, b])"
      ]
    },
    {
      "cell_type": "markdown",
      "metadata": {
        "id": "0oM_8pbYw2ys"
      },
      "source": [
        "## Prediction\n",
        "\n",
        "Now that training is complete, our model is ready to classify some images.\n",
        "Given a series of images, we will compare their actual labels\n",
        "(first line of text output) and the model predictions\n",
        "(second line of text output)."
      ]
    },
    {
      "cell_type": "code",
      "execution_count": null,
      "metadata": {
        "colab": {
          "base_uri": "https://localhost:8080/",
          "height": 213
        },
        "id": "g8afzfbWw2yt",
        "outputId": "7c5cf03c-09e8-4435-e8a1-a1456e3c6020",
        "scrolled": true
      },
      "outputs": [
        {
          "data": {
            "image/svg+xml": "<?xml version=\"1.0\" encoding=\"utf-8\" standalone=\"no\"?>\n<!DOCTYPE svg PUBLIC \"-//W3C//DTD SVG 1.1//EN\"\n  \"http://www.w3.org/Graphics/SVG/1.1/DTD/svg11.dtd\">\n<svg xmlns:xlink=\"http://www.w3.org/1999/xlink\" width=\"687.5pt\" height=\"103.201263pt\" viewBox=\"0 0 687.5 103.201263\" xmlns=\"http://www.w3.org/2000/svg\" version=\"1.1\">\n <metadata>\n  <rdf:RDF xmlns:dc=\"http://purl.org/dc/elements/1.1/\" xmlns:cc=\"http://creativecommons.org/ns#\" xmlns:rdf=\"http://www.w3.org/1999/02/22-rdf-syntax-ns#\">\n   <cc:Work>\n    <dc:type rdf:resource=\"http://purl.org/dc/dcmitype/StillImage\"/>\n    <dc:date>2022-05-26T19:07:55.623067</dc:date>\n    <dc:format>image/svg+xml</dc:format>\n    <dc:creator>\n     <cc:Agent>\n      <dc:title>Matplotlib v3.5.1, https://matplotlib.org/</dc:title>\n     </cc:Agent>\n    </dc:creator>\n   </cc:Work>\n  </rdf:RDF>\n </metadata>\n <defs>\n  <style type=\"text/css\">*{stroke-linejoin: round; stroke-linecap: butt}</style>\n </defs>\n <g id=\"figure_1\">\n  <g id=\"patch_1\">\n   <path d=\"M 0 103.201263 \nL 687.5 103.201263 \nL 687.5 -0 \nL 0 -0 \nL 0 103.201263 \nz\n\" style=\"fill: none\"/>\n  </g>\n  <g id=\"axes_1\">\n   <g id=\"patch_2\">\n    <path d=\"M 10.7 92.501263 \nL 67.445763 92.501263 \nL 67.445763 35.7555 \nL 10.7 35.7555 \nz\n\" style=\"fill: #ffffff\"/>\n   </g>\n   <g clip-path=\"url(#p6d516d4e23)\">\n    <image xlink:href=\"data:image/png;base64,\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\" id=\"image3c393a4a91\" transform=\"scale(1 -1)translate(0 -57)\" x=\"10.7\" y=\"-35.501263\" width=\"57\" height=\"57\"/>\n   </g>\n   <g id=\"patch_3\">\n    <path d=\"M 10.7 92.501263 \nL 10.7 35.7555 \n\" style=\"fill: none; stroke: #000000; stroke-width: 0.8; stroke-linejoin: miter; stroke-linecap: square\"/>\n   </g>\n   <g id=\"patch_4\">\n    <path d=\"M 67.445763 92.501263 \nL 67.445763 35.7555 \n\" style=\"fill: none; stroke: #000000; stroke-width: 0.8; stroke-linejoin: miter; stroke-linecap: square\"/>\n   </g>\n   <g id=\"patch_5\">\n    <path d=\"M 10.7 92.501263 \nL 67.445763 92.501263 \n\" style=\"fill: none; stroke: #000000; stroke-width: 0.8; stroke-linejoin: miter; stroke-linecap: square\"/>\n   </g>\n   <g id=\"patch_6\">\n    <path d=\"M 10.7 35.7555 \nL 67.445763 35.7555 \n\" style=\"fill: none; stroke: #000000; stroke-width: 0.8; stroke-linejoin: miter; stroke-linecap: square\"/>\n   </g>\n   <g id=\"text_1\">\n    <!-- dress -->\n    <g transform=\"translate(22.989131 16.318125)scale(0.12 -0.12)\">\n     <defs>\n      <path id=\"DejaVuSans-64\" d=\"M 2906 2969 \nL 2906 4863 \nL 3481 4863 \nL 3481 0 \nL 2906 0 \nL 2906 525 \nQ 2725 213 2448 61 \nQ 2172 -91 1784 -91 \nQ 1150 -91 751 415 \nQ 353 922 353 1747 \nQ 353 2572 751 3078 \nQ 1150 3584 1784 3584 \nQ 2172 3584 2448 3432 \nQ 2725 3281 2906 2969 \nz\nM 947 1747 \nQ 947 1113 1208 752 \nQ 1469 391 1925 391 \nQ 2381 391 2643 752 \nQ 2906 1113 2906 1747 \nQ 2906 2381 2643 2742 \nQ 2381 3103 1925 3103 \nQ 1469 3103 1208 2742 \nQ 947 2381 947 1747 \nz\n\" transform=\"scale(0.015625)\"/>\n      <path id=\"DejaVuSans-72\" d=\"M 2631 2963 \nQ 2534 3019 2420 3045 \nQ 2306 3072 2169 3072 \nQ 1681 3072 1420 2755 \nQ 1159 2438 1159 1844 \nL 1159 0 \nL 581 0 \nL 581 3500 \nL 1159 3500 \nL 1159 2956 \nQ 1341 3275 1631 3429 \nQ 1922 3584 2338 3584 \nQ 2397 3584 2469 3576 \nQ 2541 3569 2628 3553 \nL 2631 2963 \nz\n\" transform=\"scale(0.015625)\"/>\n      <path id=\"DejaVuSans-65\" d=\"M 3597 1894 \nL 3597 1613 \nL 953 1613 \nQ 991 1019 1311 708 \nQ 1631 397 2203 397 \nQ 2534 397 2845 478 \nQ 3156 559 3463 722 \nL 3463 178 \nQ 3153 47 2828 -22 \nQ 2503 -91 2169 -91 \nQ 1331 -91 842 396 \nQ 353 884 353 1716 \nQ 353 2575 817 3079 \nQ 1281 3584 2069 3584 \nQ 2775 3584 3186 3129 \nQ 3597 2675 3597 1894 \nz\nM 3022 2063 \nQ 3016 2534 2758 2815 \nQ 2500 3097 2075 3097 \nQ 1594 3097 1305 2825 \nQ 1016 2553 972 2059 \nL 3022 2063 \nz\n\" transform=\"scale(0.015625)\"/>\n      <path id=\"DejaVuSans-73\" d=\"M 2834 3397 \nL 2834 2853 \nQ 2591 2978 2328 3040 \nQ 2066 3103 1784 3103 \nQ 1356 3103 1142 2972 \nQ 928 2841 928 2578 \nQ 928 2378 1081 2264 \nQ 1234 2150 1697 2047 \nL 1894 2003 \nQ 2506 1872 2764 1633 \nQ 3022 1394 3022 966 \nQ 3022 478 2636 193 \nQ 2250 -91 1575 -91 \nQ 1294 -91 989 -36 \nQ 684 19 347 128 \nL 347 722 \nQ 666 556 975 473 \nQ 1284 391 1588 391 \nQ 1994 391 2212 530 \nQ 2431 669 2431 922 \nQ 2431 1156 2273 1281 \nQ 2116 1406 1581 1522 \nL 1381 1569 \nQ 847 1681 609 1914 \nQ 372 2147 372 2553 \nQ 372 3047 722 3315 \nQ 1072 3584 1716 3584 \nQ 2034 3584 2315 3537 \nQ 2597 3491 2834 3397 \nz\n\" transform=\"scale(0.015625)\"/>\n     </defs>\n     <use xlink:href=\"#DejaVuSans-64\"/>\n     <use xlink:href=\"#DejaVuSans-72\" x=\"63.476562\"/>\n     <use xlink:href=\"#DejaVuSans-65\" x=\"102.339844\"/>\n     <use xlink:href=\"#DejaVuSans-73\" x=\"163.863281\"/>\n     <use xlink:href=\"#DejaVuSans-73\" x=\"215.962891\"/>\n    </g>\n    <!-- dress -->\n    <g transform=\"translate(22.989131 29.7555)scale(0.12 -0.12)\">\n     <use xlink:href=\"#DejaVuSans-64\"/>\n     <use xlink:href=\"#DejaVuSans-72\" x=\"63.476562\"/>\n     <use xlink:href=\"#DejaVuSans-65\" x=\"102.339844\"/>\n     <use xlink:href=\"#DejaVuSans-73\" x=\"163.863281\"/>\n     <use xlink:href=\"#DejaVuSans-73\" x=\"215.962891\"/>\n    </g>\n   </g>\n  </g>\n  <g id=\"axes_2\">\n   <g id=\"patch_7\">\n    <path d=\"M 78.794915 92.501263 \nL 135.540678 92.501263 \nL 135.540678 35.7555 \nL 78.794915 35.7555 \nz\n\" style=\"fill: #ffffff\"/>\n   </g>\n   <g clip-path=\"url(#p8d473358a8)\">\n    <image xlink:href=\"data:image/png;base64,\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\" id=\"image781f47ca66\" transform=\"scale(1 -1)translate(0 -57)\" x=\"78.794915\" y=\"-35.501263\" width=\"57\" height=\"57\"/>\n   </g>\n   <g id=\"patch_8\">\n    <path d=\"M 78.794915 92.501263 \nL 78.794915 35.7555 \n\" style=\"fill: none; stroke: #000000; stroke-width: 0.8; stroke-linejoin: miter; stroke-linecap: square\"/>\n   </g>\n   <g id=\"patch_9\">\n    <path d=\"M 135.540678 92.501263 \nL 135.540678 35.7555 \n\" style=\"fill: none; stroke: #000000; stroke-width: 0.8; stroke-linejoin: miter; stroke-linecap: square\"/>\n   </g>\n   <g id=\"patch_10\">\n    <path d=\"M 78.794915 92.501263 \nL 135.540678 92.501263 \n\" style=\"fill: none; stroke: #000000; stroke-width: 0.8; stroke-linejoin: miter; stroke-linecap: square\"/>\n   </g>\n   <g id=\"patch_11\">\n    <path d=\"M 78.794915 35.7555 \nL 135.540678 35.7555 \n\" style=\"fill: none; stroke: #000000; stroke-width: 0.8; stroke-linejoin: miter; stroke-linecap: square\"/>\n   </g>\n   <g id=\"text_2\">\n    <!-- bag -->\n    <g transform=\"translate(95.872797 16.318125)scale(0.12 -0.12)\">\n     <defs>\n      <path id=\"DejaVuSans-62\" d=\"M 3116 1747 \nQ 3116 2381 2855 2742 \nQ 2594 3103 2138 3103 \nQ 1681 3103 1420 2742 \nQ 1159 2381 1159 1747 \nQ 1159 1113 1420 752 \nQ 1681 391 2138 391 \nQ 2594 391 2855 752 \nQ 3116 1113 3116 1747 \nz\nM 1159 2969 \nQ 1341 3281 1617 3432 \nQ 1894 3584 2278 3584 \nQ 2916 3584 3314 3078 \nQ 3713 2572 3713 1747 \nQ 3713 922 3314 415 \nQ 2916 -91 2278 -91 \nQ 1894 -91 1617 61 \nQ 1341 213 1159 525 \nL 1159 0 \nL 581 0 \nL 581 4863 \nL 1159 4863 \nL 1159 2969 \nz\n\" transform=\"scale(0.015625)\"/>\n      <path id=\"DejaVuSans-61\" d=\"M 2194 1759 \nQ 1497 1759 1228 1600 \nQ 959 1441 959 1056 \nQ 959 750 1161 570 \nQ 1363 391 1709 391 \nQ 2188 391 2477 730 \nQ 2766 1069 2766 1631 \nL 2766 1759 \nL 2194 1759 \nz\nM 3341 1997 \nL 3341 0 \nL 2766 0 \nL 2766 531 \nQ 2569 213 2275 61 \nQ 1981 -91 1556 -91 \nQ 1019 -91 701 211 \nQ 384 513 384 1019 \nQ 384 1609 779 1909 \nQ 1175 2209 1959 2209 \nL 2766 2209 \nL 2766 2266 \nQ 2766 2663 2505 2880 \nQ 2244 3097 1772 3097 \nQ 1472 3097 1187 3025 \nQ 903 2953 641 2809 \nL 641 3341 \nQ 956 3463 1253 3523 \nQ 1550 3584 1831 3584 \nQ 2591 3584 2966 3190 \nQ 3341 2797 3341 1997 \nz\n\" transform=\"scale(0.015625)\"/>\n      <path id=\"DejaVuSans-67\" d=\"M 2906 1791 \nQ 2906 2416 2648 2759 \nQ 2391 3103 1925 3103 \nQ 1463 3103 1205 2759 \nQ 947 2416 947 1791 \nQ 947 1169 1205 825 \nQ 1463 481 1925 481 \nQ 2391 481 2648 825 \nQ 2906 1169 2906 1791 \nz\nM 3481 434 \nQ 3481 -459 3084 -895 \nQ 2688 -1331 1869 -1331 \nQ 1566 -1331 1297 -1286 \nQ 1028 -1241 775 -1147 \nL 775 -588 \nQ 1028 -725 1275 -790 \nQ 1522 -856 1778 -856 \nQ 2344 -856 2625 -561 \nQ 2906 -266 2906 331 \nL 2906 616 \nQ 2728 306 2450 153 \nQ 2172 0 1784 0 \nQ 1141 0 747 490 \nQ 353 981 353 1791 \nQ 353 2603 747 3093 \nQ 1141 3584 1784 3584 \nQ 2172 3584 2450 3431 \nQ 2728 3278 2906 2969 \nL 2906 3500 \nL 3481 3500 \nL 3481 434 \nz\n\" transform=\"scale(0.015625)\"/>\n     </defs>\n     <use xlink:href=\"#DejaVuSans-62\"/>\n     <use xlink:href=\"#DejaVuSans-61\" x=\"63.476562\"/>\n     <use xlink:href=\"#DejaVuSans-67\" x=\"124.755859\"/>\n    </g>\n    <!-- bag -->\n    <g transform=\"translate(95.872797 29.7555)scale(0.12 -0.12)\">\n     <use xlink:href=\"#DejaVuSans-62\"/>\n     <use xlink:href=\"#DejaVuSans-61\" x=\"63.476562\"/>\n     <use xlink:href=\"#DejaVuSans-67\" x=\"124.755859\"/>\n    </g>\n   </g>\n  </g>\n  <g id=\"axes_3\">\n   <g id=\"patch_12\">\n    <path d=\"M 146.889831 92.501263 \nL 203.635593 92.501263 \nL 203.635593 35.7555 \nL 146.889831 35.7555 \nz\n\" style=\"fill: #ffffff\"/>\n   </g>\n   <g clip-path=\"url(#pf26349a9fe)\">\n    <image xlink:href=\"data:image/png;base64,\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\" id=\"imageb7c9ae0b62\" transform=\"scale(1 -1)translate(0 -57)\" x=\"146.889831\" y=\"-35.501263\" width=\"57\" height=\"57\"/>\n   </g>\n   <g id=\"patch_13\">\n    <path d=\"M 146.889831 92.501263 \nL 146.889831 35.7555 \n\" style=\"fill: none; stroke: #000000; stroke-width: 0.8; stroke-linejoin: miter; stroke-linecap: square\"/>\n   </g>\n   <g id=\"patch_14\">\n    <path d=\"M 203.635593 92.501263 \nL 203.635593 35.7555 \n\" style=\"fill: none; stroke: #000000; stroke-width: 0.8; stroke-linejoin: miter; stroke-linecap: square\"/>\n   </g>\n   <g id=\"patch_15\">\n    <path d=\"M 146.889831 92.501263 \nL 203.635593 92.501263 \n\" style=\"fill: none; stroke: #000000; stroke-width: 0.8; stroke-linejoin: miter; stroke-linecap: square\"/>\n   </g>\n   <g id=\"patch_16\">\n    <path d=\"M 146.889831 35.7555 \nL 203.635593 35.7555 \n\" style=\"fill: none; stroke: #000000; stroke-width: 0.8; stroke-linejoin: miter; stroke-linecap: square\"/>\n   </g>\n   <g id=\"text_3\">\n    <!-- ankle boot -->\n    <g transform=\"translate(143.539587 16.318125)scale(0.12 -0.12)\">\n     <defs>\n      <path id=\"DejaVuSans-6e\" d=\"M 3513 2113 \nL 3513 0 \nL 2938 0 \nL 2938 2094 \nQ 2938 2591 2744 2837 \nQ 2550 3084 2163 3084 \nQ 1697 3084 1428 2787 \nQ 1159 2491 1159 1978 \nL 1159 0 \nL 581 0 \nL 581 3500 \nL 1159 3500 \nL 1159 2956 \nQ 1366 3272 1645 3428 \nQ 1925 3584 2291 3584 \nQ 2894 3584 3203 3211 \nQ 3513 2838 3513 2113 \nz\n\" transform=\"scale(0.015625)\"/>\n      <path id=\"DejaVuSans-6b\" d=\"M 581 4863 \nL 1159 4863 \nL 1159 1991 \nL 2875 3500 \nL 3609 3500 \nL 1753 1863 \nL 3688 0 \nL 2938 0 \nL 1159 1709 \nL 1159 0 \nL 581 0 \nL 581 4863 \nz\n\" transform=\"scale(0.015625)\"/>\n      <path id=\"DejaVuSans-6c\" d=\"M 603 4863 \nL 1178 4863 \nL 1178 0 \nL 603 0 \nL 603 4863 \nz\n\" transform=\"scale(0.015625)\"/>\n      <path id=\"DejaVuSans-20\" transform=\"scale(0.015625)\"/>\n      <path id=\"DejaVuSans-6f\" d=\"M 1959 3097 \nQ 1497 3097 1228 2736 \nQ 959 2375 959 1747 \nQ 959 1119 1226 758 \nQ 1494 397 1959 397 \nQ 2419 397 2687 759 \nQ 2956 1122 2956 1747 \nQ 2956 2369 2687 2733 \nQ 2419 3097 1959 3097 \nz\nM 1959 3584 \nQ 2709 3584 3137 3096 \nQ 3566 2609 3566 1747 \nQ 3566 888 3137 398 \nQ 2709 -91 1959 -91 \nQ 1206 -91 779 398 \nQ 353 888 353 1747 \nQ 353 2609 779 3096 \nQ 1206 3584 1959 3584 \nz\n\" transform=\"scale(0.015625)\"/>\n      <path id=\"DejaVuSans-74\" d=\"M 1172 4494 \nL 1172 3500 \nL 2356 3500 \nL 2356 3053 \nL 1172 3053 \nL 1172 1153 \nQ 1172 725 1289 603 \nQ 1406 481 1766 481 \nL 2356 481 \nL 2356 0 \nL 1766 0 \nQ 1100 0 847 248 \nQ 594 497 594 1153 \nL 594 3053 \nL 172 3053 \nL 172 3500 \nL 594 3500 \nL 594 4494 \nL 1172 4494 \nz\n\" transform=\"scale(0.015625)\"/>\n     </defs>\n     <use xlink:href=\"#DejaVuSans-61\"/>\n     <use xlink:href=\"#DejaVuSans-6e\" x=\"61.279297\"/>\n     <use xlink:href=\"#DejaVuSans-6b\" x=\"124.658203\"/>\n     <use xlink:href=\"#DejaVuSans-6c\" x=\"182.568359\"/>\n     <use xlink:href=\"#DejaVuSans-65\" x=\"210.351562\"/>\n     <use xlink:href=\"#DejaVuSans-20\" x=\"271.875\"/>\n     <use xlink:href=\"#DejaVuSans-62\" x=\"303.662109\"/>\n     <use xlink:href=\"#DejaVuSans-6f\" x=\"367.138672\"/>\n     <use xlink:href=\"#DejaVuSans-6f\" x=\"428.320312\"/>\n     <use xlink:href=\"#DejaVuSans-74\" x=\"489.501953\"/>\n    </g>\n    <!-- ankle boot -->\n    <g transform=\"translate(143.539587 29.7555)scale(0.12 -0.12)\">\n     <use xlink:href=\"#DejaVuSans-61\"/>\n     <use xlink:href=\"#DejaVuSans-6e\" x=\"61.279297\"/>\n     <use xlink:href=\"#DejaVuSans-6b\" x=\"124.658203\"/>\n     <use xlink:href=\"#DejaVuSans-6c\" x=\"182.568359\"/>\n     <use xlink:href=\"#DejaVuSans-65\" x=\"210.351562\"/>\n     <use xlink:href=\"#DejaVuSans-20\" x=\"271.875\"/>\n     <use xlink:href=\"#DejaVuSans-62\" x=\"303.662109\"/>\n     <use xlink:href=\"#DejaVuSans-6f\" x=\"367.138672\"/>\n     <use xlink:href=\"#DejaVuSans-6f\" x=\"428.320312\"/>\n     <use xlink:href=\"#DejaVuSans-74\" x=\"489.501953\"/>\n    </g>\n   </g>\n  </g>\n  <g id=\"axes_4\">\n   <g id=\"patch_17\">\n    <path d=\"M 214.984746 92.501263 \nL 271.730508 92.501263 \nL 271.730508 35.7555 \nL 214.984746 35.7555 \nz\n\" style=\"fill: #ffffff\"/>\n   </g>\n   <g clip-path=\"url(#pa70157d9e4)\">\n    <image xlink:href=\"data:image/png;base64,\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\" id=\"image9579877c86\" transform=\"scale(1 -1)translate(0 -57)\" x=\"214.984746\" y=\"-35.501263\" width=\"57\" height=\"57\"/>\n   </g>\n   <g id=\"patch_18\">\n    <path d=\"M 214.984746 92.501263 \nL 214.984746 35.7555 \n\" style=\"fill: none; stroke: #000000; stroke-width: 0.8; stroke-linejoin: miter; stroke-linecap: square\"/>\n   </g>\n   <g id=\"patch_19\">\n    <path d=\"M 271.730508 92.501263 \nL 271.730508 35.7555 \n\" style=\"fill: none; stroke: #000000; stroke-width: 0.8; stroke-linejoin: miter; stroke-linecap: square\"/>\n   </g>\n   <g id=\"patch_20\">\n    <path d=\"M 214.984746 92.501263 \nL 271.730508 92.501263 \n\" style=\"fill: none; stroke: #000000; stroke-width: 0.8; stroke-linejoin: miter; stroke-linecap: square\"/>\n   </g>\n   <g id=\"patch_21\">\n    <path d=\"M 214.984746 35.7555 \nL 271.730508 35.7555 \n\" style=\"fill: none; stroke: #000000; stroke-width: 0.8; stroke-linejoin: miter; stroke-linecap: square\"/>\n   </g>\n   <g id=\"text_4\">\n    <!-- pullover -->\n    <g transform=\"translate(219.031377 16.318125)scale(0.12 -0.12)\">\n     <defs>\n      <path id=\"DejaVuSans-70\" d=\"M 1159 525 \nL 1159 -1331 \nL 581 -1331 \nL 581 3500 \nL 1159 3500 \nL 1159 2969 \nQ 1341 3281 1617 3432 \nQ 1894 3584 2278 3584 \nQ 2916 3584 3314 3078 \nQ 3713 2572 3713 1747 \nQ 3713 922 3314 415 \nQ 2916 -91 2278 -91 \nQ 1894 -91 1617 61 \nQ 1341 213 1159 525 \nz\nM 3116 1747 \nQ 3116 2381 2855 2742 \nQ 2594 3103 2138 3103 \nQ 1681 3103 1420 2742 \nQ 1159 2381 1159 1747 \nQ 1159 1113 1420 752 \nQ 1681 391 2138 391 \nQ 2594 391 2855 752 \nQ 3116 1113 3116 1747 \nz\n\" transform=\"scale(0.015625)\"/>\n      <path id=\"DejaVuSans-75\" d=\"M 544 1381 \nL 544 3500 \nL 1119 3500 \nL 1119 1403 \nQ 1119 906 1312 657 \nQ 1506 409 1894 409 \nQ 2359 409 2629 706 \nQ 2900 1003 2900 1516 \nL 2900 3500 \nL 3475 3500 \nL 3475 0 \nL 2900 0 \nL 2900 538 \nQ 2691 219 2414 64 \nQ 2138 -91 1772 -91 \nQ 1169 -91 856 284 \nQ 544 659 544 1381 \nz\nM 1991 3584 \nL 1991 3584 \nz\n\" transform=\"scale(0.015625)\"/>\n      <path id=\"DejaVuSans-76\" d=\"M 191 3500 \nL 800 3500 \nL 1894 563 \nL 2988 3500 \nL 3597 3500 \nL 2284 0 \nL 1503 0 \nL 191 3500 \nz\n\" transform=\"scale(0.015625)\"/>\n     </defs>\n     <use xlink:href=\"#DejaVuSans-70\"/>\n     <use xlink:href=\"#DejaVuSans-75\" x=\"63.476562\"/>\n     <use xlink:href=\"#DejaVuSans-6c\" x=\"126.855469\"/>\n     <use xlink:href=\"#DejaVuSans-6c\" x=\"154.638672\"/>\n     <use xlink:href=\"#DejaVuSans-6f\" x=\"182.421875\"/>\n     <use xlink:href=\"#DejaVuSans-76\" x=\"243.603516\"/>\n     <use xlink:href=\"#DejaVuSans-65\" x=\"302.783203\"/>\n     <use xlink:href=\"#DejaVuSans-72\" x=\"364.306641\"/>\n    </g>\n    <!-- pullover -->\n    <g transform=\"translate(219.031377 29.7555)scale(0.12 -0.12)\">\n     <use xlink:href=\"#DejaVuSans-70\"/>\n     <use xlink:href=\"#DejaVuSans-75\" x=\"63.476562\"/>\n     <use xlink:href=\"#DejaVuSans-6c\" x=\"126.855469\"/>\n     <use xlink:href=\"#DejaVuSans-6c\" x=\"154.638672\"/>\n     <use xlink:href=\"#DejaVuSans-6f\" x=\"182.421875\"/>\n     <use xlink:href=\"#DejaVuSans-76\" x=\"243.603516\"/>\n     <use xlink:href=\"#DejaVuSans-65\" x=\"302.783203\"/>\n     <use xlink:href=\"#DejaVuSans-72\" x=\"364.306641\"/>\n    </g>\n   </g>\n  </g>\n  <g id=\"axes_5\">\n   <g id=\"patch_22\">\n    <path d=\"M 283.079661 92.501263 \nL 339.825424 92.501263 \nL 339.825424 35.7555 \nL 283.079661 35.7555 \nz\n\" style=\"fill: #ffffff\"/>\n   </g>\n   <g clip-path=\"url(#p84cb81b7ce)\">\n    <image xlink:href=\"data:image/png;base64,\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\" id=\"image42838f69d5\" transform=\"scale(1 -1)translate(0 -57)\" x=\"283.079661\" y=\"-35.501263\" width=\"57\" height=\"57\"/>\n   </g>\n   <g id=\"patch_23\">\n    <path d=\"M 283.079661 92.501263 \nL 283.079661 35.7555 \n\" style=\"fill: none; stroke: #000000; stroke-width: 0.8; stroke-linejoin: miter; stroke-linecap: square\"/>\n   </g>\n   <g id=\"patch_24\">\n    <path d=\"M 339.825424 92.501263 \nL 339.825424 35.7555 \n\" style=\"fill: none; stroke: #000000; stroke-width: 0.8; stroke-linejoin: miter; stroke-linecap: square\"/>\n   </g>\n   <g id=\"patch_25\">\n    <path d=\"M 283.079661 92.501263 \nL 339.825424 92.501263 \n\" style=\"fill: none; stroke: #000000; stroke-width: 0.8; stroke-linejoin: miter; stroke-linecap: square\"/>\n   </g>\n   <g id=\"patch_26\">\n    <path d=\"M 283.079661 35.7555 \nL 339.825424 35.7555 \n\" style=\"fill: none; stroke: #000000; stroke-width: 0.8; stroke-linejoin: miter; stroke-linecap: square\"/>\n   </g>\n   <g id=\"text_5\">\n    <!-- coat -->\n    <g transform=\"translate(298.453167 16.318125)scale(0.12 -0.12)\">\n     <defs>\n      <path id=\"DejaVuSans-63\" d=\"M 3122 3366 \nL 3122 2828 \nQ 2878 2963 2633 3030 \nQ 2388 3097 2138 3097 \nQ 1578 3097 1268 2742 \nQ 959 2388 959 1747 \nQ 959 1106 1268 751 \nQ 1578 397 2138 397 \nQ 2388 397 2633 464 \nQ 2878 531 3122 666 \nL 3122 134 \nQ 2881 22 2623 -34 \nQ 2366 -91 2075 -91 \nQ 1284 -91 818 406 \nQ 353 903 353 1747 \nQ 353 2603 823 3093 \nQ 1294 3584 2113 3584 \nQ 2378 3584 2631 3529 \nQ 2884 3475 3122 3366 \nz\n\" transform=\"scale(0.015625)\"/>\n     </defs>\n     <use xlink:href=\"#DejaVuSans-63\"/>\n     <use xlink:href=\"#DejaVuSans-6f\" x=\"54.980469\"/>\n     <use xlink:href=\"#DejaVuSans-61\" x=\"116.162109\"/>\n     <use xlink:href=\"#DejaVuSans-74\" x=\"177.441406\"/>\n    </g>\n    <!-- coat -->\n    <g transform=\"translate(298.453167 29.7555)scale(0.12 -0.12)\">\n     <use xlink:href=\"#DejaVuSans-63\"/>\n     <use xlink:href=\"#DejaVuSans-6f\" x=\"54.980469\"/>\n     <use xlink:href=\"#DejaVuSans-61\" x=\"116.162109\"/>\n     <use xlink:href=\"#DejaVuSans-74\" x=\"177.441406\"/>\n    </g>\n   </g>\n  </g>\n  <g id=\"axes_6\">\n   <g id=\"patch_27\">\n    <path d=\"M 351.174576 92.501263 \nL 407.920339 92.501263 \nL 407.920339 35.7555 \nL 351.174576 35.7555 \nz\n\" style=\"fill: #ffffff\"/>\n   </g>\n   <g clip-path=\"url(#pa30f511c16)\">\n    <image xlink:href=\"data:image/png;base64,\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\" id=\"image099080fc79\" transform=\"scale(1 -1)translate(0 -57)\" x=\"351.174576\" y=\"-35.501263\" width=\"57\" height=\"57\"/>\n   </g>\n   <g id=\"patch_28\">\n    <path d=\"M 351.174576 92.501263 \nL 351.174576 35.7555 \n\" style=\"fill: none; stroke: #000000; stroke-width: 0.8; stroke-linejoin: miter; stroke-linecap: square\"/>\n   </g>\n   <g id=\"patch_29\">\n    <path d=\"M 407.920339 92.501263 \nL 407.920339 35.7555 \n\" style=\"fill: none; stroke: #000000; stroke-width: 0.8; stroke-linejoin: miter; stroke-linecap: square\"/>\n   </g>\n   <g id=\"patch_30\">\n    <path d=\"M 351.174576 92.501263 \nL 407.920339 92.501263 \n\" style=\"fill: none; stroke: #000000; stroke-width: 0.8; stroke-linejoin: miter; stroke-linecap: square\"/>\n   </g>\n   <g id=\"patch_31\">\n    <path d=\"M 351.174576 35.7555 \nL 407.920339 35.7555 \n\" style=\"fill: none; stroke: #000000; stroke-width: 0.8; stroke-linejoin: miter; stroke-linecap: square\"/>\n   </g>\n   <g id=\"text_6\">\n    <!-- pullover -->\n    <g transform=\"translate(355.221208 16.318125)scale(0.12 -0.12)\">\n     <use xlink:href=\"#DejaVuSans-70\"/>\n     <use xlink:href=\"#DejaVuSans-75\" x=\"63.476562\"/>\n     <use xlink:href=\"#DejaVuSans-6c\" x=\"126.855469\"/>\n     <use xlink:href=\"#DejaVuSans-6c\" x=\"154.638672\"/>\n     <use xlink:href=\"#DejaVuSans-6f\" x=\"182.421875\"/>\n     <use xlink:href=\"#DejaVuSans-76\" x=\"243.603516\"/>\n     <use xlink:href=\"#DejaVuSans-65\" x=\"302.783203\"/>\n     <use xlink:href=\"#DejaVuSans-72\" x=\"364.306641\"/>\n    </g>\n    <!-- coat -->\n    <g transform=\"translate(366.548083 29.7555)scale(0.12 -0.12)\">\n     <use xlink:href=\"#DejaVuSans-63\"/>\n     <use xlink:href=\"#DejaVuSans-6f\" x=\"54.980469\"/>\n     <use xlink:href=\"#DejaVuSans-61\" x=\"116.162109\"/>\n     <use xlink:href=\"#DejaVuSans-74\" x=\"177.441406\"/>\n    </g>\n   </g>\n  </g>\n  <g id=\"axes_7\">\n   <g id=\"patch_32\">\n    <path d=\"M 419.269492 92.501263 \nL 476.015254 92.501263 \nL 476.015254 35.7555 \nL 419.269492 35.7555 \nz\n\" style=\"fill: #ffffff\"/>\n   </g>\n   <g clip-path=\"url(#p174e68955d)\">\n    <image xlink:href=\"data:image/png;base64,\niVBORw0KGgoAAAANSUhEUgAAADkAAAA5CAYAAACMGIOFAAAQYElEQVR4nLWb248l11XGf2vvup1rX+bec8049jh2wJESJwSFhwhChBQJkFAE4hHxwiMSj0hIkeCNF/4AEBJCvCCQLG4xCBGUBCcxsePYHggZz4w94+me6enu031Onarae/Gwq86p07cZ2+Mllbr71Kld+1vXb62qll+S31AeIXZlhbf/6Bpnntng/ZsniLYtasK5ZEuIcvARqAFTgqmg7IPrKFVH8Zmnczeis65IFc4DIOGHSvhdBdSCTwQ8GKezcy4ViiEUK57h1S227g659BJ07k3gh9fRsgBjw4LeLew/ehTARjT29JMC0y+pRKEGWRhLNRXU1iArEAdVN4Aj89jUMZ0aUIM4MK4Fbh9YNaAxoCAunFADPlaqnuKHFau9MTv9DvlKRjRJiI1wnDweyCiid3aP31z7Hicu7dKVKZkpsXhyjSk1wuCx4nFq8BhiqYjFkeAw4hn5jD2fAuAbDe0TgwfASvjpanex4sl9wshnLNsx1+J1vn3+Kn/a+UW23h7y1Ktd3HR6wILHgxQBDV4sUYSkCYNOzpVkg6vRNsvGkEqEFQFcvUFTA/BHaCqvj7k41XqN+d+NWBEMBo/HqTLWkg0n9IznnO0w0ts8ffI+r6324ANbsnVTiSLMJy4xvbDM5eE7rNkRGz7ltovnm6lBxeKwKHuaUKqtzymF2gXLlmopNdzWIVgUg6fELnhEJiUDk5NrzMhntRIMQ5Oz53fZcktc6m3yevf8PBYfH2TtSupADL7foRhGLMUTesazUS3e1IrHomRSztwy98mCyzVgYqkoNaJUi8PgVEgkuHOpEbmPseKJxZFJOVPaluvViqyw6pnWiuvbKSY+ynOOASnWghG08Ig1jM/3GF2IuJg9ZMlYEtxsw7GZx8CyycnqGNyTcq4EE5Tg6uzitDwQk6aO7UxKMlPQk4KumTKQkrFGix6Bw0hQ6kq8Rxy7D+GuRhARFMAYqo5QdaFrCmIspraQRWeuChDjiVFiccQ4vBqorRK2Z2afofPk0kiCm4HIpCTBk4mnxBNLqDl5k4hQjHgyqTDmQ1gSryh1AhBBjaAGSrVMtaLUDIdQqJ1ZB2CqJVa0jrkQXw6h1IhYqlnWnd9m0ZrNWiWWPU0ASNXh6zrT3DOWJt49Rnw7hXwAkOpDXNaZTm0o9EY8rgYfYlGhRSMcgms2VMdhqRFIBa1Ec5Q4NTg1GAwlEU5KPLJwTaOY5rNMysey5IGCpc6hVYgpSRJ2Lhsmn5yyFm8BkGtMrvHsRvvjax57Zn7s2+xRst+FF87VLgpQqqEnJT/XucHacAcxh9fdRg6xZMs8RiiXlMHKmIGZ4OvN+3rzVg5nhJ7gmiGrmgWLHwXMisfX2RrAtZRnUcr6ZzgnZOI4Yz3L6YSRyT4gyJZIHGOu7vL1q//NCbvLVq3oWEKSKLTZaKug1+AKteQ+xoshlnkWtuJnzKYNou0B1IAbD2jONQlo7FMS4xmYiI4tGZnuAoHB2BB29d/H29laTi/t8rnuDTKpyHVedJ2aWVEP4GThnK/PO0xdF+sN70tAh0nj4l4XXbyxcpP0DIZIPFgTSl9bZH6P47mrMVzob/FC8oB7LmbsA9NpF3Vbl4RG5snBzAAicx7q8ZQaSpFFA23D155hsTU7aq8XEpKnsUmJZeQzblQjRlVKdXaZqHJUd96f81ede8sjQArLyYSTtsOGL4P7EeImV6lZi5klhNnGajbjVWqAbXduSkDNS+u4DZYLrmofQeAdlkItmy6j8oayH2N7HcRIwKZ+33VH4et20Sxls+hyq5qw5TOKlrsGDQcX9JhADqRNsHUhFj2mtn40U0JR19OmkynULtRPI3pAgUFBSmZKVm3O6WyX/ERMtdqD/S5by5FdiCQxGkeMq4QHPiX3MSXHE2HbqqMB6DzJhBi2mKa+SqOs+fXtjB0Ylc7WbOLY1Lk7wZGJ0rNTqo7gs6Psf4y7alkhzlE4S67xIojjijoSEo0KhUYz6uf2bcG1LNb0oa5l4cZrGk9ppPk9JJ4g4lksU+0m40iQquFwfmaBx5Vms6VGeBV8y/oOM2dUDUDmAL0KXswBynfgHsgBpbVFasLehObR7pqmaCfBSl4XYzMrAc2GfU26XV3nHFK3XnPrBY7Z1KvARdulwRNcuGzisU6iDatq6mVQSOhGco1DEwCcjHcZXRbQlNXvReh0irrHmfGIgSRGY0tkmg3LYl3UANiJYX9xb5JFm8G05aDrUtfVYHWjWitQ9l0n8wSGxSn0bU5+yhGPLBLX+9NFinUoSDECgx7lMGUYFaEu+u5idm3XQag7D9MiAnZ2Lqaqwc9vflgXEuIsWNrtP1+TCNdkdTXkajgbbXPh2jrvchri5DA4Rzi2GLSbUnUtmS2JxYVFfYyvQRQ1GWh+Nq1VA77NdBrm4+va2u4mmqNZd86U5lZsZ+25UiOmalm2e/zyubfI1vaQ6PDccShIsYZytcvkhGU5ntCTKhDoFgCLn9XBouXGpm5y2w11u9Y1feBhEtejkOZ8Y/l2PW27+l49Tfhy/02unNiE6PDoO4JaGIqliGIoDKMw1gBarjJPME0imSWHmq4dJs0GGwW0rdeAa65tr+GZu3+gkuHcnk/JpOLzqfLMcB3s4XAOh24tZc9QDmBgc+JDymLjOm33azbXTObaR+OqM7felzVna8gifW9n9EIjEqnI6hnSWFOs99x323gVissnSFRx791Fqzn/PTzxiFD2hLKv9G2OgQMZtB2HDWgIrpmIWwCaSEVBROmDYnI/H2nGZr6ZdoE/oNQm20poEDxmNqze9LsA7J1LkWIV8/46PAokRsKzjWjuWk3yQKNZWTAtrSf13LX5fuCuFZkUZKbEeI81oQNJTTkHWQ+6GhBGlESqhU5k3k+6BZqY+3rCJ44T8R7j04YoT+lFoV4eDxLwseDjUMg9c7rWtE2Bg84TRADcIuh1YspMGWaoRslVySjrmNZ649WsaQ5z16CopE3uay+JpZp97pCa2FtSgTPxNpPTSrRn6ceLsA4H6ZVkR0m2DQ+rHrlKTdPM7DFA46pTH+PU8L5dorSBjeQ+qRtbM5sOzC1XkTUkfMZZZdadWIKLO4Qtn5H7OAzR1JBrQql+Vp7KmuNu+8CailMV+W58IMseClKdI932TLcs98s+Yx+m2zNGIp5cI0ofse06VN7QtSuM6xgBZvXTa8oYyExZx6ebJQ6AnJjcpzNCH4vD1hP1jWo4+57ToFAIlK/JyrkmbPkUi2f57IidvWXkUSAlijDDARufsZRPTXi++x4DU3Il2WDPp2GsX0+823mwcbtcYwq1rJmH9Mx0VgqMeBI8sYSj2bhHKNWwoymbrh/aqMZV6yQz70vv18DimfUzKelJyaloh2sn13llq/sISzbEfHWJs1+8w+9e/hYvZrdYMsK1eBsPxITBVVHzw1WT0DUJ71a7bPpo5mLPJQ+5EPVbix9kI049tnbldbfHO1KG7KvxrBT1pGTJlPSMcNr2mOqUDbdDqVDOHhjBpeghX1l9k9tnlmEf81kAKVGMXDhHfq7PXqH8eHyeG9NTGJSxD0+r9qqUUg17VUrhLeMqoXSWK4MHnE13+FR2h7X4Ib9/61d5/c4aaVKRxhVak+3dSUqRt24rIEY5ubzLCyff49O9O3y1/yabLuOd8iT/uvUcL//4U9is4uzqDp24ZCUdE4mnFxV0bMHFbBOvhs2qx26eMljpYHdP4Da3wLt9IJOY8VMr7J6L2B2n/NeDK9zdGlIWEd4J6gW2EuxUsDmYUujcU+I95eXPXSC7NOK3nnY8ndzjjX+6xlN//g7+1DLlygDxCk45/d5Dqpvvzu8ZR0iSsPuV5/iXr67w4Lkev7d8g7EvuZ6f4+UfPM+zf/BjzOoKuy+ssbNiee+y4DKl6iu+4xie2aWTlCxnEyaThOmZhKw8hYx20ek+kFpVdO7sYfMO5XcG3O0PiPYgqeru20M8Vkyl2ALEedKHFTav8FGXyZ0l3ji7xm8vfR/XUbTfRSYFyaSYNeK6M1p4IqyFB694C9GgZCWZAPCD/DJ/9eaL9G9EaFGioxHd2yPShynJXoqLhSoTXBpRLK0wimA7gc4WZHc2MVsjnDtkMqDTKfrDN4lEOPvvx3fn+ydiK981nOhkvPb5q1y40qFc8hTnhqQ3Nqhu3j5mHUXLApcK509u8YnOfQD+8f6nWX2pw+DmGHUOt7UNW9uICN2ZGxy+R+/dAj87/FuqQdvtZ/DqF4/mJs2oxDu0KMlHKa9MhehEzvpnM8q11cW1RcKEu5m6G4vJMqbLhi+d/j9OxiO+O4Xr908zuDUlXh8dUOh8huMPP/bJ8XNXkRAzImhVoV5DQy1m9uBTi/k4HvVE6zF//eCLfO7SLXbOZdzbvMLqd5iBkihGrAnrVRUmSzHDAXtryh+eepX/zDP+YuMXyK8vYV95FVcU8/VFwqS8GT02Y462RdWH8UdrOvAInwwLqfNoPTtUr2GR5miJeqWzIfzbzafJXcTzS3epOs37K3NFqOpsPXP6JPnzFyhPVERYXp1c4eU3PsXgZpgY7h9lqNfZvdXX69QW1Pqzxxp/zFfUhZZl8WaHf3jijYKt6ZDtX9vh68uv8NLSzx9cr6XpyTOneffLMVefeg+Av3v3BT75l4747kNcEy7SUpS6A/dWlQPA2vJoS35Aye6NGd6suLczYOQzqq4SXb2CXV5q72r263TJ4i7mLCUTvpVHvH9/iXh9F9nZ3Y/k6Jsed44nDVIV//p1ut98ncmtAW9Pz1Gcctz/0jn08tqhl+yuWX7nZ7/NqWyXb9z4GulbHfxPblLdW19Y96PIkwPZZE3v8EVJsmX4j4fPQOTZPS9Uy4sPSs1gQHR+jWIZrqbr3N5b4eZrawxv+vCkW5XHeiHgMeSJgZQoxmTp7AHo8KfKd79/DUk88uI2owvp4vcvnmPnCxfJr0z5Qnabt26s8cyf/C8rf/v6DKBE8YGO4sPIk3VXP88I3fWKwY3wKP3ZU/co+4tWKU/12LpqiVLHtyZXsA8j/NY2fjKZf0nnWf2jyBMDGV6oqGaPsTvfvs6Fv/kpWhr++NLfMz67CHLz2Yy1X7nFcDDmG69+jeFPZD7er18j06o68qXADyJPzpJtrYvgJzl+ZwRVeHZZ9ZTo4gXsMDTCLhUu9R+yN0mJ/qdL733/kRPMUfIEQQZqJ1GMSVNQj5/kmLHh7fIk/lzOva9exD17GYCqC58Z3MK90+cTf/Y2/X/+0RPbyn756FF9hDRMJNkxfHP70yAwPiN01zoMzq/hUhj7BDMF92AzXPSEsul+efIgdf4CA6qceMPxD+mL+FMl5rPb3B0OGZ+8TH6m4rWdi0TjhtOGvlLLKrxq/QTliTMeAG3FVmejoH8TzCjCGI/reyanBKmEV+9cIH348cRhW564Jfdz0+h71zn7eor99We53+8j/ZLpz0zp/KjLmZcyspsbOEJ2pqwOPEB9EvLxxGTLkn48hvGYaKJQCiSQpiV2CtntbdjaaV336JcBP4x8bIkHYxFrZxTNloqdGFxi8N7QGSn+p7dCOwXHdjwfVT4+kI2ICW9hKODDP3+ohn+raD+v+Djl/wEQ91szaTOM1gAAAABJRU5ErkJggg==\" id=\"imagef4637ec4dc\" transform=\"scale(1 -1)translate(0 -57)\" x=\"419.269492\" y=\"-35.501263\" width=\"57\" height=\"57\"/>\n   </g>\n   <g id=\"patch_33\">\n    <path d=\"M 419.269492 92.501263 \nL 419.269492 35.7555 \n\" style=\"fill: none; stroke: #000000; stroke-width: 0.8; stroke-linejoin: miter; stroke-linecap: square\"/>\n   </g>\n   <g id=\"patch_34\">\n    <path d=\"M 476.015254 92.501263 \nL 476.015254 35.7555 \n\" style=\"fill: none; stroke: #000000; stroke-width: 0.8; stroke-linejoin: miter; stroke-linecap: square\"/>\n   </g>\n   <g id=\"patch_35\">\n    <path d=\"M 419.269492 92.501263 \nL 476.015254 92.501263 \n\" style=\"fill: none; stroke: #000000; stroke-width: 0.8; stroke-linejoin: miter; stroke-linecap: square\"/>\n   </g>\n   <g id=\"patch_36\">\n    <path d=\"M 419.269492 35.7555 \nL 476.015254 35.7555 \n\" style=\"fill: none; stroke: #000000; stroke-width: 0.8; stroke-linejoin: miter; stroke-linecap: square\"/>\n   </g>\n   <g id=\"text_7\">\n    <!-- bag -->\n    <g transform=\"translate(436.347373 16.318125)scale(0.12 -0.12)\">\n     <use xlink:href=\"#DejaVuSans-62\"/>\n     <use xlink:href=\"#DejaVuSans-61\" x=\"63.476562\"/>\n     <use xlink:href=\"#DejaVuSans-67\" x=\"124.755859\"/>\n    </g>\n    <!-- bag -->\n    <g transform=\"translate(436.347373 29.7555)scale(0.12 -0.12)\">\n     <use xlink:href=\"#DejaVuSans-62\"/>\n     <use xlink:href=\"#DejaVuSans-61\" x=\"63.476562\"/>\n     <use xlink:href=\"#DejaVuSans-67\" x=\"124.755859\"/>\n    </g>\n   </g>\n  </g>\n  <g id=\"axes_8\">\n   <g id=\"patch_37\">\n    <path d=\"M 487.364407 92.501263 \nL 544.110169 92.501263 \nL 544.110169 35.7555 \nL 487.364407 35.7555 \nz\n\" style=\"fill: #ffffff\"/>\n   </g>\n   <g clip-path=\"url(#p9fecf38ef8)\">\n    <image xlink:href=\"data:image/png;base64,\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\" id=\"image3124dd75ba\" transform=\"scale(1 -1)translate(0 -57)\" x=\"487.364407\" y=\"-35.501263\" width=\"57\" height=\"57\"/>\n   </g>\n   <g id=\"patch_38\">\n    <path d=\"M 487.364407 92.501263 \nL 487.364407 35.7555 \n\" style=\"fill: none; stroke: #000000; stroke-width: 0.8; stroke-linejoin: miter; stroke-linecap: square\"/>\n   </g>\n   <g id=\"patch_39\">\n    <path d=\"M 544.110169 92.501263 \nL 544.110169 35.7555 \n\" style=\"fill: none; stroke: #000000; stroke-width: 0.8; stroke-linejoin: miter; stroke-linecap: square\"/>\n   </g>\n   <g id=\"patch_40\">\n    <path d=\"M 487.364407 92.501263 \nL 544.110169 92.501263 \n\" style=\"fill: none; stroke: #000000; stroke-width: 0.8; stroke-linejoin: miter; stroke-linecap: square\"/>\n   </g>\n   <g id=\"patch_41\">\n    <path d=\"M 487.364407 35.7555 \nL 544.110169 35.7555 \n\" style=\"fill: none; stroke: #000000; stroke-width: 0.8; stroke-linejoin: miter; stroke-linecap: square\"/>\n   </g>\n   <g id=\"text_8\">\n    <!-- bag -->\n    <g transform=\"translate(504.442288 16.318125)scale(0.12 -0.12)\">\n     <use xlink:href=\"#DejaVuSans-62\"/>\n     <use xlink:href=\"#DejaVuSans-61\" x=\"63.476562\"/>\n     <use xlink:href=\"#DejaVuSans-67\" x=\"124.755859\"/>\n    </g>\n    <!-- bag -->\n    <g transform=\"translate(504.442288 29.7555)scale(0.12 -0.12)\">\n     <use xlink:href=\"#DejaVuSans-62\"/>\n     <use xlink:href=\"#DejaVuSans-61\" x=\"63.476562\"/>\n     <use xlink:href=\"#DejaVuSans-67\" x=\"124.755859\"/>\n    </g>\n   </g>\n  </g>\n  <g id=\"axes_9\">\n   <g id=\"patch_42\">\n    <path d=\"M 555.459322 92.501263 \nL 612.205085 92.501263 \nL 612.205085 35.7555 \nL 555.459322 35.7555 \nz\n\" style=\"fill: #ffffff\"/>\n   </g>\n   <g clip-path=\"url(#p5ed011577c)\">\n    <image xlink:href=\"data:image/png;base64,\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\" id=\"imaged8285c130c\" transform=\"scale(1 -1)translate(0 -57)\" x=\"555.459322\" y=\"-35.501263\" width=\"57\" height=\"57\"/>\n   </g>\n   <g id=\"patch_43\">\n    <path d=\"M 555.459322 92.501263 \nL 555.459322 35.7555 \n\" style=\"fill: none; stroke: #000000; stroke-width: 0.8; stroke-linejoin: miter; stroke-linecap: square\"/>\n   </g>\n   <g id=\"patch_44\">\n    <path d=\"M 612.205085 92.501263 \nL 612.205085 35.7555 \n\" style=\"fill: none; stroke: #000000; stroke-width: 0.8; stroke-linejoin: miter; stroke-linecap: square\"/>\n   </g>\n   <g id=\"patch_45\">\n    <path d=\"M 555.459322 92.501263 \nL 612.205085 92.501263 \n\" style=\"fill: none; stroke: #000000; stroke-width: 0.8; stroke-linejoin: miter; stroke-linecap: square\"/>\n   </g>\n   <g id=\"patch_46\">\n    <path d=\"M 555.459322 35.7555 \nL 612.205085 35.7555 \n\" style=\"fill: none; stroke: #000000; stroke-width: 0.8; stroke-linejoin: miter; stroke-linecap: square\"/>\n   </g>\n   <g id=\"text_9\">\n    <!-- pullover -->\n    <g transform=\"translate(559.505953 16.318125)scale(0.12 -0.12)\">\n     <use xlink:href=\"#DejaVuSans-70\"/>\n     <use xlink:href=\"#DejaVuSans-75\" x=\"63.476562\"/>\n     <use xlink:href=\"#DejaVuSans-6c\" x=\"126.855469\"/>\n     <use xlink:href=\"#DejaVuSans-6c\" x=\"154.638672\"/>\n     <use xlink:href=\"#DejaVuSans-6f\" x=\"182.421875\"/>\n     <use xlink:href=\"#DejaVuSans-76\" x=\"243.603516\"/>\n     <use xlink:href=\"#DejaVuSans-65\" x=\"302.783203\"/>\n     <use xlink:href=\"#DejaVuSans-72\" x=\"364.306641\"/>\n    </g>\n    <!-- pullover -->\n    <g transform=\"translate(559.505953 29.7555)scale(0.12 -0.12)\">\n     <use xlink:href=\"#DejaVuSans-70\"/>\n     <use xlink:href=\"#DejaVuSans-75\" x=\"63.476562\"/>\n     <use xlink:href=\"#DejaVuSans-6c\" x=\"126.855469\"/>\n     <use xlink:href=\"#DejaVuSans-6c\" x=\"154.638672\"/>\n     <use xlink:href=\"#DejaVuSans-6f\" x=\"182.421875\"/>\n     <use xlink:href=\"#DejaVuSans-76\" x=\"243.603516\"/>\n     <use xlink:href=\"#DejaVuSans-65\" x=\"302.783203\"/>\n     <use xlink:href=\"#DejaVuSans-72\" x=\"364.306641\"/>\n    </g>\n   </g>\n  </g>\n  <g id=\"axes_10\">\n   <g id=\"patch_47\">\n    <path d=\"M 623.554237 92.501263 \nL 680.3 92.501263 \nL 680.3 35.7555 \nL 623.554237 35.7555 \nz\n\" style=\"fill: #ffffff\"/>\n   </g>\n   <g clip-path=\"url(#p1e4e187d01)\">\n    <image xlink:href=\"data:image/png;base64,\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\" id=\"imagebd29abe9d6\" transform=\"scale(1 -1)translate(0 -57)\" x=\"623.554237\" y=\"-35.501263\" width=\"57\" height=\"57\"/>\n   </g>\n   <g id=\"patch_48\">\n    <path d=\"M 623.554237 92.501263 \nL 623.554237 35.7555 \n\" style=\"fill: none; stroke: #000000; stroke-width: 0.8; stroke-linejoin: miter; stroke-linecap: square\"/>\n   </g>\n   <g id=\"patch_49\">\n    <path d=\"M 680.3 92.501263 \nL 680.3 35.7555 \n\" style=\"fill: none; stroke: #000000; stroke-width: 0.8; stroke-linejoin: miter; stroke-linecap: square\"/>\n   </g>\n   <g id=\"patch_50\">\n    <path d=\"M 623.554237 92.501263 \nL 680.3 92.501263 \n\" style=\"fill: none; stroke: #000000; stroke-width: 0.8; stroke-linejoin: miter; stroke-linecap: square\"/>\n   </g>\n   <g id=\"patch_51\">\n    <path d=\"M 623.554237 35.7555 \nL 680.3 35.7555 \n\" style=\"fill: none; stroke: #000000; stroke-width: 0.8; stroke-linejoin: miter; stroke-linecap: square\"/>\n   </g>\n   <g id=\"text_10\">\n    <!-- t-shirt -->\n    <g transform=\"translate(633.996494 16.318125)scale(0.12 -0.12)\">\n     <defs>\n      <path id=\"DejaVuSans-2d\" d=\"M 313 2009 \nL 1997 2009 \nL 1997 1497 \nL 313 1497 \nL 313 2009 \nz\n\" transform=\"scale(0.015625)\"/>\n      <path id=\"DejaVuSans-68\" d=\"M 3513 2113 \nL 3513 0 \nL 2938 0 \nL 2938 2094 \nQ 2938 2591 2744 2837 \nQ 2550 3084 2163 3084 \nQ 1697 3084 1428 2787 \nQ 1159 2491 1159 1978 \nL 1159 0 \nL 581 0 \nL 581 4863 \nL 1159 4863 \nL 1159 2956 \nQ 1366 3272 1645 3428 \nQ 1925 3584 2291 3584 \nQ 2894 3584 3203 3211 \nQ 3513 2838 3513 2113 \nz\n\" transform=\"scale(0.015625)\"/>\n      <path id=\"DejaVuSans-69\" d=\"M 603 3500 \nL 1178 3500 \nL 1178 0 \nL 603 0 \nL 603 3500 \nz\nM 603 4863 \nL 1178 4863 \nL 1178 4134 \nL 603 4134 \nL 603 4863 \nz\n\" transform=\"scale(0.015625)\"/>\n     </defs>\n     <use xlink:href=\"#DejaVuSans-74\"/>\n     <use xlink:href=\"#DejaVuSans-2d\" x=\"39.208984\"/>\n     <use xlink:href=\"#DejaVuSans-73\" x=\"75.292969\"/>\n     <use xlink:href=\"#DejaVuSans-68\" x=\"127.392578\"/>\n     <use xlink:href=\"#DejaVuSans-69\" x=\"190.771484\"/>\n     <use xlink:href=\"#DejaVuSans-72\" x=\"218.554688\"/>\n     <use xlink:href=\"#DejaVuSans-74\" x=\"259.667969\"/>\n    </g>\n    <!-- trouser -->\n    <g transform=\"translate(630.485556 29.7555)scale(0.12 -0.12)\">\n     <use xlink:href=\"#DejaVuSans-74\"/>\n     <use xlink:href=\"#DejaVuSans-72\" x=\"39.208984\"/>\n     <use xlink:href=\"#DejaVuSans-6f\" x=\"78.072266\"/>\n     <use xlink:href=\"#DejaVuSans-75\" x=\"139.253906\"/>\n     <use xlink:href=\"#DejaVuSans-73\" x=\"202.632812\"/>\n     <use xlink:href=\"#DejaVuSans-65\" x=\"254.732422\"/>\n     <use xlink:href=\"#DejaVuSans-72\" x=\"316.255859\"/>\n    </g>\n   </g>\n  </g>\n </g>\n <defs>\n  <clipPath id=\"p6d516d4e23\">\n   <rect x=\"10.7\" y=\"35.7555\" width=\"56.745763\" height=\"56.745763\"/>\n  </clipPath>\n  <clipPath id=\"p8d473358a8\">\n   <rect x=\"78.794915\" y=\"35.7555\" width=\"56.745763\" height=\"56.745763\"/>\n  </clipPath>\n  <clipPath id=\"pf26349a9fe\">\n   <rect x=\"146.889831\" y=\"35.7555\" width=\"56.745763\" height=\"56.745763\"/>\n  </clipPath>\n  <clipPath id=\"pa70157d9e4\">\n   <rect x=\"214.984746\" y=\"35.7555\" width=\"56.745763\" height=\"56.745763\"/>\n  </clipPath>\n  <clipPath id=\"p84cb81b7ce\">\n   <rect x=\"283.079661\" y=\"35.7555\" width=\"56.745763\" height=\"56.745763\"/>\n  </clipPath>\n  <clipPath id=\"pa30f511c16\">\n   <rect x=\"351.174576\" y=\"35.7555\" width=\"56.745763\" height=\"56.745763\"/>\n  </clipPath>\n  <clipPath id=\"p174e68955d\">\n   <rect x=\"419.269492\" y=\"35.7555\" width=\"56.745763\" height=\"56.745763\"/>\n  </clipPath>\n  <clipPath id=\"p9fecf38ef8\">\n   <rect x=\"487.364407\" y=\"35.7555\" width=\"56.745763\" height=\"56.745763\"/>\n  </clipPath>\n  <clipPath id=\"p5ed011577c\">\n   <rect x=\"555.459322\" y=\"35.7555\" width=\"56.745763\" height=\"56.745763\"/>\n  </clipPath>\n  <clipPath id=\"p1e4e187d01\">\n   <rect x=\"623.554237\" y=\"35.7555\" width=\"56.745763\" height=\"56.745763\"/>\n  </clipPath>\n </defs>\n</svg>\n",
            "text/plain": [
              "<Figure size 864x864 with 10 Axes>"
            ]
          },
          "metadata": {
            "needs_background": "light"
          },
          "output_type": "display_data"
        }
      ],
      "source": [
        "b =0\n",
        "for X, y in test_iter:\n",
        "  b+=1\n",
        "  if b == 3:\n",
        "    break\n",
        "\n",
        "# the functions \"get_fashion_mnist_labels\" and \"show_fashion_mnist\" are defined above in this notebook\n",
        "true_labels = get_fashion_mnist_labels(y.detach().numpy())\n",
        "pred_labels = get_fashion_mnist_labels(net(X).argmax(dim=1).detach().numpy())\n",
        "titles = [truelabel + '\\n' + predlabel for truelabel, predlabel in zip(true_labels, pred_labels)]\n",
        "\n",
        "show_fashion_mnist(X[10:20], titles[10:20])"
      ]
    },
    {
      "cell_type": "markdown",
      "metadata": {
        "id": "38wFQlq5w2yw"
      },
      "source": [
        "# Concise Implementation of Softmax Regression\n",
        "\n",
        "Just as PyTorch made it much easier to implement linear regression, we'll find it similarly (or possibly more)\n",
        "convenient for implementing classification models. Again, we begin with our import ritual."
      ]
    },
    {
      "cell_type": "code",
      "execution_count": null,
      "metadata": {
        "id": "cXA_XBgcw2yx"
      },
      "outputs": [],
      "source": [
        "import sys\n",
        "sys.path.insert(0, '..')\n",
        "import torch\n",
        "import torchvision\n",
        "from torch.utils.data import DataLoader\n",
        "import torch.nn as nn\n",
        "import numpy as np\n"
      ]
    },
    {
      "cell_type": "markdown",
      "metadata": {
        "id": "vnM23r-Cw2y0"
      },
      "source": [
        "Let's stick with the Fashion-MNIST dataset and keep the batch size at $256$ as in the last section."
      ]
    },
    {
      "cell_type": "code",
      "execution_count": null,
      "metadata": {
        "id": "GSab6J62w2y1"
      },
      "outputs": [],
      "source": [
        "batch_size = 256\n",
        "\n",
        "# By default pytorch torchvision datasets are of type PIL.\n",
        "# Define a transform \"trans\" to change the PIL to Tensor format.\n",
        "trans = torchvision.transforms.ToTensor() \n",
        "mnist_train = torchvision.datasets.FashionMNIST(root=\"./\", train=True, transform=trans, target_transform=None, download=True)\n",
        "mnist_test = torchvision.datasets.FashionMNIST(root=\"./\", train=False, transform=trans, target_transform=None, download=True)"
      ]
    },
    {
      "cell_type": "code",
      "execution_count": null,
      "metadata": {
        "id": "uQuTYGmzEXpV"
      },
      "outputs": [],
      "source": [
        "if sys.platform.startswith('win'):\n",
        "    # set 0 for windows\n",
        "    # 0 means no additional processes are needed to speed up the reading of data\n",
        "    num_workers = 0\n",
        "else:\n",
        "    num_workers = 4\n",
        "\n",
        "train_iter = DataLoader(mnist_train, batch_size, shuffle=True, num_workers=num_workers)\n",
        "test_iter = DataLoader(mnist_test, batch_size, shuffle=False, num_workers=num_workers)"
      ]
    },
    {
      "cell_type": "markdown",
      "metadata": {
        "id": "TxqiAjbEw2y4"
      },
      "source": [
        "## Initialize Model Parameters\n",
        "\n",
        "As mentioned in `chapter_softmax`, the output layer of softmax regression is a fully connected (`Linear`) layer. Therefore, to implement our model, we just need to add one `Linear` layer with 10 outputs to our `Sequential`. Again, here, the `Sequential` isn't really necessary, but we might as well form the habit since it will be ubiquitous when implementing deep models. Again, we initialize the weights at random with zero mean and standard deviation 0.01."
      ]
    },
    {
      "cell_type": "code",
      "execution_count": null,
      "metadata": {
        "colab": {
          "base_uri": "https://localhost:8080/"
        },
        "id": "DAS0Yg8lw2y4",
        "outputId": "1370a14f-75aa-4b1b-fce0-ec844861b835"
      },
      "outputs": [
        {
          "data": {
            "text/plain": [
              "Sequential(\n",
              "  (0): Reshape()\n",
              "  (1): Linear(in_features=784, out_features=10, bias=True)\n",
              ")"
            ]
          },
          "execution_count": 28,
          "metadata": {},
          "output_type": "execute_result"
        }
      ],
      "source": [
        "class Reshape(torch.nn.Module):\n",
        "    def forward(self, x):\n",
        "        return x.view(-1,784)\n",
        "    \n",
        "net = nn.Sequential(Reshape(), nn.Linear(784, 10))\n",
        "\n",
        "def init_weights(m):\n",
        "    if type(m) == nn.Linear:\n",
        "        torch.nn.init.normal_(m.weight, std=0.01)\n",
        "\n",
        "net.apply(init_weights)"
      ]
    },
    {
      "cell_type": "markdown",
      "metadata": {
        "id": "QRCGXS2ew2y9"
      },
      "source": [
        "## The Softmax\n",
        "\n",
        "We'll want to keep the conventional softmax function handy\n",
        "in case we ever want to evaluate the probabilities output by our model.\n",
        "But instead of passing softmax probabilities into our new loss function,\n",
        "we'll just pass $\\hat{y}$ and compute the softmax and its log\n",
        "all at once inside the softmax_cross_entropy loss function:"
      ]
    },
    {
      "cell_type": "code",
      "execution_count": null,
      "metadata": {
        "id": "eBnzvdFrw2y9"
      },
      "outputs": [],
      "source": [
        "loss = nn.CrossEntropyLoss()"
      ]
    },
    {
      "cell_type": "markdown",
      "metadata": {
        "id": "j3iv3YPDw2zD"
      },
      "source": [
        "## Optimization Algorithm\n",
        "\n",
        "We use the mini-batch random gradient descent\n",
        "with a learning rate of $0.1$ as the optimization algorithm.\n",
        "Note that this is the same choice as for linear regression\n",
        "and it illustrates the general applicability of the optimizers."
      ]
    },
    {
      "cell_type": "markdown",
      "metadata": {
        "id": "M_ui1tWpw2zE"
      },
      "source": [
        "## Training\n",
        "\n",
        "Next, we use the training functions defined in the last section to train a model."
      ]
    },
    {
      "cell_type": "code",
      "execution_count": null,
      "metadata": {
        "colab": {
          "base_uri": "https://localhost:8080/"
        },
        "id": "9L-77QQGw2zE",
        "outputId": "bb9adbfd-0de4-4325-cc60-e8f00c669c2a"
      },
      "outputs": [
        {
          "name": "stdout",
          "output_type": "stream",
          "text": [
            "epoch 1, train loss 0.7843029499053955, test loss 0.6259291768074036\n",
            "epoch 2, train loss 0.5706149935722351, test loss 0.5680242776870728\n",
            "epoch 3, train loss 0.5242127180099487, test loss 0.5349026322364807\n",
            "epoch 4, train loss 0.5004078149795532, test loss 0.5213124752044678\n",
            "epoch 5, train loss 0.4871976375579834, test loss 0.5103784799575806\n",
            "epoch 6, train loss 0.47421517968177795, test loss 0.5392454862594604\n",
            "epoch 7, train loss 0.46508923172950745, test loss 0.5145877003669739\n",
            "epoch 8, train loss 0.45785272121429443, test loss 0.4847160875797272\n",
            "epoch 9, train loss 0.4523162543773651, test loss 0.48184794187545776\n",
            "epoch 10, train loss 0.44634315371513367, test loss 0.47853007912635803\n"
          ]
        }
      ],
      "source": [
        "num_epochs = 10\n",
        "lr = 0.1\n",
        "\n",
        "optimizer = torch.optim.SGD(net.parameters(), lr) \n",
        "\n",
        "for epoch in range(num_epochs): \n",
        "  train_loss_epoch = 0.0\n",
        "  net.train()\n",
        "  for X, y in train_iter:  \n",
        "    y_hat = net(X)\n",
        "    l = loss(y_hat, y)\n",
        "    train_loss_epoch += l\n",
        "    optimizer.zero_grad() \n",
        "    l.backward() \n",
        "    optimizer.step() \n",
        "  train_loss_epoch /= len(train_iter)\n",
        "  \n",
        "  net.eval()\n",
        "  with torch.no_grad():\n",
        "    test_loss_epoch = 0.0\n",
        "    for X_test, y_test in test_iter:\n",
        "      b_l = loss(net(X_test), y_test) \n",
        "      test_loss_epoch += b_l\n",
        "    test_loss_epoch /= len(test_iter)  \n",
        "  print('epoch {}, train loss {}, test loss {}'.format(epoch+1, train_loss_epoch, test_loss_epoch)) "
      ]
    },
    {
      "cell_type": "markdown",
      "metadata": {
        "id": "po4aUnePw2zH"
      },
      "source": [
        "Note that in many cases, PyTorch takes specific precautions\n",
        "in addition to the most well-known tricks for ensuring numerical stability.\n",
        "This saves us from many common pitfalls that might befall us\n",
        "if we were to code all of our models from scratch."
      ]
    },
    {
      "cell_type": "markdown",
      "metadata": {
        "id": "E9tu3jG2jc_H"
      },
      "source": [
        "## Prediction\n",
        "\n",
        "Now that training is complete, our model is ready to classify some images.\n",
        "Given a series of images, we will compare their actual labels\n",
        "(first line of text output) and the model predictions\n",
        "(second line of text output)."
      ]
    },
    {
      "cell_type": "code",
      "execution_count": null,
      "metadata": {
        "colab": {
          "base_uri": "https://localhost:8080/",
          "height": 213
        },
        "id": "oJ2vmnKxjc_U",
        "outputId": "1167e2e5-059c-4c7a-804f-45b6dba16adc",
        "scrolled": true
      },
      "outputs": [
        {
          "data": {
            "image/svg+xml": "<?xml version=\"1.0\" encoding=\"utf-8\" standalone=\"no\"?>\n<!DOCTYPE svg PUBLIC \"-//W3C//DTD SVG 1.1//EN\"\n  \"http://www.w3.org/Graphics/SVG/1.1/DTD/svg11.dtd\">\n<svg xmlns:xlink=\"http://www.w3.org/1999/xlink\" width=\"687.5pt\" height=\"103.201263pt\" viewBox=\"0 0 687.5 103.201263\" xmlns=\"http://www.w3.org/2000/svg\" version=\"1.1\">\n <metadata>\n  <rdf:RDF xmlns:dc=\"http://purl.org/dc/elements/1.1/\" xmlns:cc=\"http://creativecommons.org/ns#\" xmlns:rdf=\"http://www.w3.org/1999/02/22-rdf-syntax-ns#\">\n   <cc:Work>\n    <dc:type rdf:resource=\"http://purl.org/dc/dcmitype/StillImage\"/>\n    <dc:date>2022-05-26T19:09:30.403264</dc:date>\n    <dc:format>image/svg+xml</dc:format>\n    <dc:creator>\n     <cc:Agent>\n      <dc:title>Matplotlib v3.5.1, https://matplotlib.org/</dc:title>\n     </cc:Agent>\n    </dc:creator>\n   </cc:Work>\n  </rdf:RDF>\n </metadata>\n <defs>\n  <style type=\"text/css\">*{stroke-linejoin: round; stroke-linecap: butt}</style>\n </defs>\n <g id=\"figure_1\">\n  <g id=\"patch_1\">\n   <path d=\"M 0 103.201263 \nL 687.5 103.201263 \nL 687.5 -0 \nL 0 -0 \nL 0 103.201263 \nz\n\" style=\"fill: none\"/>\n  </g>\n  <g id=\"axes_1\">\n   <g id=\"patch_2\">\n    <path d=\"M 10.7 92.501263 \nL 67.445763 92.501263 \nL 67.445763 35.7555 \nL 10.7 35.7555 \nz\n\" style=\"fill: #ffffff\"/>\n   </g>\n   <g clip-path=\"url(#p7f0c24a92a)\">\n    <image xlink:href=\"data:image/png;base64,\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\" id=\"image2eff588b43\" transform=\"scale(1 -1)translate(0 -57)\" x=\"10.7\" y=\"-35.501263\" width=\"57\" height=\"57\"/>\n   </g>\n   <g id=\"patch_3\">\n    <path d=\"M 10.7 92.501263 \nL 10.7 35.7555 \n\" style=\"fill: none; stroke: #000000; stroke-width: 0.8; stroke-linejoin: miter; stroke-linecap: square\"/>\n   </g>\n   <g id=\"patch_4\">\n    <path d=\"M 67.445763 92.501263 \nL 67.445763 35.7555 \n\" style=\"fill: none; stroke: #000000; stroke-width: 0.8; stroke-linejoin: miter; stroke-linecap: square\"/>\n   </g>\n   <g id=\"patch_5\">\n    <path d=\"M 10.7 92.501263 \nL 67.445763 92.501263 \n\" style=\"fill: none; stroke: #000000; stroke-width: 0.8; stroke-linejoin: miter; stroke-linecap: square\"/>\n   </g>\n   <g id=\"patch_6\">\n    <path d=\"M 10.7 35.7555 \nL 67.445763 35.7555 \n\" style=\"fill: none; stroke: #000000; stroke-width: 0.8; stroke-linejoin: miter; stroke-linecap: square\"/>\n   </g>\n   <g id=\"text_1\">\n    <!-- dress -->\n    <g transform=\"translate(22.989131 16.318125)scale(0.12 -0.12)\">\n     <defs>\n      <path id=\"DejaVuSans-64\" d=\"M 2906 2969 \nL 2906 4863 \nL 3481 4863 \nL 3481 0 \nL 2906 0 \nL 2906 525 \nQ 2725 213 2448 61 \nQ 2172 -91 1784 -91 \nQ 1150 -91 751 415 \nQ 353 922 353 1747 \nQ 353 2572 751 3078 \nQ 1150 3584 1784 3584 \nQ 2172 3584 2448 3432 \nQ 2725 3281 2906 2969 \nz\nM 947 1747 \nQ 947 1113 1208 752 \nQ 1469 391 1925 391 \nQ 2381 391 2643 752 \nQ 2906 1113 2906 1747 \nQ 2906 2381 2643 2742 \nQ 2381 3103 1925 3103 \nQ 1469 3103 1208 2742 \nQ 947 2381 947 1747 \nz\n\" transform=\"scale(0.015625)\"/>\n      <path id=\"DejaVuSans-72\" d=\"M 2631 2963 \nQ 2534 3019 2420 3045 \nQ 2306 3072 2169 3072 \nQ 1681 3072 1420 2755 \nQ 1159 2438 1159 1844 \nL 1159 0 \nL 581 0 \nL 581 3500 \nL 1159 3500 \nL 1159 2956 \nQ 1341 3275 1631 3429 \nQ 1922 3584 2338 3584 \nQ 2397 3584 2469 3576 \nQ 2541 3569 2628 3553 \nL 2631 2963 \nz\n\" transform=\"scale(0.015625)\"/>\n      <path id=\"DejaVuSans-65\" d=\"M 3597 1894 \nL 3597 1613 \nL 953 1613 \nQ 991 1019 1311 708 \nQ 1631 397 2203 397 \nQ 2534 397 2845 478 \nQ 3156 559 3463 722 \nL 3463 178 \nQ 3153 47 2828 -22 \nQ 2503 -91 2169 -91 \nQ 1331 -91 842 396 \nQ 353 884 353 1716 \nQ 353 2575 817 3079 \nQ 1281 3584 2069 3584 \nQ 2775 3584 3186 3129 \nQ 3597 2675 3597 1894 \nz\nM 3022 2063 \nQ 3016 2534 2758 2815 \nQ 2500 3097 2075 3097 \nQ 1594 3097 1305 2825 \nQ 1016 2553 972 2059 \nL 3022 2063 \nz\n\" transform=\"scale(0.015625)\"/>\n      <path id=\"DejaVuSans-73\" d=\"M 2834 3397 \nL 2834 2853 \nQ 2591 2978 2328 3040 \nQ 2066 3103 1784 3103 \nQ 1356 3103 1142 2972 \nQ 928 2841 928 2578 \nQ 928 2378 1081 2264 \nQ 1234 2150 1697 2047 \nL 1894 2003 \nQ 2506 1872 2764 1633 \nQ 3022 1394 3022 966 \nQ 3022 478 2636 193 \nQ 2250 -91 1575 -91 \nQ 1294 -91 989 -36 \nQ 684 19 347 128 \nL 347 722 \nQ 666 556 975 473 \nQ 1284 391 1588 391 \nQ 1994 391 2212 530 \nQ 2431 669 2431 922 \nQ 2431 1156 2273 1281 \nQ 2116 1406 1581 1522 \nL 1381 1569 \nQ 847 1681 609 1914 \nQ 372 2147 372 2553 \nQ 372 3047 722 3315 \nQ 1072 3584 1716 3584 \nQ 2034 3584 2315 3537 \nQ 2597 3491 2834 3397 \nz\n\" transform=\"scale(0.015625)\"/>\n     </defs>\n     <use xlink:href=\"#DejaVuSans-64\"/>\n     <use xlink:href=\"#DejaVuSans-72\" x=\"63.476562\"/>\n     <use xlink:href=\"#DejaVuSans-65\" x=\"102.339844\"/>\n     <use xlink:href=\"#DejaVuSans-73\" x=\"163.863281\"/>\n     <use xlink:href=\"#DejaVuSans-73\" x=\"215.962891\"/>\n    </g>\n    <!-- dress -->\n    <g transform=\"translate(22.989131 29.7555)scale(0.12 -0.12)\">\n     <use xlink:href=\"#DejaVuSans-64\"/>\n     <use xlink:href=\"#DejaVuSans-72\" x=\"63.476562\"/>\n     <use xlink:href=\"#DejaVuSans-65\" x=\"102.339844\"/>\n     <use xlink:href=\"#DejaVuSans-73\" x=\"163.863281\"/>\n     <use xlink:href=\"#DejaVuSans-73\" x=\"215.962891\"/>\n    </g>\n   </g>\n  </g>\n  <g id=\"axes_2\">\n   <g id=\"patch_7\">\n    <path d=\"M 78.794915 92.501263 \nL 135.540678 92.501263 \nL 135.540678 35.7555 \nL 78.794915 35.7555 \nz\n\" style=\"fill: #ffffff\"/>\n   </g>\n   <g clip-path=\"url(#p638a711cf6)\">\n    <image xlink:href=\"data:image/png;base64,\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\" id=\"image2b9a5384ca\" transform=\"scale(1 -1)translate(0 -57)\" x=\"78.794915\" y=\"-35.501263\" width=\"57\" height=\"57\"/>\n   </g>\n   <g id=\"patch_8\">\n    <path d=\"M 78.794915 92.501263 \nL 78.794915 35.7555 \n\" style=\"fill: none; stroke: #000000; stroke-width: 0.8; stroke-linejoin: miter; stroke-linecap: square\"/>\n   </g>\n   <g id=\"patch_9\">\n    <path d=\"M 135.540678 92.501263 \nL 135.540678 35.7555 \n\" style=\"fill: none; stroke: #000000; stroke-width: 0.8; stroke-linejoin: miter; stroke-linecap: square\"/>\n   </g>\n   <g id=\"patch_10\">\n    <path d=\"M 78.794915 92.501263 \nL 135.540678 92.501263 \n\" style=\"fill: none; stroke: #000000; stroke-width: 0.8; stroke-linejoin: miter; stroke-linecap: square\"/>\n   </g>\n   <g id=\"patch_11\">\n    <path d=\"M 78.794915 35.7555 \nL 135.540678 35.7555 \n\" style=\"fill: none; stroke: #000000; stroke-width: 0.8; stroke-linejoin: miter; stroke-linecap: square\"/>\n   </g>\n   <g id=\"text_2\">\n    <!-- bag -->\n    <g transform=\"translate(95.872797 16.318125)scale(0.12 -0.12)\">\n     <defs>\n      <path id=\"DejaVuSans-62\" d=\"M 3116 1747 \nQ 3116 2381 2855 2742 \nQ 2594 3103 2138 3103 \nQ 1681 3103 1420 2742 \nQ 1159 2381 1159 1747 \nQ 1159 1113 1420 752 \nQ 1681 391 2138 391 \nQ 2594 391 2855 752 \nQ 3116 1113 3116 1747 \nz\nM 1159 2969 \nQ 1341 3281 1617 3432 \nQ 1894 3584 2278 3584 \nQ 2916 3584 3314 3078 \nQ 3713 2572 3713 1747 \nQ 3713 922 3314 415 \nQ 2916 -91 2278 -91 \nQ 1894 -91 1617 61 \nQ 1341 213 1159 525 \nL 1159 0 \nL 581 0 \nL 581 4863 \nL 1159 4863 \nL 1159 2969 \nz\n\" transform=\"scale(0.015625)\"/>\n      <path id=\"DejaVuSans-61\" d=\"M 2194 1759 \nQ 1497 1759 1228 1600 \nQ 959 1441 959 1056 \nQ 959 750 1161 570 \nQ 1363 391 1709 391 \nQ 2188 391 2477 730 \nQ 2766 1069 2766 1631 \nL 2766 1759 \nL 2194 1759 \nz\nM 3341 1997 \nL 3341 0 \nL 2766 0 \nL 2766 531 \nQ 2569 213 2275 61 \nQ 1981 -91 1556 -91 \nQ 1019 -91 701 211 \nQ 384 513 384 1019 \nQ 384 1609 779 1909 \nQ 1175 2209 1959 2209 \nL 2766 2209 \nL 2766 2266 \nQ 2766 2663 2505 2880 \nQ 2244 3097 1772 3097 \nQ 1472 3097 1187 3025 \nQ 903 2953 641 2809 \nL 641 3341 \nQ 956 3463 1253 3523 \nQ 1550 3584 1831 3584 \nQ 2591 3584 2966 3190 \nQ 3341 2797 3341 1997 \nz\n\" transform=\"scale(0.015625)\"/>\n      <path id=\"DejaVuSans-67\" d=\"M 2906 1791 \nQ 2906 2416 2648 2759 \nQ 2391 3103 1925 3103 \nQ 1463 3103 1205 2759 \nQ 947 2416 947 1791 \nQ 947 1169 1205 825 \nQ 1463 481 1925 481 \nQ 2391 481 2648 825 \nQ 2906 1169 2906 1791 \nz\nM 3481 434 \nQ 3481 -459 3084 -895 \nQ 2688 -1331 1869 -1331 \nQ 1566 -1331 1297 -1286 \nQ 1028 -1241 775 -1147 \nL 775 -588 \nQ 1028 -725 1275 -790 \nQ 1522 -856 1778 -856 \nQ 2344 -856 2625 -561 \nQ 2906 -266 2906 331 \nL 2906 616 \nQ 2728 306 2450 153 \nQ 2172 0 1784 0 \nQ 1141 0 747 490 \nQ 353 981 353 1791 \nQ 353 2603 747 3093 \nQ 1141 3584 1784 3584 \nQ 2172 3584 2450 3431 \nQ 2728 3278 2906 2969 \nL 2906 3500 \nL 3481 3500 \nL 3481 434 \nz\n\" transform=\"scale(0.015625)\"/>\n     </defs>\n     <use xlink:href=\"#DejaVuSans-62\"/>\n     <use xlink:href=\"#DejaVuSans-61\" x=\"63.476562\"/>\n     <use xlink:href=\"#DejaVuSans-67\" x=\"124.755859\"/>\n    </g>\n    <!-- bag -->\n    <g transform=\"translate(95.872797 29.7555)scale(0.12 -0.12)\">\n     <use xlink:href=\"#DejaVuSans-62\"/>\n     <use xlink:href=\"#DejaVuSans-61\" x=\"63.476562\"/>\n     <use xlink:href=\"#DejaVuSans-67\" x=\"124.755859\"/>\n    </g>\n   </g>\n  </g>\n  <g id=\"axes_3\">\n   <g id=\"patch_12\">\n    <path d=\"M 146.889831 92.501263 \nL 203.635593 92.501263 \nL 203.635593 35.7555 \nL 146.889831 35.7555 \nz\n\" style=\"fill: #ffffff\"/>\n   </g>\n   <g clip-path=\"url(#p061ad542d2)\">\n    <image xlink:href=\"data:image/png;base64,\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\" id=\"image8c75c1ddc4\" transform=\"scale(1 -1)translate(0 -57)\" x=\"146.889831\" y=\"-35.501263\" width=\"57\" height=\"57\"/>\n   </g>\n   <g id=\"patch_13\">\n    <path d=\"M 146.889831 92.501263 \nL 146.889831 35.7555 \n\" style=\"fill: none; stroke: #000000; stroke-width: 0.8; stroke-linejoin: miter; stroke-linecap: square\"/>\n   </g>\n   <g id=\"patch_14\">\n    <path d=\"M 203.635593 92.501263 \nL 203.635593 35.7555 \n\" style=\"fill: none; stroke: #000000; stroke-width: 0.8; stroke-linejoin: miter; stroke-linecap: square\"/>\n   </g>\n   <g id=\"patch_15\">\n    <path d=\"M 146.889831 92.501263 \nL 203.635593 92.501263 \n\" style=\"fill: none; stroke: #000000; stroke-width: 0.8; stroke-linejoin: miter; stroke-linecap: square\"/>\n   </g>\n   <g id=\"patch_16\">\n    <path d=\"M 146.889831 35.7555 \nL 203.635593 35.7555 \n\" style=\"fill: none; stroke: #000000; stroke-width: 0.8; stroke-linejoin: miter; stroke-linecap: square\"/>\n   </g>\n   <g id=\"text_3\">\n    <!-- ankle boot -->\n    <g transform=\"translate(143.539587 16.318125)scale(0.12 -0.12)\">\n     <defs>\n      <path id=\"DejaVuSans-6e\" d=\"M 3513 2113 \nL 3513 0 \nL 2938 0 \nL 2938 2094 \nQ 2938 2591 2744 2837 \nQ 2550 3084 2163 3084 \nQ 1697 3084 1428 2787 \nQ 1159 2491 1159 1978 \nL 1159 0 \nL 581 0 \nL 581 3500 \nL 1159 3500 \nL 1159 2956 \nQ 1366 3272 1645 3428 \nQ 1925 3584 2291 3584 \nQ 2894 3584 3203 3211 \nQ 3513 2838 3513 2113 \nz\n\" transform=\"scale(0.015625)\"/>\n      <path id=\"DejaVuSans-6b\" d=\"M 581 4863 \nL 1159 4863 \nL 1159 1991 \nL 2875 3500 \nL 3609 3500 \nL 1753 1863 \nL 3688 0 \nL 2938 0 \nL 1159 1709 \nL 1159 0 \nL 581 0 \nL 581 4863 \nz\n\" transform=\"scale(0.015625)\"/>\n      <path id=\"DejaVuSans-6c\" d=\"M 603 4863 \nL 1178 4863 \nL 1178 0 \nL 603 0 \nL 603 4863 \nz\n\" transform=\"scale(0.015625)\"/>\n      <path id=\"DejaVuSans-20\" transform=\"scale(0.015625)\"/>\n      <path id=\"DejaVuSans-6f\" d=\"M 1959 3097 \nQ 1497 3097 1228 2736 \nQ 959 2375 959 1747 \nQ 959 1119 1226 758 \nQ 1494 397 1959 397 \nQ 2419 397 2687 759 \nQ 2956 1122 2956 1747 \nQ 2956 2369 2687 2733 \nQ 2419 3097 1959 3097 \nz\nM 1959 3584 \nQ 2709 3584 3137 3096 \nQ 3566 2609 3566 1747 \nQ 3566 888 3137 398 \nQ 2709 -91 1959 -91 \nQ 1206 -91 779 398 \nQ 353 888 353 1747 \nQ 353 2609 779 3096 \nQ 1206 3584 1959 3584 \nz\n\" transform=\"scale(0.015625)\"/>\n      <path id=\"DejaVuSans-74\" d=\"M 1172 4494 \nL 1172 3500 \nL 2356 3500 \nL 2356 3053 \nL 1172 3053 \nL 1172 1153 \nQ 1172 725 1289 603 \nQ 1406 481 1766 481 \nL 2356 481 \nL 2356 0 \nL 1766 0 \nQ 1100 0 847 248 \nQ 594 497 594 1153 \nL 594 3053 \nL 172 3053 \nL 172 3500 \nL 594 3500 \nL 594 4494 \nL 1172 4494 \nz\n\" transform=\"scale(0.015625)\"/>\n     </defs>\n     <use xlink:href=\"#DejaVuSans-61\"/>\n     <use xlink:href=\"#DejaVuSans-6e\" x=\"61.279297\"/>\n     <use xlink:href=\"#DejaVuSans-6b\" x=\"124.658203\"/>\n     <use xlink:href=\"#DejaVuSans-6c\" x=\"182.568359\"/>\n     <use xlink:href=\"#DejaVuSans-65\" x=\"210.351562\"/>\n     <use xlink:href=\"#DejaVuSans-20\" x=\"271.875\"/>\n     <use xlink:href=\"#DejaVuSans-62\" x=\"303.662109\"/>\n     <use xlink:href=\"#DejaVuSans-6f\" x=\"367.138672\"/>\n     <use xlink:href=\"#DejaVuSans-6f\" x=\"428.320312\"/>\n     <use xlink:href=\"#DejaVuSans-74\" x=\"489.501953\"/>\n    </g>\n    <!-- ankle boot -->\n    <g transform=\"translate(143.539587 29.7555)scale(0.12 -0.12)\">\n     <use xlink:href=\"#DejaVuSans-61\"/>\n     <use xlink:href=\"#DejaVuSans-6e\" x=\"61.279297\"/>\n     <use xlink:href=\"#DejaVuSans-6b\" x=\"124.658203\"/>\n     <use xlink:href=\"#DejaVuSans-6c\" x=\"182.568359\"/>\n     <use xlink:href=\"#DejaVuSans-65\" x=\"210.351562\"/>\n     <use xlink:href=\"#DejaVuSans-20\" x=\"271.875\"/>\n     <use xlink:href=\"#DejaVuSans-62\" x=\"303.662109\"/>\n     <use xlink:href=\"#DejaVuSans-6f\" x=\"367.138672\"/>\n     <use xlink:href=\"#DejaVuSans-6f\" x=\"428.320312\"/>\n     <use xlink:href=\"#DejaVuSans-74\" x=\"489.501953\"/>\n    </g>\n   </g>\n  </g>\n  <g id=\"axes_4\">\n   <g id=\"patch_17\">\n    <path d=\"M 214.984746 92.501263 \nL 271.730508 92.501263 \nL 271.730508 35.7555 \nL 214.984746 35.7555 \nz\n\" style=\"fill: #ffffff\"/>\n   </g>\n   <g clip-path=\"url(#p3cce4fc130)\">\n    <image xlink:href=\"data:image/png;base64,\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\" id=\"imageaaccee6adb\" transform=\"scale(1 -1)translate(0 -57)\" x=\"214.984746\" y=\"-35.501263\" width=\"57\" height=\"57\"/>\n   </g>\n   <g id=\"patch_18\">\n    <path d=\"M 214.984746 92.501263 \nL 214.984746 35.7555 \n\" style=\"fill: none; stroke: #000000; stroke-width: 0.8; stroke-linejoin: miter; stroke-linecap: square\"/>\n   </g>\n   <g id=\"patch_19\">\n    <path d=\"M 271.730508 92.501263 \nL 271.730508 35.7555 \n\" style=\"fill: none; stroke: #000000; stroke-width: 0.8; stroke-linejoin: miter; stroke-linecap: square\"/>\n   </g>\n   <g id=\"patch_20\">\n    <path d=\"M 214.984746 92.501263 \nL 271.730508 92.501263 \n\" style=\"fill: none; stroke: #000000; stroke-width: 0.8; stroke-linejoin: miter; stroke-linecap: square\"/>\n   </g>\n   <g id=\"patch_21\">\n    <path d=\"M 214.984746 35.7555 \nL 271.730508 35.7555 \n\" style=\"fill: none; stroke: #000000; stroke-width: 0.8; stroke-linejoin: miter; stroke-linecap: square\"/>\n   </g>\n   <g id=\"text_4\">\n    <!-- shirt -->\n    <g transform=\"translate(229.943877 16.318125)scale(0.12 -0.12)\">\n     <defs>\n      <path id=\"DejaVuSans-68\" d=\"M 3513 2113 \nL 3513 0 \nL 2938 0 \nL 2938 2094 \nQ 2938 2591 2744 2837 \nQ 2550 3084 2163 3084 \nQ 1697 3084 1428 2787 \nQ 1159 2491 1159 1978 \nL 1159 0 \nL 581 0 \nL 581 4863 \nL 1159 4863 \nL 1159 2956 \nQ 1366 3272 1645 3428 \nQ 1925 3584 2291 3584 \nQ 2894 3584 3203 3211 \nQ 3513 2838 3513 2113 \nz\n\" transform=\"scale(0.015625)\"/>\n      <path id=\"DejaVuSans-69\" d=\"M 603 3500 \nL 1178 3500 \nL 1178 0 \nL 603 0 \nL 603 3500 \nz\nM 603 4863 \nL 1178 4863 \nL 1178 4134 \nL 603 4134 \nL 603 4863 \nz\n\" transform=\"scale(0.015625)\"/>\n     </defs>\n     <use xlink:href=\"#DejaVuSans-73\"/>\n     <use xlink:href=\"#DejaVuSans-68\" x=\"52.099609\"/>\n     <use xlink:href=\"#DejaVuSans-69\" x=\"115.478516\"/>\n     <use xlink:href=\"#DejaVuSans-72\" x=\"143.261719\"/>\n     <use xlink:href=\"#DejaVuSans-74\" x=\"184.375\"/>\n    </g>\n    <!-- shirt -->\n    <g transform=\"translate(229.943877 29.7555)scale(0.12 -0.12)\">\n     <use xlink:href=\"#DejaVuSans-73\"/>\n     <use xlink:href=\"#DejaVuSans-68\" x=\"52.099609\"/>\n     <use xlink:href=\"#DejaVuSans-69\" x=\"115.478516\"/>\n     <use xlink:href=\"#DejaVuSans-72\" x=\"143.261719\"/>\n     <use xlink:href=\"#DejaVuSans-74\" x=\"184.375\"/>\n    </g>\n   </g>\n  </g>\n  <g id=\"axes_5\">\n   <g id=\"patch_22\">\n    <path d=\"M 283.079661 92.501263 \nL 339.825424 92.501263 \nL 339.825424 35.7555 \nL 283.079661 35.7555 \nz\n\" style=\"fill: #ffffff\"/>\n   </g>\n   <g clip-path=\"url(#p17f693364c)\">\n    <image xlink:href=\"data:image/png;base64,\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\" id=\"image4ae4e9de10\" transform=\"scale(1 -1)translate(0 -57)\" x=\"283.079661\" y=\"-35.501263\" width=\"57\" height=\"57\"/>\n   </g>\n   <g id=\"patch_23\">\n    <path d=\"M 283.079661 92.501263 \nL 283.079661 35.7555 \n\" style=\"fill: none; stroke: #000000; stroke-width: 0.8; stroke-linejoin: miter; stroke-linecap: square\"/>\n   </g>\n   <g id=\"patch_24\">\n    <path d=\"M 339.825424 92.501263 \nL 339.825424 35.7555 \n\" style=\"fill: none; stroke: #000000; stroke-width: 0.8; stroke-linejoin: miter; stroke-linecap: square\"/>\n   </g>\n   <g id=\"patch_25\">\n    <path d=\"M 283.079661 92.501263 \nL 339.825424 92.501263 \n\" style=\"fill: none; stroke: #000000; stroke-width: 0.8; stroke-linejoin: miter; stroke-linecap: square\"/>\n   </g>\n   <g id=\"patch_26\">\n    <path d=\"M 283.079661 35.7555 \nL 339.825424 35.7555 \n\" style=\"fill: none; stroke: #000000; stroke-width: 0.8; stroke-linejoin: miter; stroke-linecap: square\"/>\n   </g>\n   <g id=\"text_5\">\n    <!-- trouser -->\n    <g transform=\"translate(290.01098 16.318125)scale(0.12 -0.12)\">\n     <defs>\n      <path id=\"DejaVuSans-75\" d=\"M 544 1381 \nL 544 3500 \nL 1119 3500 \nL 1119 1403 \nQ 1119 906 1312 657 \nQ 1506 409 1894 409 \nQ 2359 409 2629 706 \nQ 2900 1003 2900 1516 \nL 2900 3500 \nL 3475 3500 \nL 3475 0 \nL 2900 0 \nL 2900 538 \nQ 2691 219 2414 64 \nQ 2138 -91 1772 -91 \nQ 1169 -91 856 284 \nQ 544 659 544 1381 \nz\nM 1991 3584 \nL 1991 3584 \nz\n\" transform=\"scale(0.015625)\"/>\n     </defs>\n     <use xlink:href=\"#DejaVuSans-74\"/>\n     <use xlink:href=\"#DejaVuSans-72\" x=\"39.208984\"/>\n     <use xlink:href=\"#DejaVuSans-6f\" x=\"78.072266\"/>\n     <use xlink:href=\"#DejaVuSans-75\" x=\"139.253906\"/>\n     <use xlink:href=\"#DejaVuSans-73\" x=\"202.632812\"/>\n     <use xlink:href=\"#DejaVuSans-65\" x=\"254.732422\"/>\n     <use xlink:href=\"#DejaVuSans-72\" x=\"316.255859\"/>\n    </g>\n    <!-- trouser -->\n    <g transform=\"translate(290.01098 29.7555)scale(0.12 -0.12)\">\n     <use xlink:href=\"#DejaVuSans-74\"/>\n     <use xlink:href=\"#DejaVuSans-72\" x=\"39.208984\"/>\n     <use xlink:href=\"#DejaVuSans-6f\" x=\"78.072266\"/>\n     <use xlink:href=\"#DejaVuSans-75\" x=\"139.253906\"/>\n     <use xlink:href=\"#DejaVuSans-73\" x=\"202.632812\"/>\n     <use xlink:href=\"#DejaVuSans-65\" x=\"254.732422\"/>\n     <use xlink:href=\"#DejaVuSans-72\" x=\"316.255859\"/>\n    </g>\n   </g>\n  </g>\n  <g id=\"axes_6\">\n   <g id=\"patch_27\">\n    <path d=\"M 351.174576 92.501263 \nL 407.920339 92.501263 \nL 407.920339 35.7555 \nL 351.174576 35.7555 \nz\n\" style=\"fill: #ffffff\"/>\n   </g>\n   <g clip-path=\"url(#pb0102109ab)\">\n    <image xlink:href=\"data:image/png;base64,\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\" id=\"image5cb39137d8\" transform=\"scale(1 -1)translate(0 -57)\" x=\"351.174576\" y=\"-35.501263\" width=\"57\" height=\"57\"/>\n   </g>\n   <g id=\"patch_28\">\n    <path d=\"M 351.174576 92.501263 \nL 351.174576 35.7555 \n\" style=\"fill: none; stroke: #000000; stroke-width: 0.8; stroke-linejoin: miter; stroke-linecap: square\"/>\n   </g>\n   <g id=\"patch_29\">\n    <path d=\"M 407.920339 92.501263 \nL 407.920339 35.7555 \n\" style=\"fill: none; stroke: #000000; stroke-width: 0.8; stroke-linejoin: miter; stroke-linecap: square\"/>\n   </g>\n   <g id=\"patch_30\">\n    <path d=\"M 351.174576 92.501263 \nL 407.920339 92.501263 \n\" style=\"fill: none; stroke: #000000; stroke-width: 0.8; stroke-linejoin: miter; stroke-linecap: square\"/>\n   </g>\n   <g id=\"patch_31\">\n    <path d=\"M 351.174576 35.7555 \nL 407.920339 35.7555 \n\" style=\"fill: none; stroke: #000000; stroke-width: 0.8; stroke-linejoin: miter; stroke-linecap: square\"/>\n   </g>\n   <g id=\"text_6\">\n    <!-- dress -->\n    <g transform=\"translate(363.463708 16.318125)scale(0.12 -0.12)\">\n     <use xlink:href=\"#DejaVuSans-64\"/>\n     <use xlink:href=\"#DejaVuSans-72\" x=\"63.476562\"/>\n     <use xlink:href=\"#DejaVuSans-65\" x=\"102.339844\"/>\n     <use xlink:href=\"#DejaVuSans-73\" x=\"163.863281\"/>\n     <use xlink:href=\"#DejaVuSans-73\" x=\"215.962891\"/>\n    </g>\n    <!-- shirt -->\n    <g transform=\"translate(366.133708 29.7555)scale(0.12 -0.12)\">\n     <use xlink:href=\"#DejaVuSans-73\"/>\n     <use xlink:href=\"#DejaVuSans-68\" x=\"52.099609\"/>\n     <use xlink:href=\"#DejaVuSans-69\" x=\"115.478516\"/>\n     <use xlink:href=\"#DejaVuSans-72\" x=\"143.261719\"/>\n     <use xlink:href=\"#DejaVuSans-74\" x=\"184.375\"/>\n    </g>\n   </g>\n  </g>\n  <g id=\"axes_7\">\n   <g id=\"patch_32\">\n    <path d=\"M 419.269492 92.501263 \nL 476.015254 92.501263 \nL 476.015254 35.7555 \nL 419.269492 35.7555 \nz\n\" style=\"fill: #ffffff\"/>\n   </g>\n   <g clip-path=\"url(#pa7c8a9acbc)\">\n    <image xlink:href=\"data:image/png;base64,\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\" id=\"image2caf6153bc\" transform=\"scale(1 -1)translate(0 -57)\" x=\"419.269492\" y=\"-35.501263\" width=\"57\" height=\"57\"/>\n   </g>\n   <g id=\"patch_33\">\n    <path d=\"M 419.269492 92.501263 \nL 419.269492 35.7555 \n\" style=\"fill: none; stroke: #000000; stroke-width: 0.8; stroke-linejoin: miter; stroke-linecap: square\"/>\n   </g>\n   <g id=\"patch_34\">\n    <path d=\"M 476.015254 92.501263 \nL 476.015254 35.7555 \n\" style=\"fill: none; stroke: #000000; stroke-width: 0.8; stroke-linejoin: miter; stroke-linecap: square\"/>\n   </g>\n   <g id=\"patch_35\">\n    <path d=\"M 419.269492 92.501263 \nL 476.015254 92.501263 \n\" style=\"fill: none; stroke: #000000; stroke-width: 0.8; stroke-linejoin: miter; stroke-linecap: square\"/>\n   </g>\n   <g id=\"patch_36\">\n    <path d=\"M 419.269492 35.7555 \nL 476.015254 35.7555 \n\" style=\"fill: none; stroke: #000000; stroke-width: 0.8; stroke-linejoin: miter; stroke-linecap: square\"/>\n   </g>\n   <g id=\"text_7\">\n    <!-- t-shirt -->\n    <g transform=\"translate(429.711748 16.318125)scale(0.12 -0.12)\">\n     <defs>\n      <path id=\"DejaVuSans-2d\" d=\"M 313 2009 \nL 1997 2009 \nL 1997 1497 \nL 313 1497 \nL 313 2009 \nz\n\" transform=\"scale(0.015625)\"/>\n     </defs>\n     <use xlink:href=\"#DejaVuSans-74\"/>\n     <use xlink:href=\"#DejaVuSans-2d\" x=\"39.208984\"/>\n     <use xlink:href=\"#DejaVuSans-73\" x=\"75.292969\"/>\n     <use xlink:href=\"#DejaVuSans-68\" x=\"127.392578\"/>\n     <use xlink:href=\"#DejaVuSans-69\" x=\"190.771484\"/>\n     <use xlink:href=\"#DejaVuSans-72\" x=\"218.554688\"/>\n     <use xlink:href=\"#DejaVuSans-74\" x=\"259.667969\"/>\n    </g>\n    <!-- t-shirt -->\n    <g transform=\"translate(429.711748 29.7555)scale(0.12 -0.12)\">\n     <use xlink:href=\"#DejaVuSans-74\"/>\n     <use xlink:href=\"#DejaVuSans-2d\" x=\"39.208984\"/>\n     <use xlink:href=\"#DejaVuSans-73\" x=\"75.292969\"/>\n     <use xlink:href=\"#DejaVuSans-68\" x=\"127.392578\"/>\n     <use xlink:href=\"#DejaVuSans-69\" x=\"190.771484\"/>\n     <use xlink:href=\"#DejaVuSans-72\" x=\"218.554688\"/>\n     <use xlink:href=\"#DejaVuSans-74\" x=\"259.667969\"/>\n    </g>\n   </g>\n  </g>\n  <g id=\"axes_8\">\n   <g id=\"patch_37\">\n    <path d=\"M 487.364407 92.501263 \nL 544.110169 92.501263 \nL 544.110169 35.7555 \nL 487.364407 35.7555 \nz\n\" style=\"fill: #ffffff\"/>\n   </g>\n   <g clip-path=\"url(#p3a1351aa29)\">\n    <image xlink:href=\"data:image/png;base64,\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\" id=\"image35ffd301db\" transform=\"scale(1 -1)translate(0 -57)\" x=\"487.364407\" y=\"-35.501263\" width=\"57\" height=\"57\"/>\n   </g>\n   <g id=\"patch_38\">\n    <path d=\"M 487.364407 92.501263 \nL 487.364407 35.7555 \n\" style=\"fill: none; stroke: #000000; stroke-width: 0.8; stroke-linejoin: miter; stroke-linecap: square\"/>\n   </g>\n   <g id=\"patch_39\">\n    <path d=\"M 544.110169 92.501263 \nL 544.110169 35.7555 \n\" style=\"fill: none; stroke: #000000; stroke-width: 0.8; stroke-linejoin: miter; stroke-linecap: square\"/>\n   </g>\n   <g id=\"patch_40\">\n    <path d=\"M 487.364407 92.501263 \nL 544.110169 92.501263 \n\" style=\"fill: none; stroke: #000000; stroke-width: 0.8; stroke-linejoin: miter; stroke-linecap: square\"/>\n   </g>\n   <g id=\"patch_41\">\n    <path d=\"M 487.364407 35.7555 \nL 544.110169 35.7555 \n\" style=\"fill: none; stroke: #000000; stroke-width: 0.8; stroke-linejoin: miter; stroke-linecap: square\"/>\n   </g>\n   <g id=\"text_8\">\n    <!-- pullover -->\n    <g transform=\"translate(491.411038 16.318125)scale(0.12 -0.12)\">\n     <defs>\n      <path id=\"DejaVuSans-70\" d=\"M 1159 525 \nL 1159 -1331 \nL 581 -1331 \nL 581 3500 \nL 1159 3500 \nL 1159 2969 \nQ 1341 3281 1617 3432 \nQ 1894 3584 2278 3584 \nQ 2916 3584 3314 3078 \nQ 3713 2572 3713 1747 \nQ 3713 922 3314 415 \nQ 2916 -91 2278 -91 \nQ 1894 -91 1617 61 \nQ 1341 213 1159 525 \nz\nM 3116 1747 \nQ 3116 2381 2855 2742 \nQ 2594 3103 2138 3103 \nQ 1681 3103 1420 2742 \nQ 1159 2381 1159 1747 \nQ 1159 1113 1420 752 \nQ 1681 391 2138 391 \nQ 2594 391 2855 752 \nQ 3116 1113 3116 1747 \nz\n\" transform=\"scale(0.015625)\"/>\n      <path id=\"DejaVuSans-76\" d=\"M 191 3500 \nL 800 3500 \nL 1894 563 \nL 2988 3500 \nL 3597 3500 \nL 2284 0 \nL 1503 0 \nL 191 3500 \nz\n\" transform=\"scale(0.015625)\"/>\n     </defs>\n     <use xlink:href=\"#DejaVuSans-70\"/>\n     <use xlink:href=\"#DejaVuSans-75\" x=\"63.476562\"/>\n     <use xlink:href=\"#DejaVuSans-6c\" x=\"126.855469\"/>\n     <use xlink:href=\"#DejaVuSans-6c\" x=\"154.638672\"/>\n     <use xlink:href=\"#DejaVuSans-6f\" x=\"182.421875\"/>\n     <use xlink:href=\"#DejaVuSans-76\" x=\"243.603516\"/>\n     <use xlink:href=\"#DejaVuSans-65\" x=\"302.783203\"/>\n     <use xlink:href=\"#DejaVuSans-72\" x=\"364.306641\"/>\n    </g>\n    <!-- coat -->\n    <g transform=\"translate(502.737913 29.7555)scale(0.12 -0.12)\">\n     <defs>\n      <path id=\"DejaVuSans-63\" d=\"M 3122 3366 \nL 3122 2828 \nQ 2878 2963 2633 3030 \nQ 2388 3097 2138 3097 \nQ 1578 3097 1268 2742 \nQ 959 2388 959 1747 \nQ 959 1106 1268 751 \nQ 1578 397 2138 397 \nQ 2388 397 2633 464 \nQ 2878 531 3122 666 \nL 3122 134 \nQ 2881 22 2623 -34 \nQ 2366 -91 2075 -91 \nQ 1284 -91 818 406 \nQ 353 903 353 1747 \nQ 353 2603 823 3093 \nQ 1294 3584 2113 3584 \nQ 2378 3584 2631 3529 \nQ 2884 3475 3122 3366 \nz\n\" transform=\"scale(0.015625)\"/>\n     </defs>\n     <use xlink:href=\"#DejaVuSans-63\"/>\n     <use xlink:href=\"#DejaVuSans-6f\" x=\"54.980469\"/>\n     <use xlink:href=\"#DejaVuSans-61\" x=\"116.162109\"/>\n     <use xlink:href=\"#DejaVuSans-74\" x=\"177.441406\"/>\n    </g>\n   </g>\n  </g>\n  <g id=\"axes_9\">\n   <g id=\"patch_42\">\n    <path d=\"M 555.459322 92.501263 \nL 612.205085 92.501263 \nL 612.205085 35.7555 \nL 555.459322 35.7555 \nz\n\" style=\"fill: #ffffff\"/>\n   </g>\n   <g clip-path=\"url(#p3f6e70321e)\">\n    <image xlink:href=\"data:image/png;base64,\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\" id=\"imagede32736b2a\" transform=\"scale(1 -1)translate(0 -57)\" x=\"555.459322\" y=\"-35.501263\" width=\"57\" height=\"57\"/>\n   </g>\n   <g id=\"patch_43\">\n    <path d=\"M 555.459322 92.501263 \nL 555.459322 35.7555 \n\" style=\"fill: none; stroke: #000000; stroke-width: 0.8; stroke-linejoin: miter; stroke-linecap: square\"/>\n   </g>\n   <g id=\"patch_44\">\n    <path d=\"M 612.205085 92.501263 \nL 612.205085 35.7555 \n\" style=\"fill: none; stroke: #000000; stroke-width: 0.8; stroke-linejoin: miter; stroke-linecap: square\"/>\n   </g>\n   <g id=\"patch_45\">\n    <path d=\"M 555.459322 92.501263 \nL 612.205085 92.501263 \n\" style=\"fill: none; stroke: #000000; stroke-width: 0.8; stroke-linejoin: miter; stroke-linecap: square\"/>\n   </g>\n   <g id=\"patch_46\">\n    <path d=\"M 555.459322 35.7555 \nL 612.205085 35.7555 \n\" style=\"fill: none; stroke: #000000; stroke-width: 0.8; stroke-linejoin: miter; stroke-linecap: square\"/>\n   </g>\n   <g id=\"text_9\">\n    <!-- dress -->\n    <g transform=\"translate(567.748453 16.318125)scale(0.12 -0.12)\">\n     <use xlink:href=\"#DejaVuSans-64\"/>\n     <use xlink:href=\"#DejaVuSans-72\" x=\"63.476562\"/>\n     <use xlink:href=\"#DejaVuSans-65\" x=\"102.339844\"/>\n     <use xlink:href=\"#DejaVuSans-73\" x=\"163.863281\"/>\n     <use xlink:href=\"#DejaVuSans-73\" x=\"215.962891\"/>\n    </g>\n    <!-- dress -->\n    <g transform=\"translate(567.748453 29.7555)scale(0.12 -0.12)\">\n     <use xlink:href=\"#DejaVuSans-64\"/>\n     <use xlink:href=\"#DejaVuSans-72\" x=\"63.476562\"/>\n     <use xlink:href=\"#DejaVuSans-65\" x=\"102.339844\"/>\n     <use xlink:href=\"#DejaVuSans-73\" x=\"163.863281\"/>\n     <use xlink:href=\"#DejaVuSans-73\" x=\"215.962891\"/>\n    </g>\n   </g>\n  </g>\n  <g id=\"axes_10\">\n   <g id=\"patch_47\">\n    <path d=\"M 623.554237 92.501263 \nL 680.3 92.501263 \nL 680.3 35.7555 \nL 623.554237 35.7555 \nz\n\" style=\"fill: #ffffff\"/>\n   </g>\n   <g clip-path=\"url(#pfc33000de4)\">\n    <image xlink:href=\"data:image/png;base64,\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\" id=\"image4e4a3d2ed8\" transform=\"scale(1 -1)translate(0 -57)\" x=\"623.554237\" y=\"-35.501263\" width=\"57\" height=\"57\"/>\n   </g>\n   <g id=\"patch_48\">\n    <path d=\"M 623.554237 92.501263 \nL 623.554237 35.7555 \n\" style=\"fill: none; stroke: #000000; stroke-width: 0.8; stroke-linejoin: miter; stroke-linecap: square\"/>\n   </g>\n   <g id=\"patch_49\">\n    <path d=\"M 680.3 92.501263 \nL 680.3 35.7555 \n\" style=\"fill: none; stroke: #000000; stroke-width: 0.8; stroke-linejoin: miter; stroke-linecap: square\"/>\n   </g>\n   <g id=\"patch_50\">\n    <path d=\"M 623.554237 92.501263 \nL 680.3 92.501263 \n\" style=\"fill: none; stroke: #000000; stroke-width: 0.8; stroke-linejoin: miter; stroke-linecap: square\"/>\n   </g>\n   <g id=\"patch_51\">\n    <path d=\"M 623.554237 35.7555 \nL 680.3 35.7555 \n\" style=\"fill: none; stroke: #000000; stroke-width: 0.8; stroke-linejoin: miter; stroke-linecap: square\"/>\n   </g>\n   <g id=\"text_10\">\n    <!-- t-shirt -->\n    <g transform=\"translate(633.996494 16.318125)scale(0.12 -0.12)\">\n     <use xlink:href=\"#DejaVuSans-74\"/>\n     <use xlink:href=\"#DejaVuSans-2d\" x=\"39.208984\"/>\n     <use xlink:href=\"#DejaVuSans-73\" x=\"75.292969\"/>\n     <use xlink:href=\"#DejaVuSans-68\" x=\"127.392578\"/>\n     <use xlink:href=\"#DejaVuSans-69\" x=\"190.771484\"/>\n     <use xlink:href=\"#DejaVuSans-72\" x=\"218.554688\"/>\n     <use xlink:href=\"#DejaVuSans-74\" x=\"259.667969\"/>\n    </g>\n    <!-- t-shirt -->\n    <g transform=\"translate(633.996494 29.7555)scale(0.12 -0.12)\">\n     <use xlink:href=\"#DejaVuSans-74\"/>\n     <use xlink:href=\"#DejaVuSans-2d\" x=\"39.208984\"/>\n     <use xlink:href=\"#DejaVuSans-73\" x=\"75.292969\"/>\n     <use xlink:href=\"#DejaVuSans-68\" x=\"127.392578\"/>\n     <use xlink:href=\"#DejaVuSans-69\" x=\"190.771484\"/>\n     <use xlink:href=\"#DejaVuSans-72\" x=\"218.554688\"/>\n     <use xlink:href=\"#DejaVuSans-74\" x=\"259.667969\"/>\n    </g>\n   </g>\n  </g>\n </g>\n <defs>\n  <clipPath id=\"p7f0c24a92a\">\n   <rect x=\"10.7\" y=\"35.7555\" width=\"56.745763\" height=\"56.745763\"/>\n  </clipPath>\n  <clipPath id=\"p638a711cf6\">\n   <rect x=\"78.794915\" y=\"35.7555\" width=\"56.745763\" height=\"56.745763\"/>\n  </clipPath>\n  <clipPath id=\"p061ad542d2\">\n   <rect x=\"146.889831\" y=\"35.7555\" width=\"56.745763\" height=\"56.745763\"/>\n  </clipPath>\n  <clipPath id=\"p3cce4fc130\">\n   <rect x=\"214.984746\" y=\"35.7555\" width=\"56.745763\" height=\"56.745763\"/>\n  </clipPath>\n  <clipPath id=\"p17f693364c\">\n   <rect x=\"283.079661\" y=\"35.7555\" width=\"56.745763\" height=\"56.745763\"/>\n  </clipPath>\n  <clipPath id=\"pb0102109ab\">\n   <rect x=\"351.174576\" y=\"35.7555\" width=\"56.745763\" height=\"56.745763\"/>\n  </clipPath>\n  <clipPath id=\"pa7c8a9acbc\">\n   <rect x=\"419.269492\" y=\"35.7555\" width=\"56.745763\" height=\"56.745763\"/>\n  </clipPath>\n  <clipPath id=\"p3a1351aa29\">\n   <rect x=\"487.364407\" y=\"35.7555\" width=\"56.745763\" height=\"56.745763\"/>\n  </clipPath>\n  <clipPath id=\"p3f6e70321e\">\n   <rect x=\"555.459322\" y=\"35.7555\" width=\"56.745763\" height=\"56.745763\"/>\n  </clipPath>\n  <clipPath id=\"pfc33000de4\">\n   <rect x=\"623.554237\" y=\"35.7555\" width=\"56.745763\" height=\"56.745763\"/>\n  </clipPath>\n </defs>\n</svg>\n",
            "text/plain": [
              "<Figure size 864x864 with 10 Axes>"
            ]
          },
          "metadata": {
            "needs_background": "light"
          },
          "output_type": "display_data"
        }
      ],
      "source": [
        "count = 0\n",
        "for X, y in test_iter:\n",
        "  count += 1\n",
        "  if count == 2:\n",
        "    break\n",
        "\n",
        "# the functions \"get_fashion_mnist_labels\" and \"show_fashion_mnist\" are defined above in this notebook\n",
        "true_labels = get_fashion_mnist_labels(y.detach().numpy())\n",
        "pred_labels = get_fashion_mnist_labels(net(X).argmax(dim=1).detach().numpy())\n",
        "titles = [truelabel + '\\n' + predlabel for truelabel, predlabel in zip(true_labels, pred_labels)]\n",
        "\n",
        "show_fashion_mnist(X[10:20], titles[10:20])"
      ]
    },
    {
      "cell_type": "code",
      "execution_count": null,
      "metadata": {
        "id": "EW_o1olRapjP"
      },
      "outputs": [],
      "source": []
    }
  ],
  "metadata": {
    "colab": {
      "collapsed_sections": [
        "j3iv3YPDw2zD"
      ],
      "name": "week4_mlp.ipynb",
      "provenance": []
    },
    "interpreter": {
      "hash": "e47ef7573ce190fa2fd5e6fbc4859ea4c2826720b14a8d2d5f00f0b249e8889b"
    },
    "kernelspec": {
      "display_name": "Python 3.8.13 ('d2l')",
      "language": "python",
      "name": "python3"
    },
    "language_info": {
      "codemirror_mode": {
        "name": "ipython",
        "version": 3
      },
      "file_extension": ".py",
      "mimetype": "text/x-python",
      "name": "python",
      "nbconvert_exporter": "python",
      "pygments_lexer": "ipython3",
      "version": "3.8.13"
    },
    "widgets": {
      "application/vnd.jupyter.widget-state+json": {
        "019cf916b0d647d79ac1bf0e3d036f71": {
          "model_module": "@jupyter-widgets/controls",
          "model_module_version": "1.5.0",
          "model_name": "DescriptionStyleModel",
          "state": {
            "_model_module": "@jupyter-widgets/controls",
            "_model_module_version": "1.5.0",
            "_model_name": "DescriptionStyleModel",
            "_view_count": null,
            "_view_module": "@jupyter-widgets/base",
            "_view_module_version": "1.2.0",
            "_view_name": "StyleView",
            "description_width": ""
          }
        },
        "028b928ac4564557b66c3c94270a94da": {
          "model_module": "@jupyter-widgets/controls",
          "model_module_version": "1.5.0",
          "model_name": "HBoxModel",
          "state": {
            "_dom_classes": [],
            "_model_module": "@jupyter-widgets/controls",
            "_model_module_version": "1.5.0",
            "_model_name": "HBoxModel",
            "_view_count": null,
            "_view_module": "@jupyter-widgets/controls",
            "_view_module_version": "1.5.0",
            "_view_name": "HBoxView",
            "box_style": "",
            "children": [
              "IPY_MODEL_8c3f3f9b2d8647798f5eff1ed2d6f03b",
              "IPY_MODEL_8ce09b42681545b1b2c8d5422a24e594"
            ],
            "layout": "IPY_MODEL_d4f8d88d31da4663a2168aaccde7274b"
          }
        },
        "04fa0b039a2c4cf4b9f9f038ab21c97e": {
          "model_module": "@jupyter-widgets/controls",
          "model_module_version": "1.5.0",
          "model_name": "HBoxModel",
          "state": {
            "_dom_classes": [],
            "_model_module": "@jupyter-widgets/controls",
            "_model_module_version": "1.5.0",
            "_model_name": "HBoxModel",
            "_view_count": null,
            "_view_module": "@jupyter-widgets/controls",
            "_view_module_version": "1.5.0",
            "_view_name": "HBoxView",
            "box_style": "",
            "children": [
              "IPY_MODEL_51690d9d3b6d4bbf8f47acc284a3a0f7",
              "IPY_MODEL_443f343f653542e5adcddd00e26bb9c5"
            ],
            "layout": "IPY_MODEL_313dff414c66473c8895af73ae18ae53"
          }
        },
        "082ecf5250164b83a73422c0493000cb": {
          "model_module": "@jupyter-widgets/base",
          "model_module_version": "1.2.0",
          "model_name": "LayoutModel",
          "state": {
            "_model_module": "@jupyter-widgets/base",
            "_model_module_version": "1.2.0",
            "_model_name": "LayoutModel",
            "_view_count": null,
            "_view_module": "@jupyter-widgets/base",
            "_view_module_version": "1.2.0",
            "_view_name": "LayoutView",
            "align_content": null,
            "align_items": null,
            "align_self": null,
            "border": null,
            "bottom": null,
            "display": null,
            "flex": null,
            "flex_flow": null,
            "grid_area": null,
            "grid_auto_columns": null,
            "grid_auto_flow": null,
            "grid_auto_rows": null,
            "grid_column": null,
            "grid_gap": null,
            "grid_row": null,
            "grid_template_areas": null,
            "grid_template_columns": null,
            "grid_template_rows": null,
            "height": null,
            "justify_content": null,
            "justify_items": null,
            "left": null,
            "margin": null,
            "max_height": null,
            "max_width": null,
            "min_height": null,
            "min_width": null,
            "object_fit": null,
            "object_position": null,
            "order": null,
            "overflow": null,
            "overflow_x": null,
            "overflow_y": null,
            "padding": null,
            "right": null,
            "top": null,
            "visibility": null,
            "width": null
          }
        },
        "0ad9ac7eba854ea3abf841cffd817101": {
          "model_module": "@jupyter-widgets/base",
          "model_module_version": "1.2.0",
          "model_name": "LayoutModel",
          "state": {
            "_model_module": "@jupyter-widgets/base",
            "_model_module_version": "1.2.0",
            "_model_name": "LayoutModel",
            "_view_count": null,
            "_view_module": "@jupyter-widgets/base",
            "_view_module_version": "1.2.0",
            "_view_name": "LayoutView",
            "align_content": null,
            "align_items": null,
            "align_self": null,
            "border": null,
            "bottom": null,
            "display": null,
            "flex": null,
            "flex_flow": null,
            "grid_area": null,
            "grid_auto_columns": null,
            "grid_auto_flow": null,
            "grid_auto_rows": null,
            "grid_column": null,
            "grid_gap": null,
            "grid_row": null,
            "grid_template_areas": null,
            "grid_template_columns": null,
            "grid_template_rows": null,
            "height": null,
            "justify_content": null,
            "justify_items": null,
            "left": null,
            "margin": null,
            "max_height": null,
            "max_width": null,
            "min_height": null,
            "min_width": null,
            "object_fit": null,
            "object_position": null,
            "order": null,
            "overflow": null,
            "overflow_x": null,
            "overflow_y": null,
            "padding": null,
            "right": null,
            "top": null,
            "visibility": null,
            "width": null
          }
        },
        "0e35cc807ab44ca29ad19212eb9bcc0f": {
          "model_module": "@jupyter-widgets/controls",
          "model_module_version": "1.5.0",
          "model_name": "ProgressStyleModel",
          "state": {
            "_model_module": "@jupyter-widgets/controls",
            "_model_module_version": "1.5.0",
            "_model_name": "ProgressStyleModel",
            "_view_count": null,
            "_view_module": "@jupyter-widgets/base",
            "_view_module_version": "1.2.0",
            "_view_name": "StyleView",
            "bar_color": null,
            "description_width": "initial"
          }
        },
        "182084d5d2614200bb1d644c7fefbe85": {
          "model_module": "@jupyter-widgets/controls",
          "model_module_version": "1.5.0",
          "model_name": "HBoxModel",
          "state": {
            "_dom_classes": [],
            "_model_module": "@jupyter-widgets/controls",
            "_model_module_version": "1.5.0",
            "_model_name": "HBoxModel",
            "_view_count": null,
            "_view_module": "@jupyter-widgets/controls",
            "_view_module_version": "1.5.0",
            "_view_name": "HBoxView",
            "box_style": "",
            "children": [
              "IPY_MODEL_4ac7541e8bba42299b1af7d09423a1d8",
              "IPY_MODEL_ac919269bbfc4360860578ef8f7fd705"
            ],
            "layout": "IPY_MODEL_88255bcd081c41059894e3154d4fdd19"
          }
        },
        "1e03f56692e34c44a2497bb6e7f87a87": {
          "model_module": "@jupyter-widgets/base",
          "model_module_version": "1.2.0",
          "model_name": "LayoutModel",
          "state": {
            "_model_module": "@jupyter-widgets/base",
            "_model_module_version": "1.2.0",
            "_model_name": "LayoutModel",
            "_view_count": null,
            "_view_module": "@jupyter-widgets/base",
            "_view_module_version": "1.2.0",
            "_view_name": "LayoutView",
            "align_content": null,
            "align_items": null,
            "align_self": null,
            "border": null,
            "bottom": null,
            "display": null,
            "flex": null,
            "flex_flow": null,
            "grid_area": null,
            "grid_auto_columns": null,
            "grid_auto_flow": null,
            "grid_auto_rows": null,
            "grid_column": null,
            "grid_gap": null,
            "grid_row": null,
            "grid_template_areas": null,
            "grid_template_columns": null,
            "grid_template_rows": null,
            "height": null,
            "justify_content": null,
            "justify_items": null,
            "left": null,
            "margin": null,
            "max_height": null,
            "max_width": null,
            "min_height": null,
            "min_width": null,
            "object_fit": null,
            "object_position": null,
            "order": null,
            "overflow": null,
            "overflow_x": null,
            "overflow_y": null,
            "padding": null,
            "right": null,
            "top": null,
            "visibility": null,
            "width": null
          }
        },
        "1e697575ad0d4f0a86fd18f2e8faac64": {
          "model_module": "@jupyter-widgets/controls",
          "model_module_version": "1.5.0",
          "model_name": "ProgressStyleModel",
          "state": {
            "_model_module": "@jupyter-widgets/controls",
            "_model_module_version": "1.5.0",
            "_model_name": "ProgressStyleModel",
            "_view_count": null,
            "_view_module": "@jupyter-widgets/base",
            "_view_module_version": "1.2.0",
            "_view_name": "StyleView",
            "bar_color": null,
            "description_width": "initial"
          }
        },
        "1f98caeff487431bb5bd71cd765ad11a": {
          "model_module": "@jupyter-widgets/controls",
          "model_module_version": "1.5.0",
          "model_name": "DescriptionStyleModel",
          "state": {
            "_model_module": "@jupyter-widgets/controls",
            "_model_module_version": "1.5.0",
            "_model_name": "DescriptionStyleModel",
            "_view_count": null,
            "_view_module": "@jupyter-widgets/base",
            "_view_module_version": "1.2.0",
            "_view_name": "StyleView",
            "description_width": ""
          }
        },
        "22762ba506934c089463df18dcaca27e": {
          "model_module": "@jupyter-widgets/controls",
          "model_module_version": "1.5.0",
          "model_name": "HTMLModel",
          "state": {
            "_dom_classes": [],
            "_model_module": "@jupyter-widgets/controls",
            "_model_module_version": "1.5.0",
            "_model_name": "HTMLModel",
            "_view_count": null,
            "_view_module": "@jupyter-widgets/controls",
            "_view_module_version": "1.5.0",
            "_view_name": "HTMLView",
            "description": "",
            "description_tooltip": null,
            "layout": "IPY_MODEL_0ad9ac7eba854ea3abf841cffd817101",
            "placeholder": "​",
            "style": "IPY_MODEL_b8d4e6d65e0342a9b1da46c8f3b0defd",
            "value": " 6144/? [05:02&lt;00:00, 20.32it/s]"
          }
        },
        "2550559e0f1a4322b1d099898eca9b1f": {
          "model_module": "@jupyter-widgets/controls",
          "model_module_version": "1.5.0",
          "model_name": "HBoxModel",
          "state": {
            "_dom_classes": [],
            "_model_module": "@jupyter-widgets/controls",
            "_model_module_version": "1.5.0",
            "_model_name": "HBoxModel",
            "_view_count": null,
            "_view_module": "@jupyter-widgets/controls",
            "_view_module_version": "1.5.0",
            "_view_name": "HBoxView",
            "box_style": "",
            "children": [
              "IPY_MODEL_d49341ffb38f49e195fafad6b4f8e658",
              "IPY_MODEL_22762ba506934c089463df18dcaca27e"
            ],
            "layout": "IPY_MODEL_1e03f56692e34c44a2497bb6e7f87a87"
          }
        },
        "313dff414c66473c8895af73ae18ae53": {
          "model_module": "@jupyter-widgets/base",
          "model_module_version": "1.2.0",
          "model_name": "LayoutModel",
          "state": {
            "_model_module": "@jupyter-widgets/base",
            "_model_module_version": "1.2.0",
            "_model_name": "LayoutModel",
            "_view_count": null,
            "_view_module": "@jupyter-widgets/base",
            "_view_module_version": "1.2.0",
            "_view_name": "LayoutView",
            "align_content": null,
            "align_items": null,
            "align_self": null,
            "border": null,
            "bottom": null,
            "display": null,
            "flex": null,
            "flex_flow": null,
            "grid_area": null,
            "grid_auto_columns": null,
            "grid_auto_flow": null,
            "grid_auto_rows": null,
            "grid_column": null,
            "grid_gap": null,
            "grid_row": null,
            "grid_template_areas": null,
            "grid_template_columns": null,
            "grid_template_rows": null,
            "height": null,
            "justify_content": null,
            "justify_items": null,
            "left": null,
            "margin": null,
            "max_height": null,
            "max_width": null,
            "min_height": null,
            "min_width": null,
            "object_fit": null,
            "object_position": null,
            "order": null,
            "overflow": null,
            "overflow_x": null,
            "overflow_y": null,
            "padding": null,
            "right": null,
            "top": null,
            "visibility": null,
            "width": null
          }
        },
        "443f343f653542e5adcddd00e26bb9c5": {
          "model_module": "@jupyter-widgets/controls",
          "model_module_version": "1.5.0",
          "model_name": "HTMLModel",
          "state": {
            "_dom_classes": [],
            "_model_module": "@jupyter-widgets/controls",
            "_model_module_version": "1.5.0",
            "_model_name": "HTMLModel",
            "_view_count": null,
            "_view_module": "@jupyter-widgets/controls",
            "_view_module_version": "1.5.0",
            "_view_name": "HTMLView",
            "description": "",
            "description_tooltip": null,
            "layout": "IPY_MODEL_f4ce42de7cb74fca8f90fc9fb811306d",
            "placeholder": "​",
            "style": "IPY_MODEL_1f98caeff487431bb5bd71cd765ad11a",
            "value": " 29696/? [00:01&lt;00:00, 14932.84it/s]"
          }
        },
        "4ac7541e8bba42299b1af7d09423a1d8": {
          "model_module": "@jupyter-widgets/controls",
          "model_module_version": "1.5.0",
          "model_name": "FloatProgressModel",
          "state": {
            "_dom_classes": [],
            "_model_module": "@jupyter-widgets/controls",
            "_model_module_version": "1.5.0",
            "_model_name": "FloatProgressModel",
            "_view_count": null,
            "_view_module": "@jupyter-widgets/controls",
            "_view_module_version": "1.5.0",
            "_view_name": "ProgressView",
            "bar_style": "success",
            "description": "",
            "description_tooltip": null,
            "layout": "IPY_MODEL_aed39167eccb41b1a5ef0919a354f594",
            "max": 4422102,
            "min": 0,
            "orientation": "horizontal",
            "style": "IPY_MODEL_1e697575ad0d4f0a86fd18f2e8faac64",
            "value": 4422102
          }
        },
        "51690d9d3b6d4bbf8f47acc284a3a0f7": {
          "model_module": "@jupyter-widgets/controls",
          "model_module_version": "1.5.0",
          "model_name": "FloatProgressModel",
          "state": {
            "_dom_classes": [],
            "_model_module": "@jupyter-widgets/controls",
            "_model_module_version": "1.5.0",
            "_model_name": "FloatProgressModel",
            "_view_count": null,
            "_view_module": "@jupyter-widgets/controls",
            "_view_module_version": "1.5.0",
            "_view_name": "ProgressView",
            "bar_style": "success",
            "description": "",
            "description_tooltip": null,
            "layout": "IPY_MODEL_082ecf5250164b83a73422c0493000cb",
            "max": 29515,
            "min": 0,
            "orientation": "horizontal",
            "style": "IPY_MODEL_da5c44e477074a0189405e3c09cd05e6",
            "value": 29515
          }
        },
        "703f9d5204d84eb2aac7d82e39101451": {
          "model_module": "@jupyter-widgets/base",
          "model_module_version": "1.2.0",
          "model_name": "LayoutModel",
          "state": {
            "_model_module": "@jupyter-widgets/base",
            "_model_module_version": "1.2.0",
            "_model_name": "LayoutModel",
            "_view_count": null,
            "_view_module": "@jupyter-widgets/base",
            "_view_module_version": "1.2.0",
            "_view_name": "LayoutView",
            "align_content": null,
            "align_items": null,
            "align_self": null,
            "border": null,
            "bottom": null,
            "display": null,
            "flex": null,
            "flex_flow": null,
            "grid_area": null,
            "grid_auto_columns": null,
            "grid_auto_flow": null,
            "grid_auto_rows": null,
            "grid_column": null,
            "grid_gap": null,
            "grid_row": null,
            "grid_template_areas": null,
            "grid_template_columns": null,
            "grid_template_rows": null,
            "height": null,
            "justify_content": null,
            "justify_items": null,
            "left": null,
            "margin": null,
            "max_height": null,
            "max_width": null,
            "min_height": null,
            "min_width": null,
            "object_fit": null,
            "object_position": null,
            "order": null,
            "overflow": null,
            "overflow_x": null,
            "overflow_y": null,
            "padding": null,
            "right": null,
            "top": null,
            "visibility": null,
            "width": null
          }
        },
        "87468491ccee406fbe05521f6bee56f2": {
          "model_module": "@jupyter-widgets/base",
          "model_module_version": "1.2.0",
          "model_name": "LayoutModel",
          "state": {
            "_model_module": "@jupyter-widgets/base",
            "_model_module_version": "1.2.0",
            "_model_name": "LayoutModel",
            "_view_count": null,
            "_view_module": "@jupyter-widgets/base",
            "_view_module_version": "1.2.0",
            "_view_name": "LayoutView",
            "align_content": null,
            "align_items": null,
            "align_self": null,
            "border": null,
            "bottom": null,
            "display": null,
            "flex": null,
            "flex_flow": null,
            "grid_area": null,
            "grid_auto_columns": null,
            "grid_auto_flow": null,
            "grid_auto_rows": null,
            "grid_column": null,
            "grid_gap": null,
            "grid_row": null,
            "grid_template_areas": null,
            "grid_template_columns": null,
            "grid_template_rows": null,
            "height": null,
            "justify_content": null,
            "justify_items": null,
            "left": null,
            "margin": null,
            "max_height": null,
            "max_width": null,
            "min_height": null,
            "min_width": null,
            "object_fit": null,
            "object_position": null,
            "order": null,
            "overflow": null,
            "overflow_x": null,
            "overflow_y": null,
            "padding": null,
            "right": null,
            "top": null,
            "visibility": null,
            "width": null
          }
        },
        "88255bcd081c41059894e3154d4fdd19": {
          "model_module": "@jupyter-widgets/base",
          "model_module_version": "1.2.0",
          "model_name": "LayoutModel",
          "state": {
            "_model_module": "@jupyter-widgets/base",
            "_model_module_version": "1.2.0",
            "_model_name": "LayoutModel",
            "_view_count": null,
            "_view_module": "@jupyter-widgets/base",
            "_view_module_version": "1.2.0",
            "_view_name": "LayoutView",
            "align_content": null,
            "align_items": null,
            "align_self": null,
            "border": null,
            "bottom": null,
            "display": null,
            "flex": null,
            "flex_flow": null,
            "grid_area": null,
            "grid_auto_columns": null,
            "grid_auto_flow": null,
            "grid_auto_rows": null,
            "grid_column": null,
            "grid_gap": null,
            "grid_row": null,
            "grid_template_areas": null,
            "grid_template_columns": null,
            "grid_template_rows": null,
            "height": null,
            "justify_content": null,
            "justify_items": null,
            "left": null,
            "margin": null,
            "max_height": null,
            "max_width": null,
            "min_height": null,
            "min_width": null,
            "object_fit": null,
            "object_position": null,
            "order": null,
            "overflow": null,
            "overflow_x": null,
            "overflow_y": null,
            "padding": null,
            "right": null,
            "top": null,
            "visibility": null,
            "width": null
          }
        },
        "8c3f3f9b2d8647798f5eff1ed2d6f03b": {
          "model_module": "@jupyter-widgets/controls",
          "model_module_version": "1.5.0",
          "model_name": "FloatProgressModel",
          "state": {
            "_dom_classes": [],
            "_model_module": "@jupyter-widgets/controls",
            "_model_module_version": "1.5.0",
            "_model_name": "FloatProgressModel",
            "_view_count": null,
            "_view_module": "@jupyter-widgets/controls",
            "_view_module_version": "1.5.0",
            "_view_name": "ProgressView",
            "bar_style": "success",
            "description": "",
            "description_tooltip": null,
            "layout": "IPY_MODEL_703f9d5204d84eb2aac7d82e39101451",
            "max": 26421880,
            "min": 0,
            "orientation": "horizontal",
            "style": "IPY_MODEL_0e35cc807ab44ca29ad19212eb9bcc0f",
            "value": 26421880
          }
        },
        "8ce09b42681545b1b2c8d5422a24e594": {
          "model_module": "@jupyter-widgets/controls",
          "model_module_version": "1.5.0",
          "model_name": "HTMLModel",
          "state": {
            "_dom_classes": [],
            "_model_module": "@jupyter-widgets/controls",
            "_model_module_version": "1.5.0",
            "_model_name": "HTMLModel",
            "_view_count": null,
            "_view_module": "@jupyter-widgets/controls",
            "_view_module_version": "1.5.0",
            "_view_name": "HTMLView",
            "description": "",
            "description_tooltip": null,
            "layout": "IPY_MODEL_87468491ccee406fbe05521f6bee56f2",
            "placeholder": "​",
            "style": "IPY_MODEL_019cf916b0d647d79ac1bf0e3d036f71",
            "value": " 26422272/? [05:06&lt;00:00, 86097.86it/s]"
          }
        },
        "9e4e7f70328b45b6b3888f1cdf5d6b86": {
          "model_module": "@jupyter-widgets/base",
          "model_module_version": "1.2.0",
          "model_name": "LayoutModel",
          "state": {
            "_model_module": "@jupyter-widgets/base",
            "_model_module_version": "1.2.0",
            "_model_name": "LayoutModel",
            "_view_count": null,
            "_view_module": "@jupyter-widgets/base",
            "_view_module_version": "1.2.0",
            "_view_name": "LayoutView",
            "align_content": null,
            "align_items": null,
            "align_self": null,
            "border": null,
            "bottom": null,
            "display": null,
            "flex": null,
            "flex_flow": null,
            "grid_area": null,
            "grid_auto_columns": null,
            "grid_auto_flow": null,
            "grid_auto_rows": null,
            "grid_column": null,
            "grid_gap": null,
            "grid_row": null,
            "grid_template_areas": null,
            "grid_template_columns": null,
            "grid_template_rows": null,
            "height": null,
            "justify_content": null,
            "justify_items": null,
            "left": null,
            "margin": null,
            "max_height": null,
            "max_width": null,
            "min_height": null,
            "min_width": null,
            "object_fit": null,
            "object_position": null,
            "order": null,
            "overflow": null,
            "overflow_x": null,
            "overflow_y": null,
            "padding": null,
            "right": null,
            "top": null,
            "visibility": null,
            "width": null
          }
        },
        "ac919269bbfc4360860578ef8f7fd705": {
          "model_module": "@jupyter-widgets/controls",
          "model_module_version": "1.5.0",
          "model_name": "HTMLModel",
          "state": {
            "_dom_classes": [],
            "_model_module": "@jupyter-widgets/controls",
            "_model_module_version": "1.5.0",
            "_model_name": "HTMLModel",
            "_view_count": null,
            "_view_module": "@jupyter-widgets/controls",
            "_view_module_version": "1.5.0",
            "_view_name": "HTMLView",
            "description": "",
            "description_tooltip": null,
            "layout": "IPY_MODEL_be2f86fc6b8643b38605f713e9fd5e9b",
            "placeholder": "​",
            "style": "IPY_MODEL_b17e5e10563344e6831c478844aac736",
            "value": " 4422656/? [00:01&lt;00:00, 3039837.48it/s]"
          }
        },
        "aed39167eccb41b1a5ef0919a354f594": {
          "model_module": "@jupyter-widgets/base",
          "model_module_version": "1.2.0",
          "model_name": "LayoutModel",
          "state": {
            "_model_module": "@jupyter-widgets/base",
            "_model_module_version": "1.2.0",
            "_model_name": "LayoutModel",
            "_view_count": null,
            "_view_module": "@jupyter-widgets/base",
            "_view_module_version": "1.2.0",
            "_view_name": "LayoutView",
            "align_content": null,
            "align_items": null,
            "align_self": null,
            "border": null,
            "bottom": null,
            "display": null,
            "flex": null,
            "flex_flow": null,
            "grid_area": null,
            "grid_auto_columns": null,
            "grid_auto_flow": null,
            "grid_auto_rows": null,
            "grid_column": null,
            "grid_gap": null,
            "grid_row": null,
            "grid_template_areas": null,
            "grid_template_columns": null,
            "grid_template_rows": null,
            "height": null,
            "justify_content": null,
            "justify_items": null,
            "left": null,
            "margin": null,
            "max_height": null,
            "max_width": null,
            "min_height": null,
            "min_width": null,
            "object_fit": null,
            "object_position": null,
            "order": null,
            "overflow": null,
            "overflow_x": null,
            "overflow_y": null,
            "padding": null,
            "right": null,
            "top": null,
            "visibility": null,
            "width": null
          }
        },
        "b17e5e10563344e6831c478844aac736": {
          "model_module": "@jupyter-widgets/controls",
          "model_module_version": "1.5.0",
          "model_name": "DescriptionStyleModel",
          "state": {
            "_model_module": "@jupyter-widgets/controls",
            "_model_module_version": "1.5.0",
            "_model_name": "DescriptionStyleModel",
            "_view_count": null,
            "_view_module": "@jupyter-widgets/base",
            "_view_module_version": "1.2.0",
            "_view_name": "StyleView",
            "description_width": ""
          }
        },
        "b8d4e6d65e0342a9b1da46c8f3b0defd": {
          "model_module": "@jupyter-widgets/controls",
          "model_module_version": "1.5.0",
          "model_name": "DescriptionStyleModel",
          "state": {
            "_model_module": "@jupyter-widgets/controls",
            "_model_module_version": "1.5.0",
            "_model_name": "DescriptionStyleModel",
            "_view_count": null,
            "_view_module": "@jupyter-widgets/base",
            "_view_module_version": "1.2.0",
            "_view_name": "StyleView",
            "description_width": ""
          }
        },
        "be2f86fc6b8643b38605f713e9fd5e9b": {
          "model_module": "@jupyter-widgets/base",
          "model_module_version": "1.2.0",
          "model_name": "LayoutModel",
          "state": {
            "_model_module": "@jupyter-widgets/base",
            "_model_module_version": "1.2.0",
            "_model_name": "LayoutModel",
            "_view_count": null,
            "_view_module": "@jupyter-widgets/base",
            "_view_module_version": "1.2.0",
            "_view_name": "LayoutView",
            "align_content": null,
            "align_items": null,
            "align_self": null,
            "border": null,
            "bottom": null,
            "display": null,
            "flex": null,
            "flex_flow": null,
            "grid_area": null,
            "grid_auto_columns": null,
            "grid_auto_flow": null,
            "grid_auto_rows": null,
            "grid_column": null,
            "grid_gap": null,
            "grid_row": null,
            "grid_template_areas": null,
            "grid_template_columns": null,
            "grid_template_rows": null,
            "height": null,
            "justify_content": null,
            "justify_items": null,
            "left": null,
            "margin": null,
            "max_height": null,
            "max_width": null,
            "min_height": null,
            "min_width": null,
            "object_fit": null,
            "object_position": null,
            "order": null,
            "overflow": null,
            "overflow_x": null,
            "overflow_y": null,
            "padding": null,
            "right": null,
            "top": null,
            "visibility": null,
            "width": null
          }
        },
        "d38b88c6aa654ca9a0dd6e32045a3c6e": {
          "model_module": "@jupyter-widgets/controls",
          "model_module_version": "1.5.0",
          "model_name": "ProgressStyleModel",
          "state": {
            "_model_module": "@jupyter-widgets/controls",
            "_model_module_version": "1.5.0",
            "_model_name": "ProgressStyleModel",
            "_view_count": null,
            "_view_module": "@jupyter-widgets/base",
            "_view_module_version": "1.2.0",
            "_view_name": "StyleView",
            "bar_color": null,
            "description_width": "initial"
          }
        },
        "d49341ffb38f49e195fafad6b4f8e658": {
          "model_module": "@jupyter-widgets/controls",
          "model_module_version": "1.5.0",
          "model_name": "FloatProgressModel",
          "state": {
            "_dom_classes": [],
            "_model_module": "@jupyter-widgets/controls",
            "_model_module_version": "1.5.0",
            "_model_name": "FloatProgressModel",
            "_view_count": null,
            "_view_module": "@jupyter-widgets/controls",
            "_view_module_version": "1.5.0",
            "_view_name": "ProgressView",
            "bar_style": "success",
            "description": "",
            "description_tooltip": null,
            "layout": "IPY_MODEL_9e4e7f70328b45b6b3888f1cdf5d6b86",
            "max": 5148,
            "min": 0,
            "orientation": "horizontal",
            "style": "IPY_MODEL_d38b88c6aa654ca9a0dd6e32045a3c6e",
            "value": 5148
          }
        },
        "d4f8d88d31da4663a2168aaccde7274b": {
          "model_module": "@jupyter-widgets/base",
          "model_module_version": "1.2.0",
          "model_name": "LayoutModel",
          "state": {
            "_model_module": "@jupyter-widgets/base",
            "_model_module_version": "1.2.0",
            "_model_name": "LayoutModel",
            "_view_count": null,
            "_view_module": "@jupyter-widgets/base",
            "_view_module_version": "1.2.0",
            "_view_name": "LayoutView",
            "align_content": null,
            "align_items": null,
            "align_self": null,
            "border": null,
            "bottom": null,
            "display": null,
            "flex": null,
            "flex_flow": null,
            "grid_area": null,
            "grid_auto_columns": null,
            "grid_auto_flow": null,
            "grid_auto_rows": null,
            "grid_column": null,
            "grid_gap": null,
            "grid_row": null,
            "grid_template_areas": null,
            "grid_template_columns": null,
            "grid_template_rows": null,
            "height": null,
            "justify_content": null,
            "justify_items": null,
            "left": null,
            "margin": null,
            "max_height": null,
            "max_width": null,
            "min_height": null,
            "min_width": null,
            "object_fit": null,
            "object_position": null,
            "order": null,
            "overflow": null,
            "overflow_x": null,
            "overflow_y": null,
            "padding": null,
            "right": null,
            "top": null,
            "visibility": null,
            "width": null
          }
        },
        "da5c44e477074a0189405e3c09cd05e6": {
          "model_module": "@jupyter-widgets/controls",
          "model_module_version": "1.5.0",
          "model_name": "ProgressStyleModel",
          "state": {
            "_model_module": "@jupyter-widgets/controls",
            "_model_module_version": "1.5.0",
            "_model_name": "ProgressStyleModel",
            "_view_count": null,
            "_view_module": "@jupyter-widgets/base",
            "_view_module_version": "1.2.0",
            "_view_name": "StyleView",
            "bar_color": null,
            "description_width": "initial"
          }
        },
        "f4ce42de7cb74fca8f90fc9fb811306d": {
          "model_module": "@jupyter-widgets/base",
          "model_module_version": "1.2.0",
          "model_name": "LayoutModel",
          "state": {
            "_model_module": "@jupyter-widgets/base",
            "_model_module_version": "1.2.0",
            "_model_name": "LayoutModel",
            "_view_count": null,
            "_view_module": "@jupyter-widgets/base",
            "_view_module_version": "1.2.0",
            "_view_name": "LayoutView",
            "align_content": null,
            "align_items": null,
            "align_self": null,
            "border": null,
            "bottom": null,
            "display": null,
            "flex": null,
            "flex_flow": null,
            "grid_area": null,
            "grid_auto_columns": null,
            "grid_auto_flow": null,
            "grid_auto_rows": null,
            "grid_column": null,
            "grid_gap": null,
            "grid_row": null,
            "grid_template_areas": null,
            "grid_template_columns": null,
            "grid_template_rows": null,
            "height": null,
            "justify_content": null,
            "justify_items": null,
            "left": null,
            "margin": null,
            "max_height": null,
            "max_width": null,
            "min_height": null,
            "min_width": null,
            "object_fit": null,
            "object_position": null,
            "order": null,
            "overflow": null,
            "overflow_x": null,
            "overflow_y": null,
            "padding": null,
            "right": null,
            "top": null,
            "visibility": null,
            "width": null
          }
        }
      }
    }
  },
  "nbformat": 4,
  "nbformat_minor": 0
}
