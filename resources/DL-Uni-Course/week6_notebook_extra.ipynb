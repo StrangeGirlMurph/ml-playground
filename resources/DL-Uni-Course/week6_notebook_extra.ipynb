{
  "nbformat": 4,
  "nbformat_minor": 0,
  "metadata": {
    "colab": {
      "name": "week6_notebook_extra.ipynb",
      "provenance": [],
      "toc_visible": true
    },
    "kernelspec": {
      "name": "python3",
      "display_name": "Python 3"
    }
  },
  "cells": [
    {
      "cell_type": "markdown",
      "metadata": {
        "id": "tGNpfPn7Ck5Q"
      },
      "source": [
        "\n",
        "\n",
        "\n",
        "# Weight Decay\n",
        "\n",
        "Now that we have characterized the problem of overfitting\n",
        "and motivated the need for capacity control,\n",
        "we can begin discussing some of the popular techniques\n",
        "used to these ends in practice.\n",
        "Recall that we can always mitigate overfitting\n",
        "by going out and collecting more training data,\n",
        "that can be costly and time consuming,\n",
        "typically making it impossible in the short run.\n",
        "For now, let's assume that we have already obtained\n",
        "as much high-quality data as our resources permit\n",
        "and focus on techniques aimed at limiting the capacity\n",
        "of the function classes under consideration.\n",
        "\n",
        "In our toy example,\n",
        "we saw that we could control the complexity of a polynomial\n",
        "by adjusting its degree.\n",
        "However, most of machine learning\n",
        "does not consist of polynomial curve fitting.\n",
        "And moreover, even when we focus on polynomial regression,\n",
        "when we deal with high-dimensional data,\n",
        "manipulating model capacity by tweaking the degree $d$ is problematic.\n",
        "To see why, note that for multivariate data\n",
        "we must generalize the concept of polynomials\n",
        "to include *monomials*, which are simply\n",
        "products of powers of variables.\n",
        "For example, $x_1^2 x_2$, and $x_3 x_5^2$ are both monomials of degree $3$.\n",
        "The number of such terms with a given degree $d$\n",
        "blows up as a function of the degree $d$.\n",
        "\n",
        "Concretely, for vectors of dimensionality $D$,\n",
        "the number of monomials of a given degree $d$ is ${D -1 + d} \\choose {D-1}$.\n",
        "Hence, a small change in degree, even from say $1$ to $2$ or $2$ to $3$\n",
        "would entail a massive blowup in the complexity of our model.\n",
        "Thus, tweaking the degree is too blunt a hammer.\n",
        "Instead, we need a more fine-grained tool\n",
        "for adjusting function complexity.\n",
        "\n",
        "## Squared Norm Regularization\n",
        "\n",
        "*Weight decay* (commonly called *L2* regularization),\n",
        "might be the most widely-used technique\n",
        "for regularizing parametric machine learning models.\n",
        "The basic intuition behind weight decay is\n",
        "the notion that among all functions $f$,\n",
        "the function $f = 0$ is the simplest.\n",
        "Intuitively, we can then measure functions by their proximity to zero.\n",
        "But how precisely should we measure\n",
        "the distance between a function and zero?\n",
        "There is no single right answer.\n",
        "In fact, entire branches of mathematics,\n",
        "e.g. in functional analysis and the theory of Banach spaces\n",
        "are devoted to answering this issue.\n",
        "\n",
        "For our present purposes, a very simple interpretation will suffice:\n",
        "We will consider a linear function\n",
        "$f(\\mathbf{x}) = \\mathbf{w}^\\top \\mathbf{x}$\n",
        "to be simple if its weight vector is small.\n",
        "We can measure this via $||\\mathbf{w}||^2$.\n",
        "One way of keeping the weight vector small\n",
        "is to add its norm as a penalty term\n",
        "to the problem of minimizing the loss.\n",
        "Thus we replace our original objective,\n",
        "*minimize the prediction error on the training labels*,\n",
        "with new objective,\n",
        "*minimize the sum of the prediction error and the penalty term*.\n",
        "Now, if the weight vector becomes too large,\n",
        "our learning algorithm will find more profit in\n",
        "minimizing the norm $|| \\mathbf{w} ||^2$\n",
        "versus minimizing the training error.\n",
        "That's exactly what we want.\n",
        "To illustrate things in code, let's revive our previous example\n",
        "from linear regression.\n",
        "There, our loss was given by\n",
        "\n",
        "$$l(\\mathbf{w}, b) = \\frac{1}{n}\\sum_{i=1}^n \\frac{1}{2}\\left(\\mathbf{w}^\\top \\mathbf{x}^{(i)} + b - y^{(i)}\\right)^2.$$\n",
        "\n",
        "Recall that $\\mathbf{x}^{(i)}$ are the observations,\n",
        "$y^{(i)}$ are labels, and $(\\mathbf{w}, b)$\n",
        "are the weight and bias parameters respectively.\n",
        "To arrive at a new loss function\n",
        "that penalizes the size of the weight vector,\n",
        "we need to add $||\\mathbf{w}||^2$, but how much should we add?\n",
        "To address this, we need to add a new hyperparameter,\n",
        "that we will call the *regularization constant* and denote by $\\lambda$:\n",
        "\n",
        "$$l(\\mathbf{w}, b) + \\frac{\\lambda}{2} \\|\\boldsymbol{w}\\|^2$$\n",
        "\n",
        "This non-negative parameter $\\lambda \\geq 0$\n",
        "governs the amount of regularization.\n",
        "For $\\lambda = 0$, we recover our original loss function,\n",
        "whereas for $\\lambda > 0$ we ensure that $\\mathbf{w}$ cannot grow too large. The astute reader might wonder why we are squaring\n",
        "the norm of the weight vector.\n",
        "We do this for two reasons.\n",
        "First, we do it for computational convenience.\n",
        "By squaring the L2 norm, we remove the square root,\n",
        "leaving the sum of squares of each component of the weight vector.\n",
        "This is convenient because it is easy to compute derivatives of a sum of terms (the sum of derivatives equals the derivative of the sum).\n",
        "\n",
        "Moreover, you might ask, why the L2 norm in the first place and not the L1 norm, or some other distance function.\n",
        "In fact, several other choices are valid\n",
        "and are popular throughout statistics.\n",
        "While L2-regularized linear models constitute\n",
        "the classic *ridge regression* algorithm\n",
        "L1-regularizaed linear regression\n",
        "is a similarly fundamental model in statistics\n",
        "popularly known as *lasso regression*.\n",
        "\n",
        "One mathematical reason for working with the L2 norm and not some other norm,\n",
        "is that it penalizes large components of the weight vector\n",
        "much more than it penalizes small ones.\n",
        "This encourages our learning algorithm to discover models\n",
        "which distribute their weight across a larger number of features,\n",
        "which might make them more robust in practice\n",
        "since they do not depend precariously on a single feature.\n",
        "The stochastic gradient descent updates for L2-regularied regression\n",
        "are as follows:\n",
        "\n",
        "$$\n",
        "\\begin{aligned}\n",
        "w & \\leftarrow \\left(1- \\frac{\\eta\\lambda}{|\\mathcal{B}|} \\right) \\mathbf{w} - \\frac{\\eta}{|\\mathcal{B}|} \\sum_{i \\in \\mathcal{B}} \\mathbf{x}^{(i)} \\left(\\mathbf{w}^\\top \\mathbf{x}^{(i)} + b - y^{(i)}\\right),\n",
        "\\end{aligned}\n",
        "$$\n",
        "\n",
        "As before, we update $\\mathbf{w}$ based on the amount\n",
        "by which our estimate differs from the observation.\n",
        "However, we also shrink the size of $\\mathbf{w}$ towards $0$.\n",
        "That's why the method is sometimes called \"weight decay\":\n",
        "because the penalty term literally causes our optimization algorthm\n",
        "to *decay* the magnitude of the weight at each step of training.\n",
        "This is more convenient than having to pick\n",
        "the number of parameters as we did for polynomials.\n",
        "In particular, we now have a continuous mechanism\n",
        "for adjusting the complexity of $f$.\n",
        "Small values of $\\lambda$ correspond to unconstrained $\\mathbf{w}$,\n",
        "whereas large values of $\\lambda$ constrain $\\mathbf{w}$ considerably.\n",
        "Since we don't want to have large bias terms either,\n",
        "we often add $b^2$ as a penalty, too.\n",
        "\n",
        "## High-dimensional Linear Regression\n",
        "\n",
        "For high-dimensional regression it is difficult\n",
        "to pick the 'right' dimensions to omit.\n",
        "Weight-decay regularization is a much more convenient alternative.\n",
        "We will illustrate this below.\n",
        "First, we will generate some synthetic data as before\n",
        "\n",
        "$$y = 0.05 + \\sum_{i = 1}^d 0.01 x_i + \\epsilon \\text{ where }\n",
        "\\epsilon \\sim \\mathcal{N}(0, 0.01)$$\n",
        "\n",
        "representing our label as a linear function of our inputs,\n",
        "corrupted by Gaussian noise with zero mean and variance 0.01.\n",
        "To observe the effects of overfitting more easily,\n",
        "we can make our problem high-dimensional,\n",
        "setting the data dimension to $d = 200$\n",
        "and working with a relatively small number of training examples—here we'll set the sample size to 20:"
      ]
    },
    {
      "cell_type": "code",
      "metadata": {
        "attributes": {
          "classes": [],
          "id": "",
          "n": "2"
        },
        "id": "wWZsm9VYCk5R"
      },
      "source": [
        "import torch\n",
        "import sys\n",
        "from IPython import display\n",
        "sys.path.insert(0, '..')\n",
        "\n",
        "import torch.nn as nn\n",
        "from torch.utils import data\n",
        "%config InlineBackend.figure_formats = ['svg']\n",
        "import matplotlib.pyplot as plt\n",
        "\n",
        "n_train, n_test, num_inputs, batch_size = 20, 100, 200, 5\n",
        "true_w, true_b = torch.ones((num_inputs, 1)) * 0.01, 0.05\n",
        "\n",
        "def synthetic_data(w, b, num_examples): \n",
        "    \"\"\"Generate y = X w + b + noise.\"\"\"\n",
        "    X = torch.zeros(size=(num_examples, len(w))).normal_()\n",
        "    y = torch.matmul(X, w) + b\n",
        "    y += torch.zeros(size=y.shape).normal_(std=0.01)\n",
        "    return X, y\n",
        "\n",
        "def load_array(data_arrays, batch_size, is_train=True):  \n",
        "    \"\"\"Construct a PyTorch data loader\"\"\"\n",
        "    dataset = data.TensorDataset(*data_arrays)\n",
        "    return data.DataLoader(dataset, batch_size, shuffle=is_train)\n",
        "\n",
        "train_data = synthetic_data(true_w, true_b, n_train)\n",
        "train_iter = load_array(train_data, batch_size)\n",
        "test_data = synthetic_data(true_w, true_b, n_test)\n",
        "test_iter = load_array(test_data, batch_size, is_train=False)"
      ],
      "execution_count": null,
      "outputs": []
    },
    {
      "cell_type": "markdown",
      "metadata": {
        "id": "cI4A4dGFCk5U"
      },
      "source": [
        "## Implementation from Scratch\n",
        "\n",
        "Next, we will show how to implement weight decay from scratch.\n",
        "All we have to do here is to add the squared $\\ell_2$ penalty\n",
        "as an additional loss term added to the original target function.\n",
        "The squared norm penalty derives its name from the fact\n",
        "that we are adding the second power $\\sum_i w_i^2$.\n",
        "The $\\ell_2$ is just one among an infinite class of norms call p-norms,\n",
        "many of which you might encounter in the future.\n",
        "In general, for some number $p$, the $\\ell_p$ norm is defined as\n",
        "\n",
        "$$\\|\\mathbf{w}\\|_p^p := \\sum_{i=1}^d |w_i|^p$$\n",
        "\n",
        "### Initialize Model Parameters\n",
        "\n",
        "First, we'll define a function to randomly initialize our model parameters and set `requires_grad`as `True` on each to allocate memory for the gradients we will calculate."
      ]
    },
    {
      "cell_type": "code",
      "metadata": {
        "attributes": {
          "classes": [],
          "id": "",
          "n": "5"
        },
        "id": "bC5u23DACk5U"
      },
      "source": [
        "def init_params():\n",
        "    w = torch.normal(0, 1, size=(num_inputs, 1), requires_grad=True)\n",
        "    b = torch.zeros(1, requires_grad=True)\n",
        "    return [w, b]"
      ],
      "execution_count": null,
      "outputs": []
    },
    {
      "cell_type": "markdown",
      "metadata": {
        "id": "g758VGqXCk5X"
      },
      "source": [
        "### Define $\\ell_2$ Norm Penalty\n",
        "\n",
        "Perhaps the most convenient way to implement this penalty\n",
        "is to square all terms in place and summ them up.\n",
        "We divide by $2$ by convention\n",
        "(when we take the derivative of a quadratic function,\n",
        "the $2$ and $1/2$ cancel out, ensuring that the expression\n",
        "for the update looks nice and simple)."
      ]
    },
    {
      "cell_type": "code",
      "metadata": {
        "attributes": {
          "classes": [],
          "id": "",
          "n": "6"
        },
        "id": "vVL1ZuFLCk5X"
      },
      "source": [
        "def l2_penalty(w):\n",
        "    return torch.sum(w.pow(2)) / 2"
      ],
      "execution_count": null,
      "outputs": []
    },
    {
      "cell_type": "markdown",
      "metadata": {
        "id": "DDK9bG1xCk5Z"
      },
      "source": [
        "### Define Training and Testing\n",
        "\n",
        "The following code defines how to train and test the model\n",
        "separately on the training data set and the test data set.\n",
        "Unlike the previous sections, here, the $\\ell_2$ norm penalty term\n",
        "is added when calculating the final loss function.\n",
        "The linear network and the squared loss\n",
        "haven't changed since the previous chapter,\n",
        "so we'll just import them via `linreg` and `squared_loss`\n",
        "to reduce clutter."
      ]
    },
    {
      "cell_type": "code",
      "metadata": {
        "id": "UjQpzBS8HhaM"
      },
      "source": [
        "## A set of helper functions and classes \n",
        "def linreg(X, w, b):\n",
        "     return torch.matmul(X, w) + b\n",
        "\n",
        "def squared_loss(y_hat, y):\n",
        "    return (y_hat - y.reshape(y_hat.shape)) ** 2 / 2\n",
        "\n",
        "def sgd(params, lr, batch_size):\n",
        "    for param in params:\n",
        "        param.data += -lr * param.grad.data / batch_size\n",
        "\n",
        "def evaluate_loss(net, data_iter, loss):  \n",
        "    \"\"\"Evaluate the loss of a model on the given dataset.\"\"\"\n",
        "    metric = Accumulator(2)  # sum_loss, num_examples\n",
        "    for X, y in data_iter:\n",
        "        l = loss(net(X), y.reshape(-1, 1))\n",
        "        if l.nelement() != 1:\n",
        "            metric.add(l.sum(), y.numpy().size)\n",
        "        else:\n",
        "            metric.add(l*len(y), y.numpy().size)\n",
        "    return metric[0] / metric[1]\n",
        "\n",
        "def semilogy(x_vals, y_vals, x_label, y_label, x2_vals=None, y2_vals=None, legend=None, figsize=(3.5, 2.5)):    \n",
        "    plt.xlabel(x_label)\n",
        "    plt.ylabel(y_label)\n",
        "    plt.semilogy(x_vals, y_vals)\n",
        "    if x2_vals and y2_vals:\n",
        "        plt.semilogy(x2_vals, y2_vals, linestyle=':')\n",
        "        plt.legend(legend)\n",
        "        \n",
        "class Animator: \n",
        "    def __init__(self, xlabel=None, ylabel=None, legend=None, xlim=None,\n",
        "                 ylim=None, xscale='linear', yscale='linear', fmts=None,\n",
        "                 nrows=1, ncols=1, figsize=(3.5, 2.5)):\n",
        "        \"\"\"Incrementally plot multiple lines.\"\"\"\n",
        "        if legend is None:\n",
        "            legend = []\n",
        "        \n",
        "        self.fig, self.axes = plt.subplots(nrows, ncols, figsize=figsize)\n",
        "        if nrows * ncols == 1:\n",
        "            self.axes = [self.axes, ]\n",
        "        # Use a lambda to capture arguments\n",
        "        self.config_axes = lambda: self.set_axes(\n",
        "            self.axes[0], xlabel, ylabel, xlim, ylim, xscale, yscale, legend)\n",
        "        self.X, self.Y, self.fmts = None, None, fmts\n",
        "\n",
        "    def set_axes(self, axes, xlabel, ylabel, xlim, ylim, xscale, yscale, legend):  \n",
        "        \"\"\"Set the axes for matplotlib.\"\"\"\n",
        "        axes.set_xlabel(xlabel)\n",
        "        axes.set_ylabel(ylabel)\n",
        "        axes.set_xscale(xscale)\n",
        "        axes.set_yscale(yscale)\n",
        "        axes.set_xlim(xlim)\n",
        "        axes.set_ylim(ylim)\n",
        "        if legend:\n",
        "            axes.legend(legend)\n",
        "        axes.grid()\n",
        "\n",
        "    def add(self, x, y):\n",
        "        \"\"\"Add multiple data points into the figure.\"\"\"\n",
        "        if not hasattr(y, \"__len__\"):\n",
        "            y = [y]\n",
        "        n = len(y)\n",
        "        if not hasattr(x, \"__len__\"):\n",
        "            x = [x] * n\n",
        "        if not self.X:\n",
        "            self.X = [[] for _ in range(n)]\n",
        "        if not self.Y:\n",
        "            self.Y = [[] for _ in range(n)]\n",
        "        if not self.fmts:\n",
        "            self.fmts = ['-'] * n\n",
        "        for i, (a, b) in enumerate(zip(x, y)):\n",
        "            if a is not None and b is not None:\n",
        "                self.X[i].append(a)\n",
        "                self.Y[i].append(b)\n",
        "        self.axes[0].cla()\n",
        "        for x, y, fmt in zip(self.X, self.Y, self.fmts):\n",
        "            self.axes[0].plot(x, y, fmt)\n",
        "        self.config_axes()\n",
        "        display.display(self.fig)\n",
        "        display.clear_output(wait=True)\n",
        "\n",
        "class Accumulator:  \n",
        "    \"\"\"Sum a list of numbers over time.\"\"\"\n",
        "    def __init__(self, n):\n",
        "        self.data = [0.0] * n\n",
        "\n",
        "    def add(self, *args):\n",
        "        self.data = [a+float(b) for a, b in zip(self.data, args)]\n",
        "\n",
        "    def reset(self):\n",
        "        self.data = [0.0] * len(self.data)\n",
        "\n",
        "    def __getitem__(self, idx):\n",
        "        return self.data[idx]"
      ],
      "execution_count": null,
      "outputs": []
    },
    {
      "cell_type": "code",
      "metadata": {
        "attributes": {
          "classes": [],
          "id": "",
          "n": "7"
        },
        "id": "ghAfNWrsCk5a"
      },
      "source": [
        "def train(lambd):\n",
        "    w, b = init_params()\n",
        "    net, loss = lambda X: linreg(X, w, b), squared_loss\n",
        "    num_epochs, lr = 100, 0.003\n",
        "    animator = Animator(xlabel='epochs', ylabel='loss', yscale='log',\n",
        "                            xlim=[1, num_epochs], legend=['train', 'test'])\n",
        "    for epoch in range(1, num_epochs + 1):\n",
        "        for X, y in train_iter:\n",
        "            with torch.enable_grad():\n",
        "                # The L2 norm penalty term has been added, and broadcasting\n",
        "                # makes l2_penalty(w) a vector whose length is batch_size\n",
        "                l = loss(net(X), y) + lambd * l2_penalty(w)\n",
        "            l.sum().backward()\n",
        "            sgd([w, b], lr, batch_size)\n",
        "        if epoch % 5 == 0:\n",
        "            animator.add(epoch, (evaluate_loss(net, train_iter, loss),\n",
        "                                 evaluate_loss(net, test_iter, loss)))\n",
        "    print('l1 norm of w:', torch.norm(w).item())"
      ],
      "execution_count": null,
      "outputs": []
    },
    {
      "cell_type": "markdown",
      "metadata": {
        "id": "XD-_M5n5Ck5c"
      },
      "source": [
        "### Training without Regularization\n",
        "\n",
        "Next, let's train and test the high-dimensional linear regression model.\n",
        "When `lambd = 0` we do not use weight decay.\n",
        "As a result, while the training error decreases, the test error does not.\n",
        "This is a perfect example of overfitting."
      ]
    },
    {
      "cell_type": "code",
      "metadata": {
        "attributes": {
          "classes": [],
          "id": "",
          "n": "8"
        },
        "id": "EsNLzMc_Ck5c",
        "colab": {
          "base_uri": "https://localhost:8080/",
          "height": 278
        },
        "outputId": "0dee1fa6-d905-4aad-988f-29798f701422"
      },
      "source": [
        "train(lambd=0)"
      ],
      "execution_count": null,
      "outputs": [
        {
          "output_type": "stream",
          "text": [
            "l1 norm of w: 32.027957916259766\n"
          ],
          "name": "stdout"
        },
        {
          "output_type": "display_data",
          "data": {
            "text/plain": [
              "<Figure size 252x180 with 1 Axes>"
            ],
            "image/svg+xml": "<?xml version=\"1.0\" encoding=\"utf-8\" standalone=\"no\"?>\n<!DOCTYPE svg PUBLIC \"-//W3C//DTD SVG 1.1//EN\"\n  \"http://www.w3.org/Graphics/SVG/1.1/DTD/svg11.dtd\">\n<!-- Created with matplotlib (https://matplotlib.org/) -->\n<svg height=\"180.65625pt\" version=\"1.1\" viewBox=\"0 0 257.521875 180.65625\" width=\"257.521875pt\" xmlns=\"http://www.w3.org/2000/svg\" xmlns:xlink=\"http://www.w3.org/1999/xlink\">\n <defs>\n  <style type=\"text/css\">\n*{stroke-linecap:butt;stroke-linejoin:round;}\n  </style>\n </defs>\n <g id=\"figure_1\">\n  <g id=\"patch_1\">\n   <path d=\"M 0 180.65625 \nL 257.521875 180.65625 \nL 257.521875 0 \nL 0 0 \nz\n\" style=\"fill:none;\"/>\n  </g>\n  <g id=\"axes_1\">\n   <g id=\"patch_2\">\n    <path d=\"M 45.478125 143.1 \nL 240.778125 143.1 \nL 240.778125 7.2 \nL 45.478125 7.2 \nz\n\" style=\"fill:#ffffff;\"/>\n   </g>\n   <g id=\"matplotlib.axis_1\">\n    <g id=\"xtick_1\">\n     <g id=\"line2d_1\">\n      <path clip-path=\"url(#pf1021bcace)\" d=\"M 82.959943 143.1 \nL 82.959943 7.2 \n\" style=\"fill:none;stroke:#b0b0b0;stroke-linecap:square;stroke-width:0.8;\"/>\n     </g>\n     <g id=\"line2d_2\">\n      <defs>\n       <path d=\"M 0 0 \nL 0 3.5 \n\" id=\"mf7740f37c5\" style=\"stroke:#000000;stroke-width:0.8;\"/>\n      </defs>\n      <g>\n       <use style=\"stroke:#000000;stroke-width:0.8;\" x=\"82.959943\" xlink:href=\"#mf7740f37c5\" y=\"143.1\"/>\n      </g>\n     </g>\n     <g id=\"text_1\">\n      <!-- 20 -->\n      <defs>\n       <path d=\"M 19.1875 8.296875 \nL 53.609375 8.296875 \nL 53.609375 0 \nL 7.328125 0 \nL 7.328125 8.296875 \nQ 12.9375 14.109375 22.625 23.890625 \nQ 32.328125 33.6875 34.8125 36.53125 \nQ 39.546875 41.84375 41.421875 45.53125 \nQ 43.3125 49.21875 43.3125 52.78125 \nQ 43.3125 58.59375 39.234375 62.25 \nQ 35.15625 65.921875 28.609375 65.921875 \nQ 23.96875 65.921875 18.8125 64.3125 \nQ 13.671875 62.703125 7.8125 59.421875 \nL 7.8125 69.390625 \nQ 13.765625 71.78125 18.9375 73 \nQ 24.125 74.21875 28.421875 74.21875 \nQ 39.75 74.21875 46.484375 68.546875 \nQ 53.21875 62.890625 53.21875 53.421875 \nQ 53.21875 48.921875 51.53125 44.890625 \nQ 49.859375 40.875 45.40625 35.40625 \nQ 44.1875 33.984375 37.640625 27.21875 \nQ 31.109375 20.453125 19.1875 8.296875 \nz\n\" id=\"DejaVuSans-50\"/>\n       <path d=\"M 31.78125 66.40625 \nQ 24.171875 66.40625 20.328125 58.90625 \nQ 16.5 51.421875 16.5 36.375 \nQ 16.5 21.390625 20.328125 13.890625 \nQ 24.171875 6.390625 31.78125 6.390625 \nQ 39.453125 6.390625 43.28125 13.890625 \nQ 47.125 21.390625 47.125 36.375 \nQ 47.125 51.421875 43.28125 58.90625 \nQ 39.453125 66.40625 31.78125 66.40625 \nz\nM 31.78125 74.21875 \nQ 44.046875 74.21875 50.515625 64.515625 \nQ 56.984375 54.828125 56.984375 36.375 \nQ 56.984375 17.96875 50.515625 8.265625 \nQ 44.046875 -1.421875 31.78125 -1.421875 \nQ 19.53125 -1.421875 13.0625 8.265625 \nQ 6.59375 17.96875 6.59375 36.375 \nQ 6.59375 54.828125 13.0625 64.515625 \nQ 19.53125 74.21875 31.78125 74.21875 \nz\n\" id=\"DejaVuSans-48\"/>\n      </defs>\n      <g transform=\"translate(76.597443 157.698438)scale(0.1 -0.1)\">\n       <use xlink:href=\"#DejaVuSans-50\"/>\n       <use x=\"63.623047\" xlink:href=\"#DejaVuSans-48\"/>\n      </g>\n     </g>\n    </g>\n    <g id=\"xtick_2\">\n     <g id=\"line2d_3\">\n      <path clip-path=\"url(#pf1021bcace)\" d=\"M 122.414489 143.1 \nL 122.414489 7.2 \n\" style=\"fill:none;stroke:#b0b0b0;stroke-linecap:square;stroke-width:0.8;\"/>\n     </g>\n     <g id=\"line2d_4\">\n      <g>\n       <use style=\"stroke:#000000;stroke-width:0.8;\" x=\"122.414489\" xlink:href=\"#mf7740f37c5\" y=\"143.1\"/>\n      </g>\n     </g>\n     <g id=\"text_2\">\n      <!-- 40 -->\n      <defs>\n       <path d=\"M 37.796875 64.3125 \nL 12.890625 25.390625 \nL 37.796875 25.390625 \nz\nM 35.203125 72.90625 \nL 47.609375 72.90625 \nL 47.609375 25.390625 \nL 58.015625 25.390625 \nL 58.015625 17.1875 \nL 47.609375 17.1875 \nL 47.609375 0 \nL 37.796875 0 \nL 37.796875 17.1875 \nL 4.890625 17.1875 \nL 4.890625 26.703125 \nz\n\" id=\"DejaVuSans-52\"/>\n      </defs>\n      <g transform=\"translate(116.051989 157.698438)scale(0.1 -0.1)\">\n       <use xlink:href=\"#DejaVuSans-52\"/>\n       <use x=\"63.623047\" xlink:href=\"#DejaVuSans-48\"/>\n      </g>\n     </g>\n    </g>\n    <g id=\"xtick_3\">\n     <g id=\"line2d_5\">\n      <path clip-path=\"url(#pf1021bcace)\" d=\"M 161.869034 143.1 \nL 161.869034 7.2 \n\" style=\"fill:none;stroke:#b0b0b0;stroke-linecap:square;stroke-width:0.8;\"/>\n     </g>\n     <g id=\"line2d_6\">\n      <g>\n       <use style=\"stroke:#000000;stroke-width:0.8;\" x=\"161.869034\" xlink:href=\"#mf7740f37c5\" y=\"143.1\"/>\n      </g>\n     </g>\n     <g id=\"text_3\">\n      <!-- 60 -->\n      <defs>\n       <path d=\"M 33.015625 40.375 \nQ 26.375 40.375 22.484375 35.828125 \nQ 18.609375 31.296875 18.609375 23.390625 \nQ 18.609375 15.53125 22.484375 10.953125 \nQ 26.375 6.390625 33.015625 6.390625 \nQ 39.65625 6.390625 43.53125 10.953125 \nQ 47.40625 15.53125 47.40625 23.390625 \nQ 47.40625 31.296875 43.53125 35.828125 \nQ 39.65625 40.375 33.015625 40.375 \nz\nM 52.59375 71.296875 \nL 52.59375 62.3125 \nQ 48.875 64.0625 45.09375 64.984375 \nQ 41.3125 65.921875 37.59375 65.921875 \nQ 27.828125 65.921875 22.671875 59.328125 \nQ 17.53125 52.734375 16.796875 39.40625 \nQ 19.671875 43.65625 24.015625 45.921875 \nQ 28.375 48.1875 33.59375 48.1875 \nQ 44.578125 48.1875 50.953125 41.515625 \nQ 57.328125 34.859375 57.328125 23.390625 \nQ 57.328125 12.15625 50.6875 5.359375 \nQ 44.046875 -1.421875 33.015625 -1.421875 \nQ 20.359375 -1.421875 13.671875 8.265625 \nQ 6.984375 17.96875 6.984375 36.375 \nQ 6.984375 53.65625 15.1875 63.9375 \nQ 23.390625 74.21875 37.203125 74.21875 \nQ 40.921875 74.21875 44.703125 73.484375 \nQ 48.484375 72.75 52.59375 71.296875 \nz\n\" id=\"DejaVuSans-54\"/>\n      </defs>\n      <g transform=\"translate(155.506534 157.698438)scale(0.1 -0.1)\">\n       <use xlink:href=\"#DejaVuSans-54\"/>\n       <use x=\"63.623047\" xlink:href=\"#DejaVuSans-48\"/>\n      </g>\n     </g>\n    </g>\n    <g id=\"xtick_4\">\n     <g id=\"line2d_7\">\n      <path clip-path=\"url(#pf1021bcace)\" d=\"M 201.32358 143.1 \nL 201.32358 7.2 \n\" style=\"fill:none;stroke:#b0b0b0;stroke-linecap:square;stroke-width:0.8;\"/>\n     </g>\n     <g id=\"line2d_8\">\n      <g>\n       <use style=\"stroke:#000000;stroke-width:0.8;\" x=\"201.32358\" xlink:href=\"#mf7740f37c5\" y=\"143.1\"/>\n      </g>\n     </g>\n     <g id=\"text_4\">\n      <!-- 80 -->\n      <defs>\n       <path d=\"M 31.78125 34.625 \nQ 24.75 34.625 20.71875 30.859375 \nQ 16.703125 27.09375 16.703125 20.515625 \nQ 16.703125 13.921875 20.71875 10.15625 \nQ 24.75 6.390625 31.78125 6.390625 \nQ 38.8125 6.390625 42.859375 10.171875 \nQ 46.921875 13.96875 46.921875 20.515625 \nQ 46.921875 27.09375 42.890625 30.859375 \nQ 38.875 34.625 31.78125 34.625 \nz\nM 21.921875 38.8125 \nQ 15.578125 40.375 12.03125 44.71875 \nQ 8.5 49.078125 8.5 55.328125 \nQ 8.5 64.0625 14.71875 69.140625 \nQ 20.953125 74.21875 31.78125 74.21875 \nQ 42.671875 74.21875 48.875 69.140625 \nQ 55.078125 64.0625 55.078125 55.328125 \nQ 55.078125 49.078125 51.53125 44.71875 \nQ 48 40.375 41.703125 38.8125 \nQ 48.828125 37.15625 52.796875 32.3125 \nQ 56.78125 27.484375 56.78125 20.515625 \nQ 56.78125 9.90625 50.3125 4.234375 \nQ 43.84375 -1.421875 31.78125 -1.421875 \nQ 19.734375 -1.421875 13.25 4.234375 \nQ 6.78125 9.90625 6.78125 20.515625 \nQ 6.78125 27.484375 10.78125 32.3125 \nQ 14.796875 37.15625 21.921875 38.8125 \nz\nM 18.3125 54.390625 \nQ 18.3125 48.734375 21.84375 45.5625 \nQ 25.390625 42.390625 31.78125 42.390625 \nQ 38.140625 42.390625 41.71875 45.5625 \nQ 45.3125 48.734375 45.3125 54.390625 \nQ 45.3125 60.0625 41.71875 63.234375 \nQ 38.140625 66.40625 31.78125 66.40625 \nQ 25.390625 66.40625 21.84375 63.234375 \nQ 18.3125 60.0625 18.3125 54.390625 \nz\n\" id=\"DejaVuSans-56\"/>\n      </defs>\n      <g transform=\"translate(194.96108 157.698438)scale(0.1 -0.1)\">\n       <use xlink:href=\"#DejaVuSans-56\"/>\n       <use x=\"63.623047\" xlink:href=\"#DejaVuSans-48\"/>\n      </g>\n     </g>\n    </g>\n    <g id=\"xtick_5\">\n     <g id=\"line2d_9\">\n      <path clip-path=\"url(#pf1021bcace)\" d=\"M 240.778125 143.1 \nL 240.778125 7.2 \n\" style=\"fill:none;stroke:#b0b0b0;stroke-linecap:square;stroke-width:0.8;\"/>\n     </g>\n     <g id=\"line2d_10\">\n      <g>\n       <use style=\"stroke:#000000;stroke-width:0.8;\" x=\"240.778125\" xlink:href=\"#mf7740f37c5\" y=\"143.1\"/>\n      </g>\n     </g>\n     <g id=\"text_5\">\n      <!-- 100 -->\n      <defs>\n       <path d=\"M 12.40625 8.296875 \nL 28.515625 8.296875 \nL 28.515625 63.921875 \nL 10.984375 60.40625 \nL 10.984375 69.390625 \nL 28.421875 72.90625 \nL 38.28125 72.90625 \nL 38.28125 8.296875 \nL 54.390625 8.296875 \nL 54.390625 0 \nL 12.40625 0 \nz\n\" id=\"DejaVuSans-49\"/>\n      </defs>\n      <g transform=\"translate(231.234375 157.698438)scale(0.1 -0.1)\">\n       <use xlink:href=\"#DejaVuSans-49\"/>\n       <use x=\"63.623047\" xlink:href=\"#DejaVuSans-48\"/>\n       <use x=\"127.246094\" xlink:href=\"#DejaVuSans-48\"/>\n      </g>\n     </g>\n    </g>\n    <g id=\"text_6\">\n     <!-- epochs -->\n     <defs>\n      <path d=\"M 56.203125 29.59375 \nL 56.203125 25.203125 \nL 14.890625 25.203125 \nQ 15.484375 15.921875 20.484375 11.0625 \nQ 25.484375 6.203125 34.421875 6.203125 \nQ 39.59375 6.203125 44.453125 7.46875 \nQ 49.3125 8.734375 54.109375 11.28125 \nL 54.109375 2.78125 \nQ 49.265625 0.734375 44.1875 -0.34375 \nQ 39.109375 -1.421875 33.890625 -1.421875 \nQ 20.796875 -1.421875 13.15625 6.1875 \nQ 5.515625 13.8125 5.515625 26.8125 \nQ 5.515625 40.234375 12.765625 48.109375 \nQ 20.015625 56 32.328125 56 \nQ 43.359375 56 49.78125 48.890625 \nQ 56.203125 41.796875 56.203125 29.59375 \nz\nM 47.21875 32.234375 \nQ 47.125 39.59375 43.09375 43.984375 \nQ 39.0625 48.390625 32.421875 48.390625 \nQ 24.90625 48.390625 20.390625 44.140625 \nQ 15.875 39.890625 15.1875 32.171875 \nz\n\" id=\"DejaVuSans-101\"/>\n      <path d=\"M 18.109375 8.203125 \nL 18.109375 -20.796875 \nL 9.078125 -20.796875 \nL 9.078125 54.6875 \nL 18.109375 54.6875 \nL 18.109375 46.390625 \nQ 20.953125 51.265625 25.265625 53.625 \nQ 29.59375 56 35.59375 56 \nQ 45.5625 56 51.78125 48.09375 \nQ 58.015625 40.1875 58.015625 27.296875 \nQ 58.015625 14.40625 51.78125 6.484375 \nQ 45.5625 -1.421875 35.59375 -1.421875 \nQ 29.59375 -1.421875 25.265625 0.953125 \nQ 20.953125 3.328125 18.109375 8.203125 \nz\nM 48.6875 27.296875 \nQ 48.6875 37.203125 44.609375 42.84375 \nQ 40.53125 48.484375 33.40625 48.484375 \nQ 26.265625 48.484375 22.1875 42.84375 \nQ 18.109375 37.203125 18.109375 27.296875 \nQ 18.109375 17.390625 22.1875 11.75 \nQ 26.265625 6.109375 33.40625 6.109375 \nQ 40.53125 6.109375 44.609375 11.75 \nQ 48.6875 17.390625 48.6875 27.296875 \nz\n\" id=\"DejaVuSans-112\"/>\n      <path d=\"M 30.609375 48.390625 \nQ 23.390625 48.390625 19.1875 42.75 \nQ 14.984375 37.109375 14.984375 27.296875 \nQ 14.984375 17.484375 19.15625 11.84375 \nQ 23.34375 6.203125 30.609375 6.203125 \nQ 37.796875 6.203125 41.984375 11.859375 \nQ 46.1875 17.53125 46.1875 27.296875 \nQ 46.1875 37.015625 41.984375 42.703125 \nQ 37.796875 48.390625 30.609375 48.390625 \nz\nM 30.609375 56 \nQ 42.328125 56 49.015625 48.375 \nQ 55.71875 40.765625 55.71875 27.296875 \nQ 55.71875 13.875 49.015625 6.21875 \nQ 42.328125 -1.421875 30.609375 -1.421875 \nQ 18.84375 -1.421875 12.171875 6.21875 \nQ 5.515625 13.875 5.515625 27.296875 \nQ 5.515625 40.765625 12.171875 48.375 \nQ 18.84375 56 30.609375 56 \nz\n\" id=\"DejaVuSans-111\"/>\n      <path d=\"M 48.78125 52.59375 \nL 48.78125 44.1875 \nQ 44.96875 46.296875 41.140625 47.34375 \nQ 37.3125 48.390625 33.40625 48.390625 \nQ 24.65625 48.390625 19.8125 42.84375 \nQ 14.984375 37.3125 14.984375 27.296875 \nQ 14.984375 17.28125 19.8125 11.734375 \nQ 24.65625 6.203125 33.40625 6.203125 \nQ 37.3125 6.203125 41.140625 7.25 \nQ 44.96875 8.296875 48.78125 10.40625 \nL 48.78125 2.09375 \nQ 45.015625 0.34375 40.984375 -0.53125 \nQ 36.96875 -1.421875 32.421875 -1.421875 \nQ 20.0625 -1.421875 12.78125 6.34375 \nQ 5.515625 14.109375 5.515625 27.296875 \nQ 5.515625 40.671875 12.859375 48.328125 \nQ 20.21875 56 33.015625 56 \nQ 37.15625 56 41.109375 55.140625 \nQ 45.0625 54.296875 48.78125 52.59375 \nz\n\" id=\"DejaVuSans-99\"/>\n      <path d=\"M 54.890625 33.015625 \nL 54.890625 0 \nL 45.90625 0 \nL 45.90625 32.71875 \nQ 45.90625 40.484375 42.875 44.328125 \nQ 39.84375 48.1875 33.796875 48.1875 \nQ 26.515625 48.1875 22.3125 43.546875 \nQ 18.109375 38.921875 18.109375 30.90625 \nL 18.109375 0 \nL 9.078125 0 \nL 9.078125 75.984375 \nL 18.109375 75.984375 \nL 18.109375 46.1875 \nQ 21.34375 51.125 25.703125 53.5625 \nQ 30.078125 56 35.796875 56 \nQ 45.21875 56 50.046875 50.171875 \nQ 54.890625 44.34375 54.890625 33.015625 \nz\n\" id=\"DejaVuSans-104\"/>\n      <path d=\"M 44.28125 53.078125 \nL 44.28125 44.578125 \nQ 40.484375 46.53125 36.375 47.5 \nQ 32.28125 48.484375 27.875 48.484375 \nQ 21.1875 48.484375 17.84375 46.4375 \nQ 14.5 44.390625 14.5 40.28125 \nQ 14.5 37.15625 16.890625 35.375 \nQ 19.28125 33.59375 26.515625 31.984375 \nL 29.59375 31.296875 \nQ 39.15625 29.25 43.1875 25.515625 \nQ 47.21875 21.78125 47.21875 15.09375 \nQ 47.21875 7.46875 41.1875 3.015625 \nQ 35.15625 -1.421875 24.609375 -1.421875 \nQ 20.21875 -1.421875 15.453125 -0.5625 \nQ 10.6875 0.296875 5.421875 2 \nL 5.421875 11.28125 \nQ 10.40625 8.6875 15.234375 7.390625 \nQ 20.0625 6.109375 24.8125 6.109375 \nQ 31.15625 6.109375 34.5625 8.28125 \nQ 37.984375 10.453125 37.984375 14.40625 \nQ 37.984375 18.0625 35.515625 20.015625 \nQ 33.0625 21.96875 24.703125 23.78125 \nL 21.578125 24.515625 \nQ 13.234375 26.265625 9.515625 29.90625 \nQ 5.8125 33.546875 5.8125 39.890625 \nQ 5.8125 47.609375 11.28125 51.796875 \nQ 16.75 56 26.8125 56 \nQ 31.78125 56 36.171875 55.265625 \nQ 40.578125 54.546875 44.28125 53.078125 \nz\n\" id=\"DejaVuSans-115\"/>\n     </defs>\n     <g transform=\"translate(125.295312 171.376563)scale(0.1 -0.1)\">\n      <use xlink:href=\"#DejaVuSans-101\"/>\n      <use x=\"61.523438\" xlink:href=\"#DejaVuSans-112\"/>\n      <use x=\"125\" xlink:href=\"#DejaVuSans-111\"/>\n      <use x=\"186.181641\" xlink:href=\"#DejaVuSans-99\"/>\n      <use x=\"241.162109\" xlink:href=\"#DejaVuSans-104\"/>\n      <use x=\"304.541016\" xlink:href=\"#DejaVuSans-115\"/>\n     </g>\n    </g>\n   </g>\n   <g id=\"matplotlib.axis_2\">\n    <g id=\"ytick_1\">\n     <g id=\"line2d_11\">\n      <path clip-path=\"url(#pf1021bcace)\" d=\"M 45.478125 124.671988 \nL 240.778125 124.671988 \n\" style=\"fill:none;stroke:#b0b0b0;stroke-linecap:square;stroke-width:0.8;\"/>\n     </g>\n     <g id=\"line2d_12\">\n      <defs>\n       <path d=\"M 0 0 \nL -3.5 0 \n\" id=\"m838ee61f63\" style=\"stroke:#000000;stroke-width:0.8;\"/>\n      </defs>\n      <g>\n       <use style=\"stroke:#000000;stroke-width:0.8;\" x=\"45.478125\" xlink:href=\"#m838ee61f63\" y=\"124.671988\"/>\n      </g>\n     </g>\n     <g id=\"text_7\">\n      <!-- $\\mathdefault{10^{2}}$ -->\n      <g transform=\"translate(20.878125 128.471207)scale(0.1 -0.1)\">\n       <use transform=\"translate(0 0.765625)\" xlink:href=\"#DejaVuSans-49\"/>\n       <use transform=\"translate(63.623047 0.765625)\" xlink:href=\"#DejaVuSans-48\"/>\n       <use transform=\"translate(128.203125 39.046875)scale(0.7)\" xlink:href=\"#DejaVuSans-50\"/>\n      </g>\n     </g>\n    </g>\n    <g id=\"ytick_2\">\n     <g id=\"line2d_13\">\n      <path clip-path=\"url(#pf1021bcace)\" d=\"M 45.478125 59.024373 \nL 240.778125 59.024373 \n\" style=\"fill:none;stroke:#b0b0b0;stroke-linecap:square;stroke-width:0.8;\"/>\n     </g>\n     <g id=\"line2d_14\">\n      <g>\n       <use style=\"stroke:#000000;stroke-width:0.8;\" x=\"45.478125\" xlink:href=\"#m838ee61f63\" y=\"59.024373\"/>\n      </g>\n     </g>\n     <g id=\"text_8\">\n      <!-- $\\mathdefault{10^{3}}$ -->\n      <defs>\n       <path d=\"M 40.578125 39.3125 \nQ 47.65625 37.796875 51.625 33 \nQ 55.609375 28.21875 55.609375 21.1875 \nQ 55.609375 10.40625 48.1875 4.484375 \nQ 40.765625 -1.421875 27.09375 -1.421875 \nQ 22.515625 -1.421875 17.65625 -0.515625 \nQ 12.796875 0.390625 7.625 2.203125 \nL 7.625 11.71875 \nQ 11.71875 9.328125 16.59375 8.109375 \nQ 21.484375 6.890625 26.8125 6.890625 \nQ 36.078125 6.890625 40.9375 10.546875 \nQ 45.796875 14.203125 45.796875 21.1875 \nQ 45.796875 27.640625 41.28125 31.265625 \nQ 36.765625 34.90625 28.71875 34.90625 \nL 20.21875 34.90625 \nL 20.21875 43.015625 \nL 29.109375 43.015625 \nQ 36.375 43.015625 40.234375 45.921875 \nQ 44.09375 48.828125 44.09375 54.296875 \nQ 44.09375 59.90625 40.109375 62.90625 \nQ 36.140625 65.921875 28.71875 65.921875 \nQ 24.65625 65.921875 20.015625 65.03125 \nQ 15.375 64.15625 9.8125 62.3125 \nL 9.8125 71.09375 \nQ 15.4375 72.65625 20.34375 73.4375 \nQ 25.25 74.21875 29.59375 74.21875 \nQ 40.828125 74.21875 47.359375 69.109375 \nQ 53.90625 64.015625 53.90625 55.328125 \nQ 53.90625 49.265625 50.4375 45.09375 \nQ 46.96875 40.921875 40.578125 39.3125 \nz\n\" id=\"DejaVuSans-51\"/>\n      </defs>\n      <g transform=\"translate(20.878125 62.823591)scale(0.1 -0.1)\">\n       <use transform=\"translate(0 0.765625)\" xlink:href=\"#DejaVuSans-49\"/>\n       <use transform=\"translate(63.623047 0.765625)\" xlink:href=\"#DejaVuSans-48\"/>\n       <use transform=\"translate(128.203125 39.046875)scale(0.7)\" xlink:href=\"#DejaVuSans-51\"/>\n      </g>\n     </g>\n    </g>\n    <g id=\"ytick_3\">\n     <g id=\"line2d_15\">\n      <defs>\n       <path d=\"M 0 0 \nL -2 0 \n\" id=\"mdc8d1d34fd\" style=\"stroke:#000000;stroke-width:0.6;\"/>\n      </defs>\n      <g>\n       <use style=\"stroke:#000000;stroke-width:0.6;\" x=\"45.478125\" xlink:href=\"#mdc8d1d34fd\" y=\"139.23583\"/>\n      </g>\n     </g>\n    </g>\n    <g id=\"ytick_4\">\n     <g id=\"line2d_16\">\n      <g>\n       <use style=\"stroke:#000000;stroke-width:0.6;\" x=\"45.478125\" xlink:href=\"#mdc8d1d34fd\" y=\"134.840932\"/>\n      </g>\n     </g>\n    </g>\n    <g id=\"ytick_5\">\n     <g id=\"line2d_17\">\n      <g>\n       <use style=\"stroke:#000000;stroke-width:0.6;\" x=\"45.478125\" xlink:href=\"#mdc8d1d34fd\" y=\"131.033899\"/>\n      </g>\n     </g>\n    </g>\n    <g id=\"ytick_6\">\n     <g id=\"line2d_18\">\n      <g>\n       <use style=\"stroke:#000000;stroke-width:0.6;\" x=\"45.478125\" xlink:href=\"#mdc8d1d34fd\" y=\"127.675858\"/>\n      </g>\n     </g>\n    </g>\n    <g id=\"ytick_7\">\n     <g id=\"line2d_19\">\n      <g>\n       <use style=\"stroke:#000000;stroke-width:0.6;\" x=\"45.478125\" xlink:href=\"#mdc8d1d34fd\" y=\"104.910087\"/>\n      </g>\n     </g>\n    </g>\n    <g id=\"ytick_8\">\n     <g id=\"line2d_20\">\n      <g>\n       <use style=\"stroke:#000000;stroke-width:0.6;\" x=\"45.478125\" xlink:href=\"#mdc8d1d34fd\" y=\"93.350116\"/>\n      </g>\n     </g>\n    </g>\n    <g id=\"ytick_9\">\n     <g id=\"line2d_21\">\n      <g>\n       <use style=\"stroke:#000000;stroke-width:0.6;\" x=\"45.478125\" xlink:href=\"#mdc8d1d34fd\" y=\"85.148185\"/>\n      </g>\n     </g>\n    </g>\n    <g id=\"ytick_10\">\n     <g id=\"line2d_22\">\n      <g>\n       <use style=\"stroke:#000000;stroke-width:0.6;\" x=\"45.478125\" xlink:href=\"#mdc8d1d34fd\" y=\"78.786274\"/>\n      </g>\n     </g>\n    </g>\n    <g id=\"ytick_11\">\n     <g id=\"line2d_23\">\n      <g>\n       <use style=\"stroke:#000000;stroke-width:0.6;\" x=\"45.478125\" xlink:href=\"#mdc8d1d34fd\" y=\"73.588214\"/>\n      </g>\n     </g>\n    </g>\n    <g id=\"ytick_12\">\n     <g id=\"line2d_24\">\n      <g>\n       <use style=\"stroke:#000000;stroke-width:0.6;\" x=\"45.478125\" xlink:href=\"#mdc8d1d34fd\" y=\"69.193317\"/>\n      </g>\n     </g>\n    </g>\n    <g id=\"ytick_13\">\n     <g id=\"line2d_25\">\n      <g>\n       <use style=\"stroke:#000000;stroke-width:0.6;\" x=\"45.478125\" xlink:href=\"#mdc8d1d34fd\" y=\"65.386284\"/>\n      </g>\n     </g>\n    </g>\n    <g id=\"ytick_14\">\n     <g id=\"line2d_26\">\n      <g>\n       <use style=\"stroke:#000000;stroke-width:0.6;\" x=\"45.478125\" xlink:href=\"#mdc8d1d34fd\" y=\"62.028243\"/>\n      </g>\n     </g>\n    </g>\n    <g id=\"ytick_15\">\n     <g id=\"line2d_27\">\n      <g>\n       <use style=\"stroke:#000000;stroke-width:0.6;\" x=\"45.478125\" xlink:href=\"#mdc8d1d34fd\" y=\"39.262471\"/>\n      </g>\n     </g>\n    </g>\n    <g id=\"ytick_16\">\n     <g id=\"line2d_28\">\n      <g>\n       <use style=\"stroke:#000000;stroke-width:0.6;\" x=\"45.478125\" xlink:href=\"#mdc8d1d34fd\" y=\"27.7025\"/>\n      </g>\n     </g>\n    </g>\n    <g id=\"ytick_17\">\n     <g id=\"line2d_29\">\n      <g>\n       <use style=\"stroke:#000000;stroke-width:0.6;\" x=\"45.478125\" xlink:href=\"#mdc8d1d34fd\" y=\"19.50057\"/>\n      </g>\n     </g>\n    </g>\n    <g id=\"ytick_18\">\n     <g id=\"line2d_30\">\n      <g>\n       <use style=\"stroke:#000000;stroke-width:0.6;\" x=\"45.478125\" xlink:href=\"#mdc8d1d34fd\" y=\"13.138659\"/>\n      </g>\n     </g>\n    </g>\n    <g id=\"ytick_19\">\n     <g id=\"line2d_31\">\n      <g>\n       <use style=\"stroke:#000000;stroke-width:0.6;\" x=\"45.478125\" xlink:href=\"#mdc8d1d34fd\" y=\"7.940599\"/>\n      </g>\n     </g>\n    </g>\n    <g id=\"text_9\">\n     <!-- loss -->\n     <defs>\n      <path d=\"M 9.421875 75.984375 \nL 18.40625 75.984375 \nL 18.40625 0 \nL 9.421875 0 \nz\n\" id=\"DejaVuSans-108\"/>\n     </defs>\n     <g transform=\"translate(14.798437 84.807813)rotate(-90)scale(0.1 -0.1)\">\n      <use xlink:href=\"#DejaVuSans-108\"/>\n      <use x=\"27.783203\" xlink:href=\"#DejaVuSans-111\"/>\n      <use x=\"88.964844\" xlink:href=\"#DejaVuSans-115\"/>\n      <use x=\"141.064453\" xlink:href=\"#DejaVuSans-115\"/>\n     </g>\n    </g>\n   </g>\n   <g id=\"line2d_32\">\n    <path clip-path=\"url(#pf1021bcace)\" d=\"M 53.369034 136.922727 \nL 63.23267 136.752355 \nL 73.096307 125.487313 \nL 82.959943 129.209351 \nL 92.82358 93.986841 \nL 102.687216 119.756992 \nL 112.550852 73.348818 \nL 122.414489 86.837698 \nL 132.278125 77.718502 \nL 142.141761 68.454766 \nL 152.005398 67.79073 \nL 161.869034 49.428299 \nL 171.73267 52.791924 \nL 181.596307 59.475597 \nL 191.459943 49.3734 \nL 201.32358 35.220423 \nL 211.187216 44.016202 \nL 221.050852 23.183476 \nL 230.914489 13.377273 \nL 240.778125 15.252106 \n\" style=\"fill:none;stroke:#1f77b4;stroke-linecap:square;stroke-width:1.5;\"/>\n   </g>\n   <g id=\"line2d_33\">\n    <path clip-path=\"url(#pf1021bcace)\" d=\"M 53.369034 130.040576 \nL 63.23267 127.554685 \nL 73.096307 129.176594 \nL 82.959943 128.58015 \nL 92.82358 125.724037 \nL 102.687216 127.621261 \nL 112.550852 118.73997 \nL 122.414489 121.492968 \nL 132.278125 120.114448 \nL 142.141761 116.100971 \nL 152.005398 119.458397 \nL 161.869034 103.842899 \nL 171.73267 106.814702 \nL 181.596307 110.458624 \nL 191.459943 100.090648 \nL 201.32358 89.61809 \nL 211.187216 90.675877 \nL 221.050852 83.748964 \nL 230.914489 75.390703 \nL 240.778125 80.885153 \n\" style=\"fill:none;stroke:#ff7f0e;stroke-linecap:square;stroke-width:1.5;\"/>\n   </g>\n   <g id=\"patch_3\">\n    <path d=\"M 45.478125 143.1 \nL 45.478125 7.2 \n\" style=\"fill:none;stroke:#000000;stroke-linecap:square;stroke-linejoin:miter;stroke-width:0.8;\"/>\n   </g>\n   <g id=\"patch_4\">\n    <path d=\"M 240.778125 143.1 \nL 240.778125 7.2 \n\" style=\"fill:none;stroke:#000000;stroke-linecap:square;stroke-linejoin:miter;stroke-width:0.8;\"/>\n   </g>\n   <g id=\"patch_5\">\n    <path d=\"M 45.478125 143.1 \nL 240.778125 143.1 \n\" style=\"fill:none;stroke:#000000;stroke-linecap:square;stroke-linejoin:miter;stroke-width:0.8;\"/>\n   </g>\n   <g id=\"patch_6\">\n    <path d=\"M 45.478125 7.2 \nL 240.778125 7.2 \n\" style=\"fill:none;stroke:#000000;stroke-linecap:square;stroke-linejoin:miter;stroke-width:0.8;\"/>\n   </g>\n   <g id=\"legend_1\">\n    <g id=\"patch_7\">\n     <path d=\"M 52.478125 44.55625 \nL 107.753125 44.55625 \nQ 109.753125 44.55625 109.753125 42.55625 \nL 109.753125 14.2 \nQ 109.753125 12.2 107.753125 12.2 \nL 52.478125 12.2 \nQ 50.478125 12.2 50.478125 14.2 \nL 50.478125 42.55625 \nQ 50.478125 44.55625 52.478125 44.55625 \nz\n\" style=\"fill:#ffffff;opacity:0.8;stroke:#cccccc;stroke-linejoin:miter;\"/>\n    </g>\n    <g id=\"line2d_34\">\n     <path d=\"M 54.478125 20.298438 \nL 74.478125 20.298438 \n\" style=\"fill:none;stroke:#1f77b4;stroke-linecap:square;stroke-width:1.5;\"/>\n    </g>\n    <g id=\"line2d_35\"/>\n    <g id=\"text_10\">\n     <!-- train -->\n     <defs>\n      <path d=\"M 18.3125 70.21875 \nL 18.3125 54.6875 \nL 36.8125 54.6875 \nL 36.8125 47.703125 \nL 18.3125 47.703125 \nL 18.3125 18.015625 \nQ 18.3125 11.328125 20.140625 9.421875 \nQ 21.96875 7.515625 27.59375 7.515625 \nL 36.8125 7.515625 \nL 36.8125 0 \nL 27.59375 0 \nQ 17.1875 0 13.234375 3.875 \nQ 9.28125 7.765625 9.28125 18.015625 \nL 9.28125 47.703125 \nL 2.6875 47.703125 \nL 2.6875 54.6875 \nL 9.28125 54.6875 \nL 9.28125 70.21875 \nz\n\" id=\"DejaVuSans-116\"/>\n      <path d=\"M 41.109375 46.296875 \nQ 39.59375 47.171875 37.8125 47.578125 \nQ 36.03125 48 33.890625 48 \nQ 26.265625 48 22.1875 43.046875 \nQ 18.109375 38.09375 18.109375 28.8125 \nL 18.109375 0 \nL 9.078125 0 \nL 9.078125 54.6875 \nL 18.109375 54.6875 \nL 18.109375 46.1875 \nQ 20.953125 51.171875 25.484375 53.578125 \nQ 30.03125 56 36.53125 56 \nQ 37.453125 56 38.578125 55.875 \nQ 39.703125 55.765625 41.0625 55.515625 \nz\n\" id=\"DejaVuSans-114\"/>\n      <path d=\"M 34.28125 27.484375 \nQ 23.390625 27.484375 19.1875 25 \nQ 14.984375 22.515625 14.984375 16.5 \nQ 14.984375 11.71875 18.140625 8.90625 \nQ 21.296875 6.109375 26.703125 6.109375 \nQ 34.1875 6.109375 38.703125 11.40625 \nQ 43.21875 16.703125 43.21875 25.484375 \nL 43.21875 27.484375 \nz\nM 52.203125 31.203125 \nL 52.203125 0 \nL 43.21875 0 \nL 43.21875 8.296875 \nQ 40.140625 3.328125 35.546875 0.953125 \nQ 30.953125 -1.421875 24.3125 -1.421875 \nQ 15.921875 -1.421875 10.953125 3.296875 \nQ 6 8.015625 6 15.921875 \nQ 6 25.140625 12.171875 29.828125 \nQ 18.359375 34.515625 30.609375 34.515625 \nL 43.21875 34.515625 \nL 43.21875 35.40625 \nQ 43.21875 41.609375 39.140625 45 \nQ 35.0625 48.390625 27.6875 48.390625 \nQ 23 48.390625 18.546875 47.265625 \nQ 14.109375 46.140625 10.015625 43.890625 \nL 10.015625 52.203125 \nQ 14.9375 54.109375 19.578125 55.046875 \nQ 24.21875 56 28.609375 56 \nQ 40.484375 56 46.34375 49.84375 \nQ 52.203125 43.703125 52.203125 31.203125 \nz\n\" id=\"DejaVuSans-97\"/>\n      <path d=\"M 9.421875 54.6875 \nL 18.40625 54.6875 \nL 18.40625 0 \nL 9.421875 0 \nz\nM 9.421875 75.984375 \nL 18.40625 75.984375 \nL 18.40625 64.59375 \nL 9.421875 64.59375 \nz\n\" id=\"DejaVuSans-105\"/>\n      <path d=\"M 54.890625 33.015625 \nL 54.890625 0 \nL 45.90625 0 \nL 45.90625 32.71875 \nQ 45.90625 40.484375 42.875 44.328125 \nQ 39.84375 48.1875 33.796875 48.1875 \nQ 26.515625 48.1875 22.3125 43.546875 \nQ 18.109375 38.921875 18.109375 30.90625 \nL 18.109375 0 \nL 9.078125 0 \nL 9.078125 54.6875 \nL 18.109375 54.6875 \nL 18.109375 46.1875 \nQ 21.34375 51.125 25.703125 53.5625 \nQ 30.078125 56 35.796875 56 \nQ 45.21875 56 50.046875 50.171875 \nQ 54.890625 44.34375 54.890625 33.015625 \nz\n\" id=\"DejaVuSans-110\"/>\n     </defs>\n     <g transform=\"translate(82.478125 23.798438)scale(0.1 -0.1)\">\n      <use xlink:href=\"#DejaVuSans-116\"/>\n      <use x=\"39.208984\" xlink:href=\"#DejaVuSans-114\"/>\n      <use x=\"80.322266\" xlink:href=\"#DejaVuSans-97\"/>\n      <use x=\"141.601562\" xlink:href=\"#DejaVuSans-105\"/>\n      <use x=\"169.384766\" xlink:href=\"#DejaVuSans-110\"/>\n     </g>\n    </g>\n    <g id=\"line2d_36\">\n     <path d=\"M 54.478125 34.976563 \nL 74.478125 34.976563 \n\" style=\"fill:none;stroke:#ff7f0e;stroke-linecap:square;stroke-width:1.5;\"/>\n    </g>\n    <g id=\"line2d_37\"/>\n    <g id=\"text_11\">\n     <!-- test -->\n     <g transform=\"translate(82.478125 38.476563)scale(0.1 -0.1)\">\n      <use xlink:href=\"#DejaVuSans-116\"/>\n      <use x=\"39.208984\" xlink:href=\"#DejaVuSans-101\"/>\n      <use x=\"100.732422\" xlink:href=\"#DejaVuSans-115\"/>\n      <use x=\"152.832031\" xlink:href=\"#DejaVuSans-116\"/>\n     </g>\n    </g>\n   </g>\n  </g>\n </g>\n <defs>\n  <clipPath id=\"pf1021bcace\">\n   <rect height=\"135.9\" width=\"195.3\" x=\"45.478125\" y=\"7.2\"/>\n  </clipPath>\n </defs>\n</svg>\n"
          },
          "metadata": {
            "tags": [],
            "needs_background": "light"
          }
        }
      ]
    },
    {
      "cell_type": "markdown",
      "metadata": {
        "id": "x0CLMOWxCk5g"
      },
      "source": [
        "\n",
        "### Using Weight Decay\n",
        "\n",
        "The example below shows that even though the training error increased,\n",
        "the error on the test set decreased.\n",
        "This is precisely the improvement that we expect from using weight decay.\n",
        "While not perfect, overfitting has been mitigated to some extent.\n",
        "In addition, the $\\ell_2$ norm of the weight $\\mathbf{w}$\n",
        "is smaller than without using weight decay."
      ]
    },
    {
      "cell_type": "code",
      "metadata": {
        "attributes": {
          "classes": [],
          "id": "",
          "n": "9"
        },
        "id": "DUUBPFV-Ck5g",
        "colab": {
          "base_uri": "https://localhost:8080/",
          "height": 278
        },
        "outputId": "f25d575b-d24f-4436-fe34-9d9e0fef955c"
      },
      "source": [
        "train(lambd=3)"
      ],
      "execution_count": null,
      "outputs": [
        {
          "output_type": "stream",
          "text": [
            "l1 norm of w: 37.99309158325195\n"
          ],
          "name": "stdout"
        },
        {
          "output_type": "display_data",
          "data": {
            "text/plain": [
              "<Figure size 252x180 with 1 Axes>"
            ],
            "image/svg+xml": "<?xml version=\"1.0\" encoding=\"utf-8\" standalone=\"no\"?>\n<!DOCTYPE svg PUBLIC \"-//W3C//DTD SVG 1.1//EN\"\n  \"http://www.w3.org/Graphics/SVG/1.1/DTD/svg11.dtd\">\n<!-- Created with matplotlib (https://matplotlib.org/) -->\n<svg height=\"180.65625pt\" version=\"1.1\" viewBox=\"0 0 257.521875 180.65625\" width=\"257.521875pt\" xmlns=\"http://www.w3.org/2000/svg\" xmlns:xlink=\"http://www.w3.org/1999/xlink\">\n <defs>\n  <style type=\"text/css\">\n*{stroke-linecap:butt;stroke-linejoin:round;}\n  </style>\n </defs>\n <g id=\"figure_1\">\n  <g id=\"patch_1\">\n   <path d=\"M 0 180.65625 \nL 257.521875 180.65625 \nL 257.521875 0 \nL 0 0 \nz\n\" style=\"fill:none;\"/>\n  </g>\n  <g id=\"axes_1\">\n   <g id=\"patch_2\">\n    <path d=\"M 45.478125 143.1 \nL 240.778125 143.1 \nL 240.778125 7.2 \nL 45.478125 7.2 \nz\n\" style=\"fill:#ffffff;\"/>\n   </g>\n   <g id=\"matplotlib.axis_1\">\n    <g id=\"xtick_1\">\n     <g id=\"line2d_1\">\n      <path clip-path=\"url(#p056fa1089a)\" d=\"M 82.959943 143.1 \nL 82.959943 7.2 \n\" style=\"fill:none;stroke:#b0b0b0;stroke-linecap:square;stroke-width:0.8;\"/>\n     </g>\n     <g id=\"line2d_2\">\n      <defs>\n       <path d=\"M 0 0 \nL 0 3.5 \n\" id=\"m5ac96963b8\" style=\"stroke:#000000;stroke-width:0.8;\"/>\n      </defs>\n      <g>\n       <use style=\"stroke:#000000;stroke-width:0.8;\" x=\"82.959943\" xlink:href=\"#m5ac96963b8\" y=\"143.1\"/>\n      </g>\n     </g>\n     <g id=\"text_1\">\n      <!-- 20 -->\n      <defs>\n       <path d=\"M 19.1875 8.296875 \nL 53.609375 8.296875 \nL 53.609375 0 \nL 7.328125 0 \nL 7.328125 8.296875 \nQ 12.9375 14.109375 22.625 23.890625 \nQ 32.328125 33.6875 34.8125 36.53125 \nQ 39.546875 41.84375 41.421875 45.53125 \nQ 43.3125 49.21875 43.3125 52.78125 \nQ 43.3125 58.59375 39.234375 62.25 \nQ 35.15625 65.921875 28.609375 65.921875 \nQ 23.96875 65.921875 18.8125 64.3125 \nQ 13.671875 62.703125 7.8125 59.421875 \nL 7.8125 69.390625 \nQ 13.765625 71.78125 18.9375 73 \nQ 24.125 74.21875 28.421875 74.21875 \nQ 39.75 74.21875 46.484375 68.546875 \nQ 53.21875 62.890625 53.21875 53.421875 \nQ 53.21875 48.921875 51.53125 44.890625 \nQ 49.859375 40.875 45.40625 35.40625 \nQ 44.1875 33.984375 37.640625 27.21875 \nQ 31.109375 20.453125 19.1875 8.296875 \nz\n\" id=\"DejaVuSans-50\"/>\n       <path d=\"M 31.78125 66.40625 \nQ 24.171875 66.40625 20.328125 58.90625 \nQ 16.5 51.421875 16.5 36.375 \nQ 16.5 21.390625 20.328125 13.890625 \nQ 24.171875 6.390625 31.78125 6.390625 \nQ 39.453125 6.390625 43.28125 13.890625 \nQ 47.125 21.390625 47.125 36.375 \nQ 47.125 51.421875 43.28125 58.90625 \nQ 39.453125 66.40625 31.78125 66.40625 \nz\nM 31.78125 74.21875 \nQ 44.046875 74.21875 50.515625 64.515625 \nQ 56.984375 54.828125 56.984375 36.375 \nQ 56.984375 17.96875 50.515625 8.265625 \nQ 44.046875 -1.421875 31.78125 -1.421875 \nQ 19.53125 -1.421875 13.0625 8.265625 \nQ 6.59375 17.96875 6.59375 36.375 \nQ 6.59375 54.828125 13.0625 64.515625 \nQ 19.53125 74.21875 31.78125 74.21875 \nz\n\" id=\"DejaVuSans-48\"/>\n      </defs>\n      <g transform=\"translate(76.597443 157.698438)scale(0.1 -0.1)\">\n       <use xlink:href=\"#DejaVuSans-50\"/>\n       <use x=\"63.623047\" xlink:href=\"#DejaVuSans-48\"/>\n      </g>\n     </g>\n    </g>\n    <g id=\"xtick_2\">\n     <g id=\"line2d_3\">\n      <path clip-path=\"url(#p056fa1089a)\" d=\"M 122.414489 143.1 \nL 122.414489 7.2 \n\" style=\"fill:none;stroke:#b0b0b0;stroke-linecap:square;stroke-width:0.8;\"/>\n     </g>\n     <g id=\"line2d_4\">\n      <g>\n       <use style=\"stroke:#000000;stroke-width:0.8;\" x=\"122.414489\" xlink:href=\"#m5ac96963b8\" y=\"143.1\"/>\n      </g>\n     </g>\n     <g id=\"text_2\">\n      <!-- 40 -->\n      <defs>\n       <path d=\"M 37.796875 64.3125 \nL 12.890625 25.390625 \nL 37.796875 25.390625 \nz\nM 35.203125 72.90625 \nL 47.609375 72.90625 \nL 47.609375 25.390625 \nL 58.015625 25.390625 \nL 58.015625 17.1875 \nL 47.609375 17.1875 \nL 47.609375 0 \nL 37.796875 0 \nL 37.796875 17.1875 \nL 4.890625 17.1875 \nL 4.890625 26.703125 \nz\n\" id=\"DejaVuSans-52\"/>\n      </defs>\n      <g transform=\"translate(116.051989 157.698438)scale(0.1 -0.1)\">\n       <use xlink:href=\"#DejaVuSans-52\"/>\n       <use x=\"63.623047\" xlink:href=\"#DejaVuSans-48\"/>\n      </g>\n     </g>\n    </g>\n    <g id=\"xtick_3\">\n     <g id=\"line2d_5\">\n      <path clip-path=\"url(#p056fa1089a)\" d=\"M 161.869034 143.1 \nL 161.869034 7.2 \n\" style=\"fill:none;stroke:#b0b0b0;stroke-linecap:square;stroke-width:0.8;\"/>\n     </g>\n     <g id=\"line2d_6\">\n      <g>\n       <use style=\"stroke:#000000;stroke-width:0.8;\" x=\"161.869034\" xlink:href=\"#m5ac96963b8\" y=\"143.1\"/>\n      </g>\n     </g>\n     <g id=\"text_3\">\n      <!-- 60 -->\n      <defs>\n       <path d=\"M 33.015625 40.375 \nQ 26.375 40.375 22.484375 35.828125 \nQ 18.609375 31.296875 18.609375 23.390625 \nQ 18.609375 15.53125 22.484375 10.953125 \nQ 26.375 6.390625 33.015625 6.390625 \nQ 39.65625 6.390625 43.53125 10.953125 \nQ 47.40625 15.53125 47.40625 23.390625 \nQ 47.40625 31.296875 43.53125 35.828125 \nQ 39.65625 40.375 33.015625 40.375 \nz\nM 52.59375 71.296875 \nL 52.59375 62.3125 \nQ 48.875 64.0625 45.09375 64.984375 \nQ 41.3125 65.921875 37.59375 65.921875 \nQ 27.828125 65.921875 22.671875 59.328125 \nQ 17.53125 52.734375 16.796875 39.40625 \nQ 19.671875 43.65625 24.015625 45.921875 \nQ 28.375 48.1875 33.59375 48.1875 \nQ 44.578125 48.1875 50.953125 41.515625 \nQ 57.328125 34.859375 57.328125 23.390625 \nQ 57.328125 12.15625 50.6875 5.359375 \nQ 44.046875 -1.421875 33.015625 -1.421875 \nQ 20.359375 -1.421875 13.671875 8.265625 \nQ 6.984375 17.96875 6.984375 36.375 \nQ 6.984375 53.65625 15.1875 63.9375 \nQ 23.390625 74.21875 37.203125 74.21875 \nQ 40.921875 74.21875 44.703125 73.484375 \nQ 48.484375 72.75 52.59375 71.296875 \nz\n\" id=\"DejaVuSans-54\"/>\n      </defs>\n      <g transform=\"translate(155.506534 157.698438)scale(0.1 -0.1)\">\n       <use xlink:href=\"#DejaVuSans-54\"/>\n       <use x=\"63.623047\" xlink:href=\"#DejaVuSans-48\"/>\n      </g>\n     </g>\n    </g>\n    <g id=\"xtick_4\">\n     <g id=\"line2d_7\">\n      <path clip-path=\"url(#p056fa1089a)\" d=\"M 201.32358 143.1 \nL 201.32358 7.2 \n\" style=\"fill:none;stroke:#b0b0b0;stroke-linecap:square;stroke-width:0.8;\"/>\n     </g>\n     <g id=\"line2d_8\">\n      <g>\n       <use style=\"stroke:#000000;stroke-width:0.8;\" x=\"201.32358\" xlink:href=\"#m5ac96963b8\" y=\"143.1\"/>\n      </g>\n     </g>\n     <g id=\"text_4\">\n      <!-- 80 -->\n      <defs>\n       <path d=\"M 31.78125 34.625 \nQ 24.75 34.625 20.71875 30.859375 \nQ 16.703125 27.09375 16.703125 20.515625 \nQ 16.703125 13.921875 20.71875 10.15625 \nQ 24.75 6.390625 31.78125 6.390625 \nQ 38.8125 6.390625 42.859375 10.171875 \nQ 46.921875 13.96875 46.921875 20.515625 \nQ 46.921875 27.09375 42.890625 30.859375 \nQ 38.875 34.625 31.78125 34.625 \nz\nM 21.921875 38.8125 \nQ 15.578125 40.375 12.03125 44.71875 \nQ 8.5 49.078125 8.5 55.328125 \nQ 8.5 64.0625 14.71875 69.140625 \nQ 20.953125 74.21875 31.78125 74.21875 \nQ 42.671875 74.21875 48.875 69.140625 \nQ 55.078125 64.0625 55.078125 55.328125 \nQ 55.078125 49.078125 51.53125 44.71875 \nQ 48 40.375 41.703125 38.8125 \nQ 48.828125 37.15625 52.796875 32.3125 \nQ 56.78125 27.484375 56.78125 20.515625 \nQ 56.78125 9.90625 50.3125 4.234375 \nQ 43.84375 -1.421875 31.78125 -1.421875 \nQ 19.734375 -1.421875 13.25 4.234375 \nQ 6.78125 9.90625 6.78125 20.515625 \nQ 6.78125 27.484375 10.78125 32.3125 \nQ 14.796875 37.15625 21.921875 38.8125 \nz\nM 18.3125 54.390625 \nQ 18.3125 48.734375 21.84375 45.5625 \nQ 25.390625 42.390625 31.78125 42.390625 \nQ 38.140625 42.390625 41.71875 45.5625 \nQ 45.3125 48.734375 45.3125 54.390625 \nQ 45.3125 60.0625 41.71875 63.234375 \nQ 38.140625 66.40625 31.78125 66.40625 \nQ 25.390625 66.40625 21.84375 63.234375 \nQ 18.3125 60.0625 18.3125 54.390625 \nz\n\" id=\"DejaVuSans-56\"/>\n      </defs>\n      <g transform=\"translate(194.96108 157.698438)scale(0.1 -0.1)\">\n       <use xlink:href=\"#DejaVuSans-56\"/>\n       <use x=\"63.623047\" xlink:href=\"#DejaVuSans-48\"/>\n      </g>\n     </g>\n    </g>\n    <g id=\"xtick_5\">\n     <g id=\"line2d_9\">\n      <path clip-path=\"url(#p056fa1089a)\" d=\"M 240.778125 143.1 \nL 240.778125 7.2 \n\" style=\"fill:none;stroke:#b0b0b0;stroke-linecap:square;stroke-width:0.8;\"/>\n     </g>\n     <g id=\"line2d_10\">\n      <g>\n       <use style=\"stroke:#000000;stroke-width:0.8;\" x=\"240.778125\" xlink:href=\"#m5ac96963b8\" y=\"143.1\"/>\n      </g>\n     </g>\n     <g id=\"text_5\">\n      <!-- 100 -->\n      <defs>\n       <path d=\"M 12.40625 8.296875 \nL 28.515625 8.296875 \nL 28.515625 63.921875 \nL 10.984375 60.40625 \nL 10.984375 69.390625 \nL 28.421875 72.90625 \nL 38.28125 72.90625 \nL 38.28125 8.296875 \nL 54.390625 8.296875 \nL 54.390625 0 \nL 12.40625 0 \nz\n\" id=\"DejaVuSans-49\"/>\n      </defs>\n      <g transform=\"translate(231.234375 157.698438)scale(0.1 -0.1)\">\n       <use xlink:href=\"#DejaVuSans-49\"/>\n       <use x=\"63.623047\" xlink:href=\"#DejaVuSans-48\"/>\n       <use x=\"127.246094\" xlink:href=\"#DejaVuSans-48\"/>\n      </g>\n     </g>\n    </g>\n    <g id=\"text_6\">\n     <!-- epochs -->\n     <defs>\n      <path d=\"M 56.203125 29.59375 \nL 56.203125 25.203125 \nL 14.890625 25.203125 \nQ 15.484375 15.921875 20.484375 11.0625 \nQ 25.484375 6.203125 34.421875 6.203125 \nQ 39.59375 6.203125 44.453125 7.46875 \nQ 49.3125 8.734375 54.109375 11.28125 \nL 54.109375 2.78125 \nQ 49.265625 0.734375 44.1875 -0.34375 \nQ 39.109375 -1.421875 33.890625 -1.421875 \nQ 20.796875 -1.421875 13.15625 6.1875 \nQ 5.515625 13.8125 5.515625 26.8125 \nQ 5.515625 40.234375 12.765625 48.109375 \nQ 20.015625 56 32.328125 56 \nQ 43.359375 56 49.78125 48.890625 \nQ 56.203125 41.796875 56.203125 29.59375 \nz\nM 47.21875 32.234375 \nQ 47.125 39.59375 43.09375 43.984375 \nQ 39.0625 48.390625 32.421875 48.390625 \nQ 24.90625 48.390625 20.390625 44.140625 \nQ 15.875 39.890625 15.1875 32.171875 \nz\n\" id=\"DejaVuSans-101\"/>\n      <path d=\"M 18.109375 8.203125 \nL 18.109375 -20.796875 \nL 9.078125 -20.796875 \nL 9.078125 54.6875 \nL 18.109375 54.6875 \nL 18.109375 46.390625 \nQ 20.953125 51.265625 25.265625 53.625 \nQ 29.59375 56 35.59375 56 \nQ 45.5625 56 51.78125 48.09375 \nQ 58.015625 40.1875 58.015625 27.296875 \nQ 58.015625 14.40625 51.78125 6.484375 \nQ 45.5625 -1.421875 35.59375 -1.421875 \nQ 29.59375 -1.421875 25.265625 0.953125 \nQ 20.953125 3.328125 18.109375 8.203125 \nz\nM 48.6875 27.296875 \nQ 48.6875 37.203125 44.609375 42.84375 \nQ 40.53125 48.484375 33.40625 48.484375 \nQ 26.265625 48.484375 22.1875 42.84375 \nQ 18.109375 37.203125 18.109375 27.296875 \nQ 18.109375 17.390625 22.1875 11.75 \nQ 26.265625 6.109375 33.40625 6.109375 \nQ 40.53125 6.109375 44.609375 11.75 \nQ 48.6875 17.390625 48.6875 27.296875 \nz\n\" id=\"DejaVuSans-112\"/>\n      <path d=\"M 30.609375 48.390625 \nQ 23.390625 48.390625 19.1875 42.75 \nQ 14.984375 37.109375 14.984375 27.296875 \nQ 14.984375 17.484375 19.15625 11.84375 \nQ 23.34375 6.203125 30.609375 6.203125 \nQ 37.796875 6.203125 41.984375 11.859375 \nQ 46.1875 17.53125 46.1875 27.296875 \nQ 46.1875 37.015625 41.984375 42.703125 \nQ 37.796875 48.390625 30.609375 48.390625 \nz\nM 30.609375 56 \nQ 42.328125 56 49.015625 48.375 \nQ 55.71875 40.765625 55.71875 27.296875 \nQ 55.71875 13.875 49.015625 6.21875 \nQ 42.328125 -1.421875 30.609375 -1.421875 \nQ 18.84375 -1.421875 12.171875 6.21875 \nQ 5.515625 13.875 5.515625 27.296875 \nQ 5.515625 40.765625 12.171875 48.375 \nQ 18.84375 56 30.609375 56 \nz\n\" id=\"DejaVuSans-111\"/>\n      <path d=\"M 48.78125 52.59375 \nL 48.78125 44.1875 \nQ 44.96875 46.296875 41.140625 47.34375 \nQ 37.3125 48.390625 33.40625 48.390625 \nQ 24.65625 48.390625 19.8125 42.84375 \nQ 14.984375 37.3125 14.984375 27.296875 \nQ 14.984375 17.28125 19.8125 11.734375 \nQ 24.65625 6.203125 33.40625 6.203125 \nQ 37.3125 6.203125 41.140625 7.25 \nQ 44.96875 8.296875 48.78125 10.40625 \nL 48.78125 2.09375 \nQ 45.015625 0.34375 40.984375 -0.53125 \nQ 36.96875 -1.421875 32.421875 -1.421875 \nQ 20.0625 -1.421875 12.78125 6.34375 \nQ 5.515625 14.109375 5.515625 27.296875 \nQ 5.515625 40.671875 12.859375 48.328125 \nQ 20.21875 56 33.015625 56 \nQ 37.15625 56 41.109375 55.140625 \nQ 45.0625 54.296875 48.78125 52.59375 \nz\n\" id=\"DejaVuSans-99\"/>\n      <path d=\"M 54.890625 33.015625 \nL 54.890625 0 \nL 45.90625 0 \nL 45.90625 32.71875 \nQ 45.90625 40.484375 42.875 44.328125 \nQ 39.84375 48.1875 33.796875 48.1875 \nQ 26.515625 48.1875 22.3125 43.546875 \nQ 18.109375 38.921875 18.109375 30.90625 \nL 18.109375 0 \nL 9.078125 0 \nL 9.078125 75.984375 \nL 18.109375 75.984375 \nL 18.109375 46.1875 \nQ 21.34375 51.125 25.703125 53.5625 \nQ 30.078125 56 35.796875 56 \nQ 45.21875 56 50.046875 50.171875 \nQ 54.890625 44.34375 54.890625 33.015625 \nz\n\" id=\"DejaVuSans-104\"/>\n      <path d=\"M 44.28125 53.078125 \nL 44.28125 44.578125 \nQ 40.484375 46.53125 36.375 47.5 \nQ 32.28125 48.484375 27.875 48.484375 \nQ 21.1875 48.484375 17.84375 46.4375 \nQ 14.5 44.390625 14.5 40.28125 \nQ 14.5 37.15625 16.890625 35.375 \nQ 19.28125 33.59375 26.515625 31.984375 \nL 29.59375 31.296875 \nQ 39.15625 29.25 43.1875 25.515625 \nQ 47.21875 21.78125 47.21875 15.09375 \nQ 47.21875 7.46875 41.1875 3.015625 \nQ 35.15625 -1.421875 24.609375 -1.421875 \nQ 20.21875 -1.421875 15.453125 -0.5625 \nQ 10.6875 0.296875 5.421875 2 \nL 5.421875 11.28125 \nQ 10.40625 8.6875 15.234375 7.390625 \nQ 20.0625 6.109375 24.8125 6.109375 \nQ 31.15625 6.109375 34.5625 8.28125 \nQ 37.984375 10.453125 37.984375 14.40625 \nQ 37.984375 18.0625 35.515625 20.015625 \nQ 33.0625 21.96875 24.703125 23.78125 \nL 21.578125 24.515625 \nQ 13.234375 26.265625 9.515625 29.90625 \nQ 5.8125 33.546875 5.8125 39.890625 \nQ 5.8125 47.609375 11.28125 51.796875 \nQ 16.75 56 26.8125 56 \nQ 31.78125 56 36.171875 55.265625 \nQ 40.578125 54.546875 44.28125 53.078125 \nz\n\" id=\"DejaVuSans-115\"/>\n     </defs>\n     <g transform=\"translate(125.295312 171.376563)scale(0.1 -0.1)\">\n      <use xlink:href=\"#DejaVuSans-101\"/>\n      <use x=\"61.523438\" xlink:href=\"#DejaVuSans-112\"/>\n      <use x=\"125\" xlink:href=\"#DejaVuSans-111\"/>\n      <use x=\"186.181641\" xlink:href=\"#DejaVuSans-99\"/>\n      <use x=\"241.162109\" xlink:href=\"#DejaVuSans-104\"/>\n      <use x=\"304.541016\" xlink:href=\"#DejaVuSans-115\"/>\n     </g>\n    </g>\n   </g>\n   <g id=\"matplotlib.axis_2\">\n    <g id=\"ytick_1\">\n     <g id=\"line2d_11\">\n      <path clip-path=\"url(#p056fa1089a)\" d=\"M 45.478125 103.096076 \nL 240.778125 103.096076 \n\" style=\"fill:none;stroke:#b0b0b0;stroke-linecap:square;stroke-width:0.8;\"/>\n     </g>\n     <g id=\"line2d_12\">\n      <defs>\n       <path d=\"M 0 0 \nL -3.5 0 \n\" id=\"mecd7e9a826\" style=\"stroke:#000000;stroke-width:0.8;\"/>\n      </defs>\n      <g>\n       <use style=\"stroke:#000000;stroke-width:0.8;\" x=\"45.478125\" xlink:href=\"#mecd7e9a826\" y=\"103.096076\"/>\n      </g>\n     </g>\n     <g id=\"text_7\">\n      <!-- $\\mathdefault{10^{2}}$ -->\n      <g transform=\"translate(20.878125 106.895294)scale(0.1 -0.1)\">\n       <use transform=\"translate(0 0.765625)\" xlink:href=\"#DejaVuSans-49\"/>\n       <use transform=\"translate(63.623047 0.765625)\" xlink:href=\"#DejaVuSans-48\"/>\n       <use transform=\"translate(128.203125 39.046875)scale(0.7)\" xlink:href=\"#DejaVuSans-50\"/>\n      </g>\n     </g>\n    </g>\n    <g id=\"ytick_2\">\n     <g id=\"line2d_13\">\n      <path clip-path=\"url(#p056fa1089a)\" d=\"M 45.478125 55.067755 \nL 240.778125 55.067755 \n\" style=\"fill:none;stroke:#b0b0b0;stroke-linecap:square;stroke-width:0.8;\"/>\n     </g>\n     <g id=\"line2d_14\">\n      <g>\n       <use style=\"stroke:#000000;stroke-width:0.8;\" x=\"45.478125\" xlink:href=\"#mecd7e9a826\" y=\"55.067755\"/>\n      </g>\n     </g>\n     <g id=\"text_8\">\n      <!-- $\\mathdefault{10^{3}}$ -->\n      <defs>\n       <path d=\"M 40.578125 39.3125 \nQ 47.65625 37.796875 51.625 33 \nQ 55.609375 28.21875 55.609375 21.1875 \nQ 55.609375 10.40625 48.1875 4.484375 \nQ 40.765625 -1.421875 27.09375 -1.421875 \nQ 22.515625 -1.421875 17.65625 -0.515625 \nQ 12.796875 0.390625 7.625 2.203125 \nL 7.625 11.71875 \nQ 11.71875 9.328125 16.59375 8.109375 \nQ 21.484375 6.890625 26.8125 6.890625 \nQ 36.078125 6.890625 40.9375 10.546875 \nQ 45.796875 14.203125 45.796875 21.1875 \nQ 45.796875 27.640625 41.28125 31.265625 \nQ 36.765625 34.90625 28.71875 34.90625 \nL 20.21875 34.90625 \nL 20.21875 43.015625 \nL 29.109375 43.015625 \nQ 36.375 43.015625 40.234375 45.921875 \nQ 44.09375 48.828125 44.09375 54.296875 \nQ 44.09375 59.90625 40.109375 62.90625 \nQ 36.140625 65.921875 28.71875 65.921875 \nQ 24.65625 65.921875 20.015625 65.03125 \nQ 15.375 64.15625 9.8125 62.3125 \nL 9.8125 71.09375 \nQ 15.4375 72.65625 20.34375 73.4375 \nQ 25.25 74.21875 29.59375 74.21875 \nQ 40.828125 74.21875 47.359375 69.109375 \nQ 53.90625 64.015625 53.90625 55.328125 \nQ 53.90625 49.265625 50.4375 45.09375 \nQ 46.96875 40.921875 40.578125 39.3125 \nz\n\" id=\"DejaVuSans-51\"/>\n      </defs>\n      <g transform=\"translate(20.878125 58.866974)scale(0.1 -0.1)\">\n       <use transform=\"translate(0 0.765625)\" xlink:href=\"#DejaVuSans-49\"/>\n       <use transform=\"translate(63.623047 0.765625)\" xlink:href=\"#DejaVuSans-48\"/>\n       <use transform=\"translate(128.203125 39.046875)scale(0.7)\" xlink:href=\"#DejaVuSans-51\"/>\n      </g>\n     </g>\n    </g>\n    <g id=\"ytick_3\">\n     <g id=\"line2d_15\">\n      <defs>\n       <path d=\"M 0 0 \nL -2 0 \n\" id=\"m8645a21906\" style=\"stroke:#000000;stroke-width:0.6;\"/>\n      </defs>\n      <g>\n       <use style=\"stroke:#000000;stroke-width:0.6;\" x=\"45.478125\" xlink:href=\"#m8645a21906\" y=\"136.666431\"/>\n      </g>\n     </g>\n    </g>\n    <g id=\"ytick_4\">\n     <g id=\"line2d_16\">\n      <g>\n       <use style=\"stroke:#000000;stroke-width:0.6;\" x=\"45.478125\" xlink:href=\"#m8645a21906\" y=\"128.209064\"/>\n      </g>\n     </g>\n    </g>\n    <g id=\"ytick_5\">\n     <g id=\"line2d_17\">\n      <g>\n       <use style=\"stroke:#000000;stroke-width:0.6;\" x=\"45.478125\" xlink:href=\"#m8645a21906\" y=\"122.208466\"/>\n      </g>\n     </g>\n    </g>\n    <g id=\"ytick_6\">\n     <g id=\"line2d_18\">\n      <g>\n       <use style=\"stroke:#000000;stroke-width:0.6;\" x=\"45.478125\" xlink:href=\"#m8645a21906\" y=\"117.554041\"/>\n      </g>\n     </g>\n    </g>\n    <g id=\"ytick_7\">\n     <g id=\"line2d_19\">\n      <g>\n       <use style=\"stroke:#000000;stroke-width:0.6;\" x=\"45.478125\" xlink:href=\"#m8645a21906\" y=\"113.751099\"/>\n      </g>\n     </g>\n    </g>\n    <g id=\"ytick_8\">\n     <g id=\"line2d_20\">\n      <g>\n       <use style=\"stroke:#000000;stroke-width:0.6;\" x=\"45.478125\" xlink:href=\"#m8645a21906\" y=\"110.535757\"/>\n      </g>\n     </g>\n    </g>\n    <g id=\"ytick_9\">\n     <g id=\"line2d_21\">\n      <g>\n       <use style=\"stroke:#000000;stroke-width:0.6;\" x=\"45.478125\" xlink:href=\"#m8645a21906\" y=\"107.750501\"/>\n      </g>\n     </g>\n    </g>\n    <g id=\"ytick_10\">\n     <g id=\"line2d_22\">\n      <g>\n       <use style=\"stroke:#000000;stroke-width:0.6;\" x=\"45.478125\" xlink:href=\"#m8645a21906\" y=\"105.293731\"/>\n      </g>\n     </g>\n    </g>\n    <g id=\"ytick_11\">\n     <g id=\"line2d_23\">\n      <g>\n       <use style=\"stroke:#000000;stroke-width:0.6;\" x=\"45.478125\" xlink:href=\"#m8645a21906\" y=\"88.63811\"/>\n      </g>\n     </g>\n    </g>\n    <g id=\"ytick_12\">\n     <g id=\"line2d_24\">\n      <g>\n       <use style=\"stroke:#000000;stroke-width:0.6;\" x=\"45.478125\" xlink:href=\"#m8645a21906\" y=\"80.180743\"/>\n      </g>\n     </g>\n    </g>\n    <g id=\"ytick_13\">\n     <g id=\"line2d_25\">\n      <g>\n       <use style=\"stroke:#000000;stroke-width:0.6;\" x=\"45.478125\" xlink:href=\"#m8645a21906\" y=\"74.180145\"/>\n      </g>\n     </g>\n    </g>\n    <g id=\"ytick_14\">\n     <g id=\"line2d_26\">\n      <g>\n       <use style=\"stroke:#000000;stroke-width:0.6;\" x=\"45.478125\" xlink:href=\"#m8645a21906\" y=\"69.52572\"/>\n      </g>\n     </g>\n    </g>\n    <g id=\"ytick_15\">\n     <g id=\"line2d_27\">\n      <g>\n       <use style=\"stroke:#000000;stroke-width:0.6;\" x=\"45.478125\" xlink:href=\"#m8645a21906\" y=\"65.722778\"/>\n      </g>\n     </g>\n    </g>\n    <g id=\"ytick_16\">\n     <g id=\"line2d_28\">\n      <g>\n       <use style=\"stroke:#000000;stroke-width:0.6;\" x=\"45.478125\" xlink:href=\"#m8645a21906\" y=\"62.507436\"/>\n      </g>\n     </g>\n    </g>\n    <g id=\"ytick_17\">\n     <g id=\"line2d_29\">\n      <g>\n       <use style=\"stroke:#000000;stroke-width:0.6;\" x=\"45.478125\" xlink:href=\"#m8645a21906\" y=\"59.72218\"/>\n      </g>\n     </g>\n    </g>\n    <g id=\"ytick_18\">\n     <g id=\"line2d_30\">\n      <g>\n       <use style=\"stroke:#000000;stroke-width:0.6;\" x=\"45.478125\" xlink:href=\"#m8645a21906\" y=\"57.26541\"/>\n      </g>\n     </g>\n    </g>\n    <g id=\"ytick_19\">\n     <g id=\"line2d_31\">\n      <g>\n       <use style=\"stroke:#000000;stroke-width:0.6;\" x=\"45.478125\" xlink:href=\"#m8645a21906\" y=\"40.60979\"/>\n      </g>\n     </g>\n    </g>\n    <g id=\"ytick_20\">\n     <g id=\"line2d_32\">\n      <g>\n       <use style=\"stroke:#000000;stroke-width:0.6;\" x=\"45.478125\" xlink:href=\"#m8645a21906\" y=\"32.152422\"/>\n      </g>\n     </g>\n    </g>\n    <g id=\"ytick_21\">\n     <g id=\"line2d_33\">\n      <g>\n       <use style=\"stroke:#000000;stroke-width:0.6;\" x=\"45.478125\" xlink:href=\"#m8645a21906\" y=\"26.151824\"/>\n      </g>\n     </g>\n    </g>\n    <g id=\"ytick_22\">\n     <g id=\"line2d_34\">\n      <g>\n       <use style=\"stroke:#000000;stroke-width:0.6;\" x=\"45.478125\" xlink:href=\"#m8645a21906\" y=\"21.497399\"/>\n      </g>\n     </g>\n    </g>\n    <g id=\"ytick_23\">\n     <g id=\"line2d_35\">\n      <g>\n       <use style=\"stroke:#000000;stroke-width:0.6;\" x=\"45.478125\" xlink:href=\"#m8645a21906\" y=\"17.694457\"/>\n      </g>\n     </g>\n    </g>\n    <g id=\"ytick_24\">\n     <g id=\"line2d_36\">\n      <g>\n       <use style=\"stroke:#000000;stroke-width:0.6;\" x=\"45.478125\" xlink:href=\"#m8645a21906\" y=\"14.479115\"/>\n      </g>\n     </g>\n    </g>\n    <g id=\"ytick_25\">\n     <g id=\"line2d_37\">\n      <g>\n       <use style=\"stroke:#000000;stroke-width:0.6;\" x=\"45.478125\" xlink:href=\"#m8645a21906\" y=\"11.693859\"/>\n      </g>\n     </g>\n    </g>\n    <g id=\"ytick_26\">\n     <g id=\"line2d_38\">\n      <g>\n       <use style=\"stroke:#000000;stroke-width:0.6;\" x=\"45.478125\" xlink:href=\"#m8645a21906\" y=\"9.237089\"/>\n      </g>\n     </g>\n    </g>\n    <g id=\"text_9\">\n     <!-- loss -->\n     <defs>\n      <path d=\"M 9.421875 75.984375 \nL 18.40625 75.984375 \nL 18.40625 0 \nL 9.421875 0 \nz\n\" id=\"DejaVuSans-108\"/>\n     </defs>\n     <g transform=\"translate(14.798437 84.807812)rotate(-90)scale(0.1 -0.1)\">\n      <use xlink:href=\"#DejaVuSans-108\"/>\n      <use x=\"27.783203\" xlink:href=\"#DejaVuSans-111\"/>\n      <use x=\"88.964844\" xlink:href=\"#DejaVuSans-115\"/>\n      <use x=\"141.064453\" xlink:href=\"#DejaVuSans-115\"/>\n     </g>\n    </g>\n   </g>\n   <g id=\"line2d_39\">\n    <path clip-path=\"url(#p056fa1089a)\" d=\"M 53.369034 114.710027 \nL 63.23267 100.380961 \nL 73.096307 98.190725 \nL 82.959943 86.276396 \nL 92.82358 83.361522 \nL 102.687216 83.502859 \nL 112.550852 59.375462 \nL 122.414489 72.103702 \nL 132.278125 43.327906 \nL 142.141761 63.4689 \nL 152.005398 46.462856 \nL 161.869034 43.533555 \nL 171.73267 52.436611 \nL 181.596307 23.751136 \nL 191.459943 46.87119 \nL 201.32358 22.76532 \nL 211.187216 27.773762 \nL 221.050852 28.938763 \nL 230.914489 13.377273 \nL 240.778125 14.284591 \n\" style=\"fill:none;stroke:#1f77b4;stroke-linecap:square;stroke-width:1.5;\"/>\n   </g>\n   <g id=\"line2d_40\">\n    <path clip-path=\"url(#p056fa1089a)\" d=\"M 53.369034 136.922727 \nL 63.23267 111.783017 \nL 73.096307 106.004573 \nL 82.959943 134.599278 \nL 92.82358 101.590151 \nL 102.687216 124.059203 \nL 112.550852 106.496992 \nL 122.414489 100.202097 \nL 132.278125 102.162092 \nL 142.141761 96.449053 \nL 152.005398 100.084665 \nL 161.869034 94.320549 \nL 171.73267 91.438054 \nL 181.596307 81.016401 \nL 191.459943 90.170096 \nL 201.32358 78.151999 \nL 211.187216 79.310484 \nL 221.050852 71.936578 \nL 230.914489 67.730516 \nL 240.778125 68.504691 \n\" style=\"fill:none;stroke:#ff7f0e;stroke-linecap:square;stroke-width:1.5;\"/>\n   </g>\n   <g id=\"patch_3\">\n    <path d=\"M 45.478125 143.1 \nL 45.478125 7.2 \n\" style=\"fill:none;stroke:#000000;stroke-linecap:square;stroke-linejoin:miter;stroke-width:0.8;\"/>\n   </g>\n   <g id=\"patch_4\">\n    <path d=\"M 240.778125 143.1 \nL 240.778125 7.2 \n\" style=\"fill:none;stroke:#000000;stroke-linecap:square;stroke-linejoin:miter;stroke-width:0.8;\"/>\n   </g>\n   <g id=\"patch_5\">\n    <path d=\"M 45.478125 143.1 \nL 240.778125 143.1 \n\" style=\"fill:none;stroke:#000000;stroke-linecap:square;stroke-linejoin:miter;stroke-width:0.8;\"/>\n   </g>\n   <g id=\"patch_6\">\n    <path d=\"M 45.478125 7.2 \nL 240.778125 7.2 \n\" style=\"fill:none;stroke:#000000;stroke-linecap:square;stroke-linejoin:miter;stroke-width:0.8;\"/>\n   </g>\n   <g id=\"legend_1\">\n    <g id=\"patch_7\">\n     <path d=\"M 52.478125 44.55625 \nL 107.753125 44.55625 \nQ 109.753125 44.55625 109.753125 42.55625 \nL 109.753125 14.2 \nQ 109.753125 12.2 107.753125 12.2 \nL 52.478125 12.2 \nQ 50.478125 12.2 50.478125 14.2 \nL 50.478125 42.55625 \nQ 50.478125 44.55625 52.478125 44.55625 \nz\n\" style=\"fill:#ffffff;opacity:0.8;stroke:#cccccc;stroke-linejoin:miter;\"/>\n    </g>\n    <g id=\"line2d_41\">\n     <path d=\"M 54.478125 20.298437 \nL 74.478125 20.298437 \n\" style=\"fill:none;stroke:#1f77b4;stroke-linecap:square;stroke-width:1.5;\"/>\n    </g>\n    <g id=\"line2d_42\"/>\n    <g id=\"text_10\">\n     <!-- train -->\n     <defs>\n      <path d=\"M 18.3125 70.21875 \nL 18.3125 54.6875 \nL 36.8125 54.6875 \nL 36.8125 47.703125 \nL 18.3125 47.703125 \nL 18.3125 18.015625 \nQ 18.3125 11.328125 20.140625 9.421875 \nQ 21.96875 7.515625 27.59375 7.515625 \nL 36.8125 7.515625 \nL 36.8125 0 \nL 27.59375 0 \nQ 17.1875 0 13.234375 3.875 \nQ 9.28125 7.765625 9.28125 18.015625 \nL 9.28125 47.703125 \nL 2.6875 47.703125 \nL 2.6875 54.6875 \nL 9.28125 54.6875 \nL 9.28125 70.21875 \nz\n\" id=\"DejaVuSans-116\"/>\n      <path d=\"M 41.109375 46.296875 \nQ 39.59375 47.171875 37.8125 47.578125 \nQ 36.03125 48 33.890625 48 \nQ 26.265625 48 22.1875 43.046875 \nQ 18.109375 38.09375 18.109375 28.8125 \nL 18.109375 0 \nL 9.078125 0 \nL 9.078125 54.6875 \nL 18.109375 54.6875 \nL 18.109375 46.1875 \nQ 20.953125 51.171875 25.484375 53.578125 \nQ 30.03125 56 36.53125 56 \nQ 37.453125 56 38.578125 55.875 \nQ 39.703125 55.765625 41.0625 55.515625 \nz\n\" id=\"DejaVuSans-114\"/>\n      <path d=\"M 34.28125 27.484375 \nQ 23.390625 27.484375 19.1875 25 \nQ 14.984375 22.515625 14.984375 16.5 \nQ 14.984375 11.71875 18.140625 8.90625 \nQ 21.296875 6.109375 26.703125 6.109375 \nQ 34.1875 6.109375 38.703125 11.40625 \nQ 43.21875 16.703125 43.21875 25.484375 \nL 43.21875 27.484375 \nz\nM 52.203125 31.203125 \nL 52.203125 0 \nL 43.21875 0 \nL 43.21875 8.296875 \nQ 40.140625 3.328125 35.546875 0.953125 \nQ 30.953125 -1.421875 24.3125 -1.421875 \nQ 15.921875 -1.421875 10.953125 3.296875 \nQ 6 8.015625 6 15.921875 \nQ 6 25.140625 12.171875 29.828125 \nQ 18.359375 34.515625 30.609375 34.515625 \nL 43.21875 34.515625 \nL 43.21875 35.40625 \nQ 43.21875 41.609375 39.140625 45 \nQ 35.0625 48.390625 27.6875 48.390625 \nQ 23 48.390625 18.546875 47.265625 \nQ 14.109375 46.140625 10.015625 43.890625 \nL 10.015625 52.203125 \nQ 14.9375 54.109375 19.578125 55.046875 \nQ 24.21875 56 28.609375 56 \nQ 40.484375 56 46.34375 49.84375 \nQ 52.203125 43.703125 52.203125 31.203125 \nz\n\" id=\"DejaVuSans-97\"/>\n      <path d=\"M 9.421875 54.6875 \nL 18.40625 54.6875 \nL 18.40625 0 \nL 9.421875 0 \nz\nM 9.421875 75.984375 \nL 18.40625 75.984375 \nL 18.40625 64.59375 \nL 9.421875 64.59375 \nz\n\" id=\"DejaVuSans-105\"/>\n      <path d=\"M 54.890625 33.015625 \nL 54.890625 0 \nL 45.90625 0 \nL 45.90625 32.71875 \nQ 45.90625 40.484375 42.875 44.328125 \nQ 39.84375 48.1875 33.796875 48.1875 \nQ 26.515625 48.1875 22.3125 43.546875 \nQ 18.109375 38.921875 18.109375 30.90625 \nL 18.109375 0 \nL 9.078125 0 \nL 9.078125 54.6875 \nL 18.109375 54.6875 \nL 18.109375 46.1875 \nQ 21.34375 51.125 25.703125 53.5625 \nQ 30.078125 56 35.796875 56 \nQ 45.21875 56 50.046875 50.171875 \nQ 54.890625 44.34375 54.890625 33.015625 \nz\n\" id=\"DejaVuSans-110\"/>\n     </defs>\n     <g transform=\"translate(82.478125 23.798437)scale(0.1 -0.1)\">\n      <use xlink:href=\"#DejaVuSans-116\"/>\n      <use x=\"39.208984\" xlink:href=\"#DejaVuSans-114\"/>\n      <use x=\"80.322266\" xlink:href=\"#DejaVuSans-97\"/>\n      <use x=\"141.601562\" xlink:href=\"#DejaVuSans-105\"/>\n      <use x=\"169.384766\" xlink:href=\"#DejaVuSans-110\"/>\n     </g>\n    </g>\n    <g id=\"line2d_43\">\n     <path d=\"M 54.478125 34.976562 \nL 74.478125 34.976562 \n\" style=\"fill:none;stroke:#ff7f0e;stroke-linecap:square;stroke-width:1.5;\"/>\n    </g>\n    <g id=\"line2d_44\"/>\n    <g id=\"text_11\">\n     <!-- test -->\n     <g transform=\"translate(82.478125 38.476562)scale(0.1 -0.1)\">\n      <use xlink:href=\"#DejaVuSans-116\"/>\n      <use x=\"39.208984\" xlink:href=\"#DejaVuSans-101\"/>\n      <use x=\"100.732422\" xlink:href=\"#DejaVuSans-115\"/>\n      <use x=\"152.832031\" xlink:href=\"#DejaVuSans-116\"/>\n     </g>\n    </g>\n   </g>\n  </g>\n </g>\n <defs>\n  <clipPath id=\"p056fa1089a\">\n   <rect height=\"135.9\" width=\"195.3\" x=\"45.478125\" y=\"7.2\"/>\n  </clipPath>\n </defs>\n</svg>\n"
          },
          "metadata": {
            "tags": [],
            "needs_background": "light"
          }
        }
      ]
    },
    {
      "cell_type": "markdown",
      "metadata": {
        "id": "s2aOl7a3Ck5j"
      },
      "source": [
        "## Concise Implementation\n",
        "\n",
        "Because weight decay is ubiquitous in neural network optimization,\n",
        "Pytorch makes it especially convenient,\n",
        "integrating weight decay into the optimization algorithm itself\n",
        "for easy use in combination with any loss function.\n",
        "Moreover, this integration serves a computational benefit,\n",
        "allowing implementation tricks to add weight decay to the algorithm,\n",
        "without any additional computational overhead.\n",
        "Since the weight decay portion of the update\n",
        "depdends only on the current value of each parameter,\n",
        "and the optimizer must to touch each parameter once anyway.\n",
        "\n",
        "In the following code, we specify\n",
        "the weight decay hyper-parameter directly\n",
        "through the `weight_decay` parameter when instantiating our `Optimizer`.\n",
        "By default, Pytorch decays both weights and biases simultaneously.\n",
        "Per-Parameter or Parameters with different lr,weight_decay can be specified \n",
        "in the optimizer function using an iterable of `dict`s"
      ]
    },
    {
      "cell_type": "code",
      "metadata": {
        "id": "lr1UMpaECk5j"
      },
      "source": [
        "def fit_and_plot_pytorch(wd):\n",
        "    net = nn.Sequential(nn.Linear(200, 1))\n",
        "    #Random Uniform Initialization of the Model parameters\n",
        "    for param in net.parameters():\n",
        "        param.data.uniform_()\n",
        "    \n",
        "    loss = nn.MSELoss()\n",
        "    # The weight parameter has been decayed with its weight_decay set as wd\n",
        "    # The weight_decay for bias is by default zero (no decay)\n",
        "    optimizer = torch.optim.SGD([\n",
        "        {\"params\":net[0].weight,'weight_decay': wd},\n",
        "        {\"params\":net[0].bias}\n",
        "    ],lr=lr)\n",
        "    train_ls, test_ls = [], []\n",
        "    for _ in range(num_epochs):\n",
        "        for X, y in train_iter:\n",
        "            with torch.enable_grad():\n",
        "                optimizer.zero_grad()\n",
        "                l = loss(net(X), y)\n",
        "            l.backward()\n",
        "            # Call the step function to\n",
        "            # update the weight and bias\n",
        "            optimizer.step()\n",
        "        train_ls.append(torch.mean(loss(net(train_features),\n",
        "                             train_labels)).item())\n",
        "        test_ls.append(torch.mean(loss(net(test_features),\n",
        "                            test_labels)).item())\n",
        "    semilogy(range(1, num_epochs + 1), train_ls, 'epochs', 'loss',\n",
        "                 range(1, num_epochs + 1), test_ls, ['train', 'test'])\n",
        "    print('L2 norm of w:', net[0].weight.norm().item())"
      ],
      "execution_count": null,
      "outputs": []
    },
    {
      "cell_type": "markdown",
      "metadata": {
        "id": "4gsa_JusCk5l"
      },
      "source": [
        "The plots look just the same as when we implemented weight decay from scratch\n",
        "but they run a bit faster and are easier to implement,\n",
        "a benefit that will become more pronounced for large problems."
      ]
    },
    {
      "cell_type": "code",
      "metadata": {
        "id": "zRqH4IIOCk5m",
        "colab": {
          "base_uri": "https://localhost:8080/",
          "height": 283
        },
        "outputId": "b40eb2a2-cd38-4549-bdd7-0127f5ddfaf4"
      },
      "source": [
        "fit_and_plot_pytorch(0)"
      ],
      "execution_count": null,
      "outputs": [
        {
          "output_type": "error",
          "ename": "NameError",
          "evalue": "ignored",
          "traceback": [
            "\u001b[0;31m---------------------------------------------------------------------------\u001b[0m",
            "\u001b[0;31mNameError\u001b[0m                                 Traceback (most recent call last)",
            "\u001b[0;32m<ipython-input-141-af1b27569ef0>\u001b[0m in \u001b[0;36m<module>\u001b[0;34m()\u001b[0m\n\u001b[0;32m----> 1\u001b[0;31m \u001b[0mfit_and_plot_pytorch\u001b[0m\u001b[0;34m(\u001b[0m\u001b[0;36m0\u001b[0m\u001b[0;34m)\u001b[0m\u001b[0;34m\u001b[0m\u001b[0;34m\u001b[0m\u001b[0m\n\u001b[0m",
            "\u001b[0;32m<ipython-input-140-d3793d38b956>\u001b[0m in \u001b[0;36mfit_and_plot_pytorch\u001b[0;34m(wd)\u001b[0m\n\u001b[1;32m     11\u001b[0m         \u001b[0;34m{\u001b[0m\u001b[0;34m\"params\"\u001b[0m\u001b[0;34m:\u001b[0m\u001b[0mnet\u001b[0m\u001b[0;34m[\u001b[0m\u001b[0;36m0\u001b[0m\u001b[0;34m]\u001b[0m\u001b[0;34m.\u001b[0m\u001b[0mweight\u001b[0m\u001b[0;34m,\u001b[0m\u001b[0;34m'weight_decay'\u001b[0m\u001b[0;34m:\u001b[0m \u001b[0mwd\u001b[0m\u001b[0;34m}\u001b[0m\u001b[0;34m,\u001b[0m\u001b[0;34m\u001b[0m\u001b[0;34m\u001b[0m\u001b[0m\n\u001b[1;32m     12\u001b[0m         \u001b[0;34m{\u001b[0m\u001b[0;34m\"params\"\u001b[0m\u001b[0;34m:\u001b[0m\u001b[0mnet\u001b[0m\u001b[0;34m[\u001b[0m\u001b[0;36m0\u001b[0m\u001b[0;34m]\u001b[0m\u001b[0;34m.\u001b[0m\u001b[0mbias\u001b[0m\u001b[0;34m}\u001b[0m\u001b[0;34m\u001b[0m\u001b[0;34m\u001b[0m\u001b[0m\n\u001b[0;32m---> 13\u001b[0;31m     ],lr=lr)\n\u001b[0m\u001b[1;32m     14\u001b[0m     \u001b[0mtrain_ls\u001b[0m\u001b[0;34m,\u001b[0m \u001b[0mtest_ls\u001b[0m \u001b[0;34m=\u001b[0m \u001b[0;34m[\u001b[0m\u001b[0;34m]\u001b[0m\u001b[0;34m,\u001b[0m \u001b[0;34m[\u001b[0m\u001b[0;34m]\u001b[0m\u001b[0;34m\u001b[0m\u001b[0;34m\u001b[0m\u001b[0m\n\u001b[1;32m     15\u001b[0m     \u001b[0;32mfor\u001b[0m \u001b[0m_\u001b[0m \u001b[0;32min\u001b[0m \u001b[0mrange\u001b[0m\u001b[0;34m(\u001b[0m\u001b[0mnum_epochs\u001b[0m\u001b[0;34m)\u001b[0m\u001b[0;34m:\u001b[0m\u001b[0;34m\u001b[0m\u001b[0;34m\u001b[0m\u001b[0m\n",
            "\u001b[0;31mNameError\u001b[0m: name 'lr' is not defined"
          ]
        }
      ]
    },
    {
      "cell_type": "code",
      "metadata": {
        "id": "cYsgVQziCk5o"
      },
      "source": [
        "fit_and_plot_pytorch(3)"
      ],
      "execution_count": null,
      "outputs": []
    },
    {
      "cell_type": "markdown",
      "metadata": {
        "id": "Hctmsj-vCk5q"
      },
      "source": [
        "So far, we only touched upon one notion of\n",
        "what constitutes a simple *linear* function.\n",
        "For nonlinear functions, what constitutes *simplicity*\n",
        "can be a far more complex question.\n",
        "For instance, there exist [Reproducing Kernel Hilbert Spaces (RKHS)](https://en.wikipedia.org/wiki/Reproducing_kernel_Hilbert_space)\n",
        "which allow one to use many of the tools\n",
        "introduced for linear functions in a nonlinear context.\n",
        "Unfortunately, RKHS-based algorithms\n",
        "do not always scale well to massive amounts of data.\n",
        "For the purposes of this book, we limit ourselves\n",
        "to simply summing over the weights for different layers,\n",
        "e.g. via $\\sum_l \\|\\mathbf{w}_l\\|^2$,\n",
        "which is equivalent to weight decay applied to all layers.\n",
        "\n",
        "\n",
        "## Summary\n",
        "\n",
        "* Regularization is a common method for dealing with overfitting. It adds a penalty term to the loss function on the training set to reduce the complexity of the learned model.\n",
        "* One particular choice for keeping the model simple is weight decay using an $\\ell_2$ penalty. This leads to weight decay in the update steps of the learning algorithm.\n",
        "* Pytorch provides automatic weight decay functionality in the optimizer by setting the hyperparameter `weight_decay`.\n",
        "* You can have different lr,Weight_decay for different sets of parameters in an optimizer. They need to be passed as dicts."
      ]
    },
    {
      "cell_type": "markdown",
      "metadata": {
        "id": "r9JgqMRDCwWT"
      },
      "source": [
        "# Dropout\n",
        "\n",
        "Just now, we introduced the classical approach\n",
        "of regularizing statistical models by penalyzing\n",
        "the $\\ell_2$ norm of the weights.\n",
        "In probabilistic terms, we could justify this technique\n",
        "by arguing that we have assumed a prior belief\n",
        "that weights take values from a Gaussian distribution with mean $0$.\n",
        "More intuitively, we might argue\n",
        "that we encouraged the model to spread out its weights\n",
        "among many features and rather than depending too much\n",
        "on a small number of potentially spurious associations.\n",
        "\n",
        "## Overfitting Revisited\n",
        "\n",
        "Given many more features than examples, linear models can overfit.\n",
        "But when there are many more examples than features,\n",
        "we can generally count on linear models not to overfit.\n",
        "Unfortunately, the reliability with which linear models generalize\n",
        "comes at a cost:\n",
        "Linear models can’t take into account interactions among features.\n",
        "For every feature, a linear model must assign\n",
        "either a positive or a negative weight.\n",
        "They lack the flexibility to account for context.\n",
        "\n",
        "In more formal texts, you’ll see this fundamental tension\n",
        "between generalizability and flexibility\n",
        "discussed as the *bias-variance tradeoff*.\n",
        "Linear models have high bias\n",
        "(they can only represent a small class of functions),\n",
        "but low variance (they give similar results\n",
        "across different random samples of the data).\n",
        "\n",
        "Deep neural networks take us to the opposite end\n",
        "of the bias-variance spectrum.\n",
        "Neural networks are so flexible because\n",
        "they aren’t confined to looking at each feature individually.\n",
        "Instead, they can learn interactions among groups of features.\n",
        "For example, they might infer that “Nigeria” and “Western Union”\n",
        "appearing together in an email indicates spam\n",
        "but that “Nigeria” without “Western Union” does not.\n",
        "\n",
        "Even when we only have a small number of features,\n",
        "deep neural networks are capable of overfitting.\n",
        "In 2017, a group of researchers presented a now well-known\n",
        "demonstration of the incredible flexibility of neural networks.\n",
        "They presented a neural network with randomly-labeled images\n",
        "(there was no true pattern linking the inputs to the outputs)\n",
        "and found that the neural network, optimized by SGD,\n",
        "could label every image in the training set perfectly.\n",
        "\n",
        "Consider what this means.\n",
        "If the labels are assigned uniformly at random and there are 10 classes,\n",
        "then no classifier can get better than 10% accuracy on holdout data.\n",
        "Yet even in these situations, when there is no true pattern to be learned, neural networks can perfectly fit the training labels.\n",
        "\n",
        "## Robustness through Perturbations\n",
        "\n",
        "Let's think briefly about what we expect from a good statistical model.\n",
        "We want it to do well on unseen test data.\n",
        "One way we can accomplish this is by asking\n",
        "what constitutes a a 'simple' model?\n",
        "Simplicity can come in the form\n",
        "of a small number of dimensions,\n",
        "which is what we did when discussing fitting a model\n",
        "with monomial basis functions.\n",
        "Simplicity can also come in the form\n",
        "of a small norm for the basis functions.\n",
        "This led us to weight decay ($\\ell_2$ regularization).\n",
        "Yet a third notion of simplicity that we can impose\n",
        "is that the function should be robust\n",
        "under small changes in the input.\n",
        "For instance, when we classify images,\n",
        "we would expect that adding some random noise\n",
        "to the pixels should be mostly harmless.\n",
        "\n",
        "\n",
        "In 1995, Christopher Bishop formalized\n",
        "a form of this idea when he proved\n",
        "that [*training with input noise is equivalent to Tikhonov regularization*](https://www.mitpressjournals.org/doi/10.1162/neco.1995.7.1.108).\n",
        "In other words, he drew a clear mathematical connection\n",
        "between the requirement that a function be smooth (and thus simple),\n",
        "as we discussed in the section on weight decay,\n",
        "with and the requirement that it be resilient to perturbations in the input.\n",
        "\n",
        "Then in 2014, [Srivastava et al., 2014](http://jmlr.org/papers/volume15/srivastava14a.old/srivastava14a.pdf),\n",
        "developed a clever idea for how to apply Bishop's idea\n",
        "to the *internal* layers of the network, too.\n",
        "Namely they proposed to inject noise into each layer of the network\n",
        "before calculating the subsequent layer during training.\n",
        "They realized that when training deep network with many layers,\n",
        "enforcing smoothness just on the input-output mapping\n",
        "misses out on what is happening internally in the network.\n",
        "Their proposed idea is called *dropout*,\n",
        "and it is now a standard technique\n",
        "that is widely used for training neural networks.\n",
        "Throughout training, on each iteration,\n",
        "dropout regularization consists simply of zeroing out\n",
        "some fraction (typically 50%) of the nodes in each layer\n",
        "before calculating the subsequent layer.\n",
        "\n",
        "The key challenge then is how to inject this noise\n",
        "without introducing undue statistical *bias*.\n",
        "In other words, we want to perturb the inputs\n",
        "to each layer during training\n",
        "in such a way that the expected value of the layer\n",
        "is equal to the value it would have taken\n",
        "had we not introduced any noise at all.\n",
        "\n",
        "In Bishop's case, when we are adding\n",
        "Gaussian noise to a linear model,\n",
        "this is simple:\n",
        "At each training iteration, just add noise\n",
        "sampled from a distribution with mean zero\n",
        "$\\epsilon \\sim \\mathcal{N}(0,\\sigma^2)$ to the input $\\mathbf{x}$ ,\n",
        "yielding a perturbed point $\\mathbf{x}' = \\mathbf{x} + \\epsilon$.\n",
        "In expectation, $\\mathbf{E}[\\mathbf{x}'] = \\mathbf{x}$.\n",
        "\n",
        "In the case of dropout regularization,\n",
        "one can debias each layer\n",
        "by normalizing by the fraction of nodes that were not dropped out.\n",
        "In other words, dropout with drop probability $p$ is applied as follows:\n",
        "\n",
        "$$\n",
        "\\begin{aligned}\n",
        "h' =\n",
        "\\begin{cases}\n",
        "    0 & \\text{ with probability } p \\\\\n",
        "    \\frac{h}{1-p} & \\text{ otherwise}\n",
        "\\end{cases}\n",
        "\\end{aligned}\n",
        "$$\n",
        "\n",
        "By design, the expectation remains unchanged,\n",
        "i.e., $\\mathbf{E}[h'] = h$.\n",
        "Intermediate activations $h$ are replaced by a random variable $h'$\n",
        "with matching expectation.\n",
        "The name 'dropout' arises from the notion\n",
        "that some neurons 'drop out' of the computation\n",
        "for the purpose of computing the final result.\n",
        "During training, we replace intermediate activations with random variables.\n",
        "\n",
        "## Dropout in Practice\n",
        "\n",
        "Recall the multilayer perceptron (:numref:`chapter_mlp`) with a hidden layer and 5 hidden units. Its architecture is given by\n",
        "\n",
        "$$\n",
        "\\begin{aligned}\n",
        "    h & = \\sigma(W_1 x + b_1) \\\\\n",
        "    o & = W_2 h + b_2 \\\\\n",
        "    \\hat{y} & = \\mathrm{softmax}(o)\n",
        "\\end{aligned}\n",
        "$$\n",
        "\n",
        "When we apply dropout to the hidden layer,\n",
        "we are essentially removing each hidden unit with probability $p$,\n",
        "(i.e., setting their output to $0$).\n",
        "We can view the result as a network containing\n",
        "only a subset of the original neurons.\n",
        "In the image below, $h_2$ and $h_5$ are removed.\n",
        "Consequently, the calculation of $y$ no longer depends on $h_2$ and $h_5$\n",
        "and their respective gradient also vanishes when performing backprop.\n",
        "In this way, the calculation of the output layer\n",
        "cannot be overly dependent on any one element of $h_1, \\ldots, h_5$.\n",
        "Intuitively, deep learning researchers often explain the inutition thusly:\n",
        "we do not want the network's output to depend\n",
        "too precariously on the exact activation pathway through the network.\n",
        "The original authors of the dropout technique\n",
        "described their intuition as an effort\n",
        "to prevent the *co-adaptation* of feature detectors.\n"
      ]
    },
    {
      "cell_type": "code",
      "metadata": {
        "id": "6rqlpIrcCwWU"
      },
      "source": [
        "from IPython.display import SVG\n",
        "SVG(filename = '../img/dropout2.svg')"
      ],
      "execution_count": null,
      "outputs": []
    },
    {
      "cell_type": "markdown",
      "metadata": {
        "id": "SirMxKu4CwWY"
      },
      "source": [
        "At test time, we typically do not use dropout.\n",
        "However, we note that there are some exceptions:\n",
        "some researchers use dropout at test time as a heuristic appraoch\n",
        "for estimating the *confidence* of neural network predictions:\n",
        "if the predictions agree across many different dropout masks,\n",
        "then we might say that the network is more confident.\n",
        "For now we will put off the advanced topic of uncertainty estimation\n",
        "for subsequent chapters and volumes.\n",
        "\n",
        "\n",
        "## Implementation from Scratch\n",
        "\n",
        "To implement the dropout function for a single layer,\n",
        "we must draw as many samples from a Bernoulli (binary) random variable\n",
        "as our layer has dimensions, where the random variable takes value $1$ (keep) with probability $1-p$ and $0$ (drop) with probability $p$.\n",
        "One easy way to implement this is to first draw samples\n",
        "from the uniform distribution $U[0,1]$.\n",
        "then we can keep those nodes for which the corresponding\n",
        "sample is greater than $p$, dropping the rest.\n",
        "\n",
        "In the following code, we implement a `dropout` function\n",
        "that drops out the elements in the Tensor input `X`\n",
        "with probability `drop_prob`,\n",
        "rescaling the remainder as described above\n",
        "(dividing the survivors by `1.0-drop_prob`).\n"
      ]
    },
    {
      "cell_type": "code",
      "metadata": {
        "id": "qTVRmSJQCwWY"
      },
      "source": [
        "import torch\n",
        "import torch.nn as nn\n",
        "import torch.nn.functional as F\n",
        "import torch.optim as optim\n",
        "import torchvision\n",
        "from torchvision import transforms\n",
        "from torch.utils import data\n",
        "%config InlineBackend.figure_formats = ['svg']\n",
        "import matplotlib.pyplot as plt\n",
        "import sys\n",
        "from IPython import display\n",
        "sys.path.insert(0, '..')"
      ],
      "execution_count": null,
      "outputs": []
    },
    {
      "cell_type": "code",
      "metadata": {
        "id": "Cz17Tub7CwWb"
      },
      "source": [
        "def dropout(X, drop_prob):\n",
        "    assert 0 <= drop_prob <= 1\n",
        "    # In this case, all elements are dropped out\n",
        "    if drop_prob == 1:\n",
        "        return torch.zeros_like(X)\n",
        "    mask = (torch.FloatTensor(X.shape).uniform_(0, 1) > drop_prob).float()\n",
        "    return mask * X / (1.0 - drop_prob)"
      ],
      "execution_count": null,
      "outputs": []
    },
    {
      "cell_type": "markdown",
      "metadata": {
        "id": "-9u9bdcDCwWd"
      },
      "source": [
        "We can test out the `dropout` function on a few examples.\n",
        "In the following lines of code, we pass our input `X`\n",
        "through the dropout operation, with probabilities 0, 0.5, and 1, respectively."
      ]
    },
    {
      "cell_type": "code",
      "metadata": {
        "id": "wNBYYsckCwWd"
      },
      "source": [
        "X = torch.arange(16, dtype = torch.float32).reshape((2, 8))\n",
        "print(X)\n",
        "print(dropout(X, 0.))\n",
        "print(dropout(X, 0.5))\n",
        "print(dropout(X, 1.))"
      ],
      "execution_count": null,
      "outputs": []
    },
    {
      "cell_type": "markdown",
      "metadata": {
        "id": "6fiIRIn0CwWg"
      },
      "source": [
        "### Defining Model Parameters\n",
        "\n",
        "Again, we can use the Fashion-MNIST dataset,\n",
        "introduced in :numref:`chapter_softmax_scratch`.\n",
        "We will define a multilayer perceptron with two hidden layers.\n",
        "The two hidden layers both have 256 outputs.\n"
      ]
    },
    {
      "cell_type": "markdown",
      "metadata": {
        "id": "s2GYQOTQCwWg"
      },
      "source": [
        "### Define the Model\n",
        "\n",
        "The model defined below concatenates the fully-connected layer\n",
        " and the activation function ReLU,\n",
        " using dropout for the output of each activation function.\n",
        " We can set the dropout probability of each layer separately.\n",
        " It is generally recommended to set\n",
        " a lower dropout probability closer to the input layer.\n",
        " Below we set it to 0.2 and 0.5 for the first and second hidden layer respectively.\n",
        " By using the `is_training` function described in :numref:`chapter_autograd`,\n",
        " we can ensure that dropout is only active during training."
      ]
    },
    {
      "cell_type": "code",
      "metadata": {
        "id": "Dyb9cbxUCwWh"
      },
      "source": [
        "drop_prob1, drop_prob2 = 0.2, 0.5\n",
        "\n",
        "class Net(nn.Module):\n",
        "    def __init__(self, num_inputs = 784, num_outputs = 10, num_hiddens1 = 256, num_hiddens2 = 256, is_training = True):\n",
        "        super(Net, self).__init__()\n",
        "        \n",
        "        self.num_inputs = num_inputs\n",
        "        self.num_outputs = num_outputs\n",
        "        self.num_hiddens1 = num_hiddens1\n",
        "        self.num_hiddens2 = num_hiddens2\n",
        "        self.is_training = is_training\n",
        "        \n",
        "        self.linear_1 = nn.Linear(num_inputs, num_hiddens1)\n",
        "        self.linear_2 = nn.Linear(num_hiddens1, num_hiddens2)\n",
        "        self.linear_3 = nn.Linear(num_hiddens2, num_outputs)\n",
        "        \n",
        "        self.relu = nn.ReLU()\n",
        "    \n",
        "    def forward(self, X):\n",
        "        X = X.reshape((-1, self.num_inputs))\n",
        "        H1 = self.relu(self.linear_1(X))\n",
        "        # Use dropout only when training the model\n",
        "        if self.is_training == True:\n",
        "            # Add a dropout layer after the first fully connected layer\n",
        "            H1 = dropout(H1, drop_prob1)\n",
        "        H2 = self.relu(self.linear_2(H1))\n",
        "        if self.is_training == True:\n",
        "            # Add a dropout layer after the second fully connected layer\n",
        "            H2 = dropout(H2, drop_prob2)\n",
        "        out = self.linear_3(H2)\n",
        "        return out\n",
        "\n",
        "net = Net()\n",
        "print(net)"
      ],
      "execution_count": null,
      "outputs": []
    },
    {
      "cell_type": "markdown",
      "metadata": {
        "id": "PbT0vaLyCwWj"
      },
      "source": [
        "### Training and Testing\n",
        "\n",
        "This is similar to the training and testing of multilayer perceptrons described previously."
      ]
    },
    {
      "cell_type": "code",
      "metadata": {
        "id": "YuxekzWOL98G"
      },
      "source": [
        "def get_dataloader_workers(num_workers=4):  \n",
        "    # 0 means no additional process is used to speed up the reading of data.\n",
        "    if sys.platform.startswith('win'):\n",
        "        return 0\n",
        "    else:\n",
        "        return num_workers\n",
        "\n",
        "def load_data_fashion_mnist(batch_size, resize=None):  \n",
        "    \"\"\"Download the Fashion-MNIST dataset and then load into memory.\"\"\"\n",
        "    trans = [transforms.Resize(resize)] if resize else []\n",
        "    trans.append(transforms.ToTensor())\n",
        "    trans = transforms.Compose(trans)\n",
        "\n",
        "    mnist_train = torchvision.datasets.FashionMNIST(\n",
        "        root=\"../data\", train=True, transform=trans, download=True)\n",
        "    mnist_test = torchvision.datasets.FashionMNIST(\n",
        "        root=\"../data\", train=False, transform=trans, download=True)\n",
        "    return (data.DataLoader(mnist_train, batch_size, shuffle=True,\n",
        "                            num_workers=get_dataloader_workers()),\n",
        "            data.DataLoader(mnist_test, batch_size, shuffle=False,\n",
        "                            num_workers=get_dataloader_workers()))\n",
        "\n",
        "\n",
        "\n",
        "def train_epoch_ch3(net, train_iter, loss, updater):  \n",
        "    metric = Accumulator(3)  # train_loss_sum, train_acc_sum, num_examples\n",
        "    pt_optimizer=False\n",
        "    if isinstance(updater, torch.optim.Optimizer):\n",
        "        pt_optimizer=True\n",
        "    for X, y in train_iter:\n",
        "        # Compute gradients and update parameters\n",
        "        y_hat = net(X)\n",
        "        l = loss(y_hat, y)\n",
        "        if pt_optimizer:\n",
        "            updater.zero_grad()\n",
        "            l.backward()\n",
        "            updater.step()\n",
        "            metric.add(float(l)*len(y), float(accuracy(y_hat, y)), len(y))\n",
        "        else:\n",
        "            l.sum().backward()\n",
        "            updater(X.shape[0])\n",
        "            l_sum = float(l.sum())\n",
        "            metric.add(l_sum, accuracy(y_hat, y), y.numpy().size)\n",
        "    # Return training loss and training accuracy\n",
        "    return metric[0]/metric[2], metric[1]/metric[2]\n",
        "\n",
        "def accuracy(y_hat, y):  \n",
        "    if y_hat.shape[1] > 1:\n",
        "        return float((y_hat.argmax(axis=1).type(torch.float32) ==\n",
        "                      y.type(torch.float32)).sum())\n",
        "    else:\n",
        "        return float((y_hat.type(torch.int32) == y.type(torch.int32)).sum())\n",
        "\n",
        "def evaluate_accuracy(net, data_iter):  \n",
        "    metric = Accumulator(2)  # num_corrected_examples, num_examples\n",
        "    for X, y in data_iter:\n",
        "        metric.add(accuracy(net(X), y), y.numpy().size)\n",
        "    return metric[0] / metric[1]\n",
        "\n",
        "def train_ch3(net, train_iter, test_iter, loss, num_epochs, updater):\n",
        "    animator = Animator(xlabel='epoch', xlim=[1, num_epochs],\n",
        "                        ylim=[0.3, 0.9],\n",
        "                        legend=['train loss', 'train acc', 'test acc'])\n",
        "    for epoch in range(num_epochs):\n",
        "        train_metrics = train_epoch_ch3(net, train_iter, loss, updater)\n",
        "        test_acc = evaluate_accuracy(net, test_iter)\n",
        "        animator.add(epoch+1, train_metrics+(test_acc,))"
      ],
      "execution_count": null,
      "outputs": []
    },
    {
      "cell_type": "code",
      "metadata": {
        "id": "na9n5IT9CwWj"
      },
      "source": [
        "num_epochs, lr, batch_size = 10, 0.5, 256\n",
        "train_iter, test_iter = load_data_fashion_mnist(batch_size)\n",
        "criterion = nn.CrossEntropyLoss()\n",
        "trainer = torch.optim.SGD(net.parameters(), lr) \n",
        "train_ch3(net, train_iter, test_iter, criterion, num_epochs, trainer)"
      ],
      "execution_count": null,
      "outputs": []
    },
    {
      "cell_type": "markdown",
      "metadata": {
        "id": "BGi-f0UTCwWm"
      },
      "source": [
        "## Summary\n",
        "\n",
        "* Beyond controlling the number of dimensions and the size of the weight vector, dropout is yet another tool to avoid overfitting. Often all three are used jointly.\n",
        "* Dropout replaces an activation $h$ with a random variable $h'$ with expected value $h$ and with variance given by the dropout probability $p$.\n",
        "* Dropout is only used during training.\n",
        "\n",
        "## References\n",
        "\n",
        "[1] Srivastava, N., Hinton, G., Krizhevsky, A., Sutskever, I., & Salakhutdinov, R. (2014).  JMLR"
      ]
    },
    {
      "cell_type": "markdown",
      "metadata": {
        "id": "64lUkR5vC-F6"
      },
      "source": [
        "# Forward Propagation, Backward Propagation, and Computational Graphs\n",
        "\n",
        "In the previous sections, we used mini-batch\n",
        "stochastic gradient descent to train our models.\n",
        "When we implemented the algorithm,\n",
        "we only worried about the calculations involved\n",
        "in *forward propagation* through the model.\n",
        "In other words, we implemented the calculations\n",
        "required for the model to generate output\n",
        "corresponding to some given input,\n",
        "but when it came time to calculate the gradients of each of our parameters,\n",
        "we invoked the `backward` function,\n",
        "relying on the `torch.autograd` module to figure out what to do.\n",
        "\n",
        "The automatic calculation of gradients profoundly simplifies\n",
        "the implementation of deep learning algorithms.\n",
        "Before automatic differentiation,\n",
        "even small changes to complicated models would require\n",
        "recalculating lots of derivatives by hand.\n",
        "Even academic papers would too often have to allocate\n",
        "lots of page real estate to deriving update rules.\n",
        "\n",
        "While we plan to continue relying on `torch.autograd`,\n",
        "and we have already come a long way\n",
        "without even discussing how these gradients\n",
        "are calculated efficiently under the hood,\n",
        "it's important that you know\n",
        "how updates are actually calculated\n",
        "if you want to go beyond a shallow understanding of deep learning.\n",
        "\n",
        "In this section, we'll peel back the curtain on some of the details\n",
        "of backward propagation (more commonly called *backpropagation* or *backprop*).\n",
        "To convey some insight for both the techniques and how they are implemented,\n",
        "we will rely on both mathematics and computational graphs\n",
        "to describe the mechanics behind neural network computations.\n",
        "To start, we will focus our exposition on\n",
        "a simple multilayer perceptron with a single hidden layer\n",
        "and $\\ell_2$ norm regularization.\n",
        "\n",
        "\n",
        "## Forward Propagation\n",
        "\n",
        "Forward propagation refers to the calculation and storage\n",
        "of intermediate variables (including outputs)\n",
        "for the neural network within the models\n",
        "in the order from input layer to output layer.\n",
        "In the following, we work in detail through the example of a deep network\n",
        "with one hidden layer step by step.\n",
        "This is a bit tedious but it will serve us well\n",
        "when discussing what really goes on when we call `backward`.\n",
        "\n",
        "For the sake of simplicity, let’s assume\n",
        "that the input example is $\\mathbf{x}\\in \\mathbb{R}^d$\n",
        "and there is no bias term.\n",
        "Here the intermediate variable is:\n",
        "\n",
        "$$\\mathbf{z}= \\mathbf{W}^{(1)} \\mathbf{x}$$\n",
        "\n",
        "$\\mathbf{W}^{(1)} \\in \\mathbb{R}^{h \\times d}$\n",
        "is the weight parameter of the hidden layer.\n",
        "After entering the intermediate variable $\\mathbf{z}\\in \\mathbb{R}^h$\n",
        "into the activation function $\\phi$ operated by the basic elements,\n",
        "we will obtain a hidden layer variable with the vector length of $h$,\n",
        "\n",
        "$$\\mathbf{h}= \\phi (\\mathbf{z}).$$\n",
        "\n",
        "The hidden variable $\\mathbf{h}$ is also an intermediate variable.\n",
        "Assuming the parameters of the output layer\n",
        "only possess a weight of $\\mathbf{W}^{(2)} \\in \\mathbb{R}^{q \\times h}$,\n",
        "we can obtain an output layer variable with a vector length of $q$:\n",
        "\n",
        "$$\\mathbf{o}= \\mathbf{W}^{(2)} \\mathbf{h}.$$\n",
        "\n",
        "Assuming the loss function is $l$ and the example label is $y$,\n",
        "we can then calculate the loss term for a single data example,\n",
        "\n",
        "$$L = l(\\mathbf{o}, y).$$\n",
        "\n",
        "According to the definition of $\\ell_2$ norm regularization,\n",
        "given the hyper-parameter $\\lambda$, the regularization term is\n",
        "\n",
        "$$s = \\frac{\\lambda}{2} \\left(\\|\\mathbf{W}^{(1)}\\|_F^2 + \\|\\mathbf{W}^{(2)}\\|_F^2\\right),$$\n",
        "\n",
        "where the Frobenius norm of the matrix is equivalent\n",
        "to the calculation of the $L_2$ norm\n",
        "after flattening the matrix to a vector.\n",
        "Finally, the model's regularized loss on a given data example is\n",
        "\n",
        "$$J = L + s.$$\n",
        "\n",
        "We refer to $J$ as the objective function of a given data example\n",
        "and refer to it as the ‘objective function’ in the following discussion.\n",
        "\n",
        "\n",
        "## Computational Graph of Forward Propagation\n",
        "\n",
        "Plotting computational graphs helps us visualize\n",
        "the dependencies of operators and variables within the calculation.\n",
        "The figure below contains the graph associated\n",
        "with the simple network described above.\n",
        "The lower-left corner signifies the input\n",
        "and the upper right corner the output.\n",
        "Notice that the direction of the arrows (which illustrate data flow)\n",
        "are primarily rightward and upward."
      ]
    },
    {
      "cell_type": "code",
      "metadata": {
        "id": "YShnXAU9C-F6"
      },
      "source": [
        "from IPython.display import SVG\n",
        "SVG(filename=\"../img/forward.svg\")"
      ],
      "execution_count": null,
      "outputs": []
    },
    {
      "cell_type": "markdown",
      "metadata": {
        "id": "SXrJCAtvC-F-"
      },
      "source": [
        "## Backpropagation\n",
        "\n",
        "Backpropagation refers to the method of calculating\n",
        "the gradient of neural network parameters.\n",
        "In general, back propagation calculates and stores\n",
        "the intermediate variables of an objective function\n",
        "related to each layer of the neural network\n",
        "and the gradient of the parameters\n",
        "in the order of the output layer to the input layer\n",
        "according to the ‘chain rule’ in calculus.\n",
        "Assume that we have functions $\\mathsf{Y}=f(\\mathsf{X})$\n",
        "and $\\mathsf{Z}=g(\\mathsf{Y}) = g \\circ f(\\mathsf{X})$,\n",
        "in which the input and the output\n",
        "$\\mathsf{X}, \\mathsf{Y}, \\mathsf{Z}$\n",
        "are tensors of arbitrary shapes.\n",
        "By using the chain rule, we can compute\n",
        "the derivative of $\\mathsf{Z}$ wrt. $\\mathsf{X}$ via\n",
        "\n",
        "$$\\frac{\\partial \\mathsf{Z}}{\\partial \\mathsf{X}} = \\text{prod}\\left(\\frac{\\partial \\mathsf{Z}}{\\partial \\mathsf{Y}}, \\frac{\\partial \\mathsf{Y}}{\\partial \\mathsf{X}}\\right).$$\n",
        "\n",
        "Here we use the $\\text{prod}$ operator\n",
        "to multiply its arguments after the necessary operations,\n",
        "such as transposition and swapping input positions have been carried out.\n",
        "For vectors, this is straightforward:\n",
        "it is simply matrix-matrix multiplication\n",
        "and for higher dimensional tensors we use the appropriate counterpart.\n",
        "The operator $\\text{prod}$ hides all the notation overhead.\n",
        "\n",
        "The parameters of the simple network with one hidden layer\n",
        "are $\\mathbf{W}^{(1)}$ and $\\mathbf{W}^{(2)}$.\n",
        "The objective of backpropagation is to\n",
        "calculate the gradients $\\partial J/\\partial \\mathbf{W}^{(1)}$\n",
        "and $\\partial J/\\partial \\mathbf{W}^{(2)}$.\n",
        "To accomplish this, we will apply the chain rule\n",
        "and calculate, in turn, the gradient of\n",
        "each intermediate variable and parameter.\n",
        "The order of calculations are reversed\n",
        "relative to those performed in forward propagation,\n",
        "since we need to start with the outcome of the compute graph\n",
        "and work our way towards the parameters.\n",
        "The first step is to calculate the gradients\n",
        "of the objective function $J=L+s$\n",
        "with respect to the loss term $L$\n",
        "and the regularization term $s$.\n",
        "\n",
        "$$\\frac{\\partial J}{\\partial L} = 1 \\text{ and } \\frac{\\partial J}{\\partial s} = 1$$\n",
        "\n",
        "Next, we compute the gradient of the objective function\n",
        "with respect to variable of the output layer $\\mathbf{o}$\n",
        "according to the chain rule.\n",
        "\n",
        "$$\n",
        "\\frac{\\partial J}{\\partial \\mathbf{o}}\n",
        "= \\text{prod}\\left(\\frac{\\partial J}{\\partial L}, \\frac{\\partial L}{\\partial \\mathbf{o}}\\right)\n",
        "= \\frac{\\partial L}{\\partial \\mathbf{o}}\n",
        "\\in \\mathbb{R}^q\n",
        "$$\n",
        "\n",
        "Next, we calculate the gradients of the regularization term\n",
        "with respect to both parameters.\n",
        "\n",
        "$$\\frac{\\partial s}{\\partial \\mathbf{W}^{(1)}} = \\lambda \\mathbf{W}^{(1)}\n",
        "\\text{ and }\n",
        "\\frac{\\partial s}{\\partial \\mathbf{W}^{(2)}} = \\lambda \\mathbf{W}^{(2)}$$\n",
        "\n",
        "Now we are able calculate the gradient\n",
        "$\\partial J/\\partial \\mathbf{W}^{(2)} \\in \\mathbb{R}^{q \\times h}$\n",
        "of the model parameters closest to the output layer.\n",
        "Using the chain rule yields:\n",
        "\n",
        "$$\n",
        "\\frac{\\partial J}{\\partial \\mathbf{W}^{(2)}}\n",
        "= \\text{prod}\\left(\\frac{\\partial J}{\\partial \\mathbf{o}}, \\frac{\\partial \\mathbf{o}}{\\partial \\mathbf{W}^{(2)}}\\right) + \\text{prod}\\left(\\frac{\\partial J}{\\partial s}, \\frac{\\partial s}{\\partial \\mathbf{W}^{(2)}}\\right)\n",
        "= \\frac{\\partial J}{\\partial \\mathbf{o}} \\mathbf{h}^\\top + \\lambda \\mathbf{W}^{(2)}\n",
        "$$\n",
        "\n",
        "To obtain the gradient with respect to $\\mathbf{W}^{(1)}$\n",
        "we need to continue backpropagation\n",
        "along the output layer to the hidden layer.\n",
        "The gradient with respect to the hidden layer's outputs\n",
        "$\\partial J/\\partial \\mathbf{h} \\in \\mathbb{R}^h$ is given by\n",
        "\n",
        "\n",
        "$$\n",
        "\\frac{\\partial J}{\\partial \\mathbf{h}}\n",
        "= \\text{prod}\\left(\\frac{\\partial J}{\\partial \\mathbf{o}}, \\frac{\\partial \\mathbf{o}}{\\partial \\mathbf{h}}\\right)\n",
        "= {\\mathbf{W}^{(2)}}^\\top \\frac{\\partial J}{\\partial \\mathbf{o}}.\n",
        "$$\n",
        "\n",
        "Since the activation function $\\phi$ applies element-wise,\n",
        "calculating the gradient $\\partial J/\\partial \\mathbf{z} \\in \\mathbb{R}^h$\n",
        "of the intermediate variable $\\mathbf{z}$\n",
        "requires that we use the element-wise multiplication operator,\n",
        "which we denote by $\\odot$.\n",
        "\n",
        "$$\n",
        "\\frac{\\partial J}{\\partial \\mathbf{z}}\n",
        "= \\text{prod}\\left(\\frac{\\partial J}{\\partial \\mathbf{h}}, \\frac{\\partial \\mathbf{h}}{\\partial \\mathbf{z}}\\right)\n",
        "= \\frac{\\partial J}{\\partial \\mathbf{h}} \\odot \\phi'\\left(\\mathbf{z}\\right).\n",
        "$$\n",
        "\n",
        "Finally, we can obtain the gradient\n",
        "$\\partial J/\\partial \\mathbf{W}^{(1)} \\in \\mathbb{R}^{h \\times d}$\n",
        "of the model parameters closest to the input layer.\n",
        "According to the chain rule, we get\n",
        "\n",
        "$$\n",
        "\\frac{\\partial J}{\\partial \\mathbf{W}^{(1)}}\n",
        "= \\text{prod}\\left(\\frac{\\partial J}{\\partial \\mathbf{z}}, \\frac{\\partial \\mathbf{z}}{\\partial \\mathbf{W}^{(1)}}\\right) + \\text{prod}\\left(\\frac{\\partial J}{\\partial s}, \\frac{\\partial s}{\\partial \\mathbf{W}^{(1)}}\\right)\n",
        "= \\frac{\\partial J}{\\partial \\mathbf{z}} \\mathbf{x}^\\top + \\lambda \\mathbf{W}^{(1)}.\n",
        "$$\n",
        "\n",
        "## Training a Model\n",
        "\n",
        "When training networks, forward and backward propagation depend on each other. In particular, for forward propagation,\n",
        "we traverse the compute graph in the direction of dependencies\n",
        "and compute all the variables on its path.\n",
        "These are then used for backpropagation\n",
        "where the compute order on the graph is reversed.\n",
        "One of the consequences is that we need to retain\n",
        "the intermediate values until backpropagation is complete.\n",
        "This is also one of the reasons why backpropagation\n",
        "requires significantly more memory than plain 'inference'—we end up\n",
        "computing tensors as gradients\n",
        "and need to retain all the intermediate variables\n",
        "to invoke the chain rule.\n",
        "Another reason is that we typically train\n",
        "with minibatches containing more than one variable,\n",
        "thus more intermediate activations need to be stored.\n",
        "\n",
        "## Summary\n",
        "\n",
        "* Forward propagation sequentially calculates and stores intermediate variables within the compute graph defined by the neural network. It proceeds from input to output layer.\n",
        "* Back propagation sequentially calculates and stores the gradients of intermediate variables and parameters within the neural network in the reversed order.\n",
        "* When training deep learning models, forward propagation and back propagation are interdependent.\n",
        "* Training requires significantly more memory and storage.\n",
        "\n"
      ]
    },
    {
      "cell_type": "markdown",
      "metadata": {
        "id": "wWxxP4HTJk9B"
      },
      "source": [
        ""
      ]
    },
    {
      "cell_type": "markdown",
      "metadata": {
        "id": "Z6jd5gGCQHfD"
      },
      "source": [
        "\n",
        "\n",
        "# Activation Functions\n",
        "\n",
        "Because they are so fundamental to deep learning, before going further,\n",
        "let's take a brief look at some common activation functions.\n"
      ]
    },
    {
      "cell_type": "markdown",
      "metadata": {
        "id": "ufuycwllJRUx"
      },
      "source": [
        "\n",
        "## ReLU Function\n",
        "\n",
        "As stated above, the most popular choice,\n",
        "due to its simplicity of implementation\n",
        "and its efficacy in training is the rectified linear unit (ReLU).\n",
        "ReLUs provide a very simple nonlinear transformation.\n",
        "Given the element $z$, the function is defined\n",
        "as the maximum of that element and 0.\n",
        "\n",
        "$$\\mathrm{ReLU}(z) = \\max(z, 0).$$\n",
        "\n",
        "It can be understood that the ReLU function retains only positive elements and discards negative elements (setting those nodes to 0).\n",
        "To get a better idea of what it looks like, we can plot it.\n",
        "For convenience, we define a plotting function `xyplot`\n",
        "to take care of the groundwork."
      ]
    },
    {
      "cell_type": "code",
      "metadata": {
        "id": "yUOI-LhGQHfE"
      },
      "source": [
        "import sys\n",
        "sys.path.insert(0, '..')\n",
        "\n",
        "import numpy\n",
        "import matplotlib.pyplot as plt\n",
        "import torch\n",
        "import torch.nn as nn\n",
        "from torch.utils.data import DataLoader\n",
        "from torch.autograd import Variable\n",
        "\n",
        "def xyplot(x_vals,y_vals,name):\n",
        "    x_vals = x_vals.detach().numpy() # we can't directly use var.numpy() because varibles might \n",
        "    y_vals = y_vals.detach().numpy() # already required grad.,thus using var.detach().numpy() \n",
        "    plt.plot(x_vals,y_vals) \n",
        "    plt.xlabel('x')\n",
        "    plt.ylabel(name+'(x)')"
      ],
      "execution_count": null,
      "outputs": []
    },
    {
      "cell_type": "markdown",
      "metadata": {
        "id": "CSWo97pJQHfG"
      },
      "source": [
        "Since relu is commomly used as activation function, PyTorch supports\n",
        "the `relu` function as a basic native operator.\n",
        "As you can see, the activation function is piece-wise linear.\n"
      ]
    },
    {
      "cell_type": "code",
      "metadata": {
        "id": "IvKuNcq1QHfG",
        "colab": {
          "base_uri": "https://localhost:8080/",
          "height": 279
        },
        "outputId": "28122d74-25ef-4a89-b3c7-02e493b15c64"
      },
      "source": [
        "x = Variable(torch.arange(-8.0,8.0,0.1,dtype=torch.float32).reshape(int(16/0.1),1), requires_grad=True)\n",
        "y = torch.nn.functional.relu(x)\n",
        "xyplot(x,y,'relu')"
      ],
      "execution_count": null,
      "outputs": [
        {
          "output_type": "display_data",
          "data": {
            "image/png": "[encoded data removed]",
            "text/plain": [
              "<Figure size 432x288 with 1 Axes>"
            ]
          },
          "metadata": {
            "tags": [],
            "needs_background": "light"
          }
        }
      ]
    },
    {
      "cell_type": "markdown",
      "metadata": {
        "id": "rAzWGZdeQHfJ"
      },
      "source": [
        "When the input is negative, the derivative of ReLU function is 0\n",
        "and when the input is positive, the derivative of ReLU function is 1.\n",
        "Note that the ReLU function is not differentiable\n",
        "when the input takes value precisely equal to  0.\n",
        "In these cases, we go with the left-hand-side (LHS) derivative\n",
        "and say that the derivative is 0 when the input is 0.\n",
        "We can get away with this because the input may never actually be zero.\n",
        "There's an old adage that if subtle boundary conditions matter,\n",
        "we are probably doing (*real*) mathematics, not engineering.\n",
        "That conventional wisdom may apply here.\n",
        "See the derivative of the ReLU function plotted below.\n",
        "\n",
        "When we use .backward(), by default it is .backward(torch.Tensor([1])).This is useful when we are dealing with single scalar input.But here we are dealing with a vector input so we have to use this snippet."
      ]
    },
    {
      "cell_type": "code",
      "metadata": {
        "id": "UNiVPTVjQHfJ",
        "colab": {
          "base_uri": "https://localhost:8080/",
          "height": 279
        },
        "outputId": "ec11c053-2141-425a-c152-1ba151179317"
      },
      "source": [
        "y.backward(torch.ones_like(x), retain_graph=True)\n",
        "xyplot(x,x.grad,\"grad of relu\")"
      ],
      "execution_count": null,
      "outputs": [
        {
          "output_type": "display_data",
          "data": {
            "image/png": "[encoded data removed]",
            "text/plain": [
              "<Figure size 432x288 with 1 Axes>"
            ]
          },
          "metadata": {
            "tags": [],
            "needs_background": "light"
          }
        }
      ]
    },
    {
      "cell_type": "markdown",
      "metadata": {
        "id": "pry_-qSpQHfM"
      },
      "source": [
        "Note that there are many variants to the ReLU function, such as the parameterized ReLU (pReLU) of [He et al., 2015](https://arxiv.org/abs/1502.01852). This variation adds a linear term to the ReLU, so some information still gets through, even when the argument is negative.\n",
        "\n",
        "$$\\mathrm{pReLU}(x) = \\max(0, x) + \\alpha \\min(0, x)$$\n",
        "\n",
        "The reason for using the ReLU is that its derivatives are particularly well behaved - either they vanish or they just let the argument through. This makes optimization better behaved and it reduces the issue of the vanishing gradient problem (more on this later).\n",
        "\n",
        "## Sigmoid Function\n",
        "\n",
        "The sigmoid function transforms its inputs which take values in $\\mathbb{R}$ to the interval $(0,1)$.\n",
        "For that reason, the sigmoid is often called a *squashing* function:\n",
        "it squashes any input in the range (-inf, inf)\n",
        "to some value in the range (0,1).\n",
        "\n",
        "$$\\mathrm{sigmoid}(x) = \\frac{1}{1 + \\exp(-x)}.$$\n",
        "\n",
        "In the earliest neural networks, scientists\n",
        "were interested in modeling biological neurons\n",
        "which either *fire* or *don't fire*.\n",
        "Thus the pioneers of this field, going all the way back to McCulloch and Pitts in the 1940s, were focused on thresholding units.\n",
        "A thresholding function takes either value $0$\n",
        "(if the input is below the threshold)\n",
        "or value $1$ (if the input exceeds the threshold)\n",
        "\n",
        "\n",
        "When attention shifted to gradient based learning,\n",
        "the sigmoid function was a natural choice\n",
        "because it is a smooth, differentiable approximation to a thresholding unit.\n",
        "Sigmoids are still common as activation functions on the output units,\n",
        "when we want to interpret the outputs as probabilities\n",
        "for binary classification problems\n",
        "(you can think of the sigmoid as a special case of the softmax)\n",
        "but the sigmoid has mostly been replaced by the simpler and easier to train ReLU for most use in hidden layers.\n",
        "In the \"Recurrent Neural Network\" chapter, we will describe\n",
        "how sigmoid units can be used to control\n",
        "the flow of information in a neural network\n",
        "thanks to its capacity to transform the value range between 0 and 1.\n",
        "\n",
        "See the sigmoid function plotted below.\n",
        "When the input is close to 0, the sigmoid function\n",
        "approaches a linear transformation.\n"
      ]
    },
    {
      "cell_type": "code",
      "metadata": {
        "id": "IuN7nVQoQHfN",
        "colab": {
          "base_uri": "https://localhost:8080/",
          "height": 279
        },
        "outputId": "fa83b1ff-91e1-48ba-b25e-551d784b901a"
      },
      "source": [
        "x = Variable(torch.arange(-8.0,8.0,0.1, dtype=torch.float32).reshape(int(16/0.1),1), requires_grad=True)\n",
        "y = torch.sigmoid(x)\n",
        "xyplot(x,y,'sigmoid')"
      ],
      "execution_count": null,
      "outputs": [
        {
          "output_type": "display_data",
          "data": {
            "image/png": "[encoded data removed]",
            "text/plain": [
              "<Figure size 432x288 with 1 Axes>"
            ]
          },
          "metadata": {
            "tags": [],
            "needs_background": "light"
          }
        }
      ]
    },
    {
      "cell_type": "markdown",
      "metadata": {
        "id": "aTyTY-_AQHfP"
      },
      "source": [
        "The derivative of sigmoid function is given by the following equation:\n",
        "\n",
        "$$\\frac{d}{dx} \\mathrm{sigmoid}(x) = \\frac{\\exp(-x)}{(1 + \\exp(-x))^2} = \\mathrm{sigmoid}(x)\\left(1-\\mathrm{sigmoid}(x)\\right).$$\n",
        "\n",
        "\n",
        "The derivative of sigmoid function is plotted below.\n",
        "Note that when the input is 0, the derivative of the sigmoid function\n",
        "reaches a maximum of 0.25. As the input diverges from 0 in either direction, the derivative approaches 0.\n"
      ]
    },
    {
      "cell_type": "code",
      "metadata": {
        "id": "BR5YyvIZQHfQ",
        "colab": {
          "base_uri": "https://localhost:8080/",
          "height": 279
        },
        "outputId": "957d3950-cc56-41e4-910c-e76c4b309840"
      },
      "source": [
        "y.backward(torch.ones_like(x), retain_graph=True)\n",
        "xyplot(x,x.grad,'grad of sigmoid')"
      ],
      "execution_count": null,
      "outputs": [
        {
          "output_type": "display_data",
          "data": {
            "image/png": "[encoded data removed]",
            "text/plain": [
              "<Figure size 432x288 with 1 Axes>"
            ]
          },
          "metadata": {
            "tags": [],
            "needs_background": "light"
          }
        }
      ]
    },
    {
      "cell_type": "markdown",
      "metadata": {
        "id": "kQSTzchhQHfS"
      },
      "source": [
        "## Tanh Function\n",
        "\n",
        "Like the sigmoid function, the tanh (Hyperbolic Tangent)\n",
        "function also squashes its inputs,\n",
        "transforms them into elements on the interval between -1 and 1:\n",
        "\n",
        "$$\\text{tanh}(x) = \\frac{1 - \\exp(-2x)}{1 + \\exp(-2x)}.$$\n",
        "\n",
        "We plot the tanh function blow. Note that as the input nears 0, the tanh function approaches a linear transformation. Although the shape of the function is similar to the sigmoid function, the tanh function exhibits point symmetry about the origin of the coordinate system.\n"
      ]
    },
    {
      "cell_type": "code",
      "metadata": {
        "id": "jjFZxPHnQHfS",
        "colab": {
          "base_uri": "https://localhost:8080/",
          "height": 279
        },
        "outputId": "a9c3dea6-bbb1-4f2e-ced2-892e605fde12"
      },
      "source": [
        "x = Variable(torch.arange(-8.0,8.0,0.1, dtype=torch.float32).reshape(int(16/0.1),1), requires_grad=True)\n",
        "y = torch.tanh(x)\n",
        "xyplot(x,y,\"tanh\")"
      ],
      "execution_count": null,
      "outputs": [
        {
          "output_type": "display_data",
          "data": {
            "image/png": "[encoded data removed]",
            "text/plain": [
              "<Figure size 432x288 with 1 Axes>"
            ]
          },
          "metadata": {
            "tags": [],
            "needs_background": "light"
          }
        }
      ]
    },
    {
      "cell_type": "markdown",
      "metadata": {
        "id": "OFgSsaFgQ6yz"
      },
      "source": [
        "The derivative of the Tanh function is:\n",
        "\n",
        "$$\\frac{d}{dx} \\mathrm{tanh}(x) = 1 - \\mathrm{tanh}^2(x).$$\n",
        "\n",
        "The derivative of tanh function is plotted below.\n",
        "As the input nears 0,\n",
        "the derivative of the tanh function approaches a maximum of 1.\n",
        "And as we saw with the sigmoid function,\n",
        "as the input moves away from 0 in either direction,\n",
        "the derivative of the tanh function approaches 0."
      ]
    },
    {
      "cell_type": "code",
      "metadata": {
        "id": "ASwhYKA2Q6y0",
        "colab": {
          "base_uri": "https://localhost:8080/",
          "height": 279
        },
        "outputId": "0da3b34b-2e24-44da-98f5-599381683121"
      },
      "source": [
        "y.backward(torch.ones_like(x), retain_graph=True)\n",
        "xyplot(x,x.grad,\"grad of tanh\")"
      ],
      "execution_count": null,
      "outputs": [
        {
          "output_type": "display_data",
          "data": {
            "image/png": "[encoded data removed]",
            "text/plain": [
              "<Figure size 432x288 with 1 Axes>"
            ]
          },
          "metadata": {
            "tags": [],
            "needs_background": "light"
          }
        }
      ]
    },
    {
      "cell_type": "markdown",
      "metadata": {
        "id": "SCfIunp_Q6y2"
      },
      "source": [
        "In summary, we now know how to incorporate nonlinearities\n",
        "to build expressive multilayer neural network architectures.\n",
        "As a side note, your knowledge now already\n",
        "puts you in command of the state of the art in deep learning, circa 1990.\n",
        "In fact, you have an advantage over anyone working the 1990s,\n",
        "because you can leverage powerful open-source deep learning frameworks\n",
        "to build models rapidly, using only a few lines of code.\n",
        "Previously, getting these nets training\n",
        "required researchers to code up thousands of lines of C and Fortran.\n",
        "\n"
      ]
    },
    {
      "cell_type": "markdown",
      "metadata": {
        "id": "-jE8o5-ssq8S"
      },
      "source": [
        "# Model Selection, Underfitting and Overfitting"
      ]
    },
    {
      "cell_type": "markdown",
      "metadata": {
        "id": "Cz_3I3ihshGz"
      },
      "source": [
        "## Model Selection\n",
        "\n",
        "In machine learning, we usually select our final model\n",
        "after evaluating several candidate models.\n",
        "This process is called model selection.\n",
        "Sometimes the models subject to comparison\n",
        "are fundamentally different in nature\n",
        "(say, decision trees vs linear models).\n",
        "At other times, we are comparing\n",
        "members of the same class of models\n",
        "that have been trained with different hyperparameter settings.\n",
        "\n",
        "With multilayer perceptrons for example,\n",
        "we may wish to compare models with\n",
        "different numbers of hidden layers,\n",
        "different numbers of hidden units,\n",
        "and various choices of the activation functions\n",
        "applied to each hidden layer.\n",
        "In order to determine the best among our candidate models,\n",
        "we will typically employ a validation set.\n",
        "\n",
        "\n",
        "### Validation Dataset\n",
        "\n",
        "In principle we should not touch our test set\n",
        "until after we have chosen all our hyper-parameters.\n",
        "Were we to use the test data in the model selection process,\n",
        "there is a risk that we might overfit the test data.\n",
        "Then we would be in serious trouble.\n",
        "If we overfit our training data,\n",
        "there is always the evaluation on test data to keep us honest.\n",
        "But if we overfit the test data, how would we ever know?\n",
        "\n",
        "\n",
        "Thus, we should never rely on the test data for model selection.\n",
        "And yet we cannot rely solely on the training data\n",
        "for model selection either because\n",
        "we cannot estimate the generalization error\n",
        "on the very data that we use to train the model.\n",
        "\n",
        "The common practice to address this problem\n",
        "is to split our data three ways,\n",
        "incorporating a *validation set*\n",
        "in addition to the training and test sets.\n",
        "\n",
        "\n",
        "In practical applications, the picture gets muddier.\n",
        "While ideally we would only touch the test data once,\n",
        "to assess the very best model or to compare\n",
        "a small number of models to each other,\n",
        "real-world test data is seldom discarded after just one use.\n",
        "We can seldom afford a new test set for each round of experiments.\n",
        "\n",
        "The result is a murky practice where the boundaries\n",
        "between validation and test data are worryingly ambiguous.\n",
        "Unless explicitly stated otherwise, in the experiments in this book\n",
        "we are really working with what should rightly be called\n",
        "training data and validation data, with no true test sets.\n",
        "Therefore, the accuracy reported in each experiment\n",
        "is really the validation accuracy and not a true test set accuracy.\n",
        "The good news is that we do not need too much data in the validation set.\n",
        "The uncertainty in our estimates can be shown\n",
        "to be of the order of $\\mathcal{O}(n^{-\\frac{1}{2}})$.\n",
        "\n",
        "\n",
        "### $K$-Fold Cross-Validation\n",
        "\n",
        "When training data is scarce,\n",
        "we might not even be able to afford to hold out\n",
        "enough data to constitute a proper validation set.\n",
        "One popular solution to this problem is to employ\n",
        "$K$*-fold cross-validation*.\n",
        "Here, the original training data is split into $K$ non-overlapping subsets.\n",
        "Then model training and validation are executed $K$ times,\n",
        "each time training on $K-1$ subsets and validating\n",
        "on a different subset (the one not used for training in that round).\n",
        "Finally, the training and validation error rates are estimated\n",
        "by averaging over the results from the $K$ experiments.\n"
      ]
    },
    {
      "cell_type": "markdown",
      "metadata": {
        "id": "9yYdUa3W9kI2"
      },
      "source": [
        "**Exercise:** Implement a 5-fold validation scheme using the training data set from FashionMNIST. The function below should return the *average* accuracy over all 5 folds. Note: Use the same network, parameters, hyperparameters, and data from above.\n"
      ]
    },
    {
      "cell_type": "code",
      "metadata": {
        "id": "vc3TAzce9zKl",
        "colab": {
          "base_uri": "https://localhost:8080/",
          "height": 34
        },
        "outputId": "de2dc144-d835-4856-a3e8-4735947af854"
      },
      "source": [
        "from sklearn.model_selection import KFold\n",
        "\n",
        "def evaluate_accuracy(data_iter, net):\n",
        "    acc_sum, n = 0.0, 0\n",
        "    for X, y in data_iter:\n",
        "        acc_sum += (net(X).argmax(dim=1) == y).sum().item()\n",
        "        n += y.size()[0]  \n",
        "    return acc_sum / n\n",
        "\n",
        "def five_fold_validation(train_iter, test_iter):\n",
        "  accuracy_fold = []\n",
        "  avg_accuracy = 0.0\n",
        "  K = 5   # number of folds\n",
        "  ## Write your code here\n",
        "\n",
        "  # getting mnist_train\n",
        "  trans = transforms.ToTensor() \n",
        "  mnist_train = torchvision.datasets.FashionMNIST(root=\"./\", train=True, transform=trans, target_transform=None, download=True)\n",
        "  \n",
        "\n",
        "  # splitting the mnist_train dataset to K=5 train/test_sets \n",
        "\n",
        "  kf = KFold(n_splits = K, shuffle = True)\n",
        "\n",
        "  for fold, (train_index, test_index) in enumerate(kf.split(mnist_train)):\n",
        "    mnist_train_fold = torch.utils.data.Subset(mnist_train, train_index)\n",
        "    mnist_test_fold = torch.utils.data.Subset(mnist_train, test_index)\n",
        "  \n",
        "  # preparing batches of our new and setting hyperparameters\n",
        "  \n",
        "    lr, num_epochs, batch_size = 0.5, 10, 256\n",
        "    \n",
        "    if sys.platform.startswith('win'):\n",
        "      num_workers = 0\n",
        "    else:\n",
        "      num_workers = 4\n",
        "\n",
        "    train_iter_fold = DataLoader(mnist_train_fold, batch_size, shuffle=True, num_workers=num_workers)\n",
        "    test_iter_fold = DataLoader(mnist_test_fold, batch_size, shuffle=False, num_workers=num_workers)\n",
        "  \n",
        "  # initalise model with my changed Net-Class and hyperparameters:\n",
        "    net = Net(activator_function = nn.ReLU())\n",
        "    net.apply(init_weights)\n",
        "    criterion = nn.CrossEntropyLoss()\n",
        "    optimizer = torch.optim.SGD(net.parameters(), lr = lr)\n",
        "  # train\n",
        "    for epoch in range(num_epochs):\n",
        "      net.train()\n",
        "      for X, y in train_iter_fold:\n",
        "        y_hat = net(X)\n",
        "        l = criterion(y_hat, y)\n",
        "        optimizer.zero_grad()\n",
        "        l.backward()\n",
        "        optimizer.step()\n",
        "    \n",
        "    # accuracy for #fold:\n",
        "    accuracy_fold.append(evaluate_accuracy(test_iter_fold,net))\n",
        "\n",
        "  avg_accuracy = sum(accuracy_fold)/len(accuracy_fold)\n",
        "  ## end of function\n",
        "  return avg_accuracy\n",
        "\n",
        "five_fold_validation(train_iter, test_iter)"
      ],
      "execution_count": null,
      "outputs": [
        {
          "output_type": "execute_result",
          "data": {
            "text/plain": [
              "0.86745"
            ]
          },
          "metadata": {
            "tags": []
          },
          "execution_count": 31
        }
      ]
    },
    {
      "cell_type": "markdown",
      "metadata": {
        "id": "H67vehrf9fNs"
      },
      "source": [
        "## Underfitting or Overfitting?\n",
        "When we compare the training and validation errors, we want to be mindful of two common situations: First, we want\n",
        "to watch out for cases when our training error and validation error are both substantial but there is a little gap between\n",
        "them. If the model is unable to reduce the training error, that could mean that our model is too simple (i.e., insufficiently\n",
        "expressive) to capture the pattern that we are trying to model. Moreover, since the generalization gap between our training\n",
        "and validation errors is small, we have reason to believe that we could get away with a more complex model. This\n",
        "phenomenon is known as underfitting.\n",
        "\n",
        "On the other hand, as we discussed above, we want to watch out for the cases when our training error is significantly lower\n",
        "than our validation error, indicating severe overfitting. Note that overfitting is not always a bad thing. With deep learning\n",
        "especially, it’s well known that the best predictive models often perform far better on training data than on holdout data.\n",
        "\n",
        "Ultimately, we usually care more about the validation error than about the gap between the training and validation errors.\n",
        "Whether we overfit or underfit can depend both on the complexity of our model and the size of the available training\n",
        "datasets, two topics that we discuss below.\n",
        "\n",
        "## Model Complexity \n",
        "\n",
        "To illustrate some classical intuition about overfitting and model complexity, we given an example using polynomials.\n",
        "Given training data consisting of a single feature x and a corresponding real-valued label y, we try to find the polynomial\n",
        "of degree d\n",
        "\n",
        "$$y=\\sum_{i=0}^d\\ W^ix^i$$\n",
        "\n",
        "to estimate the labels y. This is just a linear regression problem where our features are given by the powers of x, the wi\n",
        "given the model’s weights, and the bias is given by w0 since x\n",
        "0 = 1 for all x. Since this is just a linear regression problem,\n",
        "we can use the squared error as our loss function.\n",
        "A higher-order polynomial function is more complex than a lower order polynomial function, since the higher-order polynomial has more parameters and the model function’s selection range is wider. Fixing the training data set, higher-order\n",
        "polynomial functions should always achieve lower (at worst, equal) training error relative to lower degree polynomials.\n",
        "In fact, whenever the data points each have a distinct value of x, a polynomial function with degree equal to the number\n",
        "of data points can fit the training set perfectly. We visualize the relationship between polynomial degree and under- vs\n",
        "over-fitting below.\n",
        "\n",
        "## Data Set Size\n",
        "\n",
        "The other big consideration to bear in mind is the dataset size. Fixing our model, the fewer samples we have in the\n",
        "training dataset, the more likely (and more severely) we are to encounter overfitting. As we increase the amount of\n",
        "training data, the generalization error typically decreases. Moreover, in general, more data never hurts. For a fixed task\n",
        "and data distribution, there is typically a relationship between model complexity and dataset size. Given more data, we\n",
        "might profitably attempt to fit a more complex model. Absent sufficient data, simpler models may be difficult to beat. For\n",
        "many tasks, deep learning only outperforms linear models when many thousands of training examples are available. In part, the current success of deep learning owes to the current abundance of massive datasets due to internet companies,\n",
        "cheap storage, connected devices, and the broad digitization of the economy.\n",
        "\n",
        "## Polynomial Regression\n",
        "We can now explore these concepts interactively by fitting polynomials to data. To get started we’ll import our usual\n",
        "packages."
      ]
    },
    {
      "cell_type": "code",
      "metadata": {
        "id": "973_Ufhz9fNt"
      },
      "source": [
        "import torch\n",
        "import torch.nn as nn\n",
        "import torch.nn.functional as F\n",
        "import torch.utils.data as Data\n",
        "from torch.utils.data import TensorDataset\n",
        "from torch.utils.data import DataLoader\n",
        "from matplotlib import pyplot as plt"
      ],
      "execution_count": null,
      "outputs": []
    },
    {
      "cell_type": "markdown",
      "metadata": {
        "id": "IIes1em49fNw"
      },
      "source": [
        "### Generating Data Sets\n",
        "\n",
        "First we need data. Given x, we will use the following cubic polynomial to generate the labels on training and test data:\n",
        "\n",
        "$$y=5+1.2x-3.4\\frac{x^2}{2!}+5.6\\frac{x^3}{3!}+ E where E-N(0,0.1)$$\n",
        "\n",
        "The noise term ϵ obeys a normal distribution with a mean of 0 and a standard deviation of 0.1. We’ll synthesize 100\n",
        "samples each for the training set and test set"
      ]
    },
    {
      "cell_type": "code",
      "metadata": {
        "id": "ZFY-xoDc9fNw"
      },
      "source": [
        "max_degree=20\n",
        "n_train,n_test=100,100"
      ],
      "execution_count": null,
      "outputs": []
    },
    {
      "cell_type": "code",
      "metadata": {
        "id": "Fai0nHcw9fNy"
      },
      "source": [
        "poly_features=torch.zeros(20,200)\n",
        "true_w=torch.zeros(max_degree)\n",
        "true_w[0:4] = torch.tensor([5, 1.2, -3.4, 5.6])\n",
        "features = torch.randn(size=(n_train + n_test, 1))\n",
        "x_list=torch.arange(max_degree)\n",
        "x_list.float()\n",
        "features=features.reshape(1,-1)\n",
        "\n",
        "for i in range(1,max_degree):\n",
        "    \n",
        "    poly_features[i] = torch.pow(features,i)\n",
        "    \n",
        "print(features[:,4])\n",
        "print(poly_features[:,4])"
      ],
      "execution_count": null,
      "outputs": []
    },
    {
      "cell_type": "markdown",
      "metadata": {
        "id": "tTPi2hwn9fN1"
      },
      "source": [
        "For optimization, we typically want to avoid very large values of gradients, losses, etc. This is why the monomials stored\n",
        "in poly_features are rescaled from x\n",
        "\n",
        "It allows us to avoid very large values for large exponents i. Factorials\n",
        "are implemented in Gluon using the Gamma function, where n! = Γ(n + b 1).\n",
        "Take a look at the first 2 samples from the generated data set. The value 1 is technically a feature, namely the constant\n",
        "feature corresponding to the bias"
      ]
    },
    {
      "cell_type": "code",
      "metadata": {
        "id": "CNjqZOGw9fN2"
      },
      "source": [
        "from scipy.special import factorial\n",
        "ok=torch.arange(1,(max_degree) + 1).reshape((1, -1))\n",
        "\n",
        "dr=factorial(ok)\n",
        "\n",
        "dr2=torch.from_numpy(dr)\n",
        "\n",
        "poly_features = poly_features.double() /dr2.t()\n",
        "\n",
        "labels = torch.matmul(true_w.double(),poly_features)\n",
        "\n",
        "poly_features = poly_features.type(torch.FloatTensor)\n",
        "\n",
        "labels = labels.type(torch.FloatTensor)\n",
        "\n",
        "labels += torch.randn(200)*0.5"
      ],
      "execution_count": null,
      "outputs": []
    },
    {
      "cell_type": "markdown",
      "metadata": {
        "id": "FPxGr6ek9fN4"
      },
      "source": [
        "### Defining, Training and Testing Model\n",
        "We first define the plotting functionsemilogy, where the y axis makes use of the logarithmic scale\n",
        "\n",
        "Since we will be attempting to fit the generated dataset using models of varying complexity, we insert the model definition\n",
        "into the fit_and_plot function. The training and testing steps involved in polynomial function fitting are similar to\n",
        "those previously described in softmax regression"
      ]
    },
    {
      "cell_type": "code",
      "metadata": {
        "id": "Pw1ZyFfu9fN4"
      },
      "source": [
        "def semilogy(x_vals, y_vals, x_label, y_label, x2_vals=None, y2_vals=None, legend=None, figsize=(3.5, 2.5)):    \n",
        "    plt.xlabel(x_label)\n",
        "    plt.ylabel(y_label)\n",
        "    plt.semilogy(x_vals, y_vals)\n",
        "    if x2_vals and y2_vals:\n",
        "        plt.semilogy(x2_vals, y2_vals, linestyle=':')\n",
        "        plt.legend(legend)"
      ],
      "execution_count": null,
      "outputs": []
    },
    {
      "cell_type": "code",
      "metadata": {
        "id": "2i-GZMV29fN6"
      },
      "source": [
        "def fit_and_plot(train_features,train_labels,test_features,test_labels,no_inputs):\n",
        "    class LinearRegressionModel(torch.nn.Module): \n",
        "        def __init__(self): \n",
        "            super(LinearRegressionModel, self).__init__() \n",
        "            self.linear = torch.nn.Linear(no_inputs, 1)  \n",
        "  \n",
        "        def forward(self, x): \n",
        "            y_pred = self.linear(x) \n",
        "            return y_pred \n",
        "    \n",
        "    model = LinearRegressionModel() \n",
        "    criterion = torch.nn.MSELoss(reduction='sum') \n",
        "    optimizer = torch.optim.SGD(model.parameters(), lr = 0.01)\n",
        "    train_ls,test_ls=[],[]   \n",
        "    train_labels=train_labels.reshape(-1,1)\n",
        "    train_ds=TensorDataset(train_features,train_labels)\n",
        "    batch_size=10\n",
        "    train_dl=DataLoader(train_ds,batch_size,shuffle=True)    \n",
        "    test_labels=test_labels.reshape(-1,1)\n",
        "    for ep in range(100):\n",
        "        for xb,yb in train_dl:         \n",
        "            pred_y = model(xb)     \n",
        "            loss = criterion(pred_y, yb)             \n",
        "            optimizer.zero_grad() \n",
        "            loss.backward() \n",
        "            optimizer.step()\n",
        "          \n",
        "        predytr=model(train_features)\n",
        "        train_ls.append((criterion(predytr,train_labels)).mean())\n",
        "        predyts=model(test_features)\n",
        "        test_ls.append((criterion(predyts,test_labels)).mean())    \n",
        "    \n",
        "    print('final epoch:train loss',train_ls[-1],'test Loss',test_ls[-1])\n",
        "    semilogy(range(1,ep+2), train_ls,'epoch','loss',range(1,ep+2),test_ls,['train','test'])"
      ],
      "execution_count": null,
      "outputs": []
    },
    {
      "cell_type": "markdown",
      "metadata": {
        "id": "Kja7I86v9fN9"
      },
      "source": [
        "### Third-order Polynomial Function Fitting (Normal)\n",
        "\n",
        "We will begin by first using a third-order polynomial function with the same order as the data generation function. The\n",
        "results show that this model’s training error rate when using the testing data set is low. The trained model parameters are\n",
        "also close to the true values w = [5, 1.2, −3.4, 5.6].\n"
      ]
    },
    {
      "cell_type": "code",
      "metadata": {
        "id": "-7OcI-OQ9fN9"
      },
      "source": [
        "poly_features_t=poly_features.t()\n",
        "fit_and_plot(train_features=poly_features_t[:100,0:4],train_labels=labels[:100],test_features=poly_features_t[100:,0:4],test_labels=labels[100:],no_inputs=4)"
      ],
      "execution_count": null,
      "outputs": []
    },
    {
      "cell_type": "markdown",
      "metadata": {
        "id": "nKaBc4WJ9fOA"
      },
      "source": [
        "### Linear Function Fitting\n",
        "Let’s take another look at linear function fitting. After the decline in the early epoch, it becomes difficult to further\n",
        "decrease this model’s training error rate. After the last epoch iteration has been completed, the training error rate is\n",
        "still high. When used to fit non-linear patterns (like the third-order polynomial function here) linear models are liable to\n",
        "underfit."
      ]
    },
    {
      "cell_type": "code",
      "metadata": {
        "scrolled": true,
        "id": "na-5Vv3-9fOA"
      },
      "source": [
        "fit_and_plot(train_features=poly_features_t[:100,0:3],train_labels=labels[:100],test_features=poly_features_t[100:,0:3],test_labels=labels[100:],no_inputs=3)"
      ],
      "execution_count": null,
      "outputs": []
    },
    {
      "cell_type": "markdown",
      "metadata": {
        "id": "KTyiIuGa9fOC"
      },
      "source": [
        "### Insufficient Training(Overfitting)\n",
        "Now let’s try to train the model using a polynomial of too high degree. Here, there is insufficient data to learn that the\n",
        "higher-degree coefficients should have values close to zero. As a result, our overly-complex model is far too susceptible\n",
        "to being influenced by noise in the training data. Of course, our training error will now be low (even lower than if we had\n",
        "the right model!) but our test error will be high.\n",
        "Try out different model complexities (n_degree) and training set sizes (n_subset) to gain some intuition of what is\n",
        "happening.\n"
      ]
    },
    {
      "cell_type": "code",
      "metadata": {
        "id": "8nElQOGu9fOC"
      },
      "source": [
        "fit_and_plot(train_features=poly_features_t[1:100,0:20],train_labels=labels[1:100],test_features=poly_features_t[100:,0:20],test_labels=labels[100:],no_inputs=20)"
      ],
      "execution_count": null,
      "outputs": []
    }
  ]
}