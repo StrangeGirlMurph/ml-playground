{
  "cells": [
    {
      "cell_type": "markdown",
      "metadata": {
        "id": "-SOjAQvMQHe8"
      },
      "source": [
        "# Multilayer Perceptron\n",
        "\n",
        "Aiham Taleb, Benjamin Bergner, Jana Fehr\n",
        "\n",
        "*Note: Watch the video of Prof. Lippert about this topic. And if interested, find the full notebook is in the d2l book [here](https://d2l.ai/chapter_linear-networks/softmax-regression.html).*\n",
        "\n",
        "## From linear to nonlinear\n",
        "Recall that for linear regression and softmax regression,\n",
        "we mapped our inputs directly to our outputs\n",
        "via a single linear transformation:\n",
        "\n",
        "$$\n",
        "\\hat{\\mathbf{o}} = \\mathrm{softmax}(\\mathbf{W} \\mathbf{x} + \\mathbf{b})\n",
        "$$\n",
        "\n",
        "If our labels really were related to our input data\n",
        "by an approximately linear function, then this approach would be perfect.\n",
        "But linearity is a *strong assumption*.\n",
        "Linearity implies that for whatever target value we are trying to predict,\n",
        "increasing the value of each of our inputs\n",
        "should either drive the value of the output up or drive it down,\n",
        "irrespective of the value of the other inputs.\n",
        "\n",
        "\n",
        "\n",
        "In order to get a benefit from multilayer architectures,\n",
        "we need another key ingredient—a nonlinearity $\\sigma$ to be applied to each of the hidden units after each layer's linear transformation.\n",
        "The most popular choice for the nonlinearity these days is the rectified linear unit (ReLU) $\\mathrm{max}(x,0)$.\n",
        "After incorporating these non-linearities\n",
        "it becomes impossible to merge layers.\n",
        "\n",
        "$$\n",
        "\\begin{aligned}\n",
        "    \\mathbf{h} & = \\sigma(\\mathbf{W}_1 \\mathbf{x} + \\mathbf{b}_1) \\\\\n",
        "    \\mathbf{o} & = \\mathbf{W}_2 \\mathbf{h} + \\mathbf{b}_2 \\\\\n",
        "    \\hat{\\mathbf{y}} & = \\mathrm{softmax}(\\mathbf{o})\n",
        "\\end{aligned}\n",
        "$$\n",
        "\n",
        "Clearly, we could continue stacking such hidden layers,\n",
        "e.g. $\\mathbf{h}_1 = \\sigma(\\mathbf{W}_1 \\mathbf{x} + \\mathbf{b}_1)$\n",
        "and $\\mathbf{h}_2 = \\sigma(\\mathbf{W}_2 \\mathbf{h}_1 + \\mathbf{b}_2)$\n",
        "on top of each other to obtain a true multilayer perceptron.\n",
        "\n",
        "\n"
      ]
    },
    {
      "cell_type": "markdown",
      "metadata": {
        "id": "yoek_AxoQiNg"
      },
      "source": [
        "## Concise Implementation of Multilayer Perceptron"
      ]
    },
    {
      "cell_type": "markdown",
      "metadata": {
        "id": "OIOiaG8uQiNh"
      },
      "source": [
        "Now that we learned how multilayer perceptrons (MLPs) work in theory, let’s implement them. We begin, as always, by\n",
        "importing modules."
      ]
    },
    {
      "cell_type": "code",
      "execution_count": 1,
      "metadata": {
        "id": "UmcJn4vAQiNi"
      },
      "outputs": [
        {
          "ename": "ModuleNotFoundError",
          "evalue": "No module named 'torchvision'",
          "output_type": "error",
          "traceback": [
            "\u001b[1;31m---------------------------------------------------------------------------\u001b[0m",
            "\u001b[1;31mModuleNotFoundError\u001b[0m                       Traceback (most recent call last)",
            "\u001b[1;32m~\\AppData\\Local\\Temp\\ipykernel_2868\\2340575506.py\u001b[0m in \u001b[0;36m<module>\u001b[1;34m\u001b[0m\n\u001b[0;32m      2\u001b[0m \u001b[0msys\u001b[0m\u001b[1;33m.\u001b[0m\u001b[0mpath\u001b[0m\u001b[1;33m.\u001b[0m\u001b[0minsert\u001b[0m\u001b[1;33m(\u001b[0m\u001b[1;36m0\u001b[0m\u001b[1;33m,\u001b[0m \u001b[1;34m'..'\u001b[0m\u001b[1;33m)\u001b[0m\u001b[1;33m\u001b[0m\u001b[1;33m\u001b[0m\u001b[0m\n\u001b[0;32m      3\u001b[0m \u001b[1;32mimport\u001b[0m \u001b[0mtorch\u001b[0m\u001b[1;33m\u001b[0m\u001b[1;33m\u001b[0m\u001b[0m\n\u001b[1;32m----> 4\u001b[1;33m \u001b[1;32mimport\u001b[0m \u001b[0mtorchvision\u001b[0m\u001b[1;33m\u001b[0m\u001b[1;33m\u001b[0m\u001b[0m\n\u001b[0m\u001b[0;32m      5\u001b[0m \u001b[1;32mfrom\u001b[0m \u001b[0mtorchvision\u001b[0m \u001b[1;32mimport\u001b[0m \u001b[0mtransforms\u001b[0m\u001b[1;33m\u001b[0m\u001b[1;33m\u001b[0m\u001b[0m\n\u001b[0;32m      6\u001b[0m \u001b[1;32mfrom\u001b[0m \u001b[0mtorch\u001b[0m\u001b[1;33m.\u001b[0m\u001b[0mutils\u001b[0m\u001b[1;33m.\u001b[0m\u001b[0mdata\u001b[0m \u001b[1;32mimport\u001b[0m \u001b[0mDataLoader\u001b[0m\u001b[1;33m\u001b[0m\u001b[1;33m\u001b[0m\u001b[0m\n",
            "\u001b[1;31mModuleNotFoundError\u001b[0m: No module named 'torchvision'"
          ]
        }
      ],
      "source": [
        "import sys\n",
        "sys.path.insert(0, '..')\n",
        "import torch\n",
        "import torchvision\n",
        "from torchvision import transforms\n",
        "from torch.utils.data import DataLoader\n",
        "import torch.nn as nn\n",
        "import torch.nn.functional as F\n",
        "import torch.optim as optim\n"
      ]
    },
    {
      "cell_type": "markdown",
      "metadata": {
        "id": "bC4oND-WQiNm"
      },
      "source": [
        "The only difference from our softmax regression implementation is that we add two Dense (fully-connected) layers\n",
        "instead of one. The first is our hidden layer, which has 256 hidden units and uses the ReLU activation function."
      ]
    },
    {
      "cell_type": "code",
      "execution_count": null,
      "metadata": {
        "colab": {
          "base_uri": "https://localhost:8080/"
        },
        "id": "E50DJ-lBQiNm",
        "outputId": "f3b8c4bc-6149-4800-c203-044415f90b7a"
      },
      "outputs": [
        {
          "name": "stdout",
          "output_type": "stream",
          "text": [
            "Net(\n",
            "  (layer1): Sequential(\n",
            "    (0): Linear(in_features=784, out_features=256, bias=True)\n",
            "    (1): ReLU()\n",
            "  )\n",
            "  (layer2): Linear(in_features=256, out_features=10, bias=True)\n",
            ")\n"
          ]
        }
      ],
      "source": [
        "torch.manual_seed(119)\n",
        "\n",
        "\n",
        "class Net(nn.Module):\n",
        "    def __init__(self, num_inputs = 784, num_outputs = 10, num_hiddens = 256, is_training = True):\n",
        "        super(Net, self).__init__()\n",
        "        \n",
        "        self.num_inputs = num_inputs\n",
        "        self.num_outputs = num_outputs\n",
        "        self.num_hiddens = num_hiddens\n",
        "        \n",
        "        self.layer1 = nn.Sequential(\n",
        "            nn.Linear(num_inputs, num_hiddens),\n",
        "            nn.ReLU())\n",
        "        self.layer2 = nn.Linear(num_hiddens, num_outputs)\n",
        "\n",
        "    def forward(self, X):\n",
        "        X = X.reshape((-1, self.num_inputs))\n",
        "        H1 = self.layer1(X)\n",
        "        out = self.layer2(H1)        \n",
        "        return out\n",
        "\n",
        "\n",
        "def init_weights(m):\n",
        "    if type(m) == nn.Linear:\n",
        "        torch.nn.init.normal_(m.weight, std=0.01)        \n",
        "        m.bias.data.fill_(0.01)\n",
        "\n",
        "# Create an instance of the MLP\n",
        "net = Net()\n",
        "net.apply(init_weights)\n",
        "print(net) "
      ]
    },
    {
      "cell_type": "markdown",
      "metadata": {
        "id": "qAAPqtba1s5Q"
      },
      "source": [
        "Load the Fashion MNIST Dataset."
      ]
    },
    {
      "cell_type": "code",
      "execution_count": null,
      "metadata": {
        "colab": {
          "base_uri": "https://localhost:8080/",
          "height": 573,
          "referenced_widgets": [
            "80856d986e194bdb99e37af0c515eb55",
            "300f7e6cbc6f4411bd31a41f13da683e",
            "d29b90e8f4944e74bf9eb26bb717f432",
            "9d3458172ca94e56bd98050381711c40",
            "52a6207e993f4843b2a42a4d17a30d7f",
            "c0ee6f3634eb4536ae7916917e9e8d08",
            "9f709092465747ada0e6488792bf9fb4",
            "76f2a79a3cd54bae95c27950b65d3661",
            "a32c7b85323c493693da400fd15ea294",
            "4c2d76c0213e455883932f6a6684cfaf",
            "8e38f15a0355419d84e8242e17732d03",
            "d84b99cc9867493eb62d827e82d1fede",
            "1114879deec8436786d46efa9d3aaf86",
            "c2197d874f844c3b835839a8e601660d",
            "85ba9f8c03214c12bf1a9e8398ad1439",
            "659e845b107747c484d1d486cf32a2bf",
            "2648f7bff5474e0e934611878f733ade",
            "aafa2ebc5e1c430fbeeb22ec7aeb36a4",
            "bcefece784904722aaea1e2781e022fa",
            "0cb58689e50049169d1e346d44b99178",
            "4231eea7b4d34d0a89ee3f1112264e35",
            "a9cfcb220d4a45c8bcfa4939ec03cad7",
            "09f7c2bf2b5544fda4abefa6559378ed",
            "7e618e7bd151481f8022001851b6f9f7",
            "ad60544c8ad5410b821d137699a48813",
            "d8205b272dd14d89b7764f70e0b05c44",
            "1929fbe3e717495d98114551f3c48dc9",
            "5fc21a7e4503457a83a04b078e778313",
            "b78a4abacc0b4dc6b7fe6590a7af7597",
            "57d8073f15174762aebf5ba2be0897a8",
            "4f5ec173e0c243adb074acdd31bae276",
            "9b5f2eccd3074bafb71af56a78772a48"
          ]
        },
        "id": "n8KUx8Zs1ZdJ",
        "outputId": "b7b7ca3e-d5d9-4ceb-dc22-ea73d31bdeea"
      },
      "outputs": [
        {
          "name": "stdout",
          "output_type": "stream",
          "text": [
            "Downloading http://fashion-mnist.s3-website.eu-central-1.amazonaws.com/train-images-idx3-ubyte.gz\n",
            "Downloading http://fashion-mnist.s3-website.eu-central-1.amazonaws.com/train-images-idx3-ubyte.gz to ./FashionMNIST/raw/train-images-idx3-ubyte.gz\n"
          ]
        },
        {
          "data": {
            "application/vnd.jupyter.widget-view+json": {
              "model_id": "80856d986e194bdb99e37af0c515eb55",
              "version_major": 2,
              "version_minor": 0
            },
            "text/plain": [
              "HBox(children=(FloatProgress(value=0.0, max=26421880.0), HTML(value='')))"
            ]
          },
          "metadata": {
            "tags": []
          },
          "output_type": "display_data"
        },
        {
          "name": "stdout",
          "output_type": "stream",
          "text": [
            "\n",
            "Extracting ./FashionMNIST/raw/train-images-idx3-ubyte.gz to ./FashionMNIST/raw\n",
            "\n",
            "Downloading http://fashion-mnist.s3-website.eu-central-1.amazonaws.com/train-labels-idx1-ubyte.gz\n",
            "Downloading http://fashion-mnist.s3-website.eu-central-1.amazonaws.com/train-labels-idx1-ubyte.gz to ./FashionMNIST/raw/train-labels-idx1-ubyte.gz\n"
          ]
        },
        {
          "data": {
            "application/vnd.jupyter.widget-view+json": {
              "model_id": "a32c7b85323c493693da400fd15ea294",
              "version_major": 2,
              "version_minor": 0
            },
            "text/plain": [
              "HBox(children=(FloatProgress(value=0.0, max=29515.0), HTML(value='')))"
            ]
          },
          "metadata": {
            "tags": []
          },
          "output_type": "display_data"
        },
        {
          "name": "stdout",
          "output_type": "stream",
          "text": [
            "\n",
            "Extracting ./FashionMNIST/raw/train-labels-idx1-ubyte.gz to ./FashionMNIST/raw\n",
            "\n",
            "Downloading http://fashion-mnist.s3-website.eu-central-1.amazonaws.com/t10k-images-idx3-ubyte.gz\n",
            "Downloading http://fashion-mnist.s3-website.eu-central-1.amazonaws.com/t10k-images-idx3-ubyte.gz to ./FashionMNIST/raw/t10k-images-idx3-ubyte.gz\n"
          ]
        },
        {
          "data": {
            "application/vnd.jupyter.widget-view+json": {
              "model_id": "2648f7bff5474e0e934611878f733ade",
              "version_major": 2,
              "version_minor": 0
            },
            "text/plain": [
              "HBox(children=(FloatProgress(value=0.0, max=4422102.0), HTML(value='')))"
            ]
          },
          "metadata": {
            "tags": []
          },
          "output_type": "display_data"
        },
        {
          "name": "stdout",
          "output_type": "stream",
          "text": [
            "\n",
            "Extracting ./FashionMNIST/raw/t10k-images-idx3-ubyte.gz to ./FashionMNIST/raw\n",
            "\n",
            "Downloading http://fashion-mnist.s3-website.eu-central-1.amazonaws.com/t10k-labels-idx1-ubyte.gz\n",
            "Downloading http://fashion-mnist.s3-website.eu-central-1.amazonaws.com/t10k-labels-idx1-ubyte.gz to ./FashionMNIST/raw/t10k-labels-idx1-ubyte.gz\n"
          ]
        },
        {
          "data": {
            "application/vnd.jupyter.widget-view+json": {
              "model_id": "ad60544c8ad5410b821d137699a48813",
              "version_major": 2,
              "version_minor": 0
            },
            "text/plain": [
              "HBox(children=(FloatProgress(value=0.0, max=5148.0), HTML(value='')))"
            ]
          },
          "metadata": {
            "tags": []
          },
          "output_type": "display_data"
        },
        {
          "name": "stdout",
          "output_type": "stream",
          "text": [
            "\n",
            "Extracting ./FashionMNIST/raw/t10k-labels-idx1-ubyte.gz to ./FashionMNIST/raw\n",
            "\n",
            "Processing...\n",
            "Done!\n"
          ]
        },
        {
          "name": "stderr",
          "output_type": "stream",
          "text": [
            "/usr/local/lib/python3.7/dist-packages/torchvision/datasets/mnist.py:502: UserWarning: The given NumPy array is not writeable, and PyTorch does not support non-writeable tensors. This means you can write to the underlying (supposedly non-writeable) NumPy array using the tensor. You may want to copy the array to protect its data or make it writeable before converting it to a tensor. This type of warning will be suppressed for the rest of this program. (Triggered internally at  /pytorch/torch/csrc/utils/tensor_numpy.cpp:143.)\n",
            "  return torch.from_numpy(parsed.astype(m[2], copy=False)).view(*s)\n"
          ]
        }
      ],
      "source": [
        "# By default pytorch torchvision datasets are of type PIL.\n",
        "# Define a transform \"trans\" to change the PIL to Tensor format.\n",
        "trans = transforms.ToTensor() \n",
        "    \n",
        "mnist_train = torchvision.datasets.FashionMNIST(root=\"./\", train=True, transform=trans, target_transform=None, download=True)\n",
        "mnist_test = torchvision.datasets.FashionMNIST(root=\"./\", train=False, transform=trans, target_transform=None, download=True)"
      ]
    },
    {
      "cell_type": "markdown",
      "metadata": {
        "id": "buS3TR-4AWHv"
      },
      "source": [
        "Create the Data Loaders for the training and test data"
      ]
    },
    {
      "cell_type": "code",
      "execution_count": null,
      "metadata": {
        "colab": {
          "base_uri": "https://localhost:8080/"
        },
        "id": "rJGCjIZUAIL5",
        "outputId": "cb9abcac-8932-4c88-af72-b3ed09c46c04"
      },
      "outputs": [
        {
          "name": "stderr",
          "output_type": "stream",
          "text": [
            "/usr/local/lib/python3.7/dist-packages/torch/utils/data/dataloader.py:477: UserWarning: This DataLoader will create 4 worker processes in total. Our suggested max number of worker in current system is 2, which is smaller than what this DataLoader is going to create. Please be aware that excessive worker creation might get DataLoader running slow or even freeze, lower the worker number to avoid potential slowness/freeze if necessary.\n",
            "  cpuset_checked))\n"
          ]
        }
      ],
      "source": [
        "batch_size = 256\n",
        "if sys.platform.startswith('win'):\n",
        "    # set 0 for windows\n",
        "    # 0 means no additional processes are needed to speed up the reading of data\n",
        "    num_workers = 0\n",
        "else:\n",
        "    num_workers = 4\n",
        "\n",
        "train_iter = DataLoader(mnist_train, batch_size, shuffle=True, num_workers=num_workers)\n",
        "test_iter = DataLoader(mnist_test, batch_size, shuffle=False, num_workers=num_workers)"
      ]
    },
    {
      "cell_type": "markdown",
      "metadata": {
        "id": "4NZ6Of2G59zg"
      },
      "source": [
        "Set the Model Configurations: Number of epochs, learning rate (lr) and the batch-size. \n",
        "Defining the Loss (criterion)"
      ]
    },
    {
      "cell_type": "code",
      "execution_count": null,
      "metadata": {
        "id": "CWF0e_MTQiNq"
      },
      "outputs": [],
      "source": [
        "num_epochs, lr = 8, 0.1\n",
        "criterion = nn.CrossEntropyLoss()\n",
        "optimizer = torch.optim.SGD(net.parameters(), lr = lr)"
      ]
    },
    {
      "cell_type": "markdown",
      "metadata": {
        "id": "IJe8h219QiNq"
      },
      "source": [
        "Training the model follows the exact same steps as in our softmax regression implementation."
      ]
    },
    {
      "cell_type": "code",
      "execution_count": null,
      "metadata": {
        "colab": {
          "base_uri": "https://localhost:8080/"
        },
        "id": "sL8Sbb0skTum",
        "outputId": "78cb231b-0201-4954-c07a-0ea9c9fa05b7"
      },
      "outputs": [
        {
          "name": "stderr",
          "output_type": "stream",
          "text": [
            "/usr/local/lib/python3.7/dist-packages/torch/utils/data/dataloader.py:477: UserWarning: This DataLoader will create 4 worker processes in total. Our suggested max number of worker in current system is 2, which is smaller than what this DataLoader is going to create. Please be aware that excessive worker creation might get DataLoader running slow or even freeze, lower the worker number to avoid potential slowness/freeze if necessary.\n",
            "  cpuset_checked))\n"
          ]
        },
        {
          "name": "stdout",
          "output_type": "stream",
          "text": [
            "epoch 1, train loss 1.041639804840088, test loss 0.6675717234611511\n",
            "epoch 2, train loss 0.5982010364532471, test loss 0.5841382741928101\n",
            "epoch 3, train loss 0.5181007385253906, test loss 0.5510810613632202\n",
            "epoch 4, train loss 0.48116523027420044, test loss 0.5289320349693298\n",
            "epoch 5, train loss 0.45358356833457947, test loss 0.4958782196044922\n",
            "epoch 6, train loss 0.43440860509872437, test loss 0.4636268615722656\n",
            "epoch 7, train loss 0.4173446595668793, test loss 0.44393691420555115\n",
            "epoch 8, train loss 0.4041752219200134, test loss 0.4439884126186371\n"
          ]
        }
      ],
      "source": [
        "for epoch in range(num_epochs): \n",
        "  train_loss_epoch = 0.0\n",
        "  net.train()\n",
        "  for X, y in train_iter:  \n",
        "    y_hat = net(X)\n",
        "    l = criterion(y_hat, y)\n",
        "    train_loss_epoch += l\n",
        "    optimizer.zero_grad() \n",
        "    l.backward() \n",
        "    optimizer.step() \n",
        "  train_loss_epoch /= len(train_iter)\n",
        "  \n",
        "  net.eval()\n",
        "  with torch.no_grad():\n",
        "    test_loss_epoch = 0.0\n",
        "    for X_test, y_test in test_iter:\n",
        "      b_l = criterion(net(X_test), y_test) \n",
        "      test_loss_epoch += b_l\n",
        "    test_loss_epoch /= len(test_iter)  \n",
        "  print('epoch {}, train loss {}, test loss {}'.format(epoch+1, train_loss_epoch, test_loss_epoch)) "
      ]
    },
    {
      "cell_type": "markdown",
      "metadata": {
        "id": "TcHnWC8-Qxv6"
      },
      "source": [
        "Visualizing the computational graph using `torchviz`"
      ]
    },
    {
      "cell_type": "code",
      "execution_count": null,
      "metadata": {
        "colab": {
          "base_uri": "https://localhost:8080/"
        },
        "id": "FXkd6CGLQyGa",
        "outputId": "40a8191d-5a5b-4a10-9b4f-a96389af6dde"
      },
      "outputs": [
        {
          "name": "stdout",
          "output_type": "stream",
          "text": [
            "Collecting torchviz\n",
            "  Downloading https://files.pythonhosted.org/packages/79/e7/643808913211d6c1fc96a3a4333bf4c9276858fab00bcafaf98ea58a97be/torchviz-0.0.2.tar.gz\n",
            "Requirement already satisfied: torch in /usr/local/lib/python3.7/dist-packages (from torchviz) (1.8.1+cu101)\n",
            "Requirement already satisfied: graphviz in /usr/local/lib/python3.7/dist-packages (from torchviz) (0.10.1)\n",
            "Requirement already satisfied: typing-extensions in /usr/local/lib/python3.7/dist-packages (from torch->torchviz) (3.7.4.3)\n",
            "Requirement already satisfied: numpy in /usr/local/lib/python3.7/dist-packages (from torch->torchviz) (1.19.5)\n",
            "Building wheels for collected packages: torchviz\n",
            "  Building wheel for torchviz (setup.py) ... \u001b[?25l\u001b[?25hdone\n",
            "  Created wheel for torchviz: filename=torchviz-0.0.2-cp37-none-any.whl size=4152 sha256=57f94670751ee00b12f7fbbdd973e44e07df25f6ad0db5764c04ee4c0e561d8a\n",
            "  Stored in directory: /root/.cache/pip/wheels/01/26/58/026ffd533dbe8b3972eb423da9c7949beca68d1c98ed9e8624\n",
            "Successfully built torchviz\n",
            "Installing collected packages: torchviz\n",
            "Successfully installed torchviz-0.0.2\n"
          ]
        }
      ],
      "source": [
        "!pip install torchviz"
      ]
    },
    {
      "cell_type": "code",
      "execution_count": null,
      "metadata": {
        "id": "ZVAIgZzjQ296"
      },
      "outputs": [],
      "source": [
        "from torchviz import make_dot"
      ]
    },
    {
      "cell_type": "code",
      "execution_count": null,
      "metadata": {
        "colab": {
          "base_uri": "https://localhost:8080/",
          "height": 572
        },
        "id": "tpDdF-lFQ8VU",
        "outputId": "cb05cf8a-8e7a-48e5-8236-3998e5995c40"
      },
      "outputs": [
        {
          "data": {
            "image/svg+xml": "<?xml version=\"1.0\" encoding=\"UTF-8\" standalone=\"no\"?>\n<!DOCTYPE svg PUBLIC \"-//W3C//DTD SVG 1.1//EN\"\n \"http://www.w3.org/Graphics/SVG/1.1/DTD/svg11.dtd\">\n<!-- Generated by graphviz version 2.40.1 (20161225.0304)\n -->\n<!-- Title: %3 Pages: 1 -->\n<svg width=\"336pt\" height=\"413pt\"\n viewBox=\"0.00 0.00 336.00 413.00\" xmlns=\"http://www.w3.org/2000/svg\" xmlns:xlink=\"http://www.w3.org/1999/xlink\">\n<g id=\"graph0\" class=\"graph\" transform=\"scale(1 1) rotate(0) translate(4 409)\">\n<title>%3</title>\n<polygon fill=\"#ffffff\" stroke=\"transparent\" points=\"-4,4 -4,-409 332,-409 332,4 -4,4\"/>\n<!-- 140636100734160 -->\n<g id=\"node1\" class=\"node\">\n<title>140636100734160</title>\n<polygon fill=\"#caff70\" stroke=\"#000000\" points=\"202,-31 131,-31 131,0 202,0 202,-31\"/>\n<text text-anchor=\"middle\" x=\"166.5\" y=\"-7\" font-family=\"monospace\" font-size=\"10.00\" fill=\"#000000\"> (96, 10)</text>\n</g>\n<!-- 140636101015440 -->\n<g id=\"node2\" class=\"node\">\n<title>140636101015440</title>\n<polygon fill=\"#d3d3d3\" stroke=\"#000000\" points=\"214,-86 119,-86 119,-67 214,-67 214,-86\"/>\n<text text-anchor=\"middle\" x=\"166.5\" y=\"-74\" font-family=\"monospace\" font-size=\"10.00\" fill=\"#000000\">AddmmBackward</text>\n</g>\n<!-- 140636101015440&#45;&gt;140636100734160 -->\n<g id=\"edge13\" class=\"edge\">\n<title>140636101015440&#45;&gt;140636100734160</title>\n<path fill=\"none\" stroke=\"#000000\" d=\"M166.5,-66.9688C166.5,-60.1289 166.5,-50.5621 166.5,-41.5298\"/>\n<polygon fill=\"#000000\" stroke=\"#000000\" points=\"170.0001,-41.3678 166.5,-31.3678 163.0001,-41.3678 170.0001,-41.3678\"/>\n</g>\n<!-- 140636101014608 -->\n<g id=\"node3\" class=\"node\">\n<title>140636101014608</title>\n<polygon fill=\"#d3d3d3\" stroke=\"#000000\" points=\"101,-141 0,-141 0,-122 101,-122 101,-141\"/>\n<text text-anchor=\"middle\" x=\"50.5\" y=\"-129\" font-family=\"monospace\" font-size=\"10.00\" fill=\"#000000\">AccumulateGrad</text>\n</g>\n<!-- 140636101014608&#45;&gt;140636101015440 -->\n<g id=\"edge1\" class=\"edge\">\n<title>140636101014608&#45;&gt;140636101015440</title>\n<path fill=\"none\" stroke=\"#000000\" d=\"M70.7057,-121.9197C88.9737,-113.2581 116.1018,-100.3957 136.8304,-90.5675\"/>\n<polygon fill=\"#000000\" stroke=\"#000000\" points=\"138.6004,-93.6018 146.1367,-86.155 135.6014,-87.2768 138.6004,-93.6018\"/>\n</g>\n<!-- 140636105883072 -->\n<g id=\"node4\" class=\"node\">\n<title>140636105883072</title>\n<polygon fill=\"#add8e6\" stroke=\"#000000\" points=\"92,-207 9,-207 9,-177 92,-177 92,-207\"/>\n<text text-anchor=\"middle\" x=\"50.5\" y=\"-195\" font-family=\"monospace\" font-size=\"10.00\" fill=\"#000000\">layer2.bias</text>\n<text text-anchor=\"middle\" x=\"50.5\" y=\"-184\" font-family=\"monospace\" font-size=\"10.00\" fill=\"#000000\"> (10)</text>\n</g>\n<!-- 140636105883072&#45;&gt;140636101014608 -->\n<g id=\"edge2\" class=\"edge\">\n<title>140636105883072&#45;&gt;140636101014608</title>\n<path fill=\"none\" stroke=\"#000000\" d=\"M50.5,-176.7333C50.5,-169.0322 50.5,-159.5977 50.5,-151.3414\"/>\n<polygon fill=\"#000000\" stroke=\"#000000\" points=\"54.0001,-151.0864 50.5,-141.0864 47.0001,-151.0864 54.0001,-151.0864\"/>\n</g>\n<!-- 140636101016400 -->\n<g id=\"node5\" class=\"node\">\n<title>140636101016400</title>\n<polygon fill=\"#d3d3d3\" stroke=\"#000000\" points=\"214,-141 119,-141 119,-122 214,-122 214,-141\"/>\n<text text-anchor=\"middle\" x=\"166.5\" y=\"-129\" font-family=\"monospace\" font-size=\"10.00\" fill=\"#000000\">ReluBackward0</text>\n</g>\n<!-- 140636101016400&#45;&gt;140636101015440 -->\n<g id=\"edge3\" class=\"edge\">\n<title>140636101016400&#45;&gt;140636101015440</title>\n<path fill=\"none\" stroke=\"#000000\" d=\"M166.5,-121.9197C166.5,-114.9083 166.5,-105.1442 166.5,-96.4652\"/>\n<polygon fill=\"#000000\" stroke=\"#000000\" points=\"170.0001,-96.3408 166.5,-86.3408 163.0001,-96.3409 170.0001,-96.3408\"/>\n</g>\n<!-- 140636101015376 -->\n<g id=\"node6\" class=\"node\">\n<title>140636101015376</title>\n<polygon fill=\"#d3d3d3\" stroke=\"#000000\" points=\"209,-201.5 114,-201.5 114,-182.5 209,-182.5 209,-201.5\"/>\n<text text-anchor=\"middle\" x=\"161.5\" y=\"-189.5\" font-family=\"monospace\" font-size=\"10.00\" fill=\"#000000\">AddmmBackward</text>\n</g>\n<!-- 140636101015376&#45;&gt;140636101016400 -->\n<g id=\"edge4\" class=\"edge\">\n<title>140636101015376&#45;&gt;140636101016400</title>\n<path fill=\"none\" stroke=\"#000000\" d=\"M162.3033,-182.2796C162.9845,-174.0376 163.9838,-161.9457 164.8364,-151.629\"/>\n<polygon fill=\"#000000\" stroke=\"#000000\" points=\"168.3464,-151.6516 165.682,-141.3972 161.3702,-151.075 168.3464,-151.6516\"/>\n</g>\n<!-- 140636101017424 -->\n<g id=\"node7\" class=\"node\">\n<title>140636101017424</title>\n<polygon fill=\"#d3d3d3\" stroke=\"#000000\" points=\"109,-267.5 8,-267.5 8,-248.5 109,-248.5 109,-267.5\"/>\n<text text-anchor=\"middle\" x=\"58.5\" y=\"-255.5\" font-family=\"monospace\" font-size=\"10.00\" fill=\"#000000\">AccumulateGrad</text>\n</g>\n<!-- 140636101017424&#45;&gt;140636101015376 -->\n<g id=\"edge5\" class=\"edge\">\n<title>140636101017424&#45;&gt;140636101015376</title>\n<path fill=\"none\" stroke=\"#000000\" d=\"M73.698,-248.2615C90.6825,-237.3782 118.3851,-219.627 138.1297,-206.9751\"/>\n<polygon fill=\"#000000\" stroke=\"#000000\" points=\"140.0431,-209.906 146.5745,-201.5639 136.2664,-204.0122 140.0431,-209.906\"/>\n</g>\n<!-- 140636105883312 -->\n<g id=\"node8\" class=\"node\">\n<title>140636105883312</title>\n<polygon fill=\"#add8e6\" stroke=\"#000000\" points=\"103,-339 8,-339 8,-309 103,-309 103,-339\"/>\n<text text-anchor=\"middle\" x=\"55.5\" y=\"-327\" font-family=\"monospace\" font-size=\"10.00\" fill=\"#000000\">layer1.0.bias</text>\n<text text-anchor=\"middle\" x=\"55.5\" y=\"-316\" font-family=\"monospace\" font-size=\"10.00\" fill=\"#000000\"> (256)</text>\n</g>\n<!-- 140636105883312&#45;&gt;140636101017424 -->\n<g id=\"edge6\" class=\"edge\">\n<title>140636105883312&#45;&gt;140636101017424</title>\n<path fill=\"none\" stroke=\"#000000\" d=\"M56.1958,-308.6924C56.6133,-299.5067 57.1489,-287.7245 57.5986,-277.8312\"/>\n<polygon fill=\"#000000\" stroke=\"#000000\" points=\"61.1012,-277.8517 58.059,-267.7031 54.1084,-277.5338 61.1012,-277.8517\"/>\n</g>\n<!-- 140636101014096 -->\n<g id=\"node9\" class=\"node\">\n<title>140636101014096</title>\n<polygon fill=\"#d3d3d3\" stroke=\"#000000\" points=\"204,-267.5 133,-267.5 133,-248.5 204,-248.5 204,-267.5\"/>\n<text text-anchor=\"middle\" x=\"168.5\" y=\"-255.5\" font-family=\"monospace\" font-size=\"10.00\" fill=\"#000000\">TBackward</text>\n</g>\n<!-- 140636101014096&#45;&gt;140636101015376 -->\n<g id=\"edge7\" class=\"edge\">\n<title>140636101014096&#45;&gt;140636101015376</title>\n<path fill=\"none\" stroke=\"#000000\" d=\"M167.4671,-248.2615C166.4538,-238.7077 164.8793,-223.8615 163.6019,-211.8183\"/>\n<polygon fill=\"#000000\" stroke=\"#000000\" points=\"167.0724,-211.3535 162.5371,-201.7785 160.1114,-212.0919 167.0724,-211.3535\"/>\n</g>\n<!-- 140636101014736 -->\n<g id=\"node10\" class=\"node\">\n<title>140636101014736</title>\n<polygon fill=\"#d3d3d3\" stroke=\"#000000\" points=\"222,-333.5 121,-333.5 121,-314.5 222,-314.5 222,-333.5\"/>\n<text text-anchor=\"middle\" x=\"171.5\" y=\"-321.5\" font-family=\"monospace\" font-size=\"10.00\" fill=\"#000000\">AccumulateGrad</text>\n</g>\n<!-- 140636101014736&#45;&gt;140636101014096 -->\n<g id=\"edge8\" class=\"edge\">\n<title>140636101014736&#45;&gt;140636101014096</title>\n<path fill=\"none\" stroke=\"#000000\" d=\"M171.0573,-314.2615C170.6231,-304.7077 169.9483,-289.8615 169.4008,-277.8183\"/>\n<polygon fill=\"#000000\" stroke=\"#000000\" points=\"172.895,-277.6092 168.9445,-267.7785 165.9023,-277.9271 172.895,-277.6092\"/>\n</g>\n<!-- 140636105411072 -->\n<g id=\"node11\" class=\"node\">\n<title>140636105411072</title>\n<polygon fill=\"#add8e6\" stroke=\"#000000\" points=\"225,-405 118,-405 118,-375 225,-375 225,-405\"/>\n<text text-anchor=\"middle\" x=\"171.5\" y=\"-393\" font-family=\"monospace\" font-size=\"10.00\" fill=\"#000000\">layer1.0.weight</text>\n<text text-anchor=\"middle\" x=\"171.5\" y=\"-382\" font-family=\"monospace\" font-size=\"10.00\" fill=\"#000000\"> (256, 784)</text>\n</g>\n<!-- 140636105411072&#45;&gt;140636101014736 -->\n<g id=\"edge9\" class=\"edge\">\n<title>140636105411072&#45;&gt;140636101014736</title>\n<path fill=\"none\" stroke=\"#000000\" d=\"M171.5,-374.6924C171.5,-365.5067 171.5,-353.7245 171.5,-343.8312\"/>\n<polygon fill=\"#000000\" stroke=\"#000000\" points=\"175.0001,-343.703 171.5,-333.7031 168.0001,-343.7031 175.0001,-343.703\"/>\n</g>\n<!-- 140636101014544 -->\n<g id=\"node12\" class=\"node\">\n<title>140636101014544</title>\n<polygon fill=\"#d3d3d3\" stroke=\"#000000\" points=\"306,-141 235,-141 235,-122 306,-122 306,-141\"/>\n<text text-anchor=\"middle\" x=\"270.5\" y=\"-129\" font-family=\"monospace\" font-size=\"10.00\" fill=\"#000000\">TBackward</text>\n</g>\n<!-- 140636101014544&#45;&gt;140636101015440 -->\n<g id=\"edge10\" class=\"edge\">\n<title>140636101014544&#45;&gt;140636101015440</title>\n<path fill=\"none\" stroke=\"#000000\" d=\"M252.3846,-121.9197C236.1545,-113.3365 212.1241,-100.6281 193.6063,-90.8351\"/>\n<polygon fill=\"#000000\" stroke=\"#000000\" points=\"195.233,-87.7361 184.7568,-86.155 191.9605,-93.924 195.233,-87.7361\"/>\n</g>\n<!-- 140636101015056 -->\n<g id=\"node13\" class=\"node\">\n<title>140636101015056</title>\n<polygon fill=\"#d3d3d3\" stroke=\"#000000\" points=\"328,-201.5 227,-201.5 227,-182.5 328,-182.5 328,-201.5\"/>\n<text text-anchor=\"middle\" x=\"277.5\" y=\"-189.5\" font-family=\"monospace\" font-size=\"10.00\" fill=\"#000000\">AccumulateGrad</text>\n</g>\n<!-- 140636101015056&#45;&gt;140636101014544 -->\n<g id=\"edge11\" class=\"edge\">\n<title>140636101015056&#45;&gt;140636101014544</title>\n<path fill=\"none\" stroke=\"#000000\" d=\"M276.3753,-182.2796C275.4217,-174.0376 274.0226,-161.9457 272.829,-151.629\"/>\n<polygon fill=\"#000000\" stroke=\"#000000\" points=\"276.2714,-150.9287 271.6451,-141.3972 269.3178,-151.7333 276.2714,-150.9287\"/>\n</g>\n<!-- 140636105881312 -->\n<g id=\"node14\" class=\"node\">\n<title>140636105881312</title>\n<polygon fill=\"#add8e6\" stroke=\"#000000\" points=\"325,-273 230,-273 230,-243 325,-243 325,-273\"/>\n<text text-anchor=\"middle\" x=\"277.5\" y=\"-261\" font-family=\"monospace\" font-size=\"10.00\" fill=\"#000000\">layer2.weight</text>\n<text text-anchor=\"middle\" x=\"277.5\" y=\"-250\" font-family=\"monospace\" font-size=\"10.00\" fill=\"#000000\"> (10, 256)</text>\n</g>\n<!-- 140636105881312&#45;&gt;140636101015056 -->\n<g id=\"edge12\" class=\"edge\">\n<title>140636105881312&#45;&gt;140636101015056</title>\n<path fill=\"none\" stroke=\"#000000\" d=\"M277.5,-242.6924C277.5,-233.5067 277.5,-221.7245 277.5,-211.8312\"/>\n<polygon fill=\"#000000\" stroke=\"#000000\" points=\"281.0001,-211.703 277.5,-201.7031 274.0001,-211.7031 281.0001,-211.703\"/>\n</g>\n</g>\n</svg>\n",
            "text/plain": [
              "<graphviz.dot.Digraph at 0x7fe864d7f810>"
            ]
          },
          "execution_count": 9,
          "metadata": {
            "tags": []
          },
          "output_type": "execute_result"
        }
      ],
      "source": [
        "make_dot(y_hat, params=dict(net.named_parameters()))"
      ]
    },
    {
      "cell_type": "markdown",
      "metadata": {
        "id": "H67vehrf9fNs"
      },
      "source": [
        "# Underfitting or Overfitting?\n",
        "When we compare the training and validation errors, we want to be mindful of two common situations: First, we want to watch out for cases when our training error and validation error are both substantial but there is a little gap between them. If the model is unable to reduce the training error, that could mean that our model is too simple (i.e., insufficiently expressive) to capture the pattern that we are trying to model. Moreover, since the generalization gap between our training and validation errors is small, we have reason to believe that we could get away with a more complex model. This phenomenon is known as underfitting.\n",
        "\n",
        "On the other hand, as we discussed above, we want to watch out for the cases when our training error is significantly lower\n",
        "than our validation error, indicating severe overfitting. Note that overfitting is not always a bad thing. With deep learning\n",
        "especially, it’s well known that the best predictive models often perform far better on training data than on holdout data.\n",
        "\n",
        "Ultimately, we usually care more about the validation error than about the gap between the training and validation errors.\n",
        "Whether we overfit or underfit can depend both on the complexity of our model and the size of the available training\n",
        "datasets.\n"
      ]
    },
    {
      "cell_type": "markdown",
      "metadata": {
        "id": "tzCs7-fyStf5"
      },
      "source": [
        "## Effect of model complexity\n",
        "In a deep MLP, the model complexity can increase by adding more layers and neurons in those layers. Thus, allowing the model to grow larger in size, and hence in capacity. This can cause overfitting, especially on small datasets.\n",
        "In order to view overfitting in practice, let's build a larger network:"
      ]
    },
    {
      "cell_type": "code",
      "execution_count": null,
      "metadata": {
        "colab": {
          "base_uri": "https://localhost:8080/"
        },
        "id": "9NIxqapZS1na",
        "outputId": "f9050f17-9dd5-40e9-ffec-bbcc639ece69"
      },
      "outputs": [
        {
          "name": "stdout",
          "output_type": "stream",
          "text": [
            "LargeNet(\n",
            "  (layer1): Sequential(\n",
            "    (0): Linear(in_features=784, out_features=512, bias=True)\n",
            "    (1): ReLU()\n",
            "  )\n",
            "  (layer2): Sequential(\n",
            "    (0): Linear(in_features=512, out_features=512, bias=True)\n",
            "    (1): ReLU()\n",
            "  )\n",
            "  (layer3): Sequential(\n",
            "    (0): Linear(in_features=512, out_features=512, bias=True)\n",
            "    (1): ReLU()\n",
            "  )\n",
            "  (layer4): Linear(in_features=512, out_features=10, bias=True)\n",
            ")\n"
          ]
        }
      ],
      "source": [
        "torch.manual_seed(119)\n",
        "\n",
        "class LargeNet(nn.Module):\n",
        "    def __init__(self, num_inputs = 784, num_outputs = 10, num_hiddens = 512, num_hiddens2 = 512, num_hiddens3 = 512, is_training = True):\n",
        "        super(LargeNet, self).__init__()\n",
        "        \n",
        "        self.num_inputs = num_inputs\n",
        "        self.num_outputs = num_outputs\n",
        "        self.num_hiddens = num_hiddens\n",
        "        \n",
        "        self.layer1 = nn.Sequential(\n",
        "            nn.Linear(num_inputs, num_hiddens),\n",
        "            nn.ReLU())\n",
        "        self.layer2 = nn.Sequential(\n",
        "            nn.Linear(num_hiddens, num_hiddens2),\n",
        "            nn.ReLU())        \n",
        "        self.layer3 = nn.Sequential(\n",
        "            nn.Linear(num_hiddens2, num_hiddens3),\n",
        "            nn.ReLU())     \n",
        "        self.layer4 = nn.Sequential(\n",
        "            nn.Linear(num_hiddens3, num_hiddens2),\n",
        "            nn.ReLU())        \n",
        "        self.layer4 = nn.Linear(num_hiddens3, num_outputs)\n",
        "\n",
        "    def forward(self, X):\n",
        "        X = X.reshape((-1, self.num_inputs))\n",
        "        H1 = self.layer1(X)\n",
        "        H2 = self.layer2(H1)        \n",
        "        H3 = self.layer3(H2)\n",
        "        out = self.layer4(H3)\n",
        "        return out\n",
        "\n",
        "\n",
        "def init_weights(m):\n",
        "    if type(m) == nn.Linear:\n",
        "        torch.nn.init.normal_(m.weight, std=0.01)        \n",
        "        m.bias.data.fill_(0.01)\n",
        "\n",
        "# Create an instance of the MLP\n",
        "net = LargeNet()\n",
        "net.apply(init_weights)\n",
        "print(net) "
      ]
    },
    {
      "cell_type": "markdown",
      "metadata": {
        "id": "vaJ6dDgxTqxS"
      },
      "source": [
        "We will keep the same values of `epochs`, `batch_size`, and `learning rate` we used before. And will only use the new larger network instead."
      ]
    },
    {
      "cell_type": "code",
      "execution_count": null,
      "metadata": {
        "id": "VHzM5gwTUu0R"
      },
      "outputs": [],
      "source": [
        "num_epochs, lr = 8, 0.1\n",
        "criterion = nn.CrossEntropyLoss()\n",
        "optimizer = torch.optim.SGD(net.parameters(), lr = lr)"
      ]
    },
    {
      "cell_type": "code",
      "execution_count": null,
      "metadata": {
        "colab": {
          "base_uri": "https://localhost:8080/"
        },
        "id": "cPLTNXRTTJBB",
        "outputId": "2fa3c2d7-9739-473b-8b21-f25d404f6727"
      },
      "outputs": [
        {
          "name": "stderr",
          "output_type": "stream",
          "text": [
            "/usr/local/lib/python3.7/dist-packages/torch/utils/data/dataloader.py:477: UserWarning: This DataLoader will create 4 worker processes in total. Our suggested max number of worker in current system is 2, which is smaller than what this DataLoader is going to create. Please be aware that excessive worker creation might get DataLoader running slow or even freeze, lower the worker number to avoid potential slowness/freeze if necessary.\n",
            "  cpuset_checked))\n"
          ]
        },
        {
          "name": "stdout",
          "output_type": "stream",
          "text": [
            "epoch 1, train loss 2.162475109100342, test loss 1.393125295639038\n",
            "epoch 2, train loss 1.1452317237854004, test loss 1.006527066230774\n",
            "epoch 3, train loss 0.8388906717300415, test loss 0.7419486045837402\n",
            "epoch 4, train loss 0.6675246953964233, test loss 0.7109178900718689\n",
            "epoch 5, train loss 0.5705137848854065, test loss 0.5447368025779724\n",
            "epoch 6, train loss 0.5072546601295471, test loss 0.5739651918411255\n",
            "epoch 7, train loss 0.47151821851730347, test loss 0.6394158601760864\n",
            "epoch 8, train loss 0.43845078349113464, test loss 0.5693482756614685\n"
          ]
        }
      ],
      "source": [
        "for epoch in range(num_epochs): \n",
        "  train_loss_epoch = 0.0\n",
        "  net.train()\n",
        "  for X, y in train_iter:  \n",
        "    y_hat = net(X)\n",
        "    l = criterion(y_hat, y)\n",
        "    train_loss_epoch += l\n",
        "    optimizer.zero_grad() \n",
        "    l.backward() \n",
        "    optimizer.step() \n",
        "  train_loss_epoch /= len(train_iter)\n",
        "  \n",
        "  net.eval()\n",
        "  with torch.no_grad():\n",
        "    test_loss_epoch = 0.0\n",
        "    for X_test, y_test in test_iter:\n",
        "      b_l = criterion(net(X_test), y_test) \n",
        "      test_loss_epoch += b_l\n",
        "    test_loss_epoch /= len(test_iter)  \n",
        "  print('epoch {}, train loss {}, test loss {}'.format(epoch+1, train_loss_epoch, test_loss_epoch)) "
      ]
    },
    {
      "cell_type": "code",
      "execution_count": null,
      "metadata": {
        "colab": {
          "base_uri": "https://localhost:8080/",
          "height": 924
        },
        "id": "R0wPjTAfU1oI",
        "outputId": "d23e4402-178e-48b1-bf26-628ad8f6631a"
      },
      "outputs": [
        {
          "data": {
            "image/svg+xml": "<?xml version=\"1.0\" encoding=\"UTF-8\" standalone=\"no\"?>\n<!DOCTYPE svg PUBLIC \"-//W3C//DTD SVG 1.1//EN\"\n \"http://www.w3.org/Graphics/SVG/1.1/DTD/svg11.dtd\">\n<!-- Generated by graphviz version 2.40.1 (20161225.0304)\n -->\n<!-- Title: %3 Pages: 1 -->\n<svg width=\"449pt\" height=\"677pt\"\n viewBox=\"0.00 0.00 449.00 677.00\" xmlns=\"http://www.w3.org/2000/svg\" xmlns:xlink=\"http://www.w3.org/1999/xlink\">\n<g id=\"graph0\" class=\"graph\" transform=\"scale(1 1) rotate(0) translate(4 673)\">\n<title>%3</title>\n<polygon fill=\"#ffffff\" stroke=\"transparent\" points=\"-4,4 -4,-673 445,-673 445,4 -4,4\"/>\n<!-- 140636099908944 -->\n<g id=\"node1\" class=\"node\">\n<title>140636099908944</title>\n<polygon fill=\"#caff70\" stroke=\"#000000\" points=\"253,-31 182,-31 182,0 253,0 253,-31\"/>\n<text text-anchor=\"middle\" x=\"217.5\" y=\"-7\" font-family=\"monospace\" font-size=\"10.00\" fill=\"#000000\"> (96, 10)</text>\n</g>\n<!-- 140636080864784 -->\n<g id=\"node2\" class=\"node\">\n<title>140636080864784</title>\n<polygon fill=\"#d3d3d3\" stroke=\"#000000\" points=\"265,-86 170,-86 170,-67 265,-67 265,-86\"/>\n<text text-anchor=\"middle\" x=\"217.5\" y=\"-74\" font-family=\"monospace\" font-size=\"10.00\" fill=\"#000000\">AddmmBackward</text>\n</g>\n<!-- 140636080864784&#45;&gt;140636099908944 -->\n<g id=\"edge27\" class=\"edge\">\n<title>140636080864784&#45;&gt;140636099908944</title>\n<path fill=\"none\" stroke=\"#000000\" d=\"M217.5,-66.9688C217.5,-60.1289 217.5,-50.5621 217.5,-41.5298\"/>\n<polygon fill=\"#000000\" stroke=\"#000000\" points=\"221.0001,-41.3678 217.5,-31.3678 214.0001,-41.3678 221.0001,-41.3678\"/>\n</g>\n<!-- 140636080923664 -->\n<g id=\"node3\" class=\"node\">\n<title>140636080923664</title>\n<polygon fill=\"#d3d3d3\" stroke=\"#000000\" points=\"152,-141 51,-141 51,-122 152,-122 152,-141\"/>\n<text text-anchor=\"middle\" x=\"101.5\" y=\"-129\" font-family=\"monospace\" font-size=\"10.00\" fill=\"#000000\">AccumulateGrad</text>\n</g>\n<!-- 140636080923664&#45;&gt;140636080864784 -->\n<g id=\"edge1\" class=\"edge\">\n<title>140636080923664&#45;&gt;140636080864784</title>\n<path fill=\"none\" stroke=\"#000000\" d=\"M121.7057,-121.9197C139.9737,-113.2581 167.1018,-100.3957 187.8304,-90.5675\"/>\n<polygon fill=\"#000000\" stroke=\"#000000\" points=\"189.6004,-93.6018 197.1367,-86.155 186.6014,-87.2768 189.6004,-93.6018\"/>\n</g>\n<!-- 140636080866480 -->\n<g id=\"node4\" class=\"node\">\n<title>140636080866480</title>\n<polygon fill=\"#add8e6\" stroke=\"#000000\" points=\"143,-207 60,-207 60,-177 143,-177 143,-207\"/>\n<text text-anchor=\"middle\" x=\"101.5\" y=\"-195\" font-family=\"monospace\" font-size=\"10.00\" fill=\"#000000\">layer4.bias</text>\n<text text-anchor=\"middle\" x=\"101.5\" y=\"-184\" font-family=\"monospace\" font-size=\"10.00\" fill=\"#000000\"> (10)</text>\n</g>\n<!-- 140636080866480&#45;&gt;140636080923664 -->\n<g id=\"edge2\" class=\"edge\">\n<title>140636080866480&#45;&gt;140636080923664</title>\n<path fill=\"none\" stroke=\"#000000\" d=\"M101.5,-176.7333C101.5,-169.0322 101.5,-159.5977 101.5,-151.3414\"/>\n<polygon fill=\"#000000\" stroke=\"#000000\" points=\"105.0001,-151.0864 101.5,-141.0864 98.0001,-151.0864 105.0001,-151.0864\"/>\n</g>\n<!-- 140636080926352 -->\n<g id=\"node5\" class=\"node\">\n<title>140636080926352</title>\n<polygon fill=\"#d3d3d3\" stroke=\"#000000\" points=\"265,-141 170,-141 170,-122 265,-122 265,-141\"/>\n<text text-anchor=\"middle\" x=\"217.5\" y=\"-129\" font-family=\"monospace\" font-size=\"10.00\" fill=\"#000000\">ReluBackward0</text>\n</g>\n<!-- 140636080926352&#45;&gt;140636080864784 -->\n<g id=\"edge3\" class=\"edge\">\n<title>140636080926352&#45;&gt;140636080864784</title>\n<path fill=\"none\" stroke=\"#000000\" d=\"M217.5,-121.9197C217.5,-114.9083 217.5,-105.1442 217.5,-96.4652\"/>\n<polygon fill=\"#000000\" stroke=\"#000000\" points=\"221.0001,-96.3408 217.5,-86.3408 214.0001,-96.3409 221.0001,-96.3408\"/>\n</g>\n<!-- 140636080924880 -->\n<g id=\"node6\" class=\"node\">\n<title>140636080924880</title>\n<polygon fill=\"#d3d3d3\" stroke=\"#000000\" points=\"260,-201.5 165,-201.5 165,-182.5 260,-182.5 260,-201.5\"/>\n<text text-anchor=\"middle\" x=\"212.5\" y=\"-189.5\" font-family=\"monospace\" font-size=\"10.00\" fill=\"#000000\">AddmmBackward</text>\n</g>\n<!-- 140636080924880&#45;&gt;140636080926352 -->\n<g id=\"edge4\" class=\"edge\">\n<title>140636080924880&#45;&gt;140636080926352</title>\n<path fill=\"none\" stroke=\"#000000\" d=\"M213.3033,-182.2796C213.9845,-174.0376 214.9838,-161.9457 215.8364,-151.629\"/>\n<polygon fill=\"#000000\" stroke=\"#000000\" points=\"219.3464,-151.6516 216.682,-141.3972 212.3702,-151.075 219.3464,-151.6516\"/>\n</g>\n<!-- 140636080925648 -->\n<g id=\"node7\" class=\"node\">\n<title>140636080925648</title>\n<polygon fill=\"#d3d3d3\" stroke=\"#000000\" points=\"126,-267.5 25,-267.5 25,-248.5 126,-248.5 126,-267.5\"/>\n<text text-anchor=\"middle\" x=\"75.5\" y=\"-255.5\" font-family=\"monospace\" font-size=\"10.00\" fill=\"#000000\">AccumulateGrad</text>\n</g>\n<!-- 140636080925648&#45;&gt;140636080924880 -->\n<g id=\"edge5\" class=\"edge\">\n<title>140636080925648&#45;&gt;140636080924880</title>\n<path fill=\"none\" stroke=\"#000000\" d=\"M95.421,-248.403C118.5543,-237.2585 156.9168,-218.7773 183.3899,-206.0238\"/>\n<polygon fill=\"#000000\" stroke=\"#000000\" points=\"185.065,-209.1019 192.555,-201.6085 182.0268,-202.7956 185.065,-209.1019\"/>\n</g>\n<!-- 140636080868640 -->\n<g id=\"node8\" class=\"node\">\n<title>140636080868640</title>\n<polygon fill=\"#add8e6\" stroke=\"#000000\" points=\"123,-339 28,-339 28,-309 123,-309 123,-339\"/>\n<text text-anchor=\"middle\" x=\"75.5\" y=\"-327\" font-family=\"monospace\" font-size=\"10.00\" fill=\"#000000\">layer3.0.bias</text>\n<text text-anchor=\"middle\" x=\"75.5\" y=\"-316\" font-family=\"monospace\" font-size=\"10.00\" fill=\"#000000\"> (512)</text>\n</g>\n<!-- 140636080868640&#45;&gt;140636080925648 -->\n<g id=\"edge6\" class=\"edge\">\n<title>140636080868640&#45;&gt;140636080925648</title>\n<path fill=\"none\" stroke=\"#000000\" d=\"M75.5,-308.6924C75.5,-299.5067 75.5,-287.7245 75.5,-277.8312\"/>\n<polygon fill=\"#000000\" stroke=\"#000000\" points=\"79.0001,-277.703 75.5,-267.7031 72.0001,-277.7031 79.0001,-277.703\"/>\n</g>\n<!-- 140636080925456 -->\n<g id=\"node9\" class=\"node\">\n<title>140636080925456</title>\n<polygon fill=\"#d3d3d3\" stroke=\"#000000\" points=\"239,-267.5 144,-267.5 144,-248.5 239,-248.5 239,-267.5\"/>\n<text text-anchor=\"middle\" x=\"191.5\" y=\"-255.5\" font-family=\"monospace\" font-size=\"10.00\" fill=\"#000000\">ReluBackward0</text>\n</g>\n<!-- 140636080925456&#45;&gt;140636080924880 -->\n<g id=\"edge7\" class=\"edge\">\n<title>140636080925456&#45;&gt;140636080924880</title>\n<path fill=\"none\" stroke=\"#000000\" d=\"M194.5986,-248.2615C197.6695,-238.6102 202.4588,-223.558 206.3112,-211.4506\"/>\n<polygon fill=\"#000000\" stroke=\"#000000\" points=\"209.6918,-212.369 209.3887,-201.7785 203.0213,-210.2465 209.6918,-212.369\"/>\n</g>\n<!-- 140636080924944 -->\n<g id=\"node10\" class=\"node\">\n<title>140636080924944</title>\n<polygon fill=\"#d3d3d3\" stroke=\"#000000\" points=\"237,-333.5 142,-333.5 142,-314.5 237,-314.5 237,-333.5\"/>\n<text text-anchor=\"middle\" x=\"189.5\" y=\"-321.5\" font-family=\"monospace\" font-size=\"10.00\" fill=\"#000000\">AddmmBackward</text>\n</g>\n<!-- 140636080924944&#45;&gt;140636080925456 -->\n<g id=\"edge8\" class=\"edge\">\n<title>140636080924944&#45;&gt;140636080925456</title>\n<path fill=\"none\" stroke=\"#000000\" d=\"M189.7951,-314.2615C190.0846,-304.7077 190.5345,-289.8615 190.8994,-277.8183\"/>\n<polygon fill=\"#000000\" stroke=\"#000000\" points=\"194.3991,-277.8799 191.2037,-267.7785 187.4023,-277.6678 194.3991,-277.8799\"/>\n</g>\n<!-- 140636080926096 -->\n<g id=\"node11\" class=\"node\">\n<title>140636080926096</title>\n<polygon fill=\"#d3d3d3\" stroke=\"#000000\" points=\"101,-399.5 0,-399.5 0,-380.5 101,-380.5 101,-399.5\"/>\n<text text-anchor=\"middle\" x=\"50.5\" y=\"-387.5\" font-family=\"monospace\" font-size=\"10.00\" fill=\"#000000\">AccumulateGrad</text>\n</g>\n<!-- 140636080926096&#45;&gt;140636080924944 -->\n<g id=\"edge9\" class=\"edge\">\n<title>140636080926096&#45;&gt;140636080924944</title>\n<path fill=\"none\" stroke=\"#000000\" d=\"M70.7118,-380.403C94.1828,-369.2585 133.1054,-350.7773 159.9649,-338.0238\"/>\n<polygon fill=\"#000000\" stroke=\"#000000\" points=\"161.7317,-341.0595 169.2638,-333.6085 158.7291,-334.7362 161.7317,-341.0595\"/>\n</g>\n<!-- 140636080917072 -->\n<g id=\"node12\" class=\"node\">\n<title>140636080917072</title>\n<polygon fill=\"#add8e6\" stroke=\"#000000\" points=\"98,-471 3,-471 3,-441 98,-441 98,-471\"/>\n<text text-anchor=\"middle\" x=\"50.5\" y=\"-459\" font-family=\"monospace\" font-size=\"10.00\" fill=\"#000000\">layer2.0.bias</text>\n<text text-anchor=\"middle\" x=\"50.5\" y=\"-448\" font-family=\"monospace\" font-size=\"10.00\" fill=\"#000000\"> (512)</text>\n</g>\n<!-- 140636080917072&#45;&gt;140636080926096 -->\n<g id=\"edge10\" class=\"edge\">\n<title>140636080917072&#45;&gt;140636080926096</title>\n<path fill=\"none\" stroke=\"#000000\" d=\"M50.5,-440.6924C50.5,-431.5067 50.5,-419.7245 50.5,-409.8312\"/>\n<polygon fill=\"#000000\" stroke=\"#000000\" points=\"54.0001,-409.703 50.5,-399.7031 47.0001,-409.7031 54.0001,-409.703\"/>\n</g>\n<!-- 140636080926032 -->\n<g id=\"node13\" class=\"node\">\n<title>140636080926032</title>\n<polygon fill=\"#d3d3d3\" stroke=\"#000000\" points=\"214,-399.5 119,-399.5 119,-380.5 214,-380.5 214,-399.5\"/>\n<text text-anchor=\"middle\" x=\"166.5\" y=\"-387.5\" font-family=\"monospace\" font-size=\"10.00\" fill=\"#000000\">ReluBackward0</text>\n</g>\n<!-- 140636080926032&#45;&gt;140636080924944 -->\n<g id=\"edge11\" class=\"edge\">\n<title>140636080926032&#45;&gt;140636080924944</title>\n<path fill=\"none\" stroke=\"#000000\" d=\"M169.8937,-380.2615C173.257,-370.6102 178.5025,-355.558 182.7218,-343.4506\"/>\n<polygon fill=\"#000000\" stroke=\"#000000\" points=\"186.1066,-344.3733 186.0923,-333.7785 179.4965,-342.0697 186.1066,-344.3733\"/>\n</g>\n<!-- 140636080925904 -->\n<g id=\"node14\" class=\"node\">\n<title>140636080925904</title>\n<polygon fill=\"#d3d3d3\" stroke=\"#000000\" points=\"212,-465.5 117,-465.5 117,-446.5 212,-446.5 212,-465.5\"/>\n<text text-anchor=\"middle\" x=\"164.5\" y=\"-453.5\" font-family=\"monospace\" font-size=\"10.00\" fill=\"#000000\">AddmmBackward</text>\n</g>\n<!-- 140636080925904&#45;&gt;140636080926032 -->\n<g id=\"edge12\" class=\"edge\">\n<title>140636080925904&#45;&gt;140636080926032</title>\n<path fill=\"none\" stroke=\"#000000\" d=\"M164.7951,-446.2615C165.0846,-436.7077 165.5345,-421.8615 165.8994,-409.8183\"/>\n<polygon fill=\"#000000\" stroke=\"#000000\" points=\"169.3991,-409.8799 166.2037,-399.7785 162.4023,-409.6678 169.3991,-409.8799\"/>\n</g>\n<!-- 140636080923728 -->\n<g id=\"node15\" class=\"node\">\n<title>140636080923728</title>\n<polygon fill=\"#d3d3d3\" stroke=\"#000000\" points=\"109,-531.5 8,-531.5 8,-512.5 109,-512.5 109,-531.5\"/>\n<text text-anchor=\"middle\" x=\"58.5\" y=\"-519.5\" font-family=\"monospace\" font-size=\"10.00\" fill=\"#000000\">AccumulateGrad</text>\n</g>\n<!-- 140636080923728&#45;&gt;140636080925904 -->\n<g id=\"edge13\" class=\"edge\">\n<title>140636080923728&#45;&gt;140636080925904</title>\n<path fill=\"none\" stroke=\"#000000\" d=\"M74.1407,-512.2615C91.6199,-501.3782 120.1294,-483.627 140.4491,-470.9751\"/>\n<polygon fill=\"#000000\" stroke=\"#000000\" points=\"142.5008,-473.8207 149.1398,-465.5639 138.8008,-467.8784 142.5008,-473.8207\"/>\n</g>\n<!-- 140636080916752 -->\n<g id=\"node16\" class=\"node\">\n<title>140636080916752</title>\n<polygon fill=\"#add8e6\" stroke=\"#000000\" points=\"103,-603 8,-603 8,-573 103,-573 103,-603\"/>\n<text text-anchor=\"middle\" x=\"55.5\" y=\"-591\" font-family=\"monospace\" font-size=\"10.00\" fill=\"#000000\">layer1.0.bias</text>\n<text text-anchor=\"middle\" x=\"55.5\" y=\"-580\" font-family=\"monospace\" font-size=\"10.00\" fill=\"#000000\"> (512)</text>\n</g>\n<!-- 140636080916752&#45;&gt;140636080923728 -->\n<g id=\"edge14\" class=\"edge\">\n<title>140636080916752&#45;&gt;140636080923728</title>\n<path fill=\"none\" stroke=\"#000000\" d=\"M56.1958,-572.6924C56.6133,-563.5067 57.1489,-551.7245 57.5986,-541.8312\"/>\n<polygon fill=\"#000000\" stroke=\"#000000\" points=\"61.1012,-541.8517 58.059,-531.7031 54.1084,-541.5338 61.1012,-541.8517\"/>\n</g>\n<!-- 140636080878544 -->\n<g id=\"node17\" class=\"node\">\n<title>140636080878544</title>\n<polygon fill=\"#d3d3d3\" stroke=\"#000000\" points=\"204,-531.5 133,-531.5 133,-512.5 204,-512.5 204,-531.5\"/>\n<text text-anchor=\"middle\" x=\"168.5\" y=\"-519.5\" font-family=\"monospace\" font-size=\"10.00\" fill=\"#000000\">TBackward</text>\n</g>\n<!-- 140636080878544&#45;&gt;140636080925904 -->\n<g id=\"edge15\" class=\"edge\">\n<title>140636080878544&#45;&gt;140636080925904</title>\n<path fill=\"none\" stroke=\"#000000\" d=\"M167.9098,-512.2615C167.3308,-502.7077 166.431,-487.8615 165.7011,-475.8183\"/>\n<polygon fill=\"#000000\" stroke=\"#000000\" points=\"169.1913,-475.5484 165.0926,-465.7785 162.2041,-475.9719 169.1913,-475.5484\"/>\n</g>\n<!-- 140636080881104 -->\n<g id=\"node18\" class=\"node\">\n<title>140636080881104</title>\n<polygon fill=\"#d3d3d3\" stroke=\"#000000\" points=\"222,-597.5 121,-597.5 121,-578.5 222,-578.5 222,-597.5\"/>\n<text text-anchor=\"middle\" x=\"171.5\" y=\"-585.5\" font-family=\"monospace\" font-size=\"10.00\" fill=\"#000000\">AccumulateGrad</text>\n</g>\n<!-- 140636080881104&#45;&gt;140636080878544 -->\n<g id=\"edge16\" class=\"edge\">\n<title>140636080881104&#45;&gt;140636080878544</title>\n<path fill=\"none\" stroke=\"#000000\" d=\"M171.0573,-578.2615C170.6231,-568.7077 169.9483,-553.8615 169.4008,-541.8183\"/>\n<polygon fill=\"#000000\" stroke=\"#000000\" points=\"172.895,-541.6092 168.9445,-531.7785 165.9023,-541.9271 172.895,-541.6092\"/>\n</g>\n<!-- 140636080916992 -->\n<g id=\"node19\" class=\"node\">\n<title>140636080916992</title>\n<polygon fill=\"#add8e6\" stroke=\"#000000\" points=\"225,-669 118,-669 118,-639 225,-639 225,-669\"/>\n<text text-anchor=\"middle\" x=\"171.5\" y=\"-657\" font-family=\"monospace\" font-size=\"10.00\" fill=\"#000000\">layer1.0.weight</text>\n<text text-anchor=\"middle\" x=\"171.5\" y=\"-646\" font-family=\"monospace\" font-size=\"10.00\" fill=\"#000000\"> (512, 784)</text>\n</g>\n<!-- 140636080916992&#45;&gt;140636080881104 -->\n<g id=\"edge17\" class=\"edge\">\n<title>140636080916992&#45;&gt;140636080881104</title>\n<path fill=\"none\" stroke=\"#000000\" d=\"M171.5,-638.6924C171.5,-629.5067 171.5,-617.7245 171.5,-607.8312\"/>\n<polygon fill=\"#000000\" stroke=\"#000000\" points=\"175.0001,-607.703 171.5,-597.7031 168.0001,-607.7031 175.0001,-607.703\"/>\n</g>\n<!-- 140636080924176 -->\n<g id=\"node20\" class=\"node\">\n<title>140636080924176</title>\n<polygon fill=\"#d3d3d3\" stroke=\"#000000\" points=\"303,-399.5 232,-399.5 232,-380.5 303,-380.5 303,-399.5\"/>\n<text text-anchor=\"middle\" x=\"267.5\" y=\"-387.5\" font-family=\"monospace\" font-size=\"10.00\" fill=\"#000000\">TBackward</text>\n</g>\n<!-- 140636080924176&#45;&gt;140636080924944 -->\n<g id=\"edge18\" class=\"edge\">\n<title>140636080924176&#45;&gt;140636080924944</title>\n<path fill=\"none\" stroke=\"#000000\" d=\"M255.9908,-380.2615C243.5923,-369.7704 223.6515,-352.8974 208.8371,-340.3622\"/>\n<polygon fill=\"#000000\" stroke=\"#000000\" points=\"210.6975,-337.3515 200.8028,-333.5639 206.1759,-342.6952 210.6975,-337.3515\"/>\n</g>\n<!-- 140636080924368 -->\n<g id=\"node21\" class=\"node\">\n<title>140636080924368</title>\n<polygon fill=\"#d3d3d3\" stroke=\"#000000\" points=\"331,-465.5 230,-465.5 230,-446.5 331,-446.5 331,-465.5\"/>\n<text text-anchor=\"middle\" x=\"280.5\" y=\"-453.5\" font-family=\"monospace\" font-size=\"10.00\" fill=\"#000000\">AccumulateGrad</text>\n</g>\n<!-- 140636080924368&#45;&gt;140636080924176 -->\n<g id=\"edge19\" class=\"edge\">\n<title>140636080924368&#45;&gt;140636080924176</title>\n<path fill=\"none\" stroke=\"#000000\" d=\"M278.5818,-446.2615C276.7,-436.7077 273.7758,-421.8615 271.4036,-409.8183\"/>\n<polygon fill=\"#000000\" stroke=\"#000000\" points=\"274.7927,-408.9135 269.4261,-399.7785 267.9247,-410.2664 274.7927,-408.9135\"/>\n</g>\n<!-- 140636080917632 -->\n<g id=\"node22\" class=\"node\">\n<title>140636080917632</title>\n<polygon fill=\"#add8e6\" stroke=\"#000000\" points=\"334,-537 227,-537 227,-507 334,-507 334,-537\"/>\n<text text-anchor=\"middle\" x=\"280.5\" y=\"-525\" font-family=\"monospace\" font-size=\"10.00\" fill=\"#000000\">layer2.0.weight</text>\n<text text-anchor=\"middle\" x=\"280.5\" y=\"-514\" font-family=\"monospace\" font-size=\"10.00\" fill=\"#000000\"> (512, 512)</text>\n</g>\n<!-- 140636080917632&#45;&gt;140636080924368 -->\n<g id=\"edge20\" class=\"edge\">\n<title>140636080917632&#45;&gt;140636080924368</title>\n<path fill=\"none\" stroke=\"#000000\" d=\"M280.5,-506.6924C280.5,-497.5067 280.5,-485.7245 280.5,-475.8312\"/>\n<polygon fill=\"#000000\" stroke=\"#000000\" points=\"284.0001,-475.703 280.5,-465.7031 277.0001,-475.7031 284.0001,-475.703\"/>\n</g>\n<!-- 140636080925392 -->\n<g id=\"node23\" class=\"node\">\n<title>140636080925392</title>\n<polygon fill=\"#d3d3d3\" stroke=\"#000000\" points=\"328,-267.5 257,-267.5 257,-248.5 328,-248.5 328,-267.5\"/>\n<text text-anchor=\"middle\" x=\"292.5\" y=\"-255.5\" font-family=\"monospace\" font-size=\"10.00\" fill=\"#000000\">TBackward</text>\n</g>\n<!-- 140636080925392&#45;&gt;140636080924880 -->\n<g id=\"edge21\" class=\"edge\">\n<title>140636080925392&#45;&gt;140636080924880</title>\n<path fill=\"none\" stroke=\"#000000\" d=\"M280.6957,-248.2615C267.8604,-237.6723 247.1442,-220.5815 231.9083,-208.0119\"/>\n<polygon fill=\"#000000\" stroke=\"#000000\" points=\"234.0337,-205.228 224.0926,-201.5639 229.579,-210.6276 234.0337,-205.228\"/>\n</g>\n<!-- 140636080925008 -->\n<g id=\"node24\" class=\"node\">\n<title>140636080925008</title>\n<polygon fill=\"#d3d3d3\" stroke=\"#000000\" points=\"402,-333.5 301,-333.5 301,-314.5 402,-314.5 402,-333.5\"/>\n<text text-anchor=\"middle\" x=\"351.5\" y=\"-321.5\" font-family=\"monospace\" font-size=\"10.00\" fill=\"#000000\">AccumulateGrad</text>\n</g>\n<!-- 140636080925008&#45;&gt;140636080925392 -->\n<g id=\"edge22\" class=\"edge\">\n<title>140636080925008&#45;&gt;140636080925392</title>\n<path fill=\"none\" stroke=\"#000000\" d=\"M342.7943,-314.2615C333.6438,-304.0253 319.0622,-287.7137 307.9504,-275.2835\"/>\n<polygon fill=\"#000000\" stroke=\"#000000\" points=\"310.5154,-272.9012 301.2414,-267.7785 305.2967,-277.5665 310.5154,-272.9012\"/>\n</g>\n<!-- 140636080916912 -->\n<g id=\"node25\" class=\"node\">\n<title>140636080916912</title>\n<polygon fill=\"#add8e6\" stroke=\"#000000\" points=\"428,-405 321,-405 321,-375 428,-375 428,-405\"/>\n<text text-anchor=\"middle\" x=\"374.5\" y=\"-393\" font-family=\"monospace\" font-size=\"10.00\" fill=\"#000000\">layer3.0.weight</text>\n<text text-anchor=\"middle\" x=\"374.5\" y=\"-382\" font-family=\"monospace\" font-size=\"10.00\" fill=\"#000000\"> (512, 512)</text>\n</g>\n<!-- 140636080916912&#45;&gt;140636080925008 -->\n<g id=\"edge23\" class=\"edge\">\n<title>140636080916912&#45;&gt;140636080925008</title>\n<path fill=\"none\" stroke=\"#000000\" d=\"M369.1655,-374.6924C365.8956,-365.3092 361.6815,-353.2165 358.1894,-343.1956\"/>\n<polygon fill=\"#000000\" stroke=\"#000000\" points=\"361.4773,-341.9943 354.8814,-333.7031 354.8671,-344.2979 361.4773,-341.9943\"/>\n</g>\n<!-- 140636080923536 -->\n<g id=\"node26\" class=\"node\">\n<title>140636080923536</title>\n<polygon fill=\"#d3d3d3\" stroke=\"#000000\" points=\"380,-141 309,-141 309,-122 380,-122 380,-141\"/>\n<text text-anchor=\"middle\" x=\"344.5\" y=\"-129\" font-family=\"monospace\" font-size=\"10.00\" fill=\"#000000\">TBackward</text>\n</g>\n<!-- 140636080923536&#45;&gt;140636080864784 -->\n<g id=\"edge24\" class=\"edge\">\n<title>140636080923536&#45;&gt;140636080864784</title>\n<path fill=\"none\" stroke=\"#000000\" d=\"M322.3783,-121.9197C302.1064,-113.1406 271.8692,-100.0457 249.0628,-90.1689\"/>\n<polygon fill=\"#000000\" stroke=\"#000000\" points=\"250.3617,-86.9174 239.7943,-86.155 247.5798,-93.3409 250.3617,-86.9174\"/>\n</g>\n<!-- 140636080922704 -->\n<g id=\"node27\" class=\"node\">\n<title>140636080922704</title>\n<polygon fill=\"#d3d3d3\" stroke=\"#000000\" points=\"422,-201.5 321,-201.5 321,-182.5 422,-182.5 422,-201.5\"/>\n<text text-anchor=\"middle\" x=\"371.5\" y=\"-189.5\" font-family=\"monospace\" font-size=\"10.00\" fill=\"#000000\">AccumulateGrad</text>\n</g>\n<!-- 140636080922704&#45;&gt;140636080923536 -->\n<g id=\"edge25\" class=\"edge\">\n<title>140636080922704&#45;&gt;140636080923536</title>\n<path fill=\"none\" stroke=\"#000000\" d=\"M367.162,-182.2796C363.3663,-173.7746 357.7412,-161.17 353.0449,-150.6469\"/>\n<polygon fill=\"#000000\" stroke=\"#000000\" points=\"356.1886,-149.1027 348.9169,-141.3972 349.7962,-151.9555 356.1886,-149.1027\"/>\n</g>\n<!-- 140636080867360 -->\n<g id=\"node28\" class=\"node\">\n<title>140636080867360</title>\n<polygon fill=\"#add8e6\" stroke=\"#000000\" points=\"441,-273 346,-273 346,-243 441,-243 441,-273\"/>\n<text text-anchor=\"middle\" x=\"393.5\" y=\"-261\" font-family=\"monospace\" font-size=\"10.00\" fill=\"#000000\">layer4.weight</text>\n<text text-anchor=\"middle\" x=\"393.5\" y=\"-250\" font-family=\"monospace\" font-size=\"10.00\" fill=\"#000000\"> (10, 512)</text>\n</g>\n<!-- 140636080867360&#45;&gt;140636080922704 -->\n<g id=\"edge26\" class=\"edge\">\n<title>140636080867360&#45;&gt;140636080922704</title>\n<path fill=\"none\" stroke=\"#000000\" d=\"M388.3975,-242.6924C385.2697,-233.3092 381.2388,-221.2165 377.8985,-211.1956\"/>\n<polygon fill=\"#000000\" stroke=\"#000000\" points=\"381.2171,-210.0831 374.7344,-201.7031 374.5763,-212.2967 381.2171,-210.0831\"/>\n</g>\n</g>\n</svg>\n",
            "text/plain": [
              "<graphviz.dot.Digraph at 0x7fe863ab4b50>"
            ]
          },
          "execution_count": 13,
          "metadata": {
            "tags": []
          },
          "output_type": "execute_result"
        }
      ],
      "source": [
        "make_dot(y_hat, params=dict(net.named_parameters()))"
      ]
    },
    {
      "cell_type": "markdown",
      "metadata": {
        "id": "tZaeCV5xmqA9"
      },
      "source": [
        "## Weight decay\n",
        "Weight decay (commonly called *L2* regularization), might be the most widely-used technique for regularizing parametric machine learning models.\n",
        "Because weight decay is ubiquitous in neural network optimization,\n",
        "Pytorch makes it especially convenient, integrating weight decay into the optimization algorithm itself for easy use in combination with any loss function.\n",
        "\n",
        "In the following code, we specify the weight decay hyper-parameter directly through the `weight_decay` parameter when instantiating our `Optimizer`. By default, Pytorch decays both weights and biases simultaneously.\n"
      ]
    },
    {
      "cell_type": "code",
      "execution_count": null,
      "metadata": {
        "id": "Dx5p0nCjijL6"
      },
      "outputs": [],
      "source": [
        "# Re-create an instance of the MLP (in order to init the weights again)\n",
        "net = LargeNet()\n",
        "net.apply(init_weights)\n",
        "\n",
        "# note the weight_decay param\n",
        "optimizer = torch.optim.SGD(net.parameters(), lr = lr, weight_decay=1e-2)"
      ]
    },
    {
      "cell_type": "code",
      "execution_count": null,
      "metadata": {
        "colab": {
          "base_uri": "https://localhost:8080/"
        },
        "id": "JH50xY1Xq_8c",
        "outputId": "240d6f6a-a809-4956-b6b6-973178ef0237"
      },
      "outputs": [
        {
          "name": "stderr",
          "output_type": "stream",
          "text": [
            "/usr/local/lib/python3.7/dist-packages/torch/utils/data/dataloader.py:477: UserWarning: This DataLoader will create 4 worker processes in total. Our suggested max number of worker in current system is 2, which is smaller than what this DataLoader is going to create. Please be aware that excessive worker creation might get DataLoader running slow or even freeze, lower the worker number to avoid potential slowness/freeze if necessary.\n",
            "  cpuset_checked))\n"
          ]
        },
        {
          "name": "stdout",
          "output_type": "stream",
          "text": [
            "epoch 1, train loss 2.241260051727295, test loss 1.7249702215194702\n",
            "epoch 2, train loss 1.3154863119125366, test loss 1.2454272508621216\n",
            "epoch 3, train loss 1.0288447141647339, test loss 1.2049229145050049\n",
            "epoch 4, train loss 0.898503303527832, test loss 0.9101511836051941\n",
            "epoch 5, train loss 0.790444552898407, test loss 0.89070063829422\n",
            "epoch 6, train loss 0.7518267035484314, test loss 0.77562415599823\n",
            "epoch 7, train loss 0.7061833739280701, test loss 0.7294523119926453\n",
            "epoch 8, train loss 0.6774700880050659, test loss 0.6935403943061829\n"
          ]
        }
      ],
      "source": [
        "for epoch in range(num_epochs): \n",
        "  train_loss_epoch = 0.0\n",
        "  net.train()\n",
        "  for X, y in train_iter:  \n",
        "    y_hat = net(X)\n",
        "    l = criterion(y_hat, y)\n",
        "    train_loss_epoch += l\n",
        "    optimizer.zero_grad() \n",
        "    l.backward() \n",
        "    optimizer.step() \n",
        "  train_loss_epoch /= len(train_iter)\n",
        "  \n",
        "  net.eval()\n",
        "  with torch.no_grad():\n",
        "    test_loss_epoch = 0.0\n",
        "    for X_test, y_test in test_iter:\n",
        "      b_l = criterion(net(X_test), y_test) \n",
        "      test_loss_epoch += b_l\n",
        "    test_loss_epoch /= len(test_iter)  \n",
        "  print('epoch {}, train loss {}, test loss {}'.format(epoch+1, train_loss_epoch, test_loss_epoch)) "
      ]
    },
    {
      "cell_type": "code",
      "execution_count": null,
      "metadata": {
        "id": "AnZ_jUV_raE0"
      },
      "outputs": [],
      "source": []
    }
  ],
  "metadata": {
    "colab": {
      "collapsed_sections": [
        "SCfIunp_Q6y2",
        "yoek_AxoQiNg",
        "yIdS8IiSQiNl",
        "_8o4wRLEQiNt",
        "H67vehrf9fNs",
        "IIes1em49fNw",
        "FPxGr6ek9fN4",
        "Kja7I86v9fN9",
        "nKaBc4WJ9fOA",
        "KTyiIuGa9fOC",
        "gOZn-Gc_9fOE",
        "8FImKKv69fOF",
        "6EtgjFDn9zie",
        "milp_0289zij",
        "Jvxr4IrF9zim",
        "NibWRh7C9zip",
        "PyPJ96go9zis",
        "BWpTfpOd9ziw",
        "5LQaUQGz9ziz",
        "x8mhXbW29zi-",
        "ggSRzahH-j3a",
        "u2lTLU60-j3e",
        "Se1cfUHv-j3m",
        "qU6-_q5a-j3m",
        "3oMBOIpR-j3p",
        "tZApFynv-j3r",
        "fSi62lmE-umu",
        "jpn6I5EF-umz",
        "E_Gs11yU_bxV",
        "m-UcrjUi_bxa",
        "iUGZdgc7_bxd",
        "BHTtsqJe_bxj",
        "O6YTZdWtBf1y",
        "2W93MRMGBf1-",
        "8SXaK-IzBf2A",
        "Hj_VBNRiBf2B",
        "kqFZixY1Bh5u",
        "-lvPzKCmBh52",
        "qsHv35xEBh6D",
        "0NLFA_6DBh6K",
        "Dtg-52SnBh6R",
        "bbe3huoMBh6W",
        "LOAz8tv1Bh6Y",
        "46QB5R1zBh6f"
      ],
      "name": "week6_notebook.ipynb",
      "provenance": [],
      "toc_visible": true
    },
    "interpreter": {
      "hash": "9b73f6b7cfd4911be6591fa70777138ef4e737732e5d974e9836450b48ca520e"
    },
    "kernelspec": {
      "display_name": "Python 3.9.6 64-bit (system)",
      "language": "python",
      "name": "python3"
    },
    "language_info": {
      "codemirror_mode": {
        "name": "ipython",
        "version": 3
      },
      "file_extension": ".py",
      "mimetype": "text/x-python",
      "name": "python",
      "nbconvert_exporter": "python",
      "pygments_lexer": "ipython3",
      "version": "3.9.6"
    },
    "widgets": {
      "application/vnd.jupyter.widget-state+json": {
        "09f7c2bf2b5544fda4abefa6559378ed": {
          "model_module": "@jupyter-widgets/controls",
          "model_module_version": "1.5.0",
          "model_name": "DescriptionStyleModel",
          "state": {
            "_model_module": "@jupyter-widgets/controls",
            "_model_module_version": "1.5.0",
            "_model_name": "DescriptionStyleModel",
            "_view_count": null,
            "_view_module": "@jupyter-widgets/base",
            "_view_module_version": "1.2.0",
            "_view_name": "StyleView",
            "description_width": ""
          }
        },
        "0cb58689e50049169d1e346d44b99178": {
          "model_module": "@jupyter-widgets/controls",
          "model_module_version": "1.5.0",
          "model_name": "HTMLModel",
          "state": {
            "_dom_classes": [],
            "_model_module": "@jupyter-widgets/controls",
            "_model_module_version": "1.5.0",
            "_model_name": "HTMLModel",
            "_view_count": null,
            "_view_module": "@jupyter-widgets/controls",
            "_view_module_version": "1.5.0",
            "_view_name": "HTMLView",
            "description": "",
            "description_tooltip": null,
            "layout": "IPY_MODEL_7e618e7bd151481f8022001851b6f9f7",
            "placeholder": "​",
            "style": "IPY_MODEL_09f7c2bf2b5544fda4abefa6559378ed",
            "value": " 4422656/? [00:22&lt;00:00, 197378.38it/s]"
          }
        },
        "1114879deec8436786d46efa9d3aaf86": {
          "model_module": "@jupyter-widgets/controls",
          "model_module_version": "1.5.0",
          "model_name": "ProgressStyleModel",
          "state": {
            "_model_module": "@jupyter-widgets/controls",
            "_model_module_version": "1.5.0",
            "_model_name": "ProgressStyleModel",
            "_view_count": null,
            "_view_module": "@jupyter-widgets/base",
            "_view_module_version": "1.2.0",
            "_view_name": "StyleView",
            "bar_color": null,
            "description_width": "initial"
          }
        },
        "1929fbe3e717495d98114551f3c48dc9": {
          "model_module": "@jupyter-widgets/controls",
          "model_module_version": "1.5.0",
          "model_name": "FloatProgressModel",
          "state": {
            "_dom_classes": [],
            "_model_module": "@jupyter-widgets/controls",
            "_model_module_version": "1.5.0",
            "_model_name": "FloatProgressModel",
            "_view_count": null,
            "_view_module": "@jupyter-widgets/controls",
            "_view_module_version": "1.5.0",
            "_view_name": "ProgressView",
            "bar_style": "success",
            "description": "",
            "description_tooltip": null,
            "layout": "IPY_MODEL_57d8073f15174762aebf5ba2be0897a8",
            "max": 5148,
            "min": 0,
            "orientation": "horizontal",
            "style": "IPY_MODEL_b78a4abacc0b4dc6b7fe6590a7af7597",
            "value": 5148
          }
        },
        "2648f7bff5474e0e934611878f733ade": {
          "model_module": "@jupyter-widgets/controls",
          "model_module_version": "1.5.0",
          "model_name": "HBoxModel",
          "state": {
            "_dom_classes": [],
            "_model_module": "@jupyter-widgets/controls",
            "_model_module_version": "1.5.0",
            "_model_name": "HBoxModel",
            "_view_count": null,
            "_view_module": "@jupyter-widgets/controls",
            "_view_module_version": "1.5.0",
            "_view_name": "HBoxView",
            "box_style": "",
            "children": [
              "IPY_MODEL_bcefece784904722aaea1e2781e022fa",
              "IPY_MODEL_0cb58689e50049169d1e346d44b99178"
            ],
            "layout": "IPY_MODEL_aafa2ebc5e1c430fbeeb22ec7aeb36a4"
          }
        },
        "300f7e6cbc6f4411bd31a41f13da683e": {
          "model_module": "@jupyter-widgets/base",
          "model_module_version": "1.2.0",
          "model_name": "LayoutModel",
          "state": {
            "_model_module": "@jupyter-widgets/base",
            "_model_module_version": "1.2.0",
            "_model_name": "LayoutModel",
            "_view_count": null,
            "_view_module": "@jupyter-widgets/base",
            "_view_module_version": "1.2.0",
            "_view_name": "LayoutView",
            "align_content": null,
            "align_items": null,
            "align_self": null,
            "border": null,
            "bottom": null,
            "display": null,
            "flex": null,
            "flex_flow": null,
            "grid_area": null,
            "grid_auto_columns": null,
            "grid_auto_flow": null,
            "grid_auto_rows": null,
            "grid_column": null,
            "grid_gap": null,
            "grid_row": null,
            "grid_template_areas": null,
            "grid_template_columns": null,
            "grid_template_rows": null,
            "height": null,
            "justify_content": null,
            "justify_items": null,
            "left": null,
            "margin": null,
            "max_height": null,
            "max_width": null,
            "min_height": null,
            "min_width": null,
            "object_fit": null,
            "object_position": null,
            "order": null,
            "overflow": null,
            "overflow_x": null,
            "overflow_y": null,
            "padding": null,
            "right": null,
            "top": null,
            "visibility": null,
            "width": null
          }
        },
        "4231eea7b4d34d0a89ee3f1112264e35": {
          "model_module": "@jupyter-widgets/controls",
          "model_module_version": "1.5.0",
          "model_name": "ProgressStyleModel",
          "state": {
            "_model_module": "@jupyter-widgets/controls",
            "_model_module_version": "1.5.0",
            "_model_name": "ProgressStyleModel",
            "_view_count": null,
            "_view_module": "@jupyter-widgets/base",
            "_view_module_version": "1.2.0",
            "_view_name": "StyleView",
            "bar_color": null,
            "description_width": "initial"
          }
        },
        "4c2d76c0213e455883932f6a6684cfaf": {
          "model_module": "@jupyter-widgets/base",
          "model_module_version": "1.2.0",
          "model_name": "LayoutModel",
          "state": {
            "_model_module": "@jupyter-widgets/base",
            "_model_module_version": "1.2.0",
            "_model_name": "LayoutModel",
            "_view_count": null,
            "_view_module": "@jupyter-widgets/base",
            "_view_module_version": "1.2.0",
            "_view_name": "LayoutView",
            "align_content": null,
            "align_items": null,
            "align_self": null,
            "border": null,
            "bottom": null,
            "display": null,
            "flex": null,
            "flex_flow": null,
            "grid_area": null,
            "grid_auto_columns": null,
            "grid_auto_flow": null,
            "grid_auto_rows": null,
            "grid_column": null,
            "grid_gap": null,
            "grid_row": null,
            "grid_template_areas": null,
            "grid_template_columns": null,
            "grid_template_rows": null,
            "height": null,
            "justify_content": null,
            "justify_items": null,
            "left": null,
            "margin": null,
            "max_height": null,
            "max_width": null,
            "min_height": null,
            "min_width": null,
            "object_fit": null,
            "object_position": null,
            "order": null,
            "overflow": null,
            "overflow_x": null,
            "overflow_y": null,
            "padding": null,
            "right": null,
            "top": null,
            "visibility": null,
            "width": null
          }
        },
        "4f5ec173e0c243adb074acdd31bae276": {
          "model_module": "@jupyter-widgets/controls",
          "model_module_version": "1.5.0",
          "model_name": "DescriptionStyleModel",
          "state": {
            "_model_module": "@jupyter-widgets/controls",
            "_model_module_version": "1.5.0",
            "_model_name": "DescriptionStyleModel",
            "_view_count": null,
            "_view_module": "@jupyter-widgets/base",
            "_view_module_version": "1.2.0",
            "_view_name": "StyleView",
            "description_width": ""
          }
        },
        "52a6207e993f4843b2a42a4d17a30d7f": {
          "model_module": "@jupyter-widgets/controls",
          "model_module_version": "1.5.0",
          "model_name": "ProgressStyleModel",
          "state": {
            "_model_module": "@jupyter-widgets/controls",
            "_model_module_version": "1.5.0",
            "_model_name": "ProgressStyleModel",
            "_view_count": null,
            "_view_module": "@jupyter-widgets/base",
            "_view_module_version": "1.2.0",
            "_view_name": "StyleView",
            "bar_color": null,
            "description_width": "initial"
          }
        },
        "57d8073f15174762aebf5ba2be0897a8": {
          "model_module": "@jupyter-widgets/base",
          "model_module_version": "1.2.0",
          "model_name": "LayoutModel",
          "state": {
            "_model_module": "@jupyter-widgets/base",
            "_model_module_version": "1.2.0",
            "_model_name": "LayoutModel",
            "_view_count": null,
            "_view_module": "@jupyter-widgets/base",
            "_view_module_version": "1.2.0",
            "_view_name": "LayoutView",
            "align_content": null,
            "align_items": null,
            "align_self": null,
            "border": null,
            "bottom": null,
            "display": null,
            "flex": null,
            "flex_flow": null,
            "grid_area": null,
            "grid_auto_columns": null,
            "grid_auto_flow": null,
            "grid_auto_rows": null,
            "grid_column": null,
            "grid_gap": null,
            "grid_row": null,
            "grid_template_areas": null,
            "grid_template_columns": null,
            "grid_template_rows": null,
            "height": null,
            "justify_content": null,
            "justify_items": null,
            "left": null,
            "margin": null,
            "max_height": null,
            "max_width": null,
            "min_height": null,
            "min_width": null,
            "object_fit": null,
            "object_position": null,
            "order": null,
            "overflow": null,
            "overflow_x": null,
            "overflow_y": null,
            "padding": null,
            "right": null,
            "top": null,
            "visibility": null,
            "width": null
          }
        },
        "5fc21a7e4503457a83a04b078e778313": {
          "model_module": "@jupyter-widgets/controls",
          "model_module_version": "1.5.0",
          "model_name": "HTMLModel",
          "state": {
            "_dom_classes": [],
            "_model_module": "@jupyter-widgets/controls",
            "_model_module_version": "1.5.0",
            "_model_name": "HTMLModel",
            "_view_count": null,
            "_view_module": "@jupyter-widgets/controls",
            "_view_module_version": "1.5.0",
            "_view_name": "HTMLView",
            "description": "",
            "description_tooltip": null,
            "layout": "IPY_MODEL_9b5f2eccd3074bafb71af56a78772a48",
            "placeholder": "​",
            "style": "IPY_MODEL_4f5ec173e0c243adb074acdd31bae276",
            "value": " 6144/? [00:20&lt;00:00, 293.55it/s]"
          }
        },
        "659e845b107747c484d1d486cf32a2bf": {
          "model_module": "@jupyter-widgets/base",
          "model_module_version": "1.2.0",
          "model_name": "LayoutModel",
          "state": {
            "_model_module": "@jupyter-widgets/base",
            "_model_module_version": "1.2.0",
            "_model_name": "LayoutModel",
            "_view_count": null,
            "_view_module": "@jupyter-widgets/base",
            "_view_module_version": "1.2.0",
            "_view_name": "LayoutView",
            "align_content": null,
            "align_items": null,
            "align_self": null,
            "border": null,
            "bottom": null,
            "display": null,
            "flex": null,
            "flex_flow": null,
            "grid_area": null,
            "grid_auto_columns": null,
            "grid_auto_flow": null,
            "grid_auto_rows": null,
            "grid_column": null,
            "grid_gap": null,
            "grid_row": null,
            "grid_template_areas": null,
            "grid_template_columns": null,
            "grid_template_rows": null,
            "height": null,
            "justify_content": null,
            "justify_items": null,
            "left": null,
            "margin": null,
            "max_height": null,
            "max_width": null,
            "min_height": null,
            "min_width": null,
            "object_fit": null,
            "object_position": null,
            "order": null,
            "overflow": null,
            "overflow_x": null,
            "overflow_y": null,
            "padding": null,
            "right": null,
            "top": null,
            "visibility": null,
            "width": null
          }
        },
        "76f2a79a3cd54bae95c27950b65d3661": {
          "model_module": "@jupyter-widgets/base",
          "model_module_version": "1.2.0",
          "model_name": "LayoutModel",
          "state": {
            "_model_module": "@jupyter-widgets/base",
            "_model_module_version": "1.2.0",
            "_model_name": "LayoutModel",
            "_view_count": null,
            "_view_module": "@jupyter-widgets/base",
            "_view_module_version": "1.2.0",
            "_view_name": "LayoutView",
            "align_content": null,
            "align_items": null,
            "align_self": null,
            "border": null,
            "bottom": null,
            "display": null,
            "flex": null,
            "flex_flow": null,
            "grid_area": null,
            "grid_auto_columns": null,
            "grid_auto_flow": null,
            "grid_auto_rows": null,
            "grid_column": null,
            "grid_gap": null,
            "grid_row": null,
            "grid_template_areas": null,
            "grid_template_columns": null,
            "grid_template_rows": null,
            "height": null,
            "justify_content": null,
            "justify_items": null,
            "left": null,
            "margin": null,
            "max_height": null,
            "max_width": null,
            "min_height": null,
            "min_width": null,
            "object_fit": null,
            "object_position": null,
            "order": null,
            "overflow": null,
            "overflow_x": null,
            "overflow_y": null,
            "padding": null,
            "right": null,
            "top": null,
            "visibility": null,
            "width": null
          }
        },
        "7e618e7bd151481f8022001851b6f9f7": {
          "model_module": "@jupyter-widgets/base",
          "model_module_version": "1.2.0",
          "model_name": "LayoutModel",
          "state": {
            "_model_module": "@jupyter-widgets/base",
            "_model_module_version": "1.2.0",
            "_model_name": "LayoutModel",
            "_view_count": null,
            "_view_module": "@jupyter-widgets/base",
            "_view_module_version": "1.2.0",
            "_view_name": "LayoutView",
            "align_content": null,
            "align_items": null,
            "align_self": null,
            "border": null,
            "bottom": null,
            "display": null,
            "flex": null,
            "flex_flow": null,
            "grid_area": null,
            "grid_auto_columns": null,
            "grid_auto_flow": null,
            "grid_auto_rows": null,
            "grid_column": null,
            "grid_gap": null,
            "grid_row": null,
            "grid_template_areas": null,
            "grid_template_columns": null,
            "grid_template_rows": null,
            "height": null,
            "justify_content": null,
            "justify_items": null,
            "left": null,
            "margin": null,
            "max_height": null,
            "max_width": null,
            "min_height": null,
            "min_width": null,
            "object_fit": null,
            "object_position": null,
            "order": null,
            "overflow": null,
            "overflow_x": null,
            "overflow_y": null,
            "padding": null,
            "right": null,
            "top": null,
            "visibility": null,
            "width": null
          }
        },
        "80856d986e194bdb99e37af0c515eb55": {
          "model_module": "@jupyter-widgets/controls",
          "model_module_version": "1.5.0",
          "model_name": "HBoxModel",
          "state": {
            "_dom_classes": [],
            "_model_module": "@jupyter-widgets/controls",
            "_model_module_version": "1.5.0",
            "_model_name": "HBoxModel",
            "_view_count": null,
            "_view_module": "@jupyter-widgets/controls",
            "_view_module_version": "1.5.0",
            "_view_name": "HBoxView",
            "box_style": "",
            "children": [
              "IPY_MODEL_d29b90e8f4944e74bf9eb26bb717f432",
              "IPY_MODEL_9d3458172ca94e56bd98050381711c40"
            ],
            "layout": "IPY_MODEL_300f7e6cbc6f4411bd31a41f13da683e"
          }
        },
        "85ba9f8c03214c12bf1a9e8398ad1439": {
          "model_module": "@jupyter-widgets/controls",
          "model_module_version": "1.5.0",
          "model_name": "DescriptionStyleModel",
          "state": {
            "_model_module": "@jupyter-widgets/controls",
            "_model_module_version": "1.5.0",
            "_model_name": "DescriptionStyleModel",
            "_view_count": null,
            "_view_module": "@jupyter-widgets/base",
            "_view_module_version": "1.2.0",
            "_view_name": "StyleView",
            "description_width": ""
          }
        },
        "8e38f15a0355419d84e8242e17732d03": {
          "model_module": "@jupyter-widgets/controls",
          "model_module_version": "1.5.0",
          "model_name": "FloatProgressModel",
          "state": {
            "_dom_classes": [],
            "_model_module": "@jupyter-widgets/controls",
            "_model_module_version": "1.5.0",
            "_model_name": "FloatProgressModel",
            "_view_count": null,
            "_view_module": "@jupyter-widgets/controls",
            "_view_module_version": "1.5.0",
            "_view_name": "ProgressView",
            "bar_style": "success",
            "description": "",
            "description_tooltip": null,
            "layout": "IPY_MODEL_c2197d874f844c3b835839a8e601660d",
            "max": 29515,
            "min": 0,
            "orientation": "horizontal",
            "style": "IPY_MODEL_1114879deec8436786d46efa9d3aaf86",
            "value": 29515
          }
        },
        "9b5f2eccd3074bafb71af56a78772a48": {
          "model_module": "@jupyter-widgets/base",
          "model_module_version": "1.2.0",
          "model_name": "LayoutModel",
          "state": {
            "_model_module": "@jupyter-widgets/base",
            "_model_module_version": "1.2.0",
            "_model_name": "LayoutModel",
            "_view_count": null,
            "_view_module": "@jupyter-widgets/base",
            "_view_module_version": "1.2.0",
            "_view_name": "LayoutView",
            "align_content": null,
            "align_items": null,
            "align_self": null,
            "border": null,
            "bottom": null,
            "display": null,
            "flex": null,
            "flex_flow": null,
            "grid_area": null,
            "grid_auto_columns": null,
            "grid_auto_flow": null,
            "grid_auto_rows": null,
            "grid_column": null,
            "grid_gap": null,
            "grid_row": null,
            "grid_template_areas": null,
            "grid_template_columns": null,
            "grid_template_rows": null,
            "height": null,
            "justify_content": null,
            "justify_items": null,
            "left": null,
            "margin": null,
            "max_height": null,
            "max_width": null,
            "min_height": null,
            "min_width": null,
            "object_fit": null,
            "object_position": null,
            "order": null,
            "overflow": null,
            "overflow_x": null,
            "overflow_y": null,
            "padding": null,
            "right": null,
            "top": null,
            "visibility": null,
            "width": null
          }
        },
        "9d3458172ca94e56bd98050381711c40": {
          "model_module": "@jupyter-widgets/controls",
          "model_module_version": "1.5.0",
          "model_name": "HTMLModel",
          "state": {
            "_dom_classes": [],
            "_model_module": "@jupyter-widgets/controls",
            "_model_module_version": "1.5.0",
            "_model_name": "HTMLModel",
            "_view_count": null,
            "_view_module": "@jupyter-widgets/controls",
            "_view_module_version": "1.5.0",
            "_view_name": "HTMLView",
            "description": "",
            "description_tooltip": null,
            "layout": "IPY_MODEL_76f2a79a3cd54bae95c27950b65d3661",
            "placeholder": "​",
            "style": "IPY_MODEL_9f709092465747ada0e6488792bf9fb4",
            "value": " 26422272/? [04:55&lt;00:00, 89452.20it/s]"
          }
        },
        "9f709092465747ada0e6488792bf9fb4": {
          "model_module": "@jupyter-widgets/controls",
          "model_module_version": "1.5.0",
          "model_name": "DescriptionStyleModel",
          "state": {
            "_model_module": "@jupyter-widgets/controls",
            "_model_module_version": "1.5.0",
            "_model_name": "DescriptionStyleModel",
            "_view_count": null,
            "_view_module": "@jupyter-widgets/base",
            "_view_module_version": "1.2.0",
            "_view_name": "StyleView",
            "description_width": ""
          }
        },
        "a32c7b85323c493693da400fd15ea294": {
          "model_module": "@jupyter-widgets/controls",
          "model_module_version": "1.5.0",
          "model_name": "HBoxModel",
          "state": {
            "_dom_classes": [],
            "_model_module": "@jupyter-widgets/controls",
            "_model_module_version": "1.5.0",
            "_model_name": "HBoxModel",
            "_view_count": null,
            "_view_module": "@jupyter-widgets/controls",
            "_view_module_version": "1.5.0",
            "_view_name": "HBoxView",
            "box_style": "",
            "children": [
              "IPY_MODEL_8e38f15a0355419d84e8242e17732d03",
              "IPY_MODEL_d84b99cc9867493eb62d827e82d1fede"
            ],
            "layout": "IPY_MODEL_4c2d76c0213e455883932f6a6684cfaf"
          }
        },
        "a9cfcb220d4a45c8bcfa4939ec03cad7": {
          "model_module": "@jupyter-widgets/base",
          "model_module_version": "1.2.0",
          "model_name": "LayoutModel",
          "state": {
            "_model_module": "@jupyter-widgets/base",
            "_model_module_version": "1.2.0",
            "_model_name": "LayoutModel",
            "_view_count": null,
            "_view_module": "@jupyter-widgets/base",
            "_view_module_version": "1.2.0",
            "_view_name": "LayoutView",
            "align_content": null,
            "align_items": null,
            "align_self": null,
            "border": null,
            "bottom": null,
            "display": null,
            "flex": null,
            "flex_flow": null,
            "grid_area": null,
            "grid_auto_columns": null,
            "grid_auto_flow": null,
            "grid_auto_rows": null,
            "grid_column": null,
            "grid_gap": null,
            "grid_row": null,
            "grid_template_areas": null,
            "grid_template_columns": null,
            "grid_template_rows": null,
            "height": null,
            "justify_content": null,
            "justify_items": null,
            "left": null,
            "margin": null,
            "max_height": null,
            "max_width": null,
            "min_height": null,
            "min_width": null,
            "object_fit": null,
            "object_position": null,
            "order": null,
            "overflow": null,
            "overflow_x": null,
            "overflow_y": null,
            "padding": null,
            "right": null,
            "top": null,
            "visibility": null,
            "width": null
          }
        },
        "aafa2ebc5e1c430fbeeb22ec7aeb36a4": {
          "model_module": "@jupyter-widgets/base",
          "model_module_version": "1.2.0",
          "model_name": "LayoutModel",
          "state": {
            "_model_module": "@jupyter-widgets/base",
            "_model_module_version": "1.2.0",
            "_model_name": "LayoutModel",
            "_view_count": null,
            "_view_module": "@jupyter-widgets/base",
            "_view_module_version": "1.2.0",
            "_view_name": "LayoutView",
            "align_content": null,
            "align_items": null,
            "align_self": null,
            "border": null,
            "bottom": null,
            "display": null,
            "flex": null,
            "flex_flow": null,
            "grid_area": null,
            "grid_auto_columns": null,
            "grid_auto_flow": null,
            "grid_auto_rows": null,
            "grid_column": null,
            "grid_gap": null,
            "grid_row": null,
            "grid_template_areas": null,
            "grid_template_columns": null,
            "grid_template_rows": null,
            "height": null,
            "justify_content": null,
            "justify_items": null,
            "left": null,
            "margin": null,
            "max_height": null,
            "max_width": null,
            "min_height": null,
            "min_width": null,
            "object_fit": null,
            "object_position": null,
            "order": null,
            "overflow": null,
            "overflow_x": null,
            "overflow_y": null,
            "padding": null,
            "right": null,
            "top": null,
            "visibility": null,
            "width": null
          }
        },
        "ad60544c8ad5410b821d137699a48813": {
          "model_module": "@jupyter-widgets/controls",
          "model_module_version": "1.5.0",
          "model_name": "HBoxModel",
          "state": {
            "_dom_classes": [],
            "_model_module": "@jupyter-widgets/controls",
            "_model_module_version": "1.5.0",
            "_model_name": "HBoxModel",
            "_view_count": null,
            "_view_module": "@jupyter-widgets/controls",
            "_view_module_version": "1.5.0",
            "_view_name": "HBoxView",
            "box_style": "",
            "children": [
              "IPY_MODEL_1929fbe3e717495d98114551f3c48dc9",
              "IPY_MODEL_5fc21a7e4503457a83a04b078e778313"
            ],
            "layout": "IPY_MODEL_d8205b272dd14d89b7764f70e0b05c44"
          }
        },
        "b78a4abacc0b4dc6b7fe6590a7af7597": {
          "model_module": "@jupyter-widgets/controls",
          "model_module_version": "1.5.0",
          "model_name": "ProgressStyleModel",
          "state": {
            "_model_module": "@jupyter-widgets/controls",
            "_model_module_version": "1.5.0",
            "_model_name": "ProgressStyleModel",
            "_view_count": null,
            "_view_module": "@jupyter-widgets/base",
            "_view_module_version": "1.2.0",
            "_view_name": "StyleView",
            "bar_color": null,
            "description_width": "initial"
          }
        },
        "bcefece784904722aaea1e2781e022fa": {
          "model_module": "@jupyter-widgets/controls",
          "model_module_version": "1.5.0",
          "model_name": "FloatProgressModel",
          "state": {
            "_dom_classes": [],
            "_model_module": "@jupyter-widgets/controls",
            "_model_module_version": "1.5.0",
            "_model_name": "FloatProgressModel",
            "_view_count": null,
            "_view_module": "@jupyter-widgets/controls",
            "_view_module_version": "1.5.0",
            "_view_name": "ProgressView",
            "bar_style": "success",
            "description": "",
            "description_tooltip": null,
            "layout": "IPY_MODEL_a9cfcb220d4a45c8bcfa4939ec03cad7",
            "max": 4422102,
            "min": 0,
            "orientation": "horizontal",
            "style": "IPY_MODEL_4231eea7b4d34d0a89ee3f1112264e35",
            "value": 4422102
          }
        },
        "c0ee6f3634eb4536ae7916917e9e8d08": {
          "model_module": "@jupyter-widgets/base",
          "model_module_version": "1.2.0",
          "model_name": "LayoutModel",
          "state": {
            "_model_module": "@jupyter-widgets/base",
            "_model_module_version": "1.2.0",
            "_model_name": "LayoutModel",
            "_view_count": null,
            "_view_module": "@jupyter-widgets/base",
            "_view_module_version": "1.2.0",
            "_view_name": "LayoutView",
            "align_content": null,
            "align_items": null,
            "align_self": null,
            "border": null,
            "bottom": null,
            "display": null,
            "flex": null,
            "flex_flow": null,
            "grid_area": null,
            "grid_auto_columns": null,
            "grid_auto_flow": null,
            "grid_auto_rows": null,
            "grid_column": null,
            "grid_gap": null,
            "grid_row": null,
            "grid_template_areas": null,
            "grid_template_columns": null,
            "grid_template_rows": null,
            "height": null,
            "justify_content": null,
            "justify_items": null,
            "left": null,
            "margin": null,
            "max_height": null,
            "max_width": null,
            "min_height": null,
            "min_width": null,
            "object_fit": null,
            "object_position": null,
            "order": null,
            "overflow": null,
            "overflow_x": null,
            "overflow_y": null,
            "padding": null,
            "right": null,
            "top": null,
            "visibility": null,
            "width": null
          }
        },
        "c2197d874f844c3b835839a8e601660d": {
          "model_module": "@jupyter-widgets/base",
          "model_module_version": "1.2.0",
          "model_name": "LayoutModel",
          "state": {
            "_model_module": "@jupyter-widgets/base",
            "_model_module_version": "1.2.0",
            "_model_name": "LayoutModel",
            "_view_count": null,
            "_view_module": "@jupyter-widgets/base",
            "_view_module_version": "1.2.0",
            "_view_name": "LayoutView",
            "align_content": null,
            "align_items": null,
            "align_self": null,
            "border": null,
            "bottom": null,
            "display": null,
            "flex": null,
            "flex_flow": null,
            "grid_area": null,
            "grid_auto_columns": null,
            "grid_auto_flow": null,
            "grid_auto_rows": null,
            "grid_column": null,
            "grid_gap": null,
            "grid_row": null,
            "grid_template_areas": null,
            "grid_template_columns": null,
            "grid_template_rows": null,
            "height": null,
            "justify_content": null,
            "justify_items": null,
            "left": null,
            "margin": null,
            "max_height": null,
            "max_width": null,
            "min_height": null,
            "min_width": null,
            "object_fit": null,
            "object_position": null,
            "order": null,
            "overflow": null,
            "overflow_x": null,
            "overflow_y": null,
            "padding": null,
            "right": null,
            "top": null,
            "visibility": null,
            "width": null
          }
        },
        "d29b90e8f4944e74bf9eb26bb717f432": {
          "model_module": "@jupyter-widgets/controls",
          "model_module_version": "1.5.0",
          "model_name": "FloatProgressModel",
          "state": {
            "_dom_classes": [],
            "_model_module": "@jupyter-widgets/controls",
            "_model_module_version": "1.5.0",
            "_model_name": "FloatProgressModel",
            "_view_count": null,
            "_view_module": "@jupyter-widgets/controls",
            "_view_module_version": "1.5.0",
            "_view_name": "ProgressView",
            "bar_style": "success",
            "description": "",
            "description_tooltip": null,
            "layout": "IPY_MODEL_c0ee6f3634eb4536ae7916917e9e8d08",
            "max": 26421880,
            "min": 0,
            "orientation": "horizontal",
            "style": "IPY_MODEL_52a6207e993f4843b2a42a4d17a30d7f",
            "value": 26421880
          }
        },
        "d8205b272dd14d89b7764f70e0b05c44": {
          "model_module": "@jupyter-widgets/base",
          "model_module_version": "1.2.0",
          "model_name": "LayoutModel",
          "state": {
            "_model_module": "@jupyter-widgets/base",
            "_model_module_version": "1.2.0",
            "_model_name": "LayoutModel",
            "_view_count": null,
            "_view_module": "@jupyter-widgets/base",
            "_view_module_version": "1.2.0",
            "_view_name": "LayoutView",
            "align_content": null,
            "align_items": null,
            "align_self": null,
            "border": null,
            "bottom": null,
            "display": null,
            "flex": null,
            "flex_flow": null,
            "grid_area": null,
            "grid_auto_columns": null,
            "grid_auto_flow": null,
            "grid_auto_rows": null,
            "grid_column": null,
            "grid_gap": null,
            "grid_row": null,
            "grid_template_areas": null,
            "grid_template_columns": null,
            "grid_template_rows": null,
            "height": null,
            "justify_content": null,
            "justify_items": null,
            "left": null,
            "margin": null,
            "max_height": null,
            "max_width": null,
            "min_height": null,
            "min_width": null,
            "object_fit": null,
            "object_position": null,
            "order": null,
            "overflow": null,
            "overflow_x": null,
            "overflow_y": null,
            "padding": null,
            "right": null,
            "top": null,
            "visibility": null,
            "width": null
          }
        },
        "d84b99cc9867493eb62d827e82d1fede": {
          "model_module": "@jupyter-widgets/controls",
          "model_module_version": "1.5.0",
          "model_name": "HTMLModel",
          "state": {
            "_dom_classes": [],
            "_model_module": "@jupyter-widgets/controls",
            "_model_module_version": "1.5.0",
            "_model_name": "HTMLModel",
            "_view_count": null,
            "_view_module": "@jupyter-widgets/controls",
            "_view_module_version": "1.5.0",
            "_view_name": "HTMLView",
            "description": "",
            "description_tooltip": null,
            "layout": "IPY_MODEL_659e845b107747c484d1d486cf32a2bf",
            "placeholder": "​",
            "style": "IPY_MODEL_85ba9f8c03214c12bf1a9e8398ad1439",
            "value": " 29696/? [04:52&lt;00:00, 101.51it/s]"
          }
        }
      }
    }
  },
  "nbformat": 4,
  "nbformat_minor": 0
}
